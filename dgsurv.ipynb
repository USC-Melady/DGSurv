{
 "cells": [
  {
   "cell_type": "code",
   "execution_count": 2,
   "metadata": {},
   "outputs": [
    {
     "name": "stdout",
     "output_type": "stream",
     "text": [
      "Result Path: ./logs/dgsurv/results_5_24_clinical_miRNA_mRNA_WSI\n"
     ]
    }
   ],
   "source": [
    "import os\n",
    "\n",
    "\n",
    "def result_file_name(args):\n",
    "    file_name = f\"results_{args.fold_range}_{args.seed}\"\n",
    "    if len(args.modalities) > 0:\n",
    "        file_name += \"_\"\n",
    "        file_name += \"_\".join(args.modalities)\n",
    "    return file_name\n",
    "\n",
    "class Args:\n",
    "    def __init__(self, modalities=[\"clinical\", \"miRNA\", \"mRNA\", \"WSI\"]):\n",
    "        self.epochs = 20\n",
    "        self.modality_data_path = {'clinical': './preprocess/preprocessed_data/clinical_kidney.csv',\n",
    "                                    'mRNA': './preprocess/preprocessed_data/mrna_kidney.csv',\n",
    "                                    'miRNA': './preprocess/preprocessed_data/mirna_kidney.csv',\n",
    "                                    'WSI': './preprocess/preprocessed_data/UNI2_features/TCGA-Kidney.pt'}\n",
    "        self.device = \"cuda\"\n",
    "        self.modalities = modalities\n",
    "        self.input_modality_dim = {'clinical':4, 'mRNA':2746, 'miRNA':743 , 'WSI': 1536}\n",
    "        self.fold_range = 5\n",
    "        self.fold = 1\n",
    "        self.modality_fv_len = 128\n",
    "        self.batch_size = 128\n",
    "        self.learning_rate = 1e-4\n",
    "        self.loss_trade_off = 0.3\n",
    "        self.loss_mode = 'total'\n",
    "        self.seed = 24\n",
    "        self.result_path = f\"./logs/dgsurv/{result_file_name(self)}\"\n",
    "        print(f\"Result Path: {self.result_path}\")\n",
    "        self.log_file_name = \"temp.log\"\n",
    "        self.scheduler_patience = 5\n",
    "        self.num_workers = 4\n",
    "        self.num_modalities = len(self.modalities)\n",
    "        self.split_path = \"./splits/kidney_splits\"\n",
    "        self.remove_missing = True\n",
    "\n",
    "args = Args()"
   ]
  },
  {
   "cell_type": "code",
   "execution_count": 3,
   "metadata": {},
   "outputs": [],
   "source": [
    "import math\n",
    "import torch\n",
    "from torch import nn\n",
    "import torch.nn.functional as F\n",
    "from method.GraphLearner import GraphLearner\n",
    "from method.GraphPooling import GraphPooling\n",
    "from method.GraphDataUtils import GraphInputProcessor\n",
    "\n",
    "\n",
    "class GraphModel(nn.Module):\n",
    "    def __init__(self, n_views, n_in_feats, encoder_model,\n",
    "                 gnn_arch='gcn',\n",
    "                 pool_ratio=.1, sparse_threshold=0.1,\n",
    "                 device='cuda'):\n",
    "        super(GraphModel, self).__init__()\n",
    "        self.encoder_model = encoder_model\n",
    "\n",
    "        n_edge_types = int(n_views**2)\n",
    "        self.graph_input_processor = GraphInputProcessor(\n",
    "            n_edge_types=n_edge_types, device=device)\n",
    "\n",
    "        self.graph_learner = GraphLearner(\n",
    "            n_in_feats=n_in_feats+n_views,\n",
    "            n_out_feats=100,\n",
    "            threshold=sparse_threshold,\n",
    "            n_heads=1,\n",
    "            device=device\n",
    "        )\n",
    "\n",
    "        n_nodes = max(math.ceil(n_views*pool_ratio), 1)\n",
    "        self.n_nodes = n_nodes\n",
    "\n",
    "        n_feats = n_in_feats\n",
    "        self.pool = GraphPooling(\n",
    "            n_in_feats, n_nodes,\n",
    "            n_feats, n_edge_types,\n",
    "            gnn_arch=gnn_arch, pool=True\n",
    "        )\n",
    "\n",
    "        self.output_dim = n_feats\n",
    "        self.hazard_layer1 = nn.Linear(self.output_dim, 1)\n",
    "\n",
    "        self.label_layer1 = nn.Linear(self.output_dim, 2)\n",
    "\t\t\t\n",
    "    def forward(self, x_modality, mask):\n",
    "        representation = self.encoder_model(x_modality)\n",
    "        missing_rep = []\n",
    "        for i, rep in enumerate(representation):\n",
    "            index = torch.ones((rep.shape[0]), dtype=int) * i \n",
    "            index = index.to(rep.device)\n",
    "            modality_mask = mask[:, i].reshape(-1, 1)\n",
    "            rep =  modality_mask * rep\n",
    "            missing_rep.append(rep)\n",
    "        \n",
    "        representation_dict = {} #used for self supervised loss\n",
    "        for i, data in enumerate(missing_rep):\n",
    "            representation_dict[i] = data\n",
    "                     \n",
    "        in_graph = self.graph_input_processor(missing_rep)\n",
    "        learned_graph, _ = self.graph_learner(in_graph)\n",
    "        latent_graph, assignment_mat = self.pool(learned_graph)\n",
    "        final_representation = latent_graph[0].squeeze(1)\n",
    "        hazard = self.hazard_layer1(final_representation)\n",
    "        score = F.log_softmax(self.label_layer1(final_representation), dim=1)\n",
    "        return {'hazard':hazard, 'score':score}, representation_dict, learned_graph[1], assignment_mat"
   ]
  },
  {
   "cell_type": "code",
   "execution_count": 4,
   "metadata": {},
   "outputs": [],
   "source": [
    "import numpy as np\n",
    "from lifelines.utils import concordance_index\n",
    "\n",
    "\n",
    "def print_log(msg, logger):\n",
    "    print(msg)\n",
    "    logger.info(msg)\n",
    "\n",
    "def evaluation(model, dataloader, loss_fucnt, device, graph_save_path=None):\n",
    "    running_loss = []\n",
    "    running_graph = []\n",
    "    running_ass_mat = []\n",
    "    running_sample_time = torch.FloatTensor().to(device)\n",
    "    running_sample_event = torch.LongTensor().to(device)\n",
    "    running_hazard = torch.FloatTensor().to(device)\n",
    "    \n",
    "    model.eval()\n",
    "    with torch.no_grad():\n",
    "        for x_modal, data_label, mask in dataloader:\n",
    "            for modality in x_modal:\n",
    "                x_modal[modality] = x_modal[modality].to(device)\n",
    "            event = data_label[:, 0].to(device)\n",
    "            time = data_label[:, 1].to(device)\n",
    "            mask = mask.to(device)\n",
    "            hazard, representation, graph, assignment_mat = model(x_modal, mask)\n",
    "            if graph_save_path:\n",
    "                running_graph.extend(graph.detach().cpu().numpy())\n",
    "                running_ass_mat.extend(assignment_mat.detach().cpu().numpy())\n",
    "            loss = loss_fucnt(representation, list(representation.keys()), hazard, event, time)\n",
    "            hazard = hazard['hazard']\n",
    "            \n",
    "            running_loss.append(loss.item())\n",
    "            running_sample_time = torch.cat((running_sample_time, time.data.float()))\n",
    "            running_sample_event = torch.cat((running_sample_event, event.long().data))\n",
    "            running_hazard = torch.cat((running_hazard, hazard.detach()))\n",
    "            \n",
    "        if graph_save_path:\n",
    "            np.save(graph_save_path + \"graph.npy\", np.array(running_graph))\n",
    "            np.save(graph_save_path + \"assignment_mat.npy\", np.array(running_ass_mat)) \n",
    "    eval_loss = torch.mean(torch.tensor(running_loss))\n",
    "    eval_c_index = concordance_index(running_sample_time.cpu().numpy(), -running_hazard.cpu().numpy(), running_sample_event.cpu().numpy())\n",
    "    return eval_loss, eval_c_index"
   ]
  },
  {
   "cell_type": "code",
   "execution_count": 5,
   "metadata": {},
   "outputs": [],
   "source": [
    "import copy\n",
    "import random\n",
    "import logging \n",
    "from utils.loss import Loss\n",
    "from torch.optim import Adam\n",
    "from torch.utils.data import DataLoader\n",
    "from utils.dataset import MultiModalDataset\n",
    "from utils.encoder import EncoderModel\n",
    "    \n",
    "\n",
    "def save_model(model, path):\n",
    "    torch.save(model.state_dict(), path)\n",
    "\n",
    "def set_seed(seed):\n",
    "    random.seed(seed)\n",
    "    os.environ['PYTHONHASHSEED'] = str(seed)\n",
    "    np.random.seed(seed)\n",
    "    torch.manual_seed(seed)\n",
    "    torch.cuda.manual_seed(seed)\n",
    "    torch.cuda.manual_seed_all(seed)  \n",
    "    torch.backends.cudnn.benchmark = False\n",
    "    torch.backends.cudnn.deterministic = True\n",
    "        \n",
    "def train_eval_model(args):\n",
    "    set_seed(args.seed)\n",
    "    os.makedirs(args.result_path, exist_ok=True)\n",
    "\n",
    "    logging.basicConfig(format='%(message)s')\n",
    "    for k in range(args.fold_range):\n",
    "        args.fold = k\n",
    "        args.log_file_name = f\"result_fold{args.fold}.log\"\n",
    "        args.log_file_name = os.path.join(args.result_path, args.log_file_name)\n",
    "        if os.path.exists(args.log_file_name):\n",
    "            os.remove(args.log_file_name)\n",
    "            \n",
    "        handler = logging.FileHandler(args.log_file_name, mode='w')\n",
    "        logger=logging.getLogger() \n",
    "        logger.setLevel(logging.DEBUG) \n",
    "        logger.addHandler(handler)\n",
    "        train_dataset = MultiModalDataset(args, 'train', args.modalities, args.modality_data_path, remove_missing=args.remove_missing)\n",
    "        train_dataloader = DataLoader(train_dataset, batch_size=args.batch_size, shuffle=True, num_workers=args.num_workers)\n",
    "        test_dataset = MultiModalDataset(args, 'test', args.modalities, args.modality_data_path)\n",
    "        test_dataloader = DataLoader(test_dataset, batch_size=args.batch_size, shuffle=False, num_workers=args.num_workers)\n",
    "\n",
    "        device = torch.device(args.device)\n",
    "        encoder_model = EncoderModel(args.modalities, args.modality_fv_len, args.input_modality_dim)\n",
    "        model = GraphModel(args.num_modalities, args.modality_fv_len, encoder_model, device=args.device)\n",
    "        optimizer = Adam(model.parameters(), lr=args.learning_rate)\n",
    "        scheduler = torch.optim.lr_scheduler.ReduceLROnPlateau( \n",
    "            optimizer=optimizer, mode='max', factor=0.1,\n",
    "            patience = args.scheduler_patience, verbose=True, threshold=1e-3,\n",
    "            threshold_mode='rel', cooldown=0, min_lr=0, eps=1e-8)\n",
    "        model.to(device)\n",
    "        \n",
    "        loss_fucnt = Loss(trade_off=args.loss_trade_off, mode=args.loss_mode)\n",
    "\n",
    "        for epoch in range(args.epochs):\n",
    "            running_loss = []\n",
    "            running_sample_time = torch.FloatTensor().to(device)\n",
    "            running_sample_event = torch.LongTensor().to(device)\n",
    "            running_hazard = torch.FloatTensor().to(device)\n",
    "            \n",
    "            model.train()\n",
    "            for x_modal, data_label, mask in train_dataloader:\n",
    "                for modality in x_modal:\n",
    "                    x_modal[modality] = x_modal[modality].to(device)\n",
    "                event = data_label[:, 0].to(device)\n",
    "                time = data_label[:, 1].to(device)\n",
    "                mask = mask.to(device)\n",
    "                hazard, representation, _, _ = model(x_modal, mask)\n",
    "                loss = loss_fucnt(representation, list(representation.keys()), hazard, event, time)\n",
    "                optimizer.zero_grad()\n",
    "                loss.backward()\n",
    "                optimizer.step()\n",
    "                hazard = hazard['hazard']\n",
    "                \n",
    "                running_loss.append(loss.item())\n",
    "                running_sample_time = torch.cat((running_sample_time, time.data.float()))\n",
    "                running_sample_event = torch.cat((running_sample_event, event.long().data))\n",
    "                running_hazard = torch.cat((running_hazard, hazard.detach()))\n",
    "                \n",
    "            train_loss = torch.mean(torch.tensor(running_loss))\n",
    "            train_c_index = concordance_index(running_sample_time.cpu().numpy(), -running_hazard.cpu().numpy(), running_sample_event.cpu().numpy())\n",
    "            print_log(f\"Epoch {epoch}/{args.epochs}: Training Loss: {train_loss}, C-Index: {train_c_index}\", logger)\n",
    "            scheduler.step(train_c_index)\n",
    "            if scheduler.patience == scheduler.num_bad_epochs: \n",
    "                print_log(\"Reducing the learning rate\", logger)\n",
    "            best_model = copy.deepcopy(model.state_dict())\n",
    "        print_log(\"*\" * 100, logger)\n",
    "        \n",
    "        model.load_state_dict(best_model)\n",
    "        model_save_path = os.path.join(args.result_path, f\"model_fold{args.fold}.pt\")\n",
    "        save_model(model, model_save_path)\n",
    "        graph_save_path = os.path.join(args.result_path, f\"vis_{args.fold}\")\n",
    "        train_loss, train_c_index = evaluation(model, train_dataloader, loss_fucnt, device, graph_save_path + \"_train_\")\n",
    "        print_log(f\"Final Train Loss: {train_loss}, C-Index: {train_c_index}\", logger)\n",
    "        test_loss, test_c_index = evaluation(model, test_dataloader, loss_fucnt, device, graph_save_path + \"_test_\")\n",
    "        print_log(f\"Test Loss: {test_loss}, C-Index: {test_c_index}\", logger)\n",
    "        \n",
    "        logger.removeHandler(handler)"
   ]
  },
  {
   "cell_type": "code",
   "execution_count": 6,
   "metadata": {},
   "outputs": [
    {
     "name": "stdout",
     "output_type": "stream",
     "text": [
      "Result Path: ./logs/dgsurv/results_5_24_clinical_miRNA_mRNA_WSI\n"
     ]
    },
    {
     "name": "stderr",
     "output_type": "stream",
     "text": [
      "Epoch 0/20: Training Loss: 4.296722412109375, C-Index: 0.5663001642666156\n"
     ]
    },
    {
     "name": "stdout",
     "output_type": "stream",
     "text": [
      "Epoch 0/20: Training Loss: 4.296722412109375, C-Index: 0.5663001642666156\n"
     ]
    },
    {
     "name": "stderr",
     "output_type": "stream",
     "text": [
      "Epoch 1/20: Training Loss: 4.106428623199463, C-Index: 0.73060275056654\n"
     ]
    },
    {
     "name": "stdout",
     "output_type": "stream",
     "text": [
      "Epoch 1/20: Training Loss: 4.106428623199463, C-Index: 0.73060275056654\n"
     ]
    },
    {
     "name": "stderr",
     "output_type": "stream",
     "text": [
      "Epoch 2/20: Training Loss: 4.016543865203857, C-Index: 0.7763575976307239\n"
     ]
    },
    {
     "name": "stdout",
     "output_type": "stream",
     "text": [
      "Epoch 2/20: Training Loss: 4.016543865203857, C-Index: 0.7763575976307239\n"
     ]
    },
    {
     "name": "stderr",
     "output_type": "stream",
     "text": [
      "Epoch 3/20: Training Loss: 3.896486282348633, C-Index: 0.7890792676346806\n"
     ]
    },
    {
     "name": "stdout",
     "output_type": "stream",
     "text": [
      "Epoch 3/20: Training Loss: 3.896486282348633, C-Index: 0.7890792676346806\n"
     ]
    },
    {
     "name": "stderr",
     "output_type": "stream",
     "text": [
      "Epoch 4/20: Training Loss: 3.8009040355682373, C-Index: 0.8063932087145238\n"
     ]
    },
    {
     "name": "stdout",
     "output_type": "stream",
     "text": [
      "Epoch 4/20: Training Loss: 3.8009040355682373, C-Index: 0.8063932087145238\n"
     ]
    },
    {
     "name": "stderr",
     "output_type": "stream",
     "text": [
      "Epoch 5/20: Training Loss: 3.740473508834839, C-Index: 0.8194146353161234\n"
     ]
    },
    {
     "name": "stdout",
     "output_type": "stream",
     "text": [
      "Epoch 5/20: Training Loss: 3.740473508834839, C-Index: 0.8194146353161234\n"
     ]
    },
    {
     "name": "stderr",
     "output_type": "stream",
     "text": [
      "Epoch 6/20: Training Loss: 3.688405752182007, C-Index: 0.8234193834606299\n"
     ]
    },
    {
     "name": "stdout",
     "output_type": "stream",
     "text": [
      "Epoch 6/20: Training Loss: 3.688405752182007, C-Index: 0.8234193834606299\n"
     ]
    },
    {
     "name": "stderr",
     "output_type": "stream",
     "text": [
      "Epoch 7/20: Training Loss: 3.6019840240478516, C-Index: 0.8387909017877484\n"
     ]
    },
    {
     "name": "stdout",
     "output_type": "stream",
     "text": [
      "Epoch 7/20: Training Loss: 3.6019840240478516, C-Index: 0.8387909017877484\n"
     ]
    },
    {
     "name": "stderr",
     "output_type": "stream",
     "text": [
      "Epoch 8/20: Training Loss: 3.545879364013672, C-Index: 0.8433591923358233\n"
     ]
    },
    {
     "name": "stdout",
     "output_type": "stream",
     "text": [
      "Epoch 8/20: Training Loss: 3.545879364013672, C-Index: 0.8433591923358233\n"
     ]
    },
    {
     "name": "stderr",
     "output_type": "stream",
     "text": [
      "Epoch 9/20: Training Loss: 3.470700979232788, C-Index: 0.8555293102001175\n"
     ]
    },
    {
     "name": "stdout",
     "output_type": "stream",
     "text": [
      "Epoch 9/20: Training Loss: 3.470700979232788, C-Index: 0.8555293102001175\n"
     ]
    },
    {
     "name": "stderr",
     "output_type": "stream",
     "text": [
      "Epoch 10/20: Training Loss: 3.3864800930023193, C-Index: 0.8696538410810422\n"
     ]
    },
    {
     "name": "stdout",
     "output_type": "stream",
     "text": [
      "Epoch 10/20: Training Loss: 3.3864800930023193, C-Index: 0.8696538410810422\n"
     ]
    },
    {
     "name": "stderr",
     "output_type": "stream",
     "text": [
      "Epoch 11/20: Training Loss: 3.3184635639190674, C-Index: 0.8790302274553063\n"
     ]
    },
    {
     "name": "stdout",
     "output_type": "stream",
     "text": [
      "Epoch 11/20: Training Loss: 3.3184635639190674, C-Index: 0.8790302274553063\n"
     ]
    },
    {
     "name": "stderr",
     "output_type": "stream",
     "text": [
      "Epoch 12/20: Training Loss: 3.2852494716644287, C-Index: 0.8862963273821657\n"
     ]
    },
    {
     "name": "stdout",
     "output_type": "stream",
     "text": [
      "Epoch 12/20: Training Loss: 3.2852494716644287, C-Index: 0.8862963273821657\n"
     ]
    },
    {
     "name": "stderr",
     "output_type": "stream",
     "text": [
      "Epoch 13/20: Training Loss: 3.215884208679199, C-Index: 0.8881188474958334\n"
     ]
    },
    {
     "name": "stdout",
     "output_type": "stream",
     "text": [
      "Epoch 13/20: Training Loss: 3.215884208679199, C-Index: 0.8881188474958334\n"
     ]
    },
    {
     "name": "stderr",
     "output_type": "stream",
     "text": [
      "Epoch 14/20: Training Loss: 3.1579129695892334, C-Index: 0.9016198846536613\n"
     ]
    },
    {
     "name": "stdout",
     "output_type": "stream",
     "text": [
      "Epoch 14/20: Training Loss: 3.1579129695892334, C-Index: 0.9016198846536613\n"
     ]
    },
    {
     "name": "stderr",
     "output_type": "stream",
     "text": [
      "Epoch 15/20: Training Loss: 3.0772132873535156, C-Index: 0.9088500137888035\n"
     ]
    },
    {
     "name": "stdout",
     "output_type": "stream",
     "text": [
      "Epoch 15/20: Training Loss: 3.0772132873535156, C-Index: 0.9088500137888035\n"
     ]
    },
    {
     "name": "stderr",
     "output_type": "stream",
     "text": [
      "Epoch 16/20: Training Loss: 2.9908294677734375, C-Index: 0.9124231124327047\n"
     ]
    },
    {
     "name": "stdout",
     "output_type": "stream",
     "text": [
      "Epoch 16/20: Training Loss: 2.9908294677734375, C-Index: 0.9124231124327047\n"
     ]
    },
    {
     "name": "stderr",
     "output_type": "stream",
     "text": [
      "Epoch 17/20: Training Loss: 2.922109603881836, C-Index: 0.9215477032649488\n"
     ]
    },
    {
     "name": "stdout",
     "output_type": "stream",
     "text": [
      "Epoch 17/20: Training Loss: 2.922109603881836, C-Index: 0.9215477032649488\n"
     ]
    },
    {
     "name": "stderr",
     "output_type": "stream",
     "text": [
      "Epoch 18/20: Training Loss: 2.877807378768921, C-Index: 0.9245692497691874\n"
     ]
    },
    {
     "name": "stdout",
     "output_type": "stream",
     "text": [
      "Epoch 18/20: Training Loss: 2.877807378768921, C-Index: 0.9245692497691874\n"
     ]
    },
    {
     "name": "stderr",
     "output_type": "stream",
     "text": [
      "Epoch 19/20: Training Loss: 2.7776334285736084, C-Index: 0.9323509310439922\n",
      "****************************************************************************************************\n"
     ]
    },
    {
     "name": "stdout",
     "output_type": "stream",
     "text": [
      "Epoch 19/20: Training Loss: 2.7776334285736084, C-Index: 0.9323509310439922\n",
      "****************************************************************************************************\n"
     ]
    },
    {
     "name": "stderr",
     "output_type": "stream",
     "text": [
      "Final Train Loss: 2.751450777053833, C-Index: 0.9406961547223655\n"
     ]
    },
    {
     "name": "stdout",
     "output_type": "stream",
     "text": [
      "Final Train Loss: 2.751450777053833, C-Index: 0.9406961547223655\n"
     ]
    },
    {
     "name": "stderr",
     "output_type": "stream",
     "text": [
      "Test Loss: 3.8442423343658447, C-Index: 0.7507794232268121\n"
     ]
    },
    {
     "name": "stdout",
     "output_type": "stream",
     "text": [
      "Test Loss: 3.8442423343658447, C-Index: 0.7507794232268121\n"
     ]
    },
    {
     "name": "stderr",
     "output_type": "stream",
     "text": [
      "Epoch 0/20: Training Loss: 4.354252815246582, C-Index: 0.5442588928037068\n"
     ]
    },
    {
     "name": "stdout",
     "output_type": "stream",
     "text": [
      "Epoch 0/20: Training Loss: 4.354252815246582, C-Index: 0.5442588928037068\n"
     ]
    },
    {
     "name": "stderr",
     "output_type": "stream",
     "text": [
      "Epoch 1/20: Training Loss: 4.209982872009277, C-Index: 0.7157198706501279\n"
     ]
    },
    {
     "name": "stdout",
     "output_type": "stream",
     "text": [
      "Epoch 1/20: Training Loss: 4.209982872009277, C-Index: 0.7157198706501279\n"
     ]
    },
    {
     "name": "stderr",
     "output_type": "stream",
     "text": [
      "Epoch 2/20: Training Loss: 4.110859394073486, C-Index: 0.7612215840532844\n"
     ]
    },
    {
     "name": "stdout",
     "output_type": "stream",
     "text": [
      "Epoch 2/20: Training Loss: 4.110859394073486, C-Index: 0.7612215840532844\n"
     ]
    },
    {
     "name": "stderr",
     "output_type": "stream",
     "text": [
      "Epoch 3/20: Training Loss: 3.994764566421509, C-Index: 0.7841353347169265\n"
     ]
    },
    {
     "name": "stdout",
     "output_type": "stream",
     "text": [
      "Epoch 3/20: Training Loss: 3.994764566421509, C-Index: 0.7841353347169265\n"
     ]
    },
    {
     "name": "stderr",
     "output_type": "stream",
     "text": [
      "Epoch 4/20: Training Loss: 3.93002986907959, C-Index: 0.8003885322650707\n"
     ]
    },
    {
     "name": "stdout",
     "output_type": "stream",
     "text": [
      "Epoch 4/20: Training Loss: 3.93002986907959, C-Index: 0.8003885322650707\n"
     ]
    },
    {
     "name": "stderr",
     "output_type": "stream",
     "text": [
      "Epoch 5/20: Training Loss: 3.8551485538482666, C-Index: 0.8089314156088614\n"
     ]
    },
    {
     "name": "stdout",
     "output_type": "stream",
     "text": [
      "Epoch 5/20: Training Loss: 3.8551485538482666, C-Index: 0.8089314156088614\n"
     ]
    },
    {
     "name": "stderr",
     "output_type": "stream",
     "text": [
      "Epoch 6/20: Training Loss: 3.8338940143585205, C-Index: 0.8109464742506878\n"
     ]
    },
    {
     "name": "stdout",
     "output_type": "stream",
     "text": [
      "Epoch 6/20: Training Loss: 3.8338940143585205, C-Index: 0.8109464742506878\n"
     ]
    },
    {
     "name": "stderr",
     "output_type": "stream",
     "text": [
      "Epoch 7/20: Training Loss: 3.7376391887664795, C-Index: 0.8200082050292002\n"
     ]
    },
    {
     "name": "stdout",
     "output_type": "stream",
     "text": [
      "Epoch 7/20: Training Loss: 3.7376391887664795, C-Index: 0.8200082050292002\n"
     ]
    },
    {
     "name": "stderr",
     "output_type": "stream",
     "text": [
      "Epoch 8/20: Training Loss: 3.7169315814971924, C-Index: 0.831434914812491\n"
     ]
    },
    {
     "name": "stdout",
     "output_type": "stream",
     "text": [
      "Epoch 8/20: Training Loss: 3.7169315814971924, C-Index: 0.831434914812491\n"
     ]
    },
    {
     "name": "stderr",
     "output_type": "stream",
     "text": [
      "Epoch 9/20: Training Loss: 3.6390674114227295, C-Index: 0.8341739466190453\n"
     ]
    },
    {
     "name": "stdout",
     "output_type": "stream",
     "text": [
      "Epoch 9/20: Training Loss: 3.6390674114227295, C-Index: 0.8341739466190453\n"
     ]
    },
    {
     "name": "stderr",
     "output_type": "stream",
     "text": [
      "Epoch 10/20: Training Loss: 3.574521064758301, C-Index: 0.8449611467734929\n"
     ]
    },
    {
     "name": "stdout",
     "output_type": "stream",
     "text": [
      "Epoch 10/20: Training Loss: 3.574521064758301, C-Index: 0.8449611467734929\n"
     ]
    },
    {
     "name": "stderr",
     "output_type": "stream",
     "text": [
      "Epoch 11/20: Training Loss: 3.535069704055786, C-Index: 0.8508132631883778\n"
     ]
    },
    {
     "name": "stdout",
     "output_type": "stream",
     "text": [
      "Epoch 11/20: Training Loss: 3.535069704055786, C-Index: 0.8508132631883778\n"
     ]
    },
    {
     "name": "stderr",
     "output_type": "stream",
     "text": [
      "Epoch 12/20: Training Loss: 3.441632032394409, C-Index: 0.8618417877310681\n"
     ]
    },
    {
     "name": "stdout",
     "output_type": "stream",
     "text": [
      "Epoch 12/20: Training Loss: 3.441632032394409, C-Index: 0.8618417877310681\n"
     ]
    },
    {
     "name": "stderr",
     "output_type": "stream",
     "text": [
      "Epoch 13/20: Training Loss: 3.3761188983917236, C-Index: 0.8723273324002123\n"
     ]
    },
    {
     "name": "stdout",
     "output_type": "stream",
     "text": [
      "Epoch 13/20: Training Loss: 3.3761188983917236, C-Index: 0.8723273324002123\n"
     ]
    },
    {
     "name": "stderr",
     "output_type": "stream",
     "text": [
      "Epoch 14/20: Training Loss: 3.33328914642334, C-Index: 0.8795670640474926\n"
     ]
    },
    {
     "name": "stdout",
     "output_type": "stream",
     "text": [
      "Epoch 14/20: Training Loss: 3.33328914642334, C-Index: 0.8795670640474926\n"
     ]
    },
    {
     "name": "stderr",
     "output_type": "stream",
     "text": [
      "Epoch 15/20: Training Loss: 3.239457845687866, C-Index: 0.8861310874076934\n"
     ]
    },
    {
     "name": "stdout",
     "output_type": "stream",
     "text": [
      "Epoch 15/20: Training Loss: 3.239457845687866, C-Index: 0.8861310874076934\n"
     ]
    },
    {
     "name": "stderr",
     "output_type": "stream",
     "text": [
      "Epoch 16/20: Training Loss: 3.1891603469848633, C-Index: 0.8965321685409527\n"
     ]
    },
    {
     "name": "stdout",
     "output_type": "stream",
     "text": [
      "Epoch 16/20: Training Loss: 3.1891603469848633, C-Index: 0.8965321685409527\n"
     ]
    },
    {
     "name": "stderr",
     "output_type": "stream",
     "text": [
      "Epoch 17/20: Training Loss: 3.151857376098633, C-Index: 0.9015275833775761\n"
     ]
    },
    {
     "name": "stdout",
     "output_type": "stream",
     "text": [
      "Epoch 17/20: Training Loss: 3.151857376098633, C-Index: 0.9015275833775761\n"
     ]
    },
    {
     "name": "stderr",
     "output_type": "stream",
     "text": [
      "Epoch 18/20: Training Loss: 3.057795286178589, C-Index: 0.911699406342005\n"
     ]
    },
    {
     "name": "stdout",
     "output_type": "stream",
     "text": [
      "Epoch 18/20: Training Loss: 3.057795286178589, C-Index: 0.911699406342005\n"
     ]
    },
    {
     "name": "stderr",
     "output_type": "stream",
     "text": [
      "Epoch 19/20: Training Loss: 2.9787445068359375, C-Index: 0.9168154833727497\n",
      "****************************************************************************************************\n"
     ]
    },
    {
     "name": "stdout",
     "output_type": "stream",
     "text": [
      "Epoch 19/20: Training Loss: 2.9787445068359375, C-Index: 0.9168154833727497\n",
      "****************************************************************************************************\n"
     ]
    },
    {
     "name": "stderr",
     "output_type": "stream",
     "text": [
      "Final Train Loss: 3.0425922870635986, C-Index: 0.9230054539311743\n"
     ]
    },
    {
     "name": "stdout",
     "output_type": "stream",
     "text": [
      "Final Train Loss: 3.0425922870635986, C-Index: 0.9230054539311743\n"
     ]
    },
    {
     "name": "stderr",
     "output_type": "stream",
     "text": [
      "Test Loss: 3.3988213539123535, C-Index: 0.759697256385998\n"
     ]
    },
    {
     "name": "stdout",
     "output_type": "stream",
     "text": [
      "Test Loss: 3.3988213539123535, C-Index: 0.759697256385998\n"
     ]
    },
    {
     "name": "stderr",
     "output_type": "stream",
     "text": [
      "Epoch 0/20: Training Loss: 4.24851131439209, C-Index: 0.602386543345953\n"
     ]
    },
    {
     "name": "stdout",
     "output_type": "stream",
     "text": [
      "Epoch 0/20: Training Loss: 4.24851131439209, C-Index: 0.602386543345953\n"
     ]
    },
    {
     "name": "stderr",
     "output_type": "stream",
     "text": [
      "Epoch 1/20: Training Loss: 4.100100040435791, C-Index: 0.7339339627162506\n"
     ]
    },
    {
     "name": "stdout",
     "output_type": "stream",
     "text": [
      "Epoch 1/20: Training Loss: 4.100100040435791, C-Index: 0.7339339627162506\n"
     ]
    },
    {
     "name": "stderr",
     "output_type": "stream",
     "text": [
      "Epoch 2/20: Training Loss: 4.016822338104248, C-Index: 0.7530910049360234\n"
     ]
    },
    {
     "name": "stdout",
     "output_type": "stream",
     "text": [
      "Epoch 2/20: Training Loss: 4.016822338104248, C-Index: 0.7530910049360234\n"
     ]
    },
    {
     "name": "stderr",
     "output_type": "stream",
     "text": [
      "Epoch 3/20: Training Loss: 3.933579683303833, C-Index: 0.7770403028705611\n"
     ]
    },
    {
     "name": "stdout",
     "output_type": "stream",
     "text": [
      "Epoch 3/20: Training Loss: 3.933579683303833, C-Index: 0.7770403028705611\n"
     ]
    },
    {
     "name": "stderr",
     "output_type": "stream",
     "text": [
      "Epoch 4/20: Training Loss: 3.8615877628326416, C-Index: 0.7964489385153591\n"
     ]
    },
    {
     "name": "stdout",
     "output_type": "stream",
     "text": [
      "Epoch 4/20: Training Loss: 3.8615877628326416, C-Index: 0.7964489385153591\n"
     ]
    },
    {
     "name": "stderr",
     "output_type": "stream",
     "text": [
      "Epoch 5/20: Training Loss: 3.7973573207855225, C-Index: 0.7998274787942684\n"
     ]
    },
    {
     "name": "stdout",
     "output_type": "stream",
     "text": [
      "Epoch 5/20: Training Loss: 3.7973573207855225, C-Index: 0.7998274787942684\n"
     ]
    },
    {
     "name": "stderr",
     "output_type": "stream",
     "text": [
      "Epoch 6/20: Training Loss: 3.7120473384857178, C-Index: 0.8090166291273302\n"
     ]
    },
    {
     "name": "stdout",
     "output_type": "stream",
     "text": [
      "Epoch 6/20: Training Loss: 3.7120473384857178, C-Index: 0.8090166291273302\n"
     ]
    },
    {
     "name": "stderr",
     "output_type": "stream",
     "text": [
      "Epoch 7/20: Training Loss: 3.680771589279175, C-Index: 0.8274069104327407\n"
     ]
    },
    {
     "name": "stdout",
     "output_type": "stream",
     "text": [
      "Epoch 7/20: Training Loss: 3.680771589279175, C-Index: 0.8274069104327407\n"
     ]
    },
    {
     "name": "stderr",
     "output_type": "stream",
     "text": [
      "Epoch 8/20: Training Loss: 3.63924241065979, C-Index: 0.8283533809364068\n"
     ]
    },
    {
     "name": "stdout",
     "output_type": "stream",
     "text": [
      "Epoch 8/20: Training Loss: 3.63924241065979, C-Index: 0.8283533809364068\n"
     ]
    },
    {
     "name": "stderr",
     "output_type": "stream",
     "text": [
      "Epoch 9/20: Training Loss: 3.5949089527130127, C-Index: 0.8465160300953659\n"
     ]
    },
    {
     "name": "stdout",
     "output_type": "stream",
     "text": [
      "Epoch 9/20: Training Loss: 3.5949089527130127, C-Index: 0.8465160300953659\n"
     ]
    },
    {
     "name": "stderr",
     "output_type": "stream",
     "text": [
      "Epoch 10/20: Training Loss: 3.5178749561309814, C-Index: 0.8518474145780419\n"
     ]
    },
    {
     "name": "stdout",
     "output_type": "stream",
     "text": [
      "Epoch 10/20: Training Loss: 3.5178749561309814, C-Index: 0.8518474145780419\n"
     ]
    },
    {
     "name": "stderr",
     "output_type": "stream",
     "text": [
      "Epoch 11/20: Training Loss: 3.432884931564331, C-Index: 0.8648344275650549\n"
     ]
    },
    {
     "name": "stdout",
     "output_type": "stream",
     "text": [
      "Epoch 11/20: Training Loss: 3.432884931564331, C-Index: 0.8648344275650549\n"
     ]
    },
    {
     "name": "stderr",
     "output_type": "stream",
     "text": [
      "Epoch 12/20: Training Loss: 3.379972457885742, C-Index: 0.8738798102266737\n"
     ]
    },
    {
     "name": "stdout",
     "output_type": "stream",
     "text": [
      "Epoch 12/20: Training Loss: 3.379972457885742, C-Index: 0.8738798102266737\n"
     ]
    },
    {
     "name": "stderr",
     "output_type": "stream",
     "text": [
      "Epoch 13/20: Training Loss: 3.2832062244415283, C-Index: 0.8809244261273782\n"
     ]
    },
    {
     "name": "stdout",
     "output_type": "stream",
     "text": [
      "Epoch 13/20: Training Loss: 3.2832062244415283, C-Index: 0.8809244261273782\n"
     ]
    },
    {
     "name": "stderr",
     "output_type": "stream",
     "text": [
      "Epoch 14/20: Training Loss: 3.2185239791870117, C-Index: 0.891203814635549\n"
     ]
    },
    {
     "name": "stdout",
     "output_type": "stream",
     "text": [
      "Epoch 14/20: Training Loss: 3.2185239791870117, C-Index: 0.891203814635549\n"
     ]
    },
    {
     "name": "stderr",
     "output_type": "stream",
     "text": [
      "Epoch 15/20: Training Loss: 3.1529178619384766, C-Index: 0.8885680739924282\n"
     ]
    },
    {
     "name": "stdout",
     "output_type": "stream",
     "text": [
      "Epoch 15/20: Training Loss: 3.1529178619384766, C-Index: 0.8885680739924282\n"
     ]
    },
    {
     "name": "stderr",
     "output_type": "stream",
     "text": [
      "Epoch 16/20: Training Loss: 3.0702409744262695, C-Index: 0.9045622274404562\n"
     ]
    },
    {
     "name": "stdout",
     "output_type": "stream",
     "text": [
      "Epoch 16/20: Training Loss: 3.0702409744262695, C-Index: 0.9045622274404562\n"
     ]
    },
    {
     "name": "stderr",
     "output_type": "stream",
     "text": [
      "Epoch 17/20: Training Loss: 3.0206758975982666, C-Index: 0.9094383476302296\n"
     ]
    },
    {
     "name": "stdout",
     "output_type": "stream",
     "text": [
      "Epoch 17/20: Training Loss: 3.0206758975982666, C-Index: 0.9094383476302296\n"
     ]
    },
    {
     "name": "stderr",
     "output_type": "stream",
     "text": [
      "Epoch 18/20: Training Loss: 2.9488468170166016, C-Index: 0.9152130157665213\n"
     ]
    },
    {
     "name": "stdout",
     "output_type": "stream",
     "text": [
      "Epoch 18/20: Training Loss: 2.9488468170166016, C-Index: 0.9152130157665213\n"
     ]
    },
    {
     "name": "stderr",
     "output_type": "stream",
     "text": [
      "Epoch 19/20: Training Loss: 2.8339273929595947, C-Index: 0.9195140652705228\n",
      "****************************************************************************************************\n"
     ]
    },
    {
     "name": "stdout",
     "output_type": "stream",
     "text": [
      "Epoch 19/20: Training Loss: 2.8339273929595947, C-Index: 0.9195140652705228\n",
      "****************************************************************************************************\n"
     ]
    },
    {
     "name": "stderr",
     "output_type": "stream",
     "text": [
      "Final Train Loss: 2.783691644668579, C-Index: 0.9290027315857574\n"
     ]
    },
    {
     "name": "stdout",
     "output_type": "stream",
     "text": [
      "Final Train Loss: 2.783691644668579, C-Index: 0.9290027315857574\n"
     ]
    },
    {
     "name": "stderr",
     "output_type": "stream",
     "text": [
      "Test Loss: 3.391786813735962, C-Index: 0.7659157688540646\n"
     ]
    },
    {
     "name": "stdout",
     "output_type": "stream",
     "text": [
      "Test Loss: 3.391786813735962, C-Index: 0.7659157688540646\n"
     ]
    },
    {
     "name": "stderr",
     "output_type": "stream",
     "text": [
      "Epoch 0/20: Training Loss: 4.267202854156494, C-Index: 0.5960279846535771\n"
     ]
    },
    {
     "name": "stdout",
     "output_type": "stream",
     "text": [
      "Epoch 0/20: Training Loss: 4.267202854156494, C-Index: 0.5960279846535771\n"
     ]
    },
    {
     "name": "stderr",
     "output_type": "stream",
     "text": [
      "Epoch 1/20: Training Loss: 4.126434326171875, C-Index: 0.7335994013469693\n"
     ]
    },
    {
     "name": "stdout",
     "output_type": "stream",
     "text": [
      "Epoch 1/20: Training Loss: 4.126434326171875, C-Index: 0.7335994013469693\n"
     ]
    },
    {
     "name": "stderr",
     "output_type": "stream",
     "text": [
      "Epoch 2/20: Training Loss: 4.018620014190674, C-Index: 0.7618216156505007\n"
     ]
    },
    {
     "name": "stdout",
     "output_type": "stream",
     "text": [
      "Epoch 2/20: Training Loss: 4.018620014190674, C-Index: 0.7618216156505007\n"
     ]
    },
    {
     "name": "stderr",
     "output_type": "stream",
     "text": [
      "Epoch 3/20: Training Loss: 3.9378840923309326, C-Index: 0.7863022485122759\n"
     ]
    },
    {
     "name": "stdout",
     "output_type": "stream",
     "text": [
      "Epoch 3/20: Training Loss: 3.9378840923309326, C-Index: 0.7863022485122759\n"
     ]
    },
    {
     "name": "stderr",
     "output_type": "stream",
     "text": [
      "Epoch 4/20: Training Loss: 3.884638786315918, C-Index: 0.7956027509532124\n"
     ]
    },
    {
     "name": "stdout",
     "output_type": "stream",
     "text": [
      "Epoch 4/20: Training Loss: 3.884638786315918, C-Index: 0.7956027509532124\n"
     ]
    },
    {
     "name": "stderr",
     "output_type": "stream",
     "text": [
      "Epoch 5/20: Training Loss: 3.8378000259399414, C-Index: 0.8169475822257064\n"
     ]
    },
    {
     "name": "stdout",
     "output_type": "stream",
     "text": [
      "Epoch 5/20: Training Loss: 3.8378000259399414, C-Index: 0.8169475822257064\n"
     ]
    },
    {
     "name": "stderr",
     "output_type": "stream",
     "text": [
      "Epoch 6/20: Training Loss: 3.7478487491607666, C-Index: 0.8227915760966397\n"
     ]
    },
    {
     "name": "stdout",
     "output_type": "stream",
     "text": [
      "Epoch 6/20: Training Loss: 3.7478487491607666, C-Index: 0.8227915760966397\n"
     ]
    },
    {
     "name": "stderr",
     "output_type": "stream",
     "text": [
      "Epoch 7/20: Training Loss: 3.678426504135132, C-Index: 0.8399315825107794\n"
     ]
    },
    {
     "name": "stdout",
     "output_type": "stream",
     "text": [
      "Epoch 7/20: Training Loss: 3.678426504135132, C-Index: 0.8399315825107794\n"
     ]
    },
    {
     "name": "stderr",
     "output_type": "stream",
     "text": [
      "Epoch 8/20: Training Loss: 3.663578748703003, C-Index: 0.8390169737139056\n"
     ]
    },
    {
     "name": "stdout",
     "output_type": "stream",
     "text": [
      "Epoch 8/20: Training Loss: 3.663578748703003, C-Index: 0.8390169737139056\n"
     ]
    },
    {
     "name": "stderr",
     "output_type": "stream",
     "text": [
      "Epoch 9/20: Training Loss: 3.57755184173584, C-Index: 0.8498259867678676\n"
     ]
    },
    {
     "name": "stdout",
     "output_type": "stream",
     "text": [
      "Epoch 9/20: Training Loss: 3.57755184173584, C-Index: 0.8498259867678676\n"
     ]
    },
    {
     "name": "stderr",
     "output_type": "stream",
     "text": [
      "Epoch 10/20: Training Loss: 3.500887870788574, C-Index: 0.8657069213317654\n"
     ]
    },
    {
     "name": "stdout",
     "output_type": "stream",
     "text": [
      "Epoch 10/20: Training Loss: 3.500887870788574, C-Index: 0.8657069213317654\n"
     ]
    },
    {
     "name": "stderr",
     "output_type": "stream",
     "text": [
      "Epoch 11/20: Training Loss: 3.4570674896240234, C-Index: 0.8739027663946596\n"
     ]
    },
    {
     "name": "stdout",
     "output_type": "stream",
     "text": [
      "Epoch 11/20: Training Loss: 3.4570674896240234, C-Index: 0.8739027663946596\n"
     ]
    },
    {
     "name": "stderr",
     "output_type": "stream",
     "text": [
      "Epoch 12/20: Training Loss: 3.387709617614746, C-Index: 0.8813978073144948\n"
     ]
    },
    {
     "name": "stdout",
     "output_type": "stream",
     "text": [
      "Epoch 12/20: Training Loss: 3.387709617614746, C-Index: 0.8813978073144948\n"
     ]
    },
    {
     "name": "stderr",
     "output_type": "stream",
     "text": [
      "Epoch 13/20: Training Loss: 3.306471824645996, C-Index: 0.8906507976101391\n"
     ]
    },
    {
     "name": "stdout",
     "output_type": "stream",
     "text": [
      "Epoch 13/20: Training Loss: 3.306471824645996, C-Index: 0.8906507976101391\n"
     ]
    },
    {
     "name": "stderr",
     "output_type": "stream",
     "text": [
      "Epoch 14/20: Training Loss: 3.2428224086761475, C-Index: 0.9000700804143059\n"
     ]
    },
    {
     "name": "stdout",
     "output_type": "stream",
     "text": [
      "Epoch 14/20: Training Loss: 3.2428224086761475, C-Index: 0.9000700804143059\n"
     ]
    },
    {
     "name": "stderr",
     "output_type": "stream",
     "text": [
      "Epoch 15/20: Training Loss: 3.143083333969116, C-Index: 0.9102970696884392\n"
     ]
    },
    {
     "name": "stdout",
     "output_type": "stream",
     "text": [
      "Epoch 15/20: Training Loss: 3.143083333969116, C-Index: 0.9102970696884392\n"
     ]
    },
    {
     "name": "stderr",
     "output_type": "stream",
     "text": [
      "Epoch 16/20: Training Loss: 3.1075820922851562, C-Index: 0.9101664112888858\n"
     ]
    },
    {
     "name": "stdout",
     "output_type": "stream",
     "text": [
      "Epoch 16/20: Training Loss: 3.1075820922851562, C-Index: 0.9101664112888858\n"
     ]
    },
    {
     "name": "stderr",
     "output_type": "stream",
     "text": [
      "Epoch 17/20: Training Loss: 3.0581302642822266, C-Index: 0.9177802325719512\n"
     ]
    },
    {
     "name": "stdout",
     "output_type": "stream",
     "text": [
      "Epoch 17/20: Training Loss: 3.0581302642822266, C-Index: 0.9177802325719512\n"
     ]
    },
    {
     "name": "stderr",
     "output_type": "stream",
     "text": [
      "Epoch 18/20: Training Loss: 3.0203399658203125, C-Index: 0.9216287163406146\n"
     ]
    },
    {
     "name": "stdout",
     "output_type": "stream",
     "text": [
      "Epoch 18/20: Training Loss: 3.0203399658203125, C-Index: 0.9216287163406146\n"
     ]
    },
    {
     "name": "stderr",
     "output_type": "stream",
     "text": [
      "Epoch 19/20: Training Loss: 2.94170880317688, C-Index: 0.931594388815641\n",
      "****************************************************************************************************\n"
     ]
    },
    {
     "name": "stdout",
     "output_type": "stream",
     "text": [
      "Epoch 19/20: Training Loss: 2.94170880317688, C-Index: 0.931594388815641\n",
      "****************************************************************************************************\n"
     ]
    },
    {
     "name": "stderr",
     "output_type": "stream",
     "text": [
      "Final Train Loss: 2.862442970275879, C-Index: 0.9367494565798382\n"
     ]
    },
    {
     "name": "stdout",
     "output_type": "stream",
     "text": [
      "Final Train Loss: 2.862442970275879, C-Index: 0.9367494565798382\n"
     ]
    },
    {
     "name": "stderr",
     "output_type": "stream",
     "text": [
      "Test Loss: 3.5033068656921387, C-Index: 0.7980165958308035\n"
     ]
    },
    {
     "name": "stdout",
     "output_type": "stream",
     "text": [
      "Test Loss: 3.5033068656921387, C-Index: 0.7980165958308035\n"
     ]
    },
    {
     "name": "stderr",
     "output_type": "stream",
     "text": [
      "Epoch 0/20: Training Loss: 4.2397685050964355, C-Index: 0.5503429989296488\n"
     ]
    },
    {
     "name": "stdout",
     "output_type": "stream",
     "text": [
      "Epoch 0/20: Training Loss: 4.2397685050964355, C-Index: 0.5503429989296488\n"
     ]
    },
    {
     "name": "stderr",
     "output_type": "stream",
     "text": [
      "Epoch 1/20: Training Loss: 4.128139972686768, C-Index: 0.7161744672569816\n"
     ]
    },
    {
     "name": "stdout",
     "output_type": "stream",
     "text": [
      "Epoch 1/20: Training Loss: 4.128139972686768, C-Index: 0.7161744672569816\n"
     ]
    },
    {
     "name": "stderr",
     "output_type": "stream",
     "text": [
      "Epoch 2/20: Training Loss: 4.020480155944824, C-Index: 0.7622847134377737\n"
     ]
    },
    {
     "name": "stdout",
     "output_type": "stream",
     "text": [
      "Epoch 2/20: Training Loss: 4.020480155944824, C-Index: 0.7622847134377737\n"
     ]
    },
    {
     "name": "stderr",
     "output_type": "stream",
     "text": [
      "Epoch 3/20: Training Loss: 3.9393749237060547, C-Index: 0.7875109467743505\n"
     ]
    },
    {
     "name": "stdout",
     "output_type": "stream",
     "text": [
      "Epoch 3/20: Training Loss: 3.9393749237060547, C-Index: 0.7875109467743505\n"
     ]
    },
    {
     "name": "stderr",
     "output_type": "stream",
     "text": [
      "Epoch 4/20: Training Loss: 3.886537551879883, C-Index: 0.7896273231487788\n"
     ]
    },
    {
     "name": "stdout",
     "output_type": "stream",
     "text": [
      "Epoch 4/20: Training Loss: 3.886537551879883, C-Index: 0.7896273231487788\n"
     ]
    },
    {
     "name": "stderr",
     "output_type": "stream",
     "text": [
      "Epoch 5/20: Training Loss: 3.768159866333008, C-Index: 0.808382796535954\n"
     ]
    },
    {
     "name": "stdout",
     "output_type": "stream",
     "text": [
      "Epoch 5/20: Training Loss: 3.768159866333008, C-Index: 0.808382796535954\n"
     ]
    },
    {
     "name": "stderr",
     "output_type": "stream",
     "text": [
      "Epoch 6/20: Training Loss: 3.711092233657837, C-Index: 0.811046511627907\n"
     ]
    },
    {
     "name": "stdout",
     "output_type": "stream",
     "text": [
      "Epoch 6/20: Training Loss: 3.711092233657837, C-Index: 0.811046511627907\n"
     ]
    },
    {
     "name": "stderr",
     "output_type": "stream",
     "text": [
      "Epoch 7/20: Training Loss: 3.682037591934204, C-Index: 0.8176145762382018\n"
     ]
    },
    {
     "name": "stdout",
     "output_type": "stream",
     "text": [
      "Epoch 7/20: Training Loss: 3.682037591934204, C-Index: 0.8176145762382018\n"
     ]
    },
    {
     "name": "stderr",
     "output_type": "stream",
     "text": [
      "Epoch 8/20: Training Loss: 3.594170570373535, C-Index: 0.8379877396127274\n"
     ]
    },
    {
     "name": "stdout",
     "output_type": "stream",
     "text": [
      "Epoch 8/20: Training Loss: 3.594170570373535, C-Index: 0.8379877396127274\n"
     ]
    },
    {
     "name": "stderr",
     "output_type": "stream",
     "text": [
      "Epoch 9/20: Training Loss: 3.5403900146484375, C-Index: 0.8408339009438552\n"
     ]
    },
    {
     "name": "stdout",
     "output_type": "stream",
     "text": [
      "Epoch 9/20: Training Loss: 3.5403900146484375, C-Index: 0.8408339009438552\n"
     ]
    },
    {
     "name": "stderr",
     "output_type": "stream",
     "text": [
      "Epoch 10/20: Training Loss: 3.4604218006134033, C-Index: 0.8545781842950277\n"
     ]
    },
    {
     "name": "stdout",
     "output_type": "stream",
     "text": [
      "Epoch 10/20: Training Loss: 3.4604218006134033, C-Index: 0.8545781842950277\n"
     ]
    },
    {
     "name": "stderr",
     "output_type": "stream",
     "text": [
      "Epoch 11/20: Training Loss: 3.407430410385132, C-Index: 0.8632139729493042\n"
     ]
    },
    {
     "name": "stdout",
     "output_type": "stream",
     "text": [
      "Epoch 11/20: Training Loss: 3.407430410385132, C-Index: 0.8632139729493042\n"
     ]
    },
    {
     "name": "stderr",
     "output_type": "stream",
     "text": [
      "Epoch 12/20: Training Loss: 3.3295164108276367, C-Index: 0.8686995232071616\n"
     ]
    },
    {
     "name": "stdout",
     "output_type": "stream",
     "text": [
      "Epoch 12/20: Training Loss: 3.3295164108276367, C-Index: 0.8686995232071616\n"
     ]
    },
    {
     "name": "stderr",
     "output_type": "stream",
     "text": [
      "Epoch 13/20: Training Loss: 3.333319902420044, C-Index: 0.871630826116571\n"
     ]
    },
    {
     "name": "stdout",
     "output_type": "stream",
     "text": [
      "Epoch 13/20: Training Loss: 3.333319902420044, C-Index: 0.871630826116571\n"
     ]
    },
    {
     "name": "stderr",
     "output_type": "stream",
     "text": [
      "Epoch 14/20: Training Loss: 3.248830795288086, C-Index: 0.8814950861146249\n"
     ]
    },
    {
     "name": "stdout",
     "output_type": "stream",
     "text": [
      "Epoch 14/20: Training Loss: 3.248830795288086, C-Index: 0.8814950861146249\n"
     ]
    },
    {
     "name": "stderr",
     "output_type": "stream",
     "text": [
      "Epoch 15/20: Training Loss: 3.161489725112915, C-Index: 0.8899119392818916\n"
     ]
    },
    {
     "name": "stdout",
     "output_type": "stream",
     "text": [
      "Epoch 15/20: Training Loss: 3.161489725112915, C-Index: 0.8899119392818916\n"
     ]
    },
    {
     "name": "stderr",
     "output_type": "stream",
     "text": [
      "Epoch 16/20: Training Loss: 3.1230976581573486, C-Index: 0.8951785540527392\n"
     ]
    },
    {
     "name": "stdout",
     "output_type": "stream",
     "text": [
      "Epoch 16/20: Training Loss: 3.1230976581573486, C-Index: 0.8951785540527392\n"
     ]
    },
    {
     "name": "stderr",
     "output_type": "stream",
     "text": [
      "Epoch 17/20: Training Loss: 3.0659408569335938, C-Index: 0.903838668872239\n"
     ]
    },
    {
     "name": "stdout",
     "output_type": "stream",
     "text": [
      "Epoch 17/20: Training Loss: 3.0659408569335938, C-Index: 0.903838668872239\n"
     ]
    },
    {
     "name": "stderr",
     "output_type": "stream",
     "text": [
      "Epoch 18/20: Training Loss: 2.9756877422332764, C-Index: 0.9090809574778632\n"
     ]
    },
    {
     "name": "stdout",
     "output_type": "stream",
     "text": [
      "Epoch 18/20: Training Loss: 2.9756877422332764, C-Index: 0.9090809574778632\n"
     ]
    },
    {
     "name": "stderr",
     "output_type": "stream",
     "text": [
      "Epoch 19/20: Training Loss: 2.887754440307617, C-Index: 0.917814050793033\n",
      "****************************************************************************************************\n"
     ]
    },
    {
     "name": "stdout",
     "output_type": "stream",
     "text": [
      "Epoch 19/20: Training Loss: 2.887754440307617, C-Index: 0.917814050793033\n",
      "****************************************************************************************************\n"
     ]
    },
    {
     "name": "stderr",
     "output_type": "stream",
     "text": [
      "Final Train Loss: 2.8697750568389893, C-Index: 0.9281283448477182\n"
     ]
    },
    {
     "name": "stdout",
     "output_type": "stream",
     "text": [
      "Final Train Loss: 2.8697750568389893, C-Index: 0.9281283448477182\n"
     ]
    },
    {
     "name": "stderr",
     "output_type": "stream",
     "text": [
      "Test Loss: 3.477527618408203, C-Index: 0.7878732030962035\n"
     ]
    },
    {
     "name": "stdout",
     "output_type": "stream",
     "text": [
      "Test Loss: 3.477527618408203, C-Index: 0.7878732030962035\n"
     ]
    }
   ],
   "source": [
    "import numpy as np\n",
    "\n",
    "\n",
    "all_modalities = [\"clinical\", \"miRNA\", \"mRNA\", \"WSI\"]\n",
    "all_modalities = np.array(all_modalities)\n",
    "i = 2 ** len(all_modalities) - 1\n",
    "selection = F\"{i:0{len(all_modalities)}b}\"\n",
    "modality_select = all_modalities[np.array(list(selection)) == '1']\n",
    "args = Args(modality_select)\n",
    "train_eval_model(args)"
   ]
  },
  {
   "cell_type": "code",
   "execution_count": null,
   "metadata": {},
   "outputs": [],
   "source": []
  }
 ],
 "metadata": {
  "kernelspec": {
   "display_name": "int_env",
   "language": "python",
   "name": "python3"
  },
  "language_info": {
   "codemirror_mode": {
    "name": "ipython",
    "version": 3
   },
   "file_extension": ".py",
   "mimetype": "text/x-python",
   "name": "python",
   "nbconvert_exporter": "python",
   "pygments_lexer": "ipython3",
   "version": "3.10.11"
  }
 },
 "nbformat": 4,
 "nbformat_minor": 2
}
