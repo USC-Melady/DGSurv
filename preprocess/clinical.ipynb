{
 "cells": [
  {
   "cell_type": "markdown",
   "metadata": {},
   "source": [
    "Pan-Cancer"
   ]
  },
  {
   "cell_type": "code",
   "execution_count": 44,
   "metadata": {},
   "outputs": [],
   "source": [
    "import torch\n",
    "import torch.nn as nn\n",
    "import torch.nn.functional as F\n",
    "import numpy as np\n",
    "import pandas as pd\n",
    "from collections import Counter\n",
    "from sklearn.preprocessing import LabelEncoder\n",
    "\n",
    "\n",
    "raw_clinical_path = './data/TCGA-CDR-SupplementalTableS1.xlsx'\n",
    "pancancer_save_path = './preprocessed_data/clinical.csv'\n",
    "\n",
    "# Read clinical data\n",
    "data = pd.read_excel(raw_clinical_path)"
   ]
  },
  {
   "cell_type": "code",
   "execution_count": 45,
   "metadata": {},
   "outputs": [
    {
     "name": "stderr",
     "output_type": "stream",
     "text": [
      "/tmp/ipykernel_11511/2560649441.py:8: SettingWithCopyWarning: \n",
      "A value is trying to be set on a copy of a slice from a DataFrame\n",
      "\n",
      "See the caveats in the documentation: https://pandas.pydata.org/pandas-docs/stable/user_guide/indexing.html#returning-a-view-versus-a-copy\n",
      "  data_used.drop(labels=idx, inplace=True)\n"
     ]
    }
   ],
   "source": [
    "# Select the used features\n",
    "data_used = data[['bcr_patient_barcode', 'type', 'gender', 'race', 'histological_type',\n",
    "\t\t\t\t\t'age_at_initial_pathologic_diagnosis', 'OS', 'OS.time']]\n",
    "data_used.columns = ['id', 'cancer_type', 'gender', 'race', 'histological_type', 'age', 'event', 'event_time']\n",
    "\n",
    "\n",
    "idx = data_used[data_used[['event', 'event_time']].isnull().T.any()].index\n",
    "data_used.drop(labels=idx, inplace=True)\n",
    "data_used.loc[data_used['race'] == '[Not Evaluated]', 'race'] = 'Na'\n",
    "data_used.loc[data_used['race'] == '[Unknown]', 'race'] = 'Na'\n",
    "data_used.loc[data_used['race'] == '[Not Available]', 'race'] = 'Na'"
   ]
  },
  {
   "cell_type": "code",
   "execution_count": 46,
   "metadata": {},
   "outputs": [],
   "source": [
    "# categorical data and continuous data\n",
    "data_id = data_used[['id']]\n",
    "data_cate = data_used[['cancer_type', 'gender', 'race', 'histological_type']]\n",
    "data_num = data_used[['age']]\n",
    "target = data_used[['event', 'event_time']]"
   ]
  },
  {
   "cell_type": "code",
   "execution_count": 47,
   "metadata": {},
   "outputs": [
    {
     "name": "stderr",
     "output_type": "stream",
     "text": [
      "/tmp/ipykernel_11511/1565323335.py:2: SettingWithCopyWarning: \n",
      "A value is trying to be set on a copy of a slice from a DataFrame.\n",
      "Try using .loc[row_indexer,col_indexer] = value instead\n",
      "\n",
      "See the caveats in the documentation: https://pandas.pydata.org/pandas-docs/stable/user_guide/indexing.html#returning-a-view-versus-a-copy\n",
      "  data_cate['histological_type'] = data_cate['histological_type'].astype('str')\n",
      "/tmp/ipykernel_11511/1565323335.py:4: SettingWithCopyWarning: \n",
      "A value is trying to be set on a copy of a slice from a DataFrame.\n",
      "Try using .loc[row_indexer,col_indexer] = value instead\n",
      "\n",
      "See the caveats in the documentation: https://pandas.pydata.org/pandas-docs/stable/user_guide/indexing.html#returning-a-view-versus-a-copy\n",
      "  data_cate[col] = LabelEncoder().fit_transform(data_cate[col])\n",
      "/tmp/ipykernel_11511/1565323335.py:4: SettingWithCopyWarning: \n",
      "A value is trying to be set on a copy of a slice from a DataFrame.\n",
      "Try using .loc[row_indexer,col_indexer] = value instead\n",
      "\n",
      "See the caveats in the documentation: https://pandas.pydata.org/pandas-docs/stable/user_guide/indexing.html#returning-a-view-versus-a-copy\n",
      "  data_cate[col] = LabelEncoder().fit_transform(data_cate[col])\n",
      "/tmp/ipykernel_11511/1565323335.py:4: SettingWithCopyWarning: \n",
      "A value is trying to be set on a copy of a slice from a DataFrame.\n",
      "Try using .loc[row_indexer,col_indexer] = value instead\n",
      "\n",
      "See the caveats in the documentation: https://pandas.pydata.org/pandas-docs/stable/user_guide/indexing.html#returning-a-view-versus-a-copy\n",
      "  data_cate[col] = LabelEncoder().fit_transform(data_cate[col])\n",
      "/tmp/ipykernel_11511/1565323335.py:4: SettingWithCopyWarning: \n",
      "A value is trying to be set on a copy of a slice from a DataFrame.\n",
      "Try using .loc[row_indexer,col_indexer] = value instead\n",
      "\n",
      "See the caveats in the documentation: https://pandas.pydata.org/pandas-docs/stable/user_guide/indexing.html#returning-a-view-versus-a-copy\n",
      "  data_cate[col] = LabelEncoder().fit_transform(data_cate[col])\n",
      "/tmp/ipykernel_11511/1565323335.py:7: SettingWithCopyWarning: \n",
      "A value is trying to be set on a copy of a slice from a DataFrame.\n",
      "Try using .loc[row_indexer,col_indexer] = value instead\n",
      "\n",
      "See the caveats in the documentation: https://pandas.pydata.org/pandas-docs/stable/user_guide/indexing.html#returning-a-view-versus-a-copy\n",
      "  data_cate[col] = data_cate[col].astype('category')\n"
     ]
    }
   ],
   "source": [
    "# Convert label to category type\n",
    "data_cate['histological_type'] = data_cate['histological_type'].astype('str')\n",
    "for col in data_cate.columns:\n",
    "\tdata_cate[col] = LabelEncoder().fit_transform(data_cate[col])\n",
    "\n",
    "for col in data_cate.columns:\n",
    "\tdata_cate[col] = data_cate[col].astype('category')"
   ]
  },
  {
   "cell_type": "code",
   "execution_count": 48,
   "metadata": {},
   "outputs": [
    {
     "name": "stderr",
     "output_type": "stream",
     "text": [
      "/tmp/ipykernel_11511/1105121086.py:3: SettingWithCopyWarning: \n",
      "A value is trying to be set on a copy of a slice from a DataFrame\n",
      "\n",
      "See the caveats in the documentation: https://pandas.pydata.org/pandas-docs/stable/user_guide/indexing.html#returning-a-view-versus-a-copy\n",
      "  data_num.loc[idx_num, 'age'] = 0\n"
     ]
    }
   ],
   "source": [
    "# Use 0 to fill NaN in age column\n",
    "idx_num = data_num[data_num.isnull().T.any()].index\n",
    "data_num.loc[idx_num, 'age'] = 0"
   ]
  },
  {
   "cell_type": "code",
   "execution_count": 49,
   "metadata": {},
   "outputs": [
    {
     "name": "stdout",
     "output_type": "stream",
     "text": [
      "[(33, 17), (2, 1), (6, 3), (145, 50)]\n"
     ]
    }
   ],
   "source": [
    "# Define the embedding size\n",
    "embedded_cols = {n: len(col.cat.categories) for n,col in data_cate.items()}\n",
    "embedding_sizes = [(n_categories, min(50, (n_categories+1)//2)) for _,n_categories in embedded_cols.items()]\n",
    "print(embedding_sizes)"
   ]
  },
  {
   "cell_type": "code",
   "execution_count": 50,
   "metadata": {},
   "outputs": [],
   "source": [
    "# concate the categorical data and continuous data\n",
    "df = pd.concat([data_id, data_cate], axis=1)\n",
    "df = pd.concat([df, data_num], axis=1)\n",
    "df = pd.concat([df, target], axis=1)\n",
    "\n",
    "df.to_csv(pancancer_save_path, header=False, index=False)"
   ]
  },
  {
   "cell_type": "markdown",
   "metadata": {},
   "source": [
    "Kidney Cancer"
   ]
  },
  {
   "cell_type": "code",
   "execution_count": null,
   "metadata": {},
   "outputs": [
    {
     "data": {
      "text/html": [
       "<div>\n",
       "<style scoped>\n",
       "    .dataframe tbody tr th:only-of-type {\n",
       "        vertical-align: middle;\n",
       "    }\n",
       "\n",
       "    .dataframe tbody tr th {\n",
       "        vertical-align: top;\n",
       "    }\n",
       "\n",
       "    .dataframe thead th {\n",
       "        text-align: right;\n",
       "    }\n",
       "</style>\n",
       "<table border=\"1\" class=\"dataframe\">\n",
       "  <thead>\n",
       "    <tr style=\"text-align: right;\">\n",
       "      <th></th>\n",
       "      <th>0</th>\n",
       "      <th>1</th>\n",
       "      <th>2</th>\n",
       "      <th>3</th>\n",
       "      <th>4</th>\n",
       "      <th>5</th>\n",
       "      <th>6</th>\n",
       "      <th>7</th>\n",
       "    </tr>\n",
       "  </thead>\n",
       "  <tbody>\n",
       "    <tr>\n",
       "      <th>3765</th>\n",
       "      <td>TCGA-KL-8323</td>\n",
       "      <td>10</td>\n",
       "      <td>0</td>\n",
       "      <td>5</td>\n",
       "      <td>36</td>\n",
       "      <td>57.0</td>\n",
       "      <td>1.0</td>\n",
       "      <td>1158.0</td>\n",
       "    </tr>\n",
       "    <tr>\n",
       "      <th>3766</th>\n",
       "      <td>TCGA-KL-8324</td>\n",
       "      <td>10</td>\n",
       "      <td>0</td>\n",
       "      <td>5</td>\n",
       "      <td>36</td>\n",
       "      <td>67.0</td>\n",
       "      <td>0.0</td>\n",
       "      <td>4676.0</td>\n",
       "    </tr>\n",
       "    <tr>\n",
       "      <th>3767</th>\n",
       "      <td>TCGA-KL-8325</td>\n",
       "      <td>10</td>\n",
       "      <td>0</td>\n",
       "      <td>5</td>\n",
       "      <td>36</td>\n",
       "      <td>56.0</td>\n",
       "      <td>1.0</td>\n",
       "      <td>725.0</td>\n",
       "    </tr>\n",
       "    <tr>\n",
       "      <th>3768</th>\n",
       "      <td>TCGA-KL-8326</td>\n",
       "      <td>10</td>\n",
       "      <td>1</td>\n",
       "      <td>5</td>\n",
       "      <td>36</td>\n",
       "      <td>69.0</td>\n",
       "      <td>0.0</td>\n",
       "      <td>3322.0</td>\n",
       "    </tr>\n",
       "    <tr>\n",
       "      <th>3769</th>\n",
       "      <td>TCGA-KL-8327</td>\n",
       "      <td>10</td>\n",
       "      <td>0</td>\n",
       "      <td>5</td>\n",
       "      <td>36</td>\n",
       "      <td>46.0</td>\n",
       "      <td>0.0</td>\n",
       "      <td>4169.0</td>\n",
       "    </tr>\n",
       "    <tr>\n",
       "      <th>...</th>\n",
       "      <td>...</td>\n",
       "      <td>...</td>\n",
       "      <td>...</td>\n",
       "      <td>...</td>\n",
       "      <td>...</td>\n",
       "      <td>...</td>\n",
       "      <td>...</td>\n",
       "      <td>...</td>\n",
       "    </tr>\n",
       "    <tr>\n",
       "      <th>4699</th>\n",
       "      <td>TCGA-Y8-A898</td>\n",
       "      <td>12</td>\n",
       "      <td>1</td>\n",
       "      <td>5</td>\n",
       "      <td>38</td>\n",
       "      <td>69.0</td>\n",
       "      <td>0.0</td>\n",
       "      <td>475.0</td>\n",
       "    </tr>\n",
       "    <tr>\n",
       "      <th>4700</th>\n",
       "      <td>TCGA-Y8-A8RY</td>\n",
       "      <td>12</td>\n",
       "      <td>1</td>\n",
       "      <td>5</td>\n",
       "      <td>38</td>\n",
       "      <td>63.0</td>\n",
       "      <td>0.0</td>\n",
       "      <td>769.0</td>\n",
       "    </tr>\n",
       "    <tr>\n",
       "      <th>4701</th>\n",
       "      <td>TCGA-Y8-A8RZ</td>\n",
       "      <td>12</td>\n",
       "      <td>1</td>\n",
       "      <td>5</td>\n",
       "      <td>38</td>\n",
       "      <td>55.0</td>\n",
       "      <td>0.0</td>\n",
       "      <td>205.0</td>\n",
       "    </tr>\n",
       "    <tr>\n",
       "      <th>4702</th>\n",
       "      <td>TCGA-Y8-A8S0</td>\n",
       "      <td>12</td>\n",
       "      <td>1</td>\n",
       "      <td>5</td>\n",
       "      <td>38</td>\n",
       "      <td>58.0</td>\n",
       "      <td>0.0</td>\n",
       "      <td>183.0</td>\n",
       "    </tr>\n",
       "    <tr>\n",
       "      <th>4703</th>\n",
       "      <td>TCGA-Y8-A8S1</td>\n",
       "      <td>12</td>\n",
       "      <td>1</td>\n",
       "      <td>5</td>\n",
       "      <td>38</td>\n",
       "      <td>61.0</td>\n",
       "      <td>0.0</td>\n",
       "      <td>404.0</td>\n",
       "    </tr>\n",
       "  </tbody>\n",
       "</table>\n",
       "<p>939 rows × 8 columns</p>\n",
       "</div>"
      ],
      "text/plain": [
       "                 0   1  2  3   4     5    6       7\n",
       "3765  TCGA-KL-8323  10  0  5  36  57.0  1.0  1158.0\n",
       "3766  TCGA-KL-8324  10  0  5  36  67.0  0.0  4676.0\n",
       "3767  TCGA-KL-8325  10  0  5  36  56.0  1.0   725.0\n",
       "3768  TCGA-KL-8326  10  1  5  36  69.0  0.0  3322.0\n",
       "3769  TCGA-KL-8327  10  0  5  36  46.0  0.0  4169.0\n",
       "...            ...  .. .. ..  ..   ...  ...     ...\n",
       "4699  TCGA-Y8-A898  12  1  5  38  69.0  0.0   475.0\n",
       "4700  TCGA-Y8-A8RY  12  1  5  38  63.0  0.0   769.0\n",
       "4701  TCGA-Y8-A8RZ  12  1  5  38  55.0  0.0   205.0\n",
       "4702  TCGA-Y8-A8S0  12  1  5  38  58.0  0.0   183.0\n",
       "4703  TCGA-Y8-A8S1  12  1  5  38  61.0  0.0   404.0\n",
       "\n",
       "[939 rows x 8 columns]"
      ]
     },
     "execution_count": 52,
     "metadata": {},
     "output_type": "execute_result"
    }
   ],
   "source": [
    "import pandas as pd\n",
    "\n",
    "\n",
    "dataset_save_path = './preprocessed_data/clinical_kidney.csv'\n",
    "dataset_index = [10, 11, 12]\n",
    "# Bladder: [1], Breast: [2], Colorectal: [5, 23], Kidney: [10, 11, 12]\n",
    "\n",
    "df_all = pd.read_csv(pancancer_save_path, header=None)\n",
    "df_subset = df_all.loc[df_all[1].isin(dataset_index)]\n",
    "df_subset.to_csv(dataset_save_path, header=False, index=False)\n",
    "df_subset"
   ]
  }
 ],
 "metadata": {
  "kernelspec": {
   "display_name": "int_env",
   "language": "python",
   "name": "python3"
  },
  "language_info": {
   "codemirror_mode": {
    "name": "ipython",
    "version": 3
   },
   "file_extension": ".py",
   "mimetype": "text/x-python",
   "name": "python",
   "nbconvert_exporter": "python",
   "pygments_lexer": "ipython3",
   "version": "3.10.11"
  }
 },
 "nbformat": 4,
 "nbformat_minor": 2
}
