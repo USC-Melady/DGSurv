{
 "cells": [
  {
   "cell_type": "code",
   "execution_count": 27,
   "metadata": {},
   "outputs": [
    {
     "name": "stdout",
     "output_type": "stream",
     "text": [
      "Start TCGA-KICH\n",
      "TCGA-KICH Done!\n",
      "Start TCGA-KIRC\n",
      "TCGA-KIRC Done!\n",
      "Start TCGA-KIRP\n",
      "TCGA-KIRP Done!\n"
     ]
    }
   ],
   "source": [
    "import os\n",
    "import h5py\n",
    "import torch\n",
    "\n",
    "\n",
    "# base_path = \"./data/UNI2/TCGA\"\n",
    "base_path = '/home/yonghong/DGSurv/CLAM/CLAM_UNI/UNI2-h_features'\n",
    "save_path = \"./preprocessed_data/UNI2_features\"\n",
    "\n",
    "if not os.path.exists(save_path):\n",
    "    os.makedirs(save_path)\n",
    "    \n",
    "datasets = [\"TCGA-KICH\", \"TCGA-KIRC\", \"TCGA-KIRP\"]\n",
    "id_len = 12\n",
    "for dataset in datasets:\n",
    "    print(f\"Start {dataset}\")\n",
    "    dataset_dict = {}\n",
    "    dataset_path = os.path.join(base_path, dataset)\n",
    "    for file in os.listdir(dataset_path):\n",
    "        h5 = h5py.File(os.path.join(dataset_path, file), 'r')\n",
    "        dataset_dict[file[:id_len]] = torch.max(torch.tensor(h5[\"features\"][:][0]), 0)[0]\n",
    "    torch.save(dataset_dict, os.path.join(save_path, dataset + \".pt\"))\n",
    "    print(f\"{dataset} Done!\")"
   ]
  },
  {
   "cell_type": "markdown",
   "metadata": {},
   "source": [
    "Combine Kidney"
   ]
  },
  {
   "cell_type": "code",
   "execution_count": 28,
   "metadata": {},
   "outputs": [],
   "source": [
    "import torch\n",
    "\n",
    "dict1 = torch.load(os.path.join(save_path, 'TCGA-KICH.pt'))\n",
    "dict2 = torch.load(os.path.join(save_path, 'TCGA-KIRC.pt'))\n",
    "dict3 = torch.load(os.path.join(save_path, 'TCGA-KIRP.pt'))\n",
    "\n",
    "dict_comb = {**dict1, **dict2, **dict3}\n",
    "torch.save(dict_comb, os.path.join(save_path, 'TCGA-Kidney.pt'))"
   ]
  }
 ],
 "metadata": {
  "kernelspec": {
   "display_name": "int_env",
   "language": "python",
   "name": "python3"
  },
  "language_info": {
   "codemirror_mode": {
    "name": "ipython",
    "version": 3
   },
   "file_extension": ".py",
   "mimetype": "text/x-python",
   "name": "python",
   "nbconvert_exporter": "python",
   "pygments_lexer": "ipython3",
   "version": "3.10.11"
  }
 },
 "nbformat": 4,
 "nbformat_minor": 2
}
