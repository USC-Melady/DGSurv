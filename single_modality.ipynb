{
 "cells": [
  {
   "cell_type": "code",
   "execution_count": 2,
   "metadata": {},
   "outputs": [
    {
     "name": "stdout",
     "output_type": "stream",
     "text": [
      "Result Path: ./logs/single/results_5_24_clinical_miRNA_mRNA_WSI\n"
     ]
    }
   ],
   "source": [
    "import os\n",
    "\n",
    "\n",
    "def result_file_name(args):\n",
    "    file_name = f\"results_{args.fold_range}_{args.seed}\"\n",
    "    if len(args.modalities) > 0:\n",
    "        file_name += \"_\"\n",
    "        file_name += \"_\".join(args.modalities)\n",
    "    return file_name\n",
    "\n",
    "class Args:\n",
    "    def __init__(self, modalities=[\"clinical\", \"miRNA\", \"mRNA\", \"WSI\"]):\n",
    "        self.epochs = 20\n",
    "        self.modality_data_path = {'clinical': './preprocess/preprocessed_data/clinical_kidney.csv',\n",
    "                                    'mRNA': './preprocess/preprocessed_data/mrna_kidney.csv',\n",
    "                                    'miRNA': './preprocess/preprocessed_data/mirna_kidney.csv',\n",
    "                                    'WSI': './preprocess/preprocessed_data/UNI2_features/TCGA-Kidney.pt'}\n",
    "        self.device = \"cuda\"\n",
    "        self.modalities = modalities\n",
    "        self.input_modality_dim = {'clinical':4, 'mRNA':2746, 'miRNA':743, 'WSI': 1536}\n",
    "        self.fold_range = 5\n",
    "        self.fold = 1\n",
    "        self.modality_fv_len = 128\n",
    "        self.batch_size = 128\n",
    "        self.learning_rate = 1e-4\n",
    "        self.loss_trade_off = 0.3\n",
    "        self.loss_mode = 'only_cox'\n",
    "        self.seed = 24\n",
    "        self.result_path = f\"./logs/single/{result_file_name(self)}\"\n",
    "        print(f\"Result Path: {self.result_path}\")\n",
    "        self.log_file_name = \"temp.log\"\n",
    "        self.scheduler_patience = 5\n",
    "        self.num_workers = 4\n",
    "        self.num_modalities = len(self.modalities)\n",
    "        self.split_path = \"./splits/kidney_splits\"\n",
    "        self.remove_missing = False\n",
    "\n",
    "args = Args()"
   ]
  },
  {
   "cell_type": "code",
   "execution_count": 3,
   "metadata": {},
   "outputs": [],
   "source": [
    "import math\n",
    "import torch\n",
    "from torch import nn\n",
    "\n",
    "\n",
    "class SingleModel(nn.Module):\n",
    "    def __init__(self, n_in_feats, encoder_model):\n",
    "        super(SingleModel, self).__init__()\n",
    "        self.encoder_model = encoder_model\n",
    "        self.output_dim = n_in_feats\n",
    "        self.hazard_layer1 = nn.Linear(self.output_dim, 1)\n",
    "\t\t\t\n",
    "    def forward(self, x_modality):\n",
    "        representation = self.encoder_model(x_modality)\n",
    "        final_representation = torch.cat(representation, 1)\n",
    "        hazard = self.hazard_layer1(final_representation)\n",
    "        return {'hazard':hazard}"
   ]
  },
  {
   "cell_type": "code",
   "execution_count": 4,
   "metadata": {},
   "outputs": [],
   "source": [
    "from lifelines.utils import concordance_index\n",
    "\n",
    "\n",
    "def print_log(msg, logger):\n",
    "    print(msg)\n",
    "    logger.info(msg)\n",
    "\n",
    "def evaluation(model, dataloader, loss_fucnt, device):\n",
    "    running_loss = []\n",
    "    running_sample_time = torch.FloatTensor().to(device)\n",
    "    running_sample_event = torch.LongTensor().to(device)\n",
    "    running_hazard = torch.FloatTensor().to(device)\n",
    "    model.eval()\n",
    "    with torch.no_grad():\n",
    "        for x_modal, data_label, _ in dataloader:\n",
    "            for modality in x_modal:\n",
    "                x_modal[modality] = x_modal[modality].to(device)\n",
    "            event = data_label[:, 0].to(device)\n",
    "            time = data_label[:, 1].to(device)\n",
    "            hazard = model(x_modal)\n",
    "            loss = loss_fucnt(None, None, hazard, event, time)\n",
    "            hazard = hazard['hazard']\n",
    "\n",
    "            running_loss.append(loss.item())\n",
    "            running_sample_time = torch.cat((running_sample_time, time.data.float()))\n",
    "            running_sample_event = torch.cat((running_sample_event, event.long().data))\n",
    "            running_hazard = torch.cat((running_hazard, hazard.detach()))\n",
    "            \n",
    "    eval_loss = torch.mean(torch.tensor(running_loss))\n",
    "    eval_c_index = concordance_index(running_sample_time.cpu().numpy(), -running_hazard.cpu().numpy(), running_sample_event.cpu().numpy())\n",
    "    return eval_loss, eval_c_index"
   ]
  },
  {
   "cell_type": "code",
   "execution_count": 5,
   "metadata": {},
   "outputs": [],
   "source": [
    "import copy\n",
    "import random\n",
    "import logging \n",
    "import numpy as np\n",
    "from utils.loss import Loss\n",
    "from torch.optim import Adam\n",
    "from torch.utils.data import DataLoader\n",
    "from utils.dataset import MultiModalDataset\n",
    "from utils.encoder import EncoderModel\n",
    "    \n",
    "    \n",
    "def save_model(model, path):\n",
    "    torch.save(model.state_dict(), path)\n",
    "    \n",
    "def set_seed(seed):\n",
    "    random.seed(seed)\n",
    "    os.environ['PYTHONHASHSEED'] = str(seed)\n",
    "    np.random.seed(seed)\n",
    "    torch.manual_seed(seed)\n",
    "    torch.cuda.manual_seed(seed)\n",
    "    torch.cuda.manual_seed_all(seed)  \n",
    "    torch.backends.cudnn.benchmark = False\n",
    "    torch.backends.cudnn.deterministic = True\n",
    "        \n",
    "def train_eval_model(args):\n",
    "    set_seed(args.seed)\n",
    "\n",
    "    os.makedirs(args.result_path, exist_ok=True)\n",
    "\n",
    "    logging.basicConfig(format='%(message)s')\n",
    "    for k in range(args.fold_range):\n",
    "        args.fold = k\n",
    "        args.log_file_name = f\"result_fold{args.fold}.log\"\n",
    "        args.log_file_name = os.path.join(args.result_path, args.log_file_name)\n",
    "        \n",
    "        if os.path.exists(args.log_file_name):\n",
    "            os.remove(args.log_file_name)\n",
    "            \n",
    "        handler = logging.FileHandler(args.log_file_name, mode='w')\n",
    "        logger=logging.getLogger() \n",
    "        logger.setLevel(logging.DEBUG) \n",
    "        logger.addHandler(handler)\n",
    "        \n",
    "        train_dataset = MultiModalDataset(args, 'train', args.modalities, args.modality_data_path, remove_missing=args.remove_missing)\n",
    "        train_dataloader = DataLoader(train_dataset, batch_size=args.batch_size, shuffle=True, num_workers=args.num_workers)\n",
    "        test_dataset = MultiModalDataset(args, 'test', args.modalities, args.modality_data_path, remove_missing=args.remove_missing)\n",
    "        test_dataloader = DataLoader(test_dataset, batch_size=args.batch_size, shuffle=False, num_workers=args.num_workers)\n",
    "\n",
    "        device = torch.device(args.device)\n",
    "        encoder_model = EncoderModel(args.modalities, args.modality_fv_len, args.input_modality_dim)\n",
    "        model = SingleModel(args.modality_fv_len, encoder_model)\n",
    "        optimizer = Adam(model.parameters(), lr=args.learning_rate)\n",
    "        scheduler = torch.optim.lr_scheduler.ReduceLROnPlateau(\n",
    "            optimizer=optimizer, mode='max', factor=0.1,\n",
    "            patience = args.scheduler_patience, verbose=True, threshold=1e-3,\n",
    "            threshold_mode='rel', cooldown=0, min_lr=0, eps=1e-8)\n",
    "        model.to(device)\n",
    "        \n",
    "        loss_fucnt = Loss(trade_off=args.loss_trade_off, mode=args.loss_mode)\n",
    "\n",
    "        for epoch in range(args.epochs):\n",
    "            running_loss = []\n",
    "            running_sample_time = torch.FloatTensor().to(device)\n",
    "            running_sample_event = torch.LongTensor().to(device)\n",
    "            running_hazard = torch.FloatTensor().to(device)\n",
    "            model.train()\n",
    "            for x_modal, data_label, _ in train_dataloader:\n",
    "                for modality in x_modal:\n",
    "                    x_modal[modality] = x_modal[modality].to(device)\n",
    "                event = data_label[:, 0].to(device)\n",
    "                time = data_label[:, 1].to(device)\n",
    "                if len(data_label) == 1:\n",
    "                    continue\n",
    "                hazard = model(x_modal)\n",
    "                loss = loss_fucnt(None, None, hazard, event, time)\n",
    "                optimizer.zero_grad()\n",
    "                loss.backward()\n",
    "                optimizer.step()\n",
    "                running_loss.append(loss.item())\n",
    "                hazard = hazard['hazard']\n",
    "\n",
    "                \n",
    "                running_sample_time = torch.cat((running_sample_time, time.data.float()))\n",
    "                running_sample_event = torch.cat((running_sample_event, event.long().data))\n",
    "                running_hazard = torch.cat((running_hazard, hazard.detach()))\n",
    "                \n",
    "            train_loss = torch.mean(torch.tensor(running_loss))\n",
    "            train_c_index = concordance_index(running_sample_time.cpu().numpy(), -running_hazard.cpu().numpy(), running_sample_event.cpu().numpy())\n",
    "            print_log(f\"Epoch {epoch}/{args.epochs}: Training Loss: {train_loss}, C-Index: {train_c_index}\", logger)\n",
    "            scheduler.step(train_c_index)\n",
    "            if scheduler.patience == scheduler.num_bad_epochs: #need to fix to make it more accurate\n",
    "                print_log(\"Reducing learning rate\", logger)\n",
    "            best_model = copy.deepcopy(model.state_dict())\n",
    "        print_log(\"*\" * 100, logger)\n",
    "        \n",
    "        model.load_state_dict(best_model)\n",
    "        model_save_path = os.path.join(args.result_path, f\"model_fold{args.fold}.pt\")\n",
    "        save_model(model, model_save_path)\n",
    "        train_loss, train_c_index = evaluation(model, train_dataloader, loss_fucnt, device)\n",
    "        print_log(f\"Final Train Loss: {train_loss}, C-Index: {train_c_index}\", logger)\n",
    "        test_loss, test_c_index = evaluation(model, test_dataloader, loss_fucnt, device)\n",
    "        print_log(f\"Test Loss: {test_loss}, C-Index: {test_c_index}\", logger)\n",
    "        \n",
    "        logger.removeHandler(handler)"
   ]
  },
  {
   "cell_type": "code",
   "execution_count": 6,
   "metadata": {},
   "outputs": [
    {
     "name": "stdout",
     "output_type": "stream",
     "text": [
      "Result Path: ./logs/single/results_5_24_clinical\n"
     ]
    },
    {
     "name": "stderr",
     "output_type": "stream",
     "text": [
      "Epoch 0/20: Training Loss: 4.287229061126709, C-Index: 0.4505101857291879\n"
     ]
    },
    {
     "name": "stdout",
     "output_type": "stream",
     "text": [
      "Epoch 0/20: Training Loss: 4.287229061126709, C-Index: 0.4505101857291879\n"
     ]
    },
    {
     "name": "stderr",
     "output_type": "stream",
     "text": [
      "Epoch 1/20: Training Loss: 4.240784645080566, C-Index: 0.48560568818119687\n"
     ]
    },
    {
     "name": "stdout",
     "output_type": "stream",
     "text": [
      "Epoch 1/20: Training Loss: 4.240784645080566, C-Index: 0.48560568818119687\n"
     ]
    },
    {
     "name": "stderr",
     "output_type": "stream",
     "text": [
      "Epoch 2/20: Training Loss: 4.25463342666626, C-Index: 0.4704439994724284\n"
     ]
    },
    {
     "name": "stdout",
     "output_type": "stream",
     "text": [
      "Epoch 2/20: Training Loss: 4.25463342666626, C-Index: 0.4704439994724284\n"
     ]
    },
    {
     "name": "stderr",
     "output_type": "stream",
     "text": [
      "Epoch 3/20: Training Loss: 4.266053676605225, C-Index: 0.456883010995072\n"
     ]
    },
    {
     "name": "stdout",
     "output_type": "stream",
     "text": [
      "Epoch 3/20: Training Loss: 4.266053676605225, C-Index: 0.456883010995072\n"
     ]
    },
    {
     "name": "stderr",
     "output_type": "stream",
     "text": [
      "Epoch 4/20: Training Loss: 4.219970703125, C-Index: 0.46336374863610746\n"
     ]
    },
    {
     "name": "stdout",
     "output_type": "stream",
     "text": [
      "Epoch 4/20: Training Loss: 4.219970703125, C-Index: 0.46336374863610746\n"
     ]
    },
    {
     "name": "stderr",
     "output_type": "stream",
     "text": [
      "Epoch 5/20: Training Loss: 4.247020721435547, C-Index: 0.4614213258833827\n"
     ]
    },
    {
     "name": "stdout",
     "output_type": "stream",
     "text": [
      "Epoch 5/20: Training Loss: 4.247020721435547, C-Index: 0.4614213258833827\n"
     ]
    },
    {
     "name": "stderr",
     "output_type": "stream",
     "text": [
      "Epoch 6/20: Training Loss: 4.202599048614502, C-Index: 0.4746106161796621\n",
      "Reducing learning rate\n"
     ]
    },
    {
     "name": "stdout",
     "output_type": "stream",
     "text": [
      "Epoch 6/20: Training Loss: 4.202599048614502, C-Index: 0.4746106161796621\n",
      "Reducing learning rate\n"
     ]
    },
    {
     "name": "stderr",
     "output_type": "stream",
     "text": [
      "Epoch 7/20: Training Loss: 4.211867332458496, C-Index: 0.46796800997589955\n"
     ]
    },
    {
     "name": "stdout",
     "output_type": "stream",
     "text": [
      "Epoch 7/20: Training Loss: 4.211867332458496, C-Index: 0.46796800997589955\n",
      "Epoch 00008: reducing learning rate of group 0 to 1.0000e-05.\n"
     ]
    },
    {
     "name": "stderr",
     "output_type": "stream",
     "text": [
      "Epoch 8/20: Training Loss: 4.1633734703063965, C-Index: 0.5222299492811837\n"
     ]
    },
    {
     "name": "stdout",
     "output_type": "stream",
     "text": [
      "Epoch 8/20: Training Loss: 4.1633734703063965, C-Index: 0.5222299492811837\n"
     ]
    },
    {
     "name": "stderr",
     "output_type": "stream",
     "text": [
      "Epoch 9/20: Training Loss: 4.212162494659424, C-Index: 0.45620556108439947\n"
     ]
    },
    {
     "name": "stdout",
     "output_type": "stream",
     "text": [
      "Epoch 9/20: Training Loss: 4.212162494659424, C-Index: 0.45620556108439947\n"
     ]
    },
    {
     "name": "stderr",
     "output_type": "stream",
     "text": [
      "Epoch 10/20: Training Loss: 4.169721603393555, C-Index: 0.5183810745674512\n"
     ]
    },
    {
     "name": "stdout",
     "output_type": "stream",
     "text": [
      "Epoch 10/20: Training Loss: 4.169721603393555, C-Index: 0.5183810745674512\n"
     ]
    },
    {
     "name": "stderr",
     "output_type": "stream",
     "text": [
      "Epoch 11/20: Training Loss: 4.175922393798828, C-Index: 0.5182431865325355\n"
     ]
    },
    {
     "name": "stdout",
     "output_type": "stream",
     "text": [
      "Epoch 11/20: Training Loss: 4.175922393798828, C-Index: 0.5182431865325355\n"
     ]
    },
    {
     "name": "stderr",
     "output_type": "stream",
     "text": [
      "Epoch 12/20: Training Loss: 4.182565212249756, C-Index: 0.5038548698456853\n"
     ]
    },
    {
     "name": "stdout",
     "output_type": "stream",
     "text": [
      "Epoch 12/20: Training Loss: 4.182565212249756, C-Index: 0.5038548698456853\n"
     ]
    },
    {
     "name": "stderr",
     "output_type": "stream",
     "text": [
      "Epoch 13/20: Training Loss: 4.184879779815674, C-Index: 0.47910696514430284\n",
      "Reducing learning rate\n"
     ]
    },
    {
     "name": "stdout",
     "output_type": "stream",
     "text": [
      "Epoch 13/20: Training Loss: 4.184879779815674, C-Index: 0.47910696514430284\n",
      "Reducing learning rate\n"
     ]
    },
    {
     "name": "stderr",
     "output_type": "stream",
     "text": [
      "Epoch 14/20: Training Loss: 4.1902174949646, C-Index: 0.4864510017865493\n"
     ]
    },
    {
     "name": "stdout",
     "output_type": "stream",
     "text": [
      "Epoch 14/20: Training Loss: 4.1902174949646, C-Index: 0.4864510017865493\n",
      "Epoch 00015: reducing learning rate of group 0 to 1.0000e-06.\n"
     ]
    },
    {
     "name": "stderr",
     "output_type": "stream",
     "text": [
      "Epoch 15/20: Training Loss: 4.181843280792236, C-Index: 0.5242682941451542\n"
     ]
    },
    {
     "name": "stdout",
     "output_type": "stream",
     "text": [
      "Epoch 15/20: Training Loss: 4.181843280792236, C-Index: 0.5242682941451542\n"
     ]
    },
    {
     "name": "stderr",
     "output_type": "stream",
     "text": [
      "Epoch 16/20: Training Loss: 4.160377025604248, C-Index: 0.5244241675759284\n"
     ]
    },
    {
     "name": "stdout",
     "output_type": "stream",
     "text": [
      "Epoch 16/20: Training Loss: 4.160377025604248, C-Index: 0.5244241675759284\n"
     ]
    },
    {
     "name": "stderr",
     "output_type": "stream",
     "text": [
      "Epoch 17/20: Training Loss: 4.15596866607666, C-Index: 0.5592738696178703\n"
     ]
    },
    {
     "name": "stdout",
     "output_type": "stream",
     "text": [
      "Epoch 17/20: Training Loss: 4.15596866607666, C-Index: 0.5592738696178703\n"
     ]
    },
    {
     "name": "stderr",
     "output_type": "stream",
     "text": [
      "Epoch 18/20: Training Loss: 4.197702407836914, C-Index: 0.49733216628097987\n"
     ]
    },
    {
     "name": "stdout",
     "output_type": "stream",
     "text": [
      "Epoch 18/20: Training Loss: 4.197702407836914, C-Index: 0.49733216628097987\n"
     ]
    },
    {
     "name": "stderr",
     "output_type": "stream",
     "text": [
      "Epoch 19/20: Training Loss: 4.180069923400879, C-Index: 0.5183211232479227\n",
      "****************************************************************************************************\n"
     ]
    },
    {
     "name": "stdout",
     "output_type": "stream",
     "text": [
      "Epoch 19/20: Training Loss: 4.180069923400879, C-Index: 0.5183211232479227\n",
      "****************************************************************************************************\n"
     ]
    },
    {
     "name": "stderr",
     "output_type": "stream",
     "text": [
      "Final Train Loss: 4.160417079925537, C-Index: 0.4700842915552571\n"
     ]
    },
    {
     "name": "stdout",
     "output_type": "stream",
     "text": [
      "Final Train Loss: 4.160417079925537, C-Index: 0.4700842915552571\n"
     ]
    },
    {
     "name": "stderr",
     "output_type": "stream",
     "text": [
      "Test Loss: 3.774486780166626, C-Index: 0.428975058456742\n"
     ]
    },
    {
     "name": "stdout",
     "output_type": "stream",
     "text": [
      "Test Loss: 3.774486780166626, C-Index: 0.428975058456742\n"
     ]
    },
    {
     "name": "stderr",
     "output_type": "stream",
     "text": [
      "Epoch 0/20: Training Loss: 4.481871128082275, C-Index: 0.4254428302524253\n"
     ]
    },
    {
     "name": "stdout",
     "output_type": "stream",
     "text": [
      "Epoch 0/20: Training Loss: 4.481871128082275, C-Index: 0.4254428302524253\n"
     ]
    },
    {
     "name": "stderr",
     "output_type": "stream",
     "text": [
      "Epoch 1/20: Training Loss: 4.448559761047363, C-Index: 0.42941261643901735\n"
     ]
    },
    {
     "name": "stdout",
     "output_type": "stream",
     "text": [
      "Epoch 1/20: Training Loss: 4.448559761047363, C-Index: 0.42941261643901735\n"
     ]
    },
    {
     "name": "stderr",
     "output_type": "stream",
     "text": [
      "Epoch 2/20: Training Loss: 4.405306339263916, C-Index: 0.40365727110381777\n"
     ]
    },
    {
     "name": "stdout",
     "output_type": "stream",
     "text": [
      "Epoch 2/20: Training Loss: 4.405306339263916, C-Index: 0.40365727110381777\n"
     ]
    },
    {
     "name": "stderr",
     "output_type": "stream",
     "text": [
      "Epoch 3/20: Training Loss: 4.3798980712890625, C-Index: 0.44903228920314686\n"
     ]
    },
    {
     "name": "stdout",
     "output_type": "stream",
     "text": [
      "Epoch 3/20: Training Loss: 4.3798980712890625, C-Index: 0.44903228920314686\n"
     ]
    },
    {
     "name": "stderr",
     "output_type": "stream",
     "text": [
      "Epoch 4/20: Training Loss: 4.40438985824585, C-Index: 0.42547299580095566\n"
     ]
    },
    {
     "name": "stdout",
     "output_type": "stream",
     "text": [
      "Epoch 4/20: Training Loss: 4.40438985824585, C-Index: 0.42547299580095566\n"
     ]
    },
    {
     "name": "stderr",
     "output_type": "stream",
     "text": [
      "Epoch 5/20: Training Loss: 4.336245059967041, C-Index: 0.4483686471354795\n"
     ]
    },
    {
     "name": "stdout",
     "output_type": "stream",
     "text": [
      "Epoch 5/20: Training Loss: 4.336245059967041, C-Index: 0.4483686471354795\n"
     ]
    },
    {
     "name": "stderr",
     "output_type": "stream",
     "text": [
      "Epoch 6/20: Training Loss: 4.2943339347839355, C-Index: 0.47460060813745836\n"
     ]
    },
    {
     "name": "stdout",
     "output_type": "stream",
     "text": [
      "Epoch 6/20: Training Loss: 4.2943339347839355, C-Index: 0.47460060813745836\n"
     ]
    },
    {
     "name": "stderr",
     "output_type": "stream",
     "text": [
      "Epoch 7/20: Training Loss: 4.304551601409912, C-Index: 0.4474757468989816\n"
     ]
    },
    {
     "name": "stdout",
     "output_type": "stream",
     "text": [
      "Epoch 7/20: Training Loss: 4.304551601409912, C-Index: 0.4474757468989816\n"
     ]
    },
    {
     "name": "stderr",
     "output_type": "stream",
     "text": [
      "Epoch 8/20: Training Loss: 4.311498165130615, C-Index: 0.44701723056132053\n"
     ]
    },
    {
     "name": "stdout",
     "output_type": "stream",
     "text": [
      "Epoch 8/20: Training Loss: 4.311498165130615, C-Index: 0.44701723056132053\n"
     ]
    },
    {
     "name": "stderr",
     "output_type": "stream",
     "text": [
      "Epoch 9/20: Training Loss: 4.259573936462402, C-Index: 0.4599763502099522\n"
     ]
    },
    {
     "name": "stdout",
     "output_type": "stream",
     "text": [
      "Epoch 9/20: Training Loss: 4.259573936462402, C-Index: 0.4599763502099522\n"
     ]
    },
    {
     "name": "stderr",
     "output_type": "stream",
     "text": [
      "Epoch 10/20: Training Loss: 4.227710247039795, C-Index: 0.4745402770403977\n"
     ]
    },
    {
     "name": "stdout",
     "output_type": "stream",
     "text": [
      "Epoch 10/20: Training Loss: 4.227710247039795, C-Index: 0.4745402770403977\n"
     ]
    },
    {
     "name": "stderr",
     "output_type": "stream",
     "text": [
      "Epoch 11/20: Training Loss: 4.202125549316406, C-Index: 0.5046213620348472\n"
     ]
    },
    {
     "name": "stdout",
     "output_type": "stream",
     "text": [
      "Epoch 11/20: Training Loss: 4.202125549316406, C-Index: 0.5046213620348472\n"
     ]
    },
    {
     "name": "stderr",
     "output_type": "stream",
     "text": [
      "Epoch 12/20: Training Loss: 4.205252170562744, C-Index: 0.4957104589989864\n"
     ]
    },
    {
     "name": "stdout",
     "output_type": "stream",
     "text": [
      "Epoch 12/20: Training Loss: 4.205252170562744, C-Index: 0.4957104589989864\n"
     ]
    },
    {
     "name": "stderr",
     "output_type": "stream",
     "text": [
      "Epoch 13/20: Training Loss: 4.19704008102417, C-Index: 0.5112034847241662\n"
     ]
    },
    {
     "name": "stdout",
     "output_type": "stream",
     "text": [
      "Epoch 13/20: Training Loss: 4.19704008102417, C-Index: 0.5112034847241662\n"
     ]
    },
    {
     "name": "stderr",
     "output_type": "stream",
     "text": [
      "Epoch 14/20: Training Loss: 4.202908039093018, C-Index: 0.47997610888556397\n"
     ]
    },
    {
     "name": "stdout",
     "output_type": "stream",
     "text": [
      "Epoch 14/20: Training Loss: 4.202908039093018, C-Index: 0.47997610888556397\n"
     ]
    },
    {
     "name": "stderr",
     "output_type": "stream",
     "text": [
      "Epoch 15/20: Training Loss: 4.172448635101318, C-Index: 0.5125850668468556\n"
     ]
    },
    {
     "name": "stdout",
     "output_type": "stream",
     "text": [
      "Epoch 15/20: Training Loss: 4.172448635101318, C-Index: 0.5125850668468556\n"
     ]
    },
    {
     "name": "stderr",
     "output_type": "stream",
     "text": [
      "Epoch 16/20: Training Loss: 4.182206630706787, C-Index: 0.5140450793957237\n"
     ]
    },
    {
     "name": "stdout",
     "output_type": "stream",
     "text": [
      "Epoch 16/20: Training Loss: 4.182206630706787, C-Index: 0.5140450793957237\n"
     ]
    },
    {
     "name": "stderr",
     "output_type": "stream",
     "text": [
      "Epoch 17/20: Training Loss: 4.160671710968018, C-Index: 0.5362831217722863\n"
     ]
    },
    {
     "name": "stdout",
     "output_type": "stream",
     "text": [
      "Epoch 17/20: Training Loss: 4.160671710968018, C-Index: 0.5362831217722863\n"
     ]
    },
    {
     "name": "stderr",
     "output_type": "stream",
     "text": [
      "Epoch 18/20: Training Loss: 4.150666236877441, C-Index: 0.5663280081084995\n"
     ]
    },
    {
     "name": "stdout",
     "output_type": "stream",
     "text": [
      "Epoch 18/20: Training Loss: 4.150666236877441, C-Index: 0.5663280081084995\n"
     ]
    },
    {
     "name": "stderr",
     "output_type": "stream",
     "text": [
      "Epoch 19/20: Training Loss: 4.135588645935059, C-Index: 0.5791182006853612\n",
      "****************************************************************************************************\n"
     ]
    },
    {
     "name": "stdout",
     "output_type": "stream",
     "text": [
      "Epoch 19/20: Training Loss: 4.135588645935059, C-Index: 0.5791182006853612\n",
      "****************************************************************************************************\n"
     ]
    },
    {
     "name": "stderr",
     "output_type": "stream",
     "text": [
      "Final Train Loss: 4.119431018829346, C-Index: 0.612638158212269\n"
     ]
    },
    {
     "name": "stdout",
     "output_type": "stream",
     "text": [
      "Final Train Loss: 4.119431018829346, C-Index: 0.612638158212269\n"
     ]
    },
    {
     "name": "stderr",
     "output_type": "stream",
     "text": [
      "Test Loss: 3.734067440032959, C-Index: 0.5575212866603595\n"
     ]
    },
    {
     "name": "stdout",
     "output_type": "stream",
     "text": [
      "Test Loss: 3.734067440032959, C-Index: 0.5575212866603595\n"
     ]
    },
    {
     "name": "stderr",
     "output_type": "stream",
     "text": [
      "Epoch 0/20: Training Loss: 4.291005611419678, C-Index: 0.376365792878708\n"
     ]
    },
    {
     "name": "stdout",
     "output_type": "stream",
     "text": [
      "Epoch 0/20: Training Loss: 4.291005611419678, C-Index: 0.376365792878708\n"
     ]
    },
    {
     "name": "stderr",
     "output_type": "stream",
     "text": [
      "Epoch 1/20: Training Loss: 4.261824131011963, C-Index: 0.4112054919250491\n"
     ]
    },
    {
     "name": "stdout",
     "output_type": "stream",
     "text": [
      "Epoch 1/20: Training Loss: 4.261824131011963, C-Index: 0.4112054919250491\n"
     ]
    },
    {
     "name": "stderr",
     "output_type": "stream",
     "text": [
      "Epoch 2/20: Training Loss: 4.234434604644775, C-Index: 0.4277208031820578\n"
     ]
    },
    {
     "name": "stdout",
     "output_type": "stream",
     "text": [
      "Epoch 2/20: Training Loss: 4.234434604644775, C-Index: 0.4277208031820578\n"
     ]
    },
    {
     "name": "stderr",
     "output_type": "stream",
     "text": [
      "Epoch 3/20: Training Loss: 4.271244049072266, C-Index: 0.3740535294963339\n"
     ]
    },
    {
     "name": "stdout",
     "output_type": "stream",
     "text": [
      "Epoch 3/20: Training Loss: 4.271244049072266, C-Index: 0.3740535294963339\n"
     ]
    },
    {
     "name": "stderr",
     "output_type": "stream",
     "text": [
      "Epoch 4/20: Training Loss: 4.221436977386475, C-Index: 0.44517659462308906\n"
     ]
    },
    {
     "name": "stdout",
     "output_type": "stream",
     "text": [
      "Epoch 4/20: Training Loss: 4.221436977386475, C-Index: 0.44517659462308906\n"
     ]
    },
    {
     "name": "stderr",
     "output_type": "stream",
     "text": [
      "Epoch 5/20: Training Loss: 4.214168548583984, C-Index: 0.45455743518474145\n"
     ]
    },
    {
     "name": "stdout",
     "output_type": "stream",
     "text": [
      "Epoch 5/20: Training Loss: 4.214168548583984, C-Index: 0.45455743518474145\n"
     ]
    },
    {
     "name": "stderr",
     "output_type": "stream",
     "text": [
      "Epoch 6/20: Training Loss: 4.1956610679626465, C-Index: 0.4825561891982556\n"
     ]
    },
    {
     "name": "stdout",
     "output_type": "stream",
     "text": [
      "Epoch 6/20: Training Loss: 4.1956610679626465, C-Index: 0.4825561891982556\n"
     ]
    },
    {
     "name": "stderr",
     "output_type": "stream",
     "text": [
      "Epoch 7/20: Training Loss: 4.187011241912842, C-Index: 0.47210907174006805\n"
     ]
    },
    {
     "name": "stdout",
     "output_type": "stream",
     "text": [
      "Epoch 7/20: Training Loss: 4.187011241912842, C-Index: 0.47210907174006805\n"
     ]
    },
    {
     "name": "stderr",
     "output_type": "stream",
     "text": [
      "Epoch 8/20: Training Loss: 4.17344331741333, C-Index: 0.5109203527100206\n"
     ]
    },
    {
     "name": "stdout",
     "output_type": "stream",
     "text": [
      "Epoch 8/20: Training Loss: 4.17344331741333, C-Index: 0.5109203527100206\n"
     ]
    },
    {
     "name": "stderr",
     "output_type": "stream",
     "text": [
      "Epoch 9/20: Training Loss: 4.203429698944092, C-Index: 0.46959313748981646\n"
     ]
    },
    {
     "name": "stdout",
     "output_type": "stream",
     "text": [
      "Epoch 9/20: Training Loss: 4.203429698944092, C-Index: 0.46959313748981646\n"
     ]
    },
    {
     "name": "stderr",
     "output_type": "stream",
     "text": [
      "Epoch 10/20: Training Loss: 4.1819071769714355, C-Index: 0.526920496477692\n"
     ]
    },
    {
     "name": "stdout",
     "output_type": "stream",
     "text": [
      "Epoch 10/20: Training Loss: 4.1819071769714355, C-Index: 0.526920496477692\n"
     ]
    },
    {
     "name": "stderr",
     "output_type": "stream",
     "text": [
      "Epoch 11/20: Training Loss: 4.164597988128662, C-Index: 0.5470240092011309\n"
     ]
    },
    {
     "name": "stdout",
     "output_type": "stream",
     "text": [
      "Epoch 11/20: Training Loss: 4.164597988128662, C-Index: 0.5470240092011309\n"
     ]
    },
    {
     "name": "stderr",
     "output_type": "stream",
     "text": [
      "Epoch 12/20: Training Loss: 4.184173107147217, C-Index: 0.49557914410312937\n"
     ]
    },
    {
     "name": "stdout",
     "output_type": "stream",
     "text": [
      "Epoch 12/20: Training Loss: 4.184173107147217, C-Index: 0.49557914410312937\n"
     ]
    },
    {
     "name": "stderr",
     "output_type": "stream",
     "text": [
      "Epoch 13/20: Training Loss: 4.137134552001953, C-Index: 0.5811987827670485\n"
     ]
    },
    {
     "name": "stdout",
     "output_type": "stream",
     "text": [
      "Epoch 13/20: Training Loss: 4.137134552001953, C-Index: 0.5811987827670485\n"
     ]
    },
    {
     "name": "stderr",
     "output_type": "stream",
     "text": [
      "Epoch 14/20: Training Loss: 4.158994197845459, C-Index: 0.5441007332151243\n"
     ]
    },
    {
     "name": "stdout",
     "output_type": "stream",
     "text": [
      "Epoch 14/20: Training Loss: 4.158994197845459, C-Index: 0.5441007332151243\n"
     ]
    },
    {
     "name": "stderr",
     "output_type": "stream",
     "text": [
      "Epoch 15/20: Training Loss: 4.159792423248291, C-Index: 0.5398895385057747\n"
     ]
    },
    {
     "name": "stdout",
     "output_type": "stream",
     "text": [
      "Epoch 15/20: Training Loss: 4.159792423248291, C-Index: 0.5398895385057747\n"
     ]
    },
    {
     "name": "stderr",
     "output_type": "stream",
     "text": [
      "Epoch 16/20: Training Loss: 4.160027027130127, C-Index: 0.5619399051133368\n"
     ]
    },
    {
     "name": "stdout",
     "output_type": "stream",
     "text": [
      "Epoch 16/20: Training Loss: 4.160027027130127, C-Index: 0.5619399051133368\n"
     ]
    },
    {
     "name": "stderr",
     "output_type": "stream",
     "text": [
      "Epoch 17/20: Training Loss: 4.148242473602295, C-Index: 0.581534240667082\n"
     ]
    },
    {
     "name": "stdout",
     "output_type": "stream",
     "text": [
      "Epoch 17/20: Training Loss: 4.148242473602295, C-Index: 0.581534240667082\n"
     ]
    },
    {
     "name": "stderr",
     "output_type": "stream",
     "text": [
      "Epoch 18/20: Training Loss: 4.139711856842041, C-Index: 0.5762447884219102\n",
      "Reducing learning rate\n"
     ]
    },
    {
     "name": "stdout",
     "output_type": "stream",
     "text": [
      "Epoch 18/20: Training Loss: 4.139711856842041, C-Index: 0.5762447884219102\n",
      "Reducing learning rate\n"
     ]
    },
    {
     "name": "stderr",
     "output_type": "stream",
     "text": [
      "Epoch 19/20: Training Loss: 4.12512731552124, C-Index: 0.5885968275267168\n",
      "****************************************************************************************************\n"
     ]
    },
    {
     "name": "stdout",
     "output_type": "stream",
     "text": [
      "Epoch 19/20: Training Loss: 4.12512731552124, C-Index: 0.5885968275267168\n",
      "****************************************************************************************************\n"
     ]
    },
    {
     "name": "stderr",
     "output_type": "stream",
     "text": [
      "Final Train Loss: 4.116346836090088, C-Index: 0.6308824938898739\n"
     ]
    },
    {
     "name": "stdout",
     "output_type": "stream",
     "text": [
      "Final Train Loss: 4.116346836090088, C-Index: 0.6308824938898739\n"
     ]
    },
    {
     "name": "stderr",
     "output_type": "stream",
     "text": [
      "Test Loss: 3.6757736206054688, C-Index: 0.6337904015670911\n"
     ]
    },
    {
     "name": "stdout",
     "output_type": "stream",
     "text": [
      "Test Loss: 3.6757736206054688, C-Index: 0.6337904015670911\n"
     ]
    },
    {
     "name": "stderr",
     "output_type": "stream",
     "text": [
      "Epoch 0/20: Training Loss: 4.335075378417969, C-Index: 0.45667486251172956\n"
     ]
    },
    {
     "name": "stdout",
     "output_type": "stream",
     "text": [
      "Epoch 0/20: Training Loss: 4.335075378417969, C-Index: 0.45667486251172956\n"
     ]
    },
    {
     "name": "stderr",
     "output_type": "stream",
     "text": [
      "Epoch 1/20: Training Loss: 4.337048053741455, C-Index: 0.46770955825582916\n"
     ]
    },
    {
     "name": "stdout",
     "output_type": "stream",
     "text": [
      "Epoch 1/20: Training Loss: 4.337048053741455, C-Index: 0.46770955825582916\n"
     ]
    },
    {
     "name": "stderr",
     "output_type": "stream",
     "text": [
      "Epoch 2/20: Training Loss: 4.2795186042785645, C-Index: 0.48583544168478066\n"
     ]
    },
    {
     "name": "stdout",
     "output_type": "stream",
     "text": [
      "Epoch 2/20: Training Loss: 4.2795186042785645, C-Index: 0.48583544168478066\n"
     ]
    },
    {
     "name": "stderr",
     "output_type": "stream",
     "text": [
      "Epoch 3/20: Training Loss: 4.27183198928833, C-Index: 0.49084797301310146\n"
     ]
    },
    {
     "name": "stdout",
     "output_type": "stream",
     "text": [
      "Epoch 3/20: Training Loss: 4.27183198928833, C-Index: 0.49084797301310146\n"
     ]
    },
    {
     "name": "stderr",
     "output_type": "stream",
     "text": [
      "Epoch 4/20: Training Loss: 4.220119953155518, C-Index: 0.5198541377139532\n"
     ]
    },
    {
     "name": "stdout",
     "output_type": "stream",
     "text": [
      "Epoch 4/20: Training Loss: 4.220119953155518, C-Index: 0.5198541377139532\n"
     ]
    },
    {
     "name": "stderr",
     "output_type": "stream",
     "text": [
      "Epoch 5/20: Training Loss: 4.235751628875732, C-Index: 0.47665371960707453\n"
     ]
    },
    {
     "name": "stdout",
     "output_type": "stream",
     "text": [
      "Epoch 5/20: Training Loss: 4.235751628875732, C-Index: 0.47665371960707453\n"
     ]
    },
    {
     "name": "stderr",
     "output_type": "stream",
     "text": [
      "Epoch 6/20: Training Loss: 4.261171817779541, C-Index: 0.49925762272981034\n"
     ]
    },
    {
     "name": "stdout",
     "output_type": "stream",
     "text": [
      "Epoch 6/20: Training Loss: 4.261171817779541, C-Index: 0.49925762272981034\n"
     ]
    },
    {
     "name": "stderr",
     "output_type": "stream",
     "text": [
      "Epoch 7/20: Training Loss: 4.20248556137085, C-Index: 0.5285132261934457\n"
     ]
    },
    {
     "name": "stdout",
     "output_type": "stream",
     "text": [
      "Epoch 7/20: Training Loss: 4.20248556137085, C-Index: 0.5285132261934457\n"
     ]
    },
    {
     "name": "stderr",
     "output_type": "stream",
     "text": [
      "Epoch 8/20: Training Loss: 4.208340644836426, C-Index: 0.5299029564432408\n"
     ]
    },
    {
     "name": "stdout",
     "output_type": "stream",
     "text": [
      "Epoch 8/20: Training Loss: 4.208340644836426, C-Index: 0.5299029564432408\n"
     ]
    },
    {
     "name": "stderr",
     "output_type": "stream",
     "text": [
      "Epoch 9/20: Training Loss: 4.229281902313232, C-Index: 0.4990260010215111\n"
     ]
    },
    {
     "name": "stdout",
     "output_type": "stream",
     "text": [
      "Epoch 9/20: Training Loss: 4.229281902313232, C-Index: 0.4990260010215111\n"
     ]
    },
    {
     "name": "stderr",
     "output_type": "stream",
     "text": [
      "Epoch 10/20: Training Loss: 4.178346157073975, C-Index: 0.5580717195833185\n"
     ]
    },
    {
     "name": "stdout",
     "output_type": "stream",
     "text": [
      "Epoch 10/20: Training Loss: 4.178346157073975, C-Index: 0.5580717195833185\n"
     ]
    },
    {
     "name": "stderr",
     "output_type": "stream",
     "text": [
      "Epoch 11/20: Training Loss: 4.194477081298828, C-Index: 0.530294931641901\n"
     ]
    },
    {
     "name": "stdout",
     "output_type": "stream",
     "text": [
      "Epoch 11/20: Training Loss: 4.194477081298828, C-Index: 0.530294931641901\n"
     ]
    },
    {
     "name": "stderr",
     "output_type": "stream",
     "text": [
      "Epoch 12/20: Training Loss: 4.193191051483154, C-Index: 0.5373386071814608\n"
     ]
    },
    {
     "name": "stdout",
     "output_type": "stream",
     "text": [
      "Epoch 12/20: Training Loss: 4.193191051483154, C-Index: 0.5373386071814608\n"
     ]
    },
    {
     "name": "stderr",
     "output_type": "stream",
     "text": [
      "Epoch 13/20: Training Loss: 4.183656692504883, C-Index: 0.5531957856727125\n"
     ]
    },
    {
     "name": "stdout",
     "output_type": "stream",
     "text": [
      "Epoch 13/20: Training Loss: 4.183656692504883, C-Index: 0.5531957856727125\n"
     ]
    },
    {
     "name": "stderr",
     "output_type": "stream",
     "text": [
      "Epoch 14/20: Training Loss: 4.1731648445129395, C-Index: 0.5644977372340805\n"
     ]
    },
    {
     "name": "stdout",
     "output_type": "stream",
     "text": [
      "Epoch 14/20: Training Loss: 4.1731648445129395, C-Index: 0.5644977372340805\n"
     ]
    },
    {
     "name": "stderr",
     "output_type": "stream",
     "text": [
      "Epoch 15/20: Training Loss: 4.196280479431152, C-Index: 0.5666060886814192\n"
     ]
    },
    {
     "name": "stdout",
     "output_type": "stream",
     "text": [
      "Epoch 15/20: Training Loss: 4.196280479431152, C-Index: 0.5666060886814192\n"
     ]
    },
    {
     "name": "stderr",
     "output_type": "stream",
     "text": [
      "Epoch 16/20: Training Loss: 4.167453289031982, C-Index: 0.5483198517621067\n"
     ]
    },
    {
     "name": "stdout",
     "output_type": "stream",
     "text": [
      "Epoch 16/20: Training Loss: 4.167453289031982, C-Index: 0.5483198517621067\n"
     ]
    },
    {
     "name": "stderr",
     "output_type": "stream",
     "text": [
      "Epoch 17/20: Training Loss: 4.154425144195557, C-Index: 0.5712147667747568\n"
     ]
    },
    {
     "name": "stdout",
     "output_type": "stream",
     "text": [
      "Epoch 17/20: Training Loss: 4.154425144195557, C-Index: 0.5712147667747568\n"
     ]
    },
    {
     "name": "stderr",
     "output_type": "stream",
     "text": [
      "Epoch 18/20: Training Loss: 4.1631035804748535, C-Index: 0.5642126643623276\n"
     ]
    },
    {
     "name": "stdout",
     "output_type": "stream",
     "text": [
      "Epoch 18/20: Training Loss: 4.1631035804748535, C-Index: 0.5642126643623276\n"
     ]
    },
    {
     "name": "stderr",
     "output_type": "stream",
     "text": [
      "Epoch 19/20: Training Loss: 4.117140293121338, C-Index: 0.5941215598237299\n",
      "****************************************************************************************************\n"
     ]
    },
    {
     "name": "stdout",
     "output_type": "stream",
     "text": [
      "Epoch 19/20: Training Loss: 4.117140293121338, C-Index: 0.5941215598237299\n",
      "****************************************************************************************************\n"
     ]
    },
    {
     "name": "stderr",
     "output_type": "stream",
     "text": [
      "Final Train Loss: 4.135003089904785, C-Index: 0.623246504887812\n"
     ]
    },
    {
     "name": "stdout",
     "output_type": "stream",
     "text": [
      "Final Train Loss: 4.135003089904785, C-Index: 0.623246504887812\n"
     ]
    },
    {
     "name": "stderr",
     "output_type": "stream",
     "text": [
      "Test Loss: 3.7238540649414062, C-Index: 0.5816636308439587\n"
     ]
    },
    {
     "name": "stdout",
     "output_type": "stream",
     "text": [
      "Test Loss: 3.7238540649414062, C-Index: 0.5816636308439587\n"
     ]
    },
    {
     "name": "stderr",
     "output_type": "stream",
     "text": [
      "Epoch 0/20: Training Loss: 4.100940704345703, C-Index: 0.5847158703901917\n"
     ]
    },
    {
     "name": "stdout",
     "output_type": "stream",
     "text": [
      "Epoch 0/20: Training Loss: 4.100940704345703, C-Index: 0.5847158703901917\n"
     ]
    },
    {
     "name": "stderr",
     "output_type": "stream",
     "text": [
      "Epoch 1/20: Training Loss: 4.082577228546143, C-Index: 0.5781295611559794\n"
     ]
    },
    {
     "name": "stdout",
     "output_type": "stream",
     "text": [
      "Epoch 1/20: Training Loss: 4.082577228546143, C-Index: 0.5781295611559794\n"
     ]
    },
    {
     "name": "stderr",
     "output_type": "stream",
     "text": [
      "Epoch 2/20: Training Loss: 4.098381519317627, C-Index: 0.6056485355648535\n"
     ]
    },
    {
     "name": "stdout",
     "output_type": "stream",
     "text": [
      "Epoch 2/20: Training Loss: 4.098381519317627, C-Index: 0.6056485355648535\n"
     ]
    },
    {
     "name": "stderr",
     "output_type": "stream",
     "text": [
      "Epoch 3/20: Training Loss: 4.094364166259766, C-Index: 0.6043349226427945\n"
     ]
    },
    {
     "name": "stdout",
     "output_type": "stream",
     "text": [
      "Epoch 3/20: Training Loss: 4.094364166259766, C-Index: 0.6043349226427945\n"
     ]
    },
    {
     "name": "stderr",
     "output_type": "stream",
     "text": [
      "Epoch 4/20: Training Loss: 4.117028713226318, C-Index: 0.5932421913009633\n"
     ]
    },
    {
     "name": "stdout",
     "output_type": "stream",
     "text": [
      "Epoch 4/20: Training Loss: 4.117028713226318, C-Index: 0.5932421913009633\n"
     ]
    },
    {
     "name": "stderr",
     "output_type": "stream",
     "text": [
      "Epoch 5/20: Training Loss: 4.116169452667236, C-Index: 0.5874404008952029\n"
     ]
    },
    {
     "name": "stdout",
     "output_type": "stream",
     "text": [
      "Epoch 5/20: Training Loss: 4.116169452667236, C-Index: 0.5874404008952029\n"
     ]
    },
    {
     "name": "stderr",
     "output_type": "stream",
     "text": [
      "Epoch 6/20: Training Loss: 4.071877956390381, C-Index: 0.6121679478447017\n"
     ]
    },
    {
     "name": "stdout",
     "output_type": "stream",
     "text": [
      "Epoch 6/20: Training Loss: 4.071877956390381, C-Index: 0.6121679478447017\n"
     ]
    },
    {
     "name": "stderr",
     "output_type": "stream",
     "text": [
      "Epoch 7/20: Training Loss: 4.111355304718018, C-Index: 0.5765787681229931\n"
     ]
    },
    {
     "name": "stdout",
     "output_type": "stream",
     "text": [
      "Epoch 7/20: Training Loss: 4.111355304718018, C-Index: 0.5765787681229931\n"
     ]
    },
    {
     "name": "stderr",
     "output_type": "stream",
     "text": [
      "Epoch 8/20: Training Loss: 4.068715572357178, C-Index: 0.6117665661185171\n"
     ]
    },
    {
     "name": "stdout",
     "output_type": "stream",
     "text": [
      "Epoch 8/20: Training Loss: 4.068715572357178, C-Index: 0.6117665661185171\n"
     ]
    },
    {
     "name": "stderr",
     "output_type": "stream",
     "text": [
      "Epoch 9/20: Training Loss: 4.0532402992248535, C-Index: 0.6189427848593948\n"
     ]
    },
    {
     "name": "stdout",
     "output_type": "stream",
     "text": [
      "Epoch 9/20: Training Loss: 4.0532402992248535, C-Index: 0.6189427848593948\n"
     ]
    },
    {
     "name": "stderr",
     "output_type": "stream",
     "text": [
      "Epoch 10/20: Training Loss: 4.064238548278809, C-Index: 0.6176048457721125\n"
     ]
    },
    {
     "name": "stdout",
     "output_type": "stream",
     "text": [
      "Epoch 10/20: Training Loss: 4.064238548278809, C-Index: 0.6176048457721125\n"
     ]
    },
    {
     "name": "stderr",
     "output_type": "stream",
     "text": [
      "Epoch 11/20: Training Loss: 4.082401275634766, C-Index: 0.5914967889461905\n"
     ]
    },
    {
     "name": "stdout",
     "output_type": "stream",
     "text": [
      "Epoch 11/20: Training Loss: 4.082401275634766, C-Index: 0.5914967889461905\n"
     ]
    },
    {
     "name": "stderr",
     "output_type": "stream",
     "text": [
      "Epoch 12/20: Training Loss: 4.073805332183838, C-Index: 0.60698039311083\n"
     ]
    },
    {
     "name": "stdout",
     "output_type": "stream",
     "text": [
      "Epoch 12/20: Training Loss: 4.073805332183838, C-Index: 0.60698039311083\n"
     ]
    },
    {
     "name": "stderr",
     "output_type": "stream",
     "text": [
      "Epoch 13/20: Training Loss: 4.083935737609863, C-Index: 0.5970005838279654\n"
     ]
    },
    {
     "name": "stdout",
     "output_type": "stream",
     "text": [
      "Epoch 13/20: Training Loss: 4.083935737609863, C-Index: 0.5970005838279654\n"
     ]
    },
    {
     "name": "stderr",
     "output_type": "stream",
     "text": [
      "Epoch 14/20: Training Loss: 4.069242477416992, C-Index: 0.60606208037365\n",
      "Reducing learning rate\n"
     ]
    },
    {
     "name": "stdout",
     "output_type": "stream",
     "text": [
      "Epoch 14/20: Training Loss: 4.069242477416992, C-Index: 0.60606208037365\n",
      "Reducing learning rate\n"
     ]
    },
    {
     "name": "stderr",
     "output_type": "stream",
     "text": [
      "Epoch 15/20: Training Loss: 4.075416088104248, C-Index: 0.6039517855405274\n"
     ]
    },
    {
     "name": "stdout",
     "output_type": "stream",
     "text": [
      "Epoch 15/20: Training Loss: 4.075416088104248, C-Index: 0.6039517855405274\n",
      "Epoch 00016: reducing learning rate of group 0 to 1.0000e-05.\n"
     ]
    },
    {
     "name": "stderr",
     "output_type": "stream",
     "text": [
      "Epoch 16/20: Training Loss: 4.088118076324463, C-Index: 0.6058005740974993\n"
     ]
    },
    {
     "name": "stdout",
     "output_type": "stream",
     "text": [
      "Epoch 16/20: Training Loss: 4.088118076324463, C-Index: 0.6058005740974993\n",
      "Epoch 17/20: Training Loss: 4.036762237548828, C-Index: 0.6266541792351854"
     ]
    },
    {
     "name": "stderr",
     "output_type": "stream",
     "text": [
      "Epoch 17/20: Training Loss: 4.036762237548828, C-Index: 0.6266541792351854\n"
     ]
    },
    {
     "name": "stdout",
     "output_type": "stream",
     "text": [
      "\n"
     ]
    },
    {
     "name": "stderr",
     "output_type": "stream",
     "text": [
      "Epoch 18/20: Training Loss: 4.073211193084717, C-Index: 0.6114259998053907\n"
     ]
    },
    {
     "name": "stdout",
     "output_type": "stream",
     "text": [
      "Epoch 18/20: Training Loss: 4.073211193084717, C-Index: 0.6114259998053907\n"
     ]
    },
    {
     "name": "stderr",
     "output_type": "stream",
     "text": [
      "Epoch 19/20: Training Loss: 4.067300796508789, C-Index: 0.6110671888683468\n",
      "****************************************************************************************************\n"
     ]
    },
    {
     "name": "stdout",
     "output_type": "stream",
     "text": [
      "Epoch 19/20: Training Loss: 4.067300796508789, C-Index: 0.6110671888683468\n",
      "****************************************************************************************************\n"
     ]
    },
    {
     "name": "stderr",
     "output_type": "stream",
     "text": [
      "Final Train Loss: 4.049280166625977, C-Index: 0.6312274982971684\n"
     ]
    },
    {
     "name": "stdout",
     "output_type": "stream",
     "text": [
      "Final Train Loss: 4.049280166625977, C-Index: 0.6312274982971684\n"
     ]
    },
    {
     "name": "stderr",
     "output_type": "stream",
     "text": [
      "Test Loss: 3.6861867904663086, C-Index: 0.632878732030962\n"
     ]
    },
    {
     "name": "stdout",
     "output_type": "stream",
     "text": [
      "Test Loss: 3.6861867904663086, C-Index: 0.632878732030962\n",
      "Result Path: ./logs/single/results_5_24_miRNA\n"
     ]
    },
    {
     "name": "stderr",
     "output_type": "stream",
     "text": [
      "Epoch 0/20: Training Loss: 4.249712944030762, C-Index: 0.5561923717941032\n"
     ]
    },
    {
     "name": "stdout",
     "output_type": "stream",
     "text": [
      "Epoch 0/20: Training Loss: 4.249712944030762, C-Index: 0.5561923717941032\n"
     ]
    },
    {
     "name": "stderr",
     "output_type": "stream",
     "text": [
      "Epoch 1/20: Training Loss: 4.109945297241211, C-Index: 0.6247167300152277\n"
     ]
    },
    {
     "name": "stdout",
     "output_type": "stream",
     "text": [
      "Epoch 1/20: Training Loss: 4.109945297241211, C-Index: 0.6247167300152277\n"
     ]
    },
    {
     "name": "stderr",
     "output_type": "stream",
     "text": [
      "Epoch 2/20: Training Loss: 4.051376819610596, C-Index: 0.6721622042901164\n"
     ]
    },
    {
     "name": "stdout",
     "output_type": "stream",
     "text": [
      "Epoch 2/20: Training Loss: 4.051376819610596, C-Index: 0.6721622042901164\n"
     ]
    },
    {
     "name": "stderr",
     "output_type": "stream",
     "text": [
      "Epoch 3/20: Training Loss: 3.871476411819458, C-Index: 0.7197155909401566\n"
     ]
    },
    {
     "name": "stdout",
     "output_type": "stream",
     "text": [
      "Epoch 3/20: Training Loss: 3.871476411819458, C-Index: 0.7197155909401566\n"
     ]
    },
    {
     "name": "stderr",
     "output_type": "stream",
     "text": [
      "Epoch 4/20: Training Loss: 3.926102876663208, C-Index: 0.698756609632978\n"
     ]
    },
    {
     "name": "stdout",
     "output_type": "stream",
     "text": [
      "Epoch 4/20: Training Loss: 3.926102876663208, C-Index: 0.698756609632978\n"
     ]
    },
    {
     "name": "stderr",
     "output_type": "stream",
     "text": [
      "Epoch 5/20: Training Loss: 3.800215721130371, C-Index: 0.7559621587271136\n"
     ]
    },
    {
     "name": "stdout",
     "output_type": "stream",
     "text": [
      "Epoch 5/20: Training Loss: 3.800215721130371, C-Index: 0.7559621587271136\n"
     ]
    },
    {
     "name": "stderr",
     "output_type": "stream",
     "text": [
      "Epoch 6/20: Training Loss: 3.7394416332244873, C-Index: 0.7684320331890505\n"
     ]
    },
    {
     "name": "stdout",
     "output_type": "stream",
     "text": [
      "Epoch 6/20: Training Loss: 3.7394416332244873, C-Index: 0.7684320331890505\n"
     ]
    },
    {
     "name": "stderr",
     "output_type": "stream",
     "text": [
      "Epoch 7/20: Training Loss: 3.7039098739624023, C-Index: 0.7769810913538207\n"
     ]
    },
    {
     "name": "stdout",
     "output_type": "stream",
     "text": [
      "Epoch 7/20: Training Loss: 3.7039098739624023, C-Index: 0.7769810913538207\n"
     ]
    },
    {
     "name": "stderr",
     "output_type": "stream",
     "text": [
      "Epoch 8/20: Training Loss: 3.641315221786499, C-Index: 0.7996187096077985\n"
     ]
    },
    {
     "name": "stdout",
     "output_type": "stream",
     "text": [
      "Epoch 8/20: Training Loss: 3.641315221786499, C-Index: 0.7996187096077985\n"
     ]
    },
    {
     "name": "stderr",
     "output_type": "stream",
     "text": [
      "Epoch 9/20: Training Loss: 3.668384313583374, C-Index: 0.7933717821129243\n"
     ]
    },
    {
     "name": "stdout",
     "output_type": "stream",
     "text": [
      "Epoch 9/20: Training Loss: 3.668384313583374, C-Index: 0.7933717821129243\n"
     ]
    },
    {
     "name": "stderr",
     "output_type": "stream",
     "text": [
      "Epoch 10/20: Training Loss: 3.553278923034668, C-Index: 0.8251819522547691\n"
     ]
    },
    {
     "name": "stdout",
     "output_type": "stream",
     "text": [
      "Epoch 10/20: Training Loss: 3.553278923034668, C-Index: 0.8251819522547691\n"
     ]
    },
    {
     "name": "stderr",
     "output_type": "stream",
     "text": [
      "Epoch 11/20: Training Loss: 3.592379570007324, C-Index: 0.8135633865301375\n"
     ]
    },
    {
     "name": "stdout",
     "output_type": "stream",
     "text": [
      "Epoch 11/20: Training Loss: 3.592379570007324, C-Index: 0.8135633865301375\n"
     ]
    },
    {
     "name": "stderr",
     "output_type": "stream",
     "text": [
      "Epoch 12/20: Training Loss: 3.4831864833831787, C-Index: 0.8338868838503135\n"
     ]
    },
    {
     "name": "stdout",
     "output_type": "stream",
     "text": [
      "Epoch 12/20: Training Loss: 3.4831864833831787, C-Index: 0.8338868838503135\n"
     ]
    },
    {
     "name": "stderr",
     "output_type": "stream",
     "text": [
      "Epoch 13/20: Training Loss: 3.391770601272583, C-Index: 0.8422440977925925\n"
     ]
    },
    {
     "name": "stdout",
     "output_type": "stream",
     "text": [
      "Epoch 13/20: Training Loss: 3.391770601272583, C-Index: 0.8422440977925925\n"
     ]
    },
    {
     "name": "stderr",
     "output_type": "stream",
     "text": [
      "Epoch 14/20: Training Loss: 3.483647584915161, C-Index: 0.8313929089579262\n"
     ]
    },
    {
     "name": "stdout",
     "output_type": "stream",
     "text": [
      "Epoch 14/20: Training Loss: 3.483647584915161, C-Index: 0.8313929089579262\n"
     ]
    },
    {
     "name": "stderr",
     "output_type": "stream",
     "text": [
      "Epoch 15/20: Training Loss: 3.3700320720672607, C-Index: 0.842999484418652\n"
     ]
    },
    {
     "name": "stdout",
     "output_type": "stream",
     "text": [
      "Epoch 15/20: Training Loss: 3.3700320720672607, C-Index: 0.842999484418652\n"
     ]
    },
    {
     "name": "stderr",
     "output_type": "stream",
     "text": [
      "Epoch 16/20: Training Loss: 3.327885627746582, C-Index: 0.8666922458963322\n"
     ]
    },
    {
     "name": "stdout",
     "output_type": "stream",
     "text": [
      "Epoch 16/20: Training Loss: 3.327885627746582, C-Index: 0.8666922458963322\n"
     ]
    },
    {
     "name": "stderr",
     "output_type": "stream",
     "text": [
      "Epoch 17/20: Training Loss: 3.296123504638672, C-Index: 0.8687066102324912\n"
     ]
    },
    {
     "name": "stdout",
     "output_type": "stream",
     "text": [
      "Epoch 17/20: Training Loss: 3.296123504638672, C-Index: 0.8687066102324912\n"
     ]
    },
    {
     "name": "stderr",
     "output_type": "stream",
     "text": [
      "Epoch 18/20: Training Loss: 3.3324689865112305, C-Index: 0.8667641874797665\n"
     ]
    },
    {
     "name": "stdout",
     "output_type": "stream",
     "text": [
      "Epoch 18/20: Training Loss: 3.3324689865112305, C-Index: 0.8667641874797665\n"
     ]
    },
    {
     "name": "stderr",
     "output_type": "stream",
     "text": [
      "Epoch 19/20: Training Loss: 3.2958831787109375, C-Index: 0.8644860373376818\n",
      "****************************************************************************************************\n"
     ]
    },
    {
     "name": "stdout",
     "output_type": "stream",
     "text": [
      "Epoch 19/20: Training Loss: 3.2958831787109375, C-Index: 0.8644860373376818\n",
      "****************************************************************************************************\n"
     ]
    },
    {
     "name": "stderr",
     "output_type": "stream",
     "text": [
      "Final Train Loss: 3.081878423690796, C-Index: 0.9113200081533794\n"
     ]
    },
    {
     "name": "stdout",
     "output_type": "stream",
     "text": [
      "Final Train Loss: 3.081878423690796, C-Index: 0.9113200081533794\n"
     ]
    },
    {
     "name": "stderr",
     "output_type": "stream",
     "text": [
      "Test Loss: 3.773134469985962, C-Index: 0.6937840997661731\n"
     ]
    },
    {
     "name": "stdout",
     "output_type": "stream",
     "text": [
      "Test Loss: 3.773134469985962, C-Index: 0.6937840997661731\n"
     ]
    },
    {
     "name": "stderr",
     "output_type": "stream",
     "text": [
      "Epoch 0/20: Training Loss: 4.205031394958496, C-Index: 0.5127057290409769\n"
     ]
    },
    {
     "name": "stdout",
     "output_type": "stream",
     "text": [
      "Epoch 0/20: Training Loss: 4.205031394958496, C-Index: 0.5127057290409769\n"
     ]
    },
    {
     "name": "stderr",
     "output_type": "stream",
     "text": [
      "Epoch 1/20: Training Loss: 4.1116509437561035, C-Index: 0.6230633717843526\n"
     ]
    },
    {
     "name": "stdout",
     "output_type": "stream",
     "text": [
      "Epoch 1/20: Training Loss: 4.1116509437561035, C-Index: 0.6230633717843526\n"
     ]
    },
    {
     "name": "stderr",
     "output_type": "stream",
     "text": [
      "Epoch 2/20: Training Loss: 3.9413716793060303, C-Index: 0.7030262078285632\n"
     ]
    },
    {
     "name": "stdout",
     "output_type": "stream",
     "text": [
      "Epoch 2/20: Training Loss: 3.9413716793060303, C-Index: 0.7030262078285632\n"
     ]
    },
    {
     "name": "stderr",
     "output_type": "stream",
     "text": [
      "Epoch 3/20: Training Loss: 3.8833186626434326, C-Index: 0.7072735170616342\n"
     ]
    },
    {
     "name": "stdout",
     "output_type": "stream",
     "text": [
      "Epoch 3/20: Training Loss: 3.8833186626434326, C-Index: 0.7072735170616342\n"
     ]
    },
    {
     "name": "stderr",
     "output_type": "stream",
     "text": [
      "Epoch 4/20: Training Loss: 3.8698081970214844, C-Index: 0.7203171002461509\n"
     ]
    },
    {
     "name": "stdout",
     "output_type": "stream",
     "text": [
      "Epoch 4/20: Training Loss: 3.8698081970214844, C-Index: 0.7203171002461509\n"
     ]
    },
    {
     "name": "stderr",
     "output_type": "stream",
     "text": [
      "Epoch 5/20: Training Loss: 3.8219964504241943, C-Index: 0.73393986196245\n"
     ]
    },
    {
     "name": "stdout",
     "output_type": "stream",
     "text": [
      "Epoch 5/20: Training Loss: 3.8219964504241943, C-Index: 0.73393986196245\n"
     ]
    },
    {
     "name": "stderr",
     "output_type": "stream",
     "text": [
      "Epoch 6/20: Training Loss: 3.7508394718170166, C-Index: 0.74242241420918\n"
     ]
    },
    {
     "name": "stdout",
     "output_type": "stream",
     "text": [
      "Epoch 6/20: Training Loss: 3.7508394718170166, C-Index: 0.74242241420918\n"
     ]
    },
    {
     "name": "stderr",
     "output_type": "stream",
     "text": [
      "Epoch 7/20: Training Loss: 3.7803564071655273, C-Index: 0.7447873932139581\n"
     ]
    },
    {
     "name": "stdout",
     "output_type": "stream",
     "text": [
      "Epoch 7/20: Training Loss: 3.7803564071655273, C-Index: 0.7447873932139581\n"
     ]
    },
    {
     "name": "stderr",
     "output_type": "stream",
     "text": [
      "Epoch 8/20: Training Loss: 3.7282333374023438, C-Index: 0.78517302958637\n"
     ]
    },
    {
     "name": "stdout",
     "output_type": "stream",
     "text": [
      "Epoch 8/20: Training Loss: 3.7282333374023438, C-Index: 0.78517302958637\n"
     ]
    },
    {
     "name": "stderr",
     "output_type": "stream",
     "text": [
      "Epoch 9/20: Training Loss: 3.6673195362091064, C-Index: 0.7847024470292968\n"
     ]
    },
    {
     "name": "stdout",
     "output_type": "stream",
     "text": [
      "Epoch 9/20: Training Loss: 3.6673195362091064, C-Index: 0.7847024470292968\n"
     ]
    },
    {
     "name": "stderr",
     "output_type": "stream",
     "text": [
      "Epoch 10/20: Training Loss: 3.62699294090271, C-Index: 0.7935349196389787\n"
     ]
    },
    {
     "name": "stdout",
     "output_type": "stream",
     "text": [
      "Epoch 10/20: Training Loss: 3.62699294090271, C-Index: 0.7935349196389787\n"
     ]
    },
    {
     "name": "stderr",
     "output_type": "stream",
     "text": [
      "Epoch 11/20: Training Loss: 3.6271350383758545, C-Index: 0.776244027221391\n"
     ]
    },
    {
     "name": "stdout",
     "output_type": "stream",
     "text": [
      "Epoch 11/20: Training Loss: 3.6271350383758545, C-Index: 0.776244027221391\n"
     ]
    },
    {
     "name": "stderr",
     "output_type": "stream",
     "text": [
      "Epoch 12/20: Training Loss: 3.5720155239105225, C-Index: 0.8071697475746898\n"
     ]
    },
    {
     "name": "stdout",
     "output_type": "stream",
     "text": [
      "Epoch 12/20: Training Loss: 3.5720155239105225, C-Index: 0.8071697475746898\n"
     ]
    },
    {
     "name": "stderr",
     "output_type": "stream",
     "text": [
      "Epoch 13/20: Training Loss: 3.5246551036834717, C-Index: 0.8109585404700999\n"
     ]
    },
    {
     "name": "stdout",
     "output_type": "stream",
     "text": [
      "Epoch 13/20: Training Loss: 3.5246551036834717, C-Index: 0.8109585404700999\n"
     ]
    },
    {
     "name": "stderr",
     "output_type": "stream",
     "text": [
      "Epoch 14/20: Training Loss: 3.467778205871582, C-Index: 0.8257517254693759\n"
     ]
    },
    {
     "name": "stdout",
     "output_type": "stream",
     "text": [
      "Epoch 14/20: Training Loss: 3.467778205871582, C-Index: 0.8257517254693759\n"
     ]
    },
    {
     "name": "stderr",
     "output_type": "stream",
     "text": [
      "Epoch 15/20: Training Loss: 3.4027469158172607, C-Index: 0.834958250880834\n"
     ]
    },
    {
     "name": "stdout",
     "output_type": "stream",
     "text": [
      "Epoch 15/20: Training Loss: 3.4027469158172607, C-Index: 0.834958250880834\n"
     ]
    },
    {
     "name": "stderr",
     "output_type": "stream",
     "text": [
      "Epoch 16/20: Training Loss: 3.38476824760437, C-Index: 0.8426806313045997\n"
     ]
    },
    {
     "name": "stdout",
     "output_type": "stream",
     "text": [
      "Epoch 16/20: Training Loss: 3.38476824760437, C-Index: 0.8426806313045997\n"
     ]
    },
    {
     "name": "stderr",
     "output_type": "stream",
     "text": [
      "Epoch 17/20: Training Loss: 3.3261163234710693, C-Index: 0.8492325884453883\n"
     ]
    },
    {
     "name": "stdout",
     "output_type": "stream",
     "text": [
      "Epoch 17/20: Training Loss: 3.3261163234710693, C-Index: 0.8492325884453883\n"
     ]
    },
    {
     "name": "stderr",
     "output_type": "stream",
     "text": [
      "Epoch 18/20: Training Loss: 3.3227555751800537, C-Index: 0.8583908489791978\n"
     ]
    },
    {
     "name": "stdout",
     "output_type": "stream",
     "text": [
      "Epoch 18/20: Training Loss: 3.3227555751800537, C-Index: 0.8583908489791978\n"
     ]
    },
    {
     "name": "stderr",
     "output_type": "stream",
     "text": [
      "Epoch 19/20: Training Loss: 3.274091958999634, C-Index: 0.8621675756551958\n",
      "****************************************************************************************************\n"
     ]
    },
    {
     "name": "stdout",
     "output_type": "stream",
     "text": [
      "Epoch 19/20: Training Loss: 3.274091958999634, C-Index: 0.8621675756551958\n",
      "****************************************************************************************************\n"
     ]
    },
    {
     "name": "stderr",
     "output_type": "stream",
     "text": [
      "Final Train Loss: 3.1359682083129883, C-Index: 0.897455234325981\n"
     ]
    },
    {
     "name": "stdout",
     "output_type": "stream",
     "text": [
      "Final Train Loss: 3.1359682083129883, C-Index: 0.897455234325981\n"
     ]
    },
    {
     "name": "stderr",
     "output_type": "stream",
     "text": [
      "Test Loss: 3.4677391052246094, C-Index: 0.6783349101229896\n"
     ]
    },
    {
     "name": "stdout",
     "output_type": "stream",
     "text": [
      "Test Loss: 3.4677391052246094, C-Index: 0.6783349101229896\n"
     ]
    },
    {
     "name": "stderr",
     "output_type": "stream",
     "text": [
      "Epoch 0/20: Training Loss: 4.2581400871276855, C-Index: 0.513118800019169\n"
     ]
    },
    {
     "name": "stdout",
     "output_type": "stream",
     "text": [
      "Epoch 0/20: Training Loss: 4.2581400871276855, C-Index: 0.513118800019169\n"
     ]
    },
    {
     "name": "stderr",
     "output_type": "stream",
     "text": [
      "Epoch 1/20: Training Loss: 4.07142972946167, C-Index: 0.6181770259261035\n"
     ]
    },
    {
     "name": "stdout",
     "output_type": "stream",
     "text": [
      "Epoch 1/20: Training Loss: 4.07142972946167, C-Index: 0.6181770259261035\n"
     ]
    },
    {
     "name": "stderr",
     "output_type": "stream",
     "text": [
      "Epoch 2/20: Training Loss: 3.9908037185668945, C-Index: 0.6705563808884842\n"
     ]
    },
    {
     "name": "stdout",
     "output_type": "stream",
     "text": [
      "Epoch 2/20: Training Loss: 3.9908037185668945, C-Index: 0.6705563808884842\n"
     ]
    },
    {
     "name": "stderr",
     "output_type": "stream",
     "text": [
      "Epoch 3/20: Training Loss: 3.9042885303497314, C-Index: 0.7156754684429961\n"
     ]
    },
    {
     "name": "stdout",
     "output_type": "stream",
     "text": [
      "Epoch 3/20: Training Loss: 3.9042885303497314, C-Index: 0.7156754684429961\n"
     ]
    },
    {
     "name": "stderr",
     "output_type": "stream",
     "text": [
      "Epoch 4/20: Training Loss: 3.857569932937622, C-Index: 0.7214381559400009\n"
     ]
    },
    {
     "name": "stdout",
     "output_type": "stream",
     "text": [
      "Epoch 4/20: Training Loss: 3.857569932937622, C-Index: 0.7214381559400009\n"
     ]
    },
    {
     "name": "stderr",
     "output_type": "stream",
     "text": [
      "Epoch 5/20: Training Loss: 3.813814163208008, C-Index: 0.7483466717784061\n"
     ]
    },
    {
     "name": "stdout",
     "output_type": "stream",
     "text": [
      "Epoch 5/20: Training Loss: 3.813814163208008, C-Index: 0.7483466717784061\n"
     ]
    },
    {
     "name": "stderr",
     "output_type": "stream",
     "text": [
      "Epoch 6/20: Training Loss: 3.690025568008423, C-Index: 0.7747759620453347\n"
     ]
    },
    {
     "name": "stdout",
     "output_type": "stream",
     "text": [
      "Epoch 6/20: Training Loss: 3.690025568008423, C-Index: 0.7747759620453347\n"
     ]
    },
    {
     "name": "stderr",
     "output_type": "stream",
     "text": [
      "Epoch 7/20: Training Loss: 3.7277450561523438, C-Index: 0.788829251928883\n"
     ]
    },
    {
     "name": "stdout",
     "output_type": "stream",
     "text": [
      "Epoch 7/20: Training Loss: 3.7277450561523438, C-Index: 0.788829251928883\n"
     ]
    },
    {
     "name": "stderr",
     "output_type": "stream",
     "text": [
      "Epoch 8/20: Training Loss: 3.6930458545684814, C-Index: 0.7845521637034553\n"
     ]
    },
    {
     "name": "stdout",
     "output_type": "stream",
     "text": [
      "Epoch 8/20: Training Loss: 3.6930458545684814, C-Index: 0.7845521637034553\n"
     ]
    },
    {
     "name": "stderr",
     "output_type": "stream",
     "text": [
      "Epoch 9/20: Training Loss: 3.594886541366577, C-Index: 0.8099271577131356\n"
     ]
    },
    {
     "name": "stdout",
     "output_type": "stream",
     "text": [
      "Epoch 9/20: Training Loss: 3.594886541366577, C-Index: 0.8099271577131356\n"
     ]
    },
    {
     "name": "stderr",
     "output_type": "stream",
     "text": [
      "Epoch 10/20: Training Loss: 3.5873029232025146, C-Index: 0.8090046484880433\n"
     ]
    },
    {
     "name": "stdout",
     "output_type": "stream",
     "text": [
      "Epoch 10/20: Training Loss: 3.5873029232025146, C-Index: 0.8090046484880433\n"
     ]
    },
    {
     "name": "stderr",
     "output_type": "stream",
     "text": [
      "Epoch 11/20: Training Loss: 3.5278759002685547, C-Index: 0.8241960991038482\n"
     ]
    },
    {
     "name": "stdout",
     "output_type": "stream",
     "text": [
      "Epoch 11/20: Training Loss: 3.5278759002685547, C-Index: 0.8241960991038482\n"
     ]
    },
    {
     "name": "stderr",
     "output_type": "stream",
     "text": [
      "Epoch 12/20: Training Loss: 3.487675666809082, C-Index: 0.8234173575501988\n"
     ]
    },
    {
     "name": "stdout",
     "output_type": "stream",
     "text": [
      "Epoch 12/20: Training Loss: 3.487675666809082, C-Index: 0.8234173575501988\n"
     ]
    },
    {
     "name": "stderr",
     "output_type": "stream",
     "text": [
      "Epoch 13/20: Training Loss: 3.48279070854187, C-Index: 0.832977907701155\n"
     ]
    },
    {
     "name": "stdout",
     "output_type": "stream",
     "text": [
      "Epoch 13/20: Training Loss: 3.48279070854187, C-Index: 0.832977907701155\n"
     ]
    },
    {
     "name": "stderr",
     "output_type": "stream",
     "text": [
      "Epoch 14/20: Training Loss: 3.415541410446167, C-Index: 0.8367637897158192\n"
     ]
    },
    {
     "name": "stdout",
     "output_type": "stream",
     "text": [
      "Epoch 14/20: Training Loss: 3.415541410446167, C-Index: 0.8367637897158192\n"
     ]
    },
    {
     "name": "stderr",
     "output_type": "stream",
     "text": [
      "Epoch 15/20: Training Loss: 3.372462511062622, C-Index: 0.8554895289212633\n"
     ]
    },
    {
     "name": "stdout",
     "output_type": "stream",
     "text": [
      "Epoch 15/20: Training Loss: 3.372462511062622, C-Index: 0.8554895289212633\n"
     ]
    },
    {
     "name": "stderr",
     "output_type": "stream",
     "text": [
      "Epoch 16/20: Training Loss: 3.364049196243286, C-Index: 0.8520870273637802\n"
     ]
    },
    {
     "name": "stdout",
     "output_type": "stream",
     "text": [
      "Epoch 16/20: Training Loss: 3.364049196243286, C-Index: 0.8520870273637802\n"
     ]
    },
    {
     "name": "stderr",
     "output_type": "stream",
     "text": [
      "Epoch 17/20: Training Loss: 3.2908833026885986, C-Index: 0.8610365649111037\n"
     ]
    },
    {
     "name": "stdout",
     "output_type": "stream",
     "text": [
      "Epoch 17/20: Training Loss: 3.2908833026885986, C-Index: 0.8610365649111037\n"
     ]
    },
    {
     "name": "stderr",
     "output_type": "stream",
     "text": [
      "Epoch 18/20: Training Loss: 3.279006004333496, C-Index: 0.874658551780323\n"
     ]
    },
    {
     "name": "stdout",
     "output_type": "stream",
     "text": [
      "Epoch 18/20: Training Loss: 3.279006004333496, C-Index: 0.874658551780323\n"
     ]
    },
    {
     "name": "stderr",
     "output_type": "stream",
     "text": [
      "Epoch 19/20: Training Loss: 3.2373058795928955, C-Index: 0.8709924761585278\n",
      "****************************************************************************************************\n"
     ]
    },
    {
     "name": "stdout",
     "output_type": "stream",
     "text": [
      "Epoch 19/20: Training Loss: 3.2373058795928955, C-Index: 0.8709924761585278\n",
      "****************************************************************************************************\n"
     ]
    },
    {
     "name": "stderr",
     "output_type": "stream",
     "text": [
      "Final Train Loss: 3.0791265964508057, C-Index: 0.9015610772990846\n"
     ]
    },
    {
     "name": "stdout",
     "output_type": "stream",
     "text": [
      "Final Train Loss: 3.0791265964508057, C-Index: 0.9015610772990846\n"
     ]
    },
    {
     "name": "stderr",
     "output_type": "stream",
     "text": [
      "Test Loss: 3.5545427799224854, C-Index: 0.7287952987267385\n"
     ]
    },
    {
     "name": "stdout",
     "output_type": "stream",
     "text": [
      "Test Loss: 3.5545427799224854, C-Index: 0.7287952987267385\n"
     ]
    },
    {
     "name": "stderr",
     "output_type": "stream",
     "text": [
      "Epoch 0/20: Training Loss: 4.228186130523682, C-Index: 0.5364239983845871\n"
     ]
    },
    {
     "name": "stdout",
     "output_type": "stream",
     "text": [
      "Epoch 0/20: Training Loss: 4.228186130523682, C-Index: 0.5364239983845871\n"
     ]
    },
    {
     "name": "stderr",
     "output_type": "stream",
     "text": [
      "Epoch 1/20: Training Loss: 4.1155009269714355, C-Index: 0.6037130741545808\n"
     ]
    },
    {
     "name": "stdout",
     "output_type": "stream",
     "text": [
      "Epoch 1/20: Training Loss: 4.1155009269714355, C-Index: 0.6037130741545808\n"
     ]
    },
    {
     "name": "stderr",
     "output_type": "stream",
     "text": [
      "Epoch 2/20: Training Loss: 4.012455940246582, C-Index: 0.6827614058843792\n"
     ]
    },
    {
     "name": "stdout",
     "output_type": "stream",
     "text": [
      "Epoch 2/20: Training Loss: 4.012455940246582, C-Index: 0.6827614058843792\n"
     ]
    },
    {
     "name": "stderr",
     "output_type": "stream",
     "text": [
      "Epoch 3/20: Training Loss: 3.9218738079071045, C-Index: 0.7079784769981826\n"
     ]
    },
    {
     "name": "stdout",
     "output_type": "stream",
     "text": [
      "Epoch 3/20: Training Loss: 3.9218738079071045, C-Index: 0.7079784769981826\n"
     ]
    },
    {
     "name": "stderr",
     "output_type": "stream",
     "text": [
      "Epoch 4/20: Training Loss: 3.9075233936309814, C-Index: 0.7126227892004894\n"
     ]
    },
    {
     "name": "stdout",
     "output_type": "stream",
     "text": [
      "Epoch 4/20: Training Loss: 3.9075233936309814, C-Index: 0.7126227892004894\n"
     ]
    },
    {
     "name": "stderr",
     "output_type": "stream",
     "text": [
      "Epoch 5/20: Training Loss: 3.813408136367798, C-Index: 0.74366009811258\n"
     ]
    },
    {
     "name": "stdout",
     "output_type": "stream",
     "text": [
      "Epoch 5/20: Training Loss: 3.813408136367798, C-Index: 0.74366009811258\n"
     ]
    },
    {
     "name": "stderr",
     "output_type": "stream",
     "text": [
      "Epoch 6/20: Training Loss: 3.7746810913085938, C-Index: 0.7650643195666892\n"
     ]
    },
    {
     "name": "stdout",
     "output_type": "stream",
     "text": [
      "Epoch 6/20: Training Loss: 3.7746810913085938, C-Index: 0.7650643195666892\n"
     ]
    },
    {
     "name": "stderr",
     "output_type": "stream",
     "text": [
      "Epoch 7/20: Training Loss: 3.7707595825195312, C-Index: 0.762284859067099\n"
     ]
    },
    {
     "name": "stdout",
     "output_type": "stream",
     "text": [
      "Epoch 7/20: Training Loss: 3.7707595825195312, C-Index: 0.762284859067099\n"
     ]
    },
    {
     "name": "stderr",
     "output_type": "stream",
     "text": [
      "Epoch 8/20: Training Loss: 3.694404363632202, C-Index: 0.7772986969794153\n"
     ]
    },
    {
     "name": "stdout",
     "output_type": "stream",
     "text": [
      "Epoch 8/20: Training Loss: 3.694404363632202, C-Index: 0.7772986969794153\n"
     ]
    },
    {
     "name": "stderr",
     "output_type": "stream",
     "text": [
      "Epoch 9/20: Training Loss: 3.610804796218872, C-Index: 0.7984653577070638\n"
     ]
    },
    {
     "name": "stdout",
     "output_type": "stream",
     "text": [
      "Epoch 9/20: Training Loss: 3.610804796218872, C-Index: 0.7984653577070638\n"
     ]
    },
    {
     "name": "stderr",
     "output_type": "stream",
     "text": [
      "Epoch 10/20: Training Loss: 3.695434808731079, C-Index: 0.8079796648018149\n"
     ]
    },
    {
     "name": "stdout",
     "output_type": "stream",
     "text": [
      "Epoch 10/20: Training Loss: 3.695434808731079, C-Index: 0.8079796648018149\n"
     ]
    },
    {
     "name": "stderr",
     "output_type": "stream",
     "text": [
      "Epoch 11/20: Training Loss: 3.606099843978882, C-Index: 0.8129803180938128\n"
     ]
    },
    {
     "name": "stdout",
     "output_type": "stream",
     "text": [
      "Epoch 11/20: Training Loss: 3.606099843978882, C-Index: 0.8129803180938128\n"
     ]
    },
    {
     "name": "stderr",
     "output_type": "stream",
     "text": [
      "Epoch 12/20: Training Loss: 3.5153515338897705, C-Index: 0.8270914252455784\n"
     ]
    },
    {
     "name": "stdout",
     "output_type": "stream",
     "text": [
      "Epoch 12/20: Training Loss: 3.5153515338897705, C-Index: 0.8270914252455784\n"
     ]
    },
    {
     "name": "stderr",
     "output_type": "stream",
     "text": [
      "Epoch 13/20: Training Loss: 3.544104814529419, C-Index: 0.8105571986839136\n"
     ]
    },
    {
     "name": "stdout",
     "output_type": "stream",
     "text": [
      "Epoch 13/20: Training Loss: 3.544104814529419, C-Index: 0.8105571986839136\n"
     ]
    },
    {
     "name": "stderr",
     "output_type": "stream",
     "text": [
      "Epoch 14/20: Training Loss: 3.5375585556030273, C-Index: 0.8197626768342657\n"
     ]
    },
    {
     "name": "stdout",
     "output_type": "stream",
     "text": [
      "Epoch 14/20: Training Loss: 3.5375585556030273, C-Index: 0.8197626768342657\n"
     ]
    },
    {
     "name": "stderr",
     "output_type": "stream",
     "text": [
      "Epoch 15/20: Training Loss: 3.388686418533325, C-Index: 0.8622622907980853\n"
     ]
    },
    {
     "name": "stdout",
     "output_type": "stream",
     "text": [
      "Epoch 15/20: Training Loss: 3.388686418533325, C-Index: 0.8622622907980853\n"
     ]
    },
    {
     "name": "stderr",
     "output_type": "stream",
     "text": [
      "Epoch 16/20: Training Loss: 3.3682119846343994, C-Index: 0.8589601967002816\n"
     ]
    },
    {
     "name": "stdout",
     "output_type": "stream",
     "text": [
      "Epoch 16/20: Training Loss: 3.3682119846343994, C-Index: 0.8589601967002816\n"
     ]
    },
    {
     "name": "stderr",
     "output_type": "stream",
     "text": [
      "Epoch 17/20: Training Loss: 3.41737961769104, C-Index: 0.8495646699687608\n"
     ]
    },
    {
     "name": "stdout",
     "output_type": "stream",
     "text": [
      "Epoch 17/20: Training Loss: 3.41737961769104, C-Index: 0.8495646699687608\n"
     ]
    },
    {
     "name": "stderr",
     "output_type": "stream",
     "text": [
      "Epoch 18/20: Training Loss: 3.365480661392212, C-Index: 0.8655168727505969\n"
     ]
    },
    {
     "name": "stdout",
     "output_type": "stream",
     "text": [
      "Epoch 18/20: Training Loss: 3.365480661392212, C-Index: 0.8655168727505969\n"
     ]
    },
    {
     "name": "stderr",
     "output_type": "stream",
     "text": [
      "Epoch 19/20: Training Loss: 3.319227933883667, C-Index: 0.8671204076542066\n",
      "****************************************************************************************************\n"
     ]
    },
    {
     "name": "stdout",
     "output_type": "stream",
     "text": [
      "Epoch 19/20: Training Loss: 3.319227933883667, C-Index: 0.8671204076542066\n",
      "****************************************************************************************************\n"
     ]
    },
    {
     "name": "stderr",
     "output_type": "stream",
     "text": [
      "Final Train Loss: 3.115177869796753, C-Index: 0.9041323688367839\n"
     ]
    },
    {
     "name": "stdout",
     "output_type": "stream",
     "text": [
      "Final Train Loss: 3.115177869796753, C-Index: 0.9041323688367839\n"
     ]
    },
    {
     "name": "stderr",
     "output_type": "stream",
     "text": [
      "Test Loss: 3.6278443336486816, C-Index: 0.6798218984011334\n"
     ]
    },
    {
     "name": "stdout",
     "output_type": "stream",
     "text": [
      "Test Loss: 3.6278443336486816, C-Index: 0.6798218984011334\n"
     ]
    },
    {
     "name": "stderr",
     "output_type": "stream",
     "text": [
      "Epoch 0/20: Training Loss: 4.3684306144714355, C-Index: 0.4509584509097986\n"
     ]
    },
    {
     "name": "stdout",
     "output_type": "stream",
     "text": [
      "Epoch 0/20: Training Loss: 4.3684306144714355, C-Index: 0.4509584509097986\n"
     ]
    },
    {
     "name": "stderr",
     "output_type": "stream",
     "text": [
      "Epoch 1/20: Training Loss: 4.126357555389404, C-Index: 0.5796803541889657\n"
     ]
    },
    {
     "name": "stdout",
     "output_type": "stream",
     "text": [
      "Epoch 1/20: Training Loss: 4.126357555389404, C-Index: 0.5796803541889657\n"
     ]
    },
    {
     "name": "stderr",
     "output_type": "stream",
     "text": [
      "Epoch 2/20: Training Loss: 4.019965171813965, C-Index: 0.6462002529921184\n"
     ]
    },
    {
     "name": "stdout",
     "output_type": "stream",
     "text": [
      "Epoch 2/20: Training Loss: 4.019965171813965, C-Index: 0.6462002529921184\n"
     ]
    },
    {
     "name": "stderr",
     "output_type": "stream",
     "text": [
      "Epoch 3/20: Training Loss: 4.012304306030273, C-Index: 0.6629123285005352\n"
     ]
    },
    {
     "name": "stdout",
     "output_type": "stream",
     "text": [
      "Epoch 3/20: Training Loss: 4.012304306030273, C-Index: 0.6629123285005352\n"
     ]
    },
    {
     "name": "stderr",
     "output_type": "stream",
     "text": [
      "Epoch 4/20: Training Loss: 3.9336321353912354, C-Index: 0.7022963899970809\n"
     ]
    },
    {
     "name": "stdout",
     "output_type": "stream",
     "text": [
      "Epoch 4/20: Training Loss: 3.9336321353912354, C-Index: 0.7022963899970809\n"
     ]
    },
    {
     "name": "stderr",
     "output_type": "stream",
     "text": [
      "Epoch 5/20: Training Loss: 3.8770668506622314, C-Index: 0.7081711588985112\n"
     ]
    },
    {
     "name": "stdout",
     "output_type": "stream",
     "text": [
      "Epoch 5/20: Training Loss: 3.8770668506622314, C-Index: 0.7081711588985112\n"
     ]
    },
    {
     "name": "stderr",
     "output_type": "stream",
     "text": [
      "Epoch 6/20: Training Loss: 3.7962043285369873, C-Index: 0.7377031234796146\n"
     ]
    },
    {
     "name": "stdout",
     "output_type": "stream",
     "text": [
      "Epoch 6/20: Training Loss: 3.7962043285369873, C-Index: 0.7377031234796146\n"
     ]
    },
    {
     "name": "stderr",
     "output_type": "stream",
     "text": [
      "Epoch 7/20: Training Loss: 3.749232053756714, C-Index: 0.7548895592098862\n"
     ]
    },
    {
     "name": "stdout",
     "output_type": "stream",
     "text": [
      "Epoch 7/20: Training Loss: 3.749232053756714, C-Index: 0.7548895592098862\n"
     ]
    },
    {
     "name": "stderr",
     "output_type": "stream",
     "text": [
      "Epoch 8/20: Training Loss: 3.7805330753326416, C-Index: 0.775433005740975\n"
     ]
    },
    {
     "name": "stdout",
     "output_type": "stream",
     "text": [
      "Epoch 8/20: Training Loss: 3.7805330753326416, C-Index: 0.775433005740975\n"
     ]
    },
    {
     "name": "stderr",
     "output_type": "stream",
     "text": [
      "Epoch 9/20: Training Loss: 3.703261137008667, C-Index: 0.7611657098375012\n"
     ]
    },
    {
     "name": "stdout",
     "output_type": "stream",
     "text": [
      "Epoch 9/20: Training Loss: 3.703261137008667, C-Index: 0.7611657098375012\n"
     ]
    },
    {
     "name": "stderr",
     "output_type": "stream",
     "text": [
      "Epoch 10/20: Training Loss: 3.5937798023223877, C-Index: 0.7996010508903376\n"
     ]
    },
    {
     "name": "stdout",
     "output_type": "stream",
     "text": [
      "Epoch 10/20: Training Loss: 3.5937798023223877, C-Index: 0.7996010508903376\n"
     ]
    },
    {
     "name": "stderr",
     "output_type": "stream",
     "text": [
      "Epoch 11/20: Training Loss: 3.586442232131958, C-Index: 0.8045757516785054\n"
     ]
    },
    {
     "name": "stdout",
     "output_type": "stream",
     "text": [
      "Epoch 11/20: Training Loss: 3.586442232131958, C-Index: 0.8045757516785054\n"
     ]
    },
    {
     "name": "stderr",
     "output_type": "stream",
     "text": [
      "Epoch 12/20: Training Loss: 3.525768518447876, C-Index: 0.8244623917485647\n"
     ]
    },
    {
     "name": "stdout",
     "output_type": "stream",
     "text": [
      "Epoch 12/20: Training Loss: 3.525768518447876, C-Index: 0.8244623917485647\n"
     ]
    },
    {
     "name": "stderr",
     "output_type": "stream",
     "text": [
      "Epoch 13/20: Training Loss: 3.569239854812622, C-Index: 0.8124209399630242\n"
     ]
    },
    {
     "name": "stdout",
     "output_type": "stream",
     "text": [
      "Epoch 13/20: Training Loss: 3.569239854812622, C-Index: 0.8124209399630242\n"
     ]
    },
    {
     "name": "stderr",
     "output_type": "stream",
     "text": [
      "Epoch 14/20: Training Loss: 3.531575918197632, C-Index: 0.8298628004281405\n"
     ]
    },
    {
     "name": "stdout",
     "output_type": "stream",
     "text": [
      "Epoch 14/20: Training Loss: 3.531575918197632, C-Index: 0.8298628004281405\n"
     ]
    },
    {
     "name": "stderr",
     "output_type": "stream",
     "text": [
      "Epoch 15/20: Training Loss: 3.5198047161102295, C-Index: 0.8066434757224871\n"
     ]
    },
    {
     "name": "stdout",
     "output_type": "stream",
     "text": [
      "Epoch 15/20: Training Loss: 3.5198047161102295, C-Index: 0.8066434757224871\n"
     ]
    },
    {
     "name": "stderr",
     "output_type": "stream",
     "text": [
      "Epoch 16/20: Training Loss: 3.4313676357269287, C-Index: 0.8356524277512893\n"
     ]
    },
    {
     "name": "stdout",
     "output_type": "stream",
     "text": [
      "Epoch 16/20: Training Loss: 3.4313676357269287, C-Index: 0.8356524277512893\n"
     ]
    },
    {
     "name": "stderr",
     "output_type": "stream",
     "text": [
      "Epoch 17/20: Training Loss: 3.342266798019409, C-Index: 0.8561715481171548\n"
     ]
    },
    {
     "name": "stdout",
     "output_type": "stream",
     "text": [
      "Epoch 17/20: Training Loss: 3.342266798019409, C-Index: 0.8561715481171548\n"
     ]
    },
    {
     "name": "stderr",
     "output_type": "stream",
     "text": [
      "Epoch 18/20: Training Loss: 3.3944647312164307, C-Index: 0.8438746715967694\n"
     ]
    },
    {
     "name": "stdout",
     "output_type": "stream",
     "text": [
      "Epoch 18/20: Training Loss: 3.3944647312164307, C-Index: 0.8438746715967694\n"
     ]
    },
    {
     "name": "stderr",
     "output_type": "stream",
     "text": [
      "Epoch 19/20: Training Loss: 3.3680009841918945, C-Index: 0.8454072200058382\n",
      "****************************************************************************************************\n"
     ]
    },
    {
     "name": "stdout",
     "output_type": "stream",
     "text": [
      "Epoch 19/20: Training Loss: 3.3680009841918945, C-Index: 0.8454072200058382\n",
      "****************************************************************************************************\n"
     ]
    },
    {
     "name": "stderr",
     "output_type": "stream",
     "text": [
      "Final Train Loss: 3.162295341491699, C-Index: 0.9012965846064026\n"
     ]
    },
    {
     "name": "stdout",
     "output_type": "stream",
     "text": [
      "Final Train Loss: 3.162295341491699, C-Index: 0.9012965846064026\n"
     ]
    },
    {
     "name": "stderr",
     "output_type": "stream",
     "text": [
      "Test Loss: 3.5052642822265625, C-Index: 0.7452082565425728\n"
     ]
    },
    {
     "name": "stdout",
     "output_type": "stream",
     "text": [
      "Test Loss: 3.5052642822265625, C-Index: 0.7452082565425728\n",
      "Result Path: ./logs/single/results_5_24_mRNA\n"
     ]
    },
    {
     "name": "stderr",
     "output_type": "stream",
     "text": [
      "Epoch 0/20: Training Loss: 4.106415271759033, C-Index: 0.6161796621143631\n"
     ]
    },
    {
     "name": "stdout",
     "output_type": "stream",
     "text": [
      "Epoch 0/20: Training Loss: 4.106415271759033, C-Index: 0.6161796621143631\n"
     ]
    },
    {
     "name": "stderr",
     "output_type": "stream",
     "text": [
      "Epoch 1/20: Training Loss: 3.7933542728424072, C-Index: 0.7441037877243678\n"
     ]
    },
    {
     "name": "stdout",
     "output_type": "stream",
     "text": [
      "Epoch 1/20: Training Loss: 3.7933542728424072, C-Index: 0.7441037877243678\n"
     ]
    },
    {
     "name": "stderr",
     "output_type": "stream",
     "text": [
      "Epoch 2/20: Training Loss: 3.657480001449585, C-Index: 0.7845229673505114\n"
     ]
    },
    {
     "name": "stdout",
     "output_type": "stream",
     "text": [
      "Epoch 2/20: Training Loss: 3.657480001449585, C-Index: 0.7845229673505114\n"
     ]
    },
    {
     "name": "stderr",
     "output_type": "stream",
     "text": [
      "Epoch 3/20: Training Loss: 3.5562756061553955, C-Index: 0.7972806081461853\n"
     ]
    },
    {
     "name": "stdout",
     "output_type": "stream",
     "text": [
      "Epoch 3/20: Training Loss: 3.5562756061553955, C-Index: 0.7972806081461853\n"
     ]
    },
    {
     "name": "stderr",
     "output_type": "stream",
     "text": [
      "Epoch 4/20: Training Loss: 3.482884407043457, C-Index: 0.8216448244025851\n"
     ]
    },
    {
     "name": "stdout",
     "output_type": "stream",
     "text": [
      "Epoch 4/20: Training Loss: 3.482884407043457, C-Index: 0.8216448244025851\n"
     ]
    },
    {
     "name": "stderr",
     "output_type": "stream",
     "text": [
      "Epoch 5/20: Training Loss: 3.417905569076538, C-Index: 0.8370283329936092\n"
     ]
    },
    {
     "name": "stdout",
     "output_type": "stream",
     "text": [
      "Epoch 5/20: Training Loss: 3.417905569076538, C-Index: 0.8370283329936092\n"
     ]
    },
    {
     "name": "stderr",
     "output_type": "stream",
     "text": [
      "Epoch 6/20: Training Loss: 3.376302480697632, C-Index: 0.8473519502164243\n"
     ]
    },
    {
     "name": "stdout",
     "output_type": "stream",
     "text": [
      "Epoch 6/20: Training Loss: 3.376302480697632, C-Index: 0.8473519502164243\n"
     ]
    },
    {
     "name": "stderr",
     "output_type": "stream",
     "text": [
      "Epoch 7/20: Training Loss: 3.2422168254852295, C-Index: 0.864354144434719\n"
     ]
    },
    {
     "name": "stdout",
     "output_type": "stream",
     "text": [
      "Epoch 7/20: Training Loss: 3.2422168254852295, C-Index: 0.864354144434719\n"
     ]
    },
    {
     "name": "stderr",
     "output_type": "stream",
     "text": [
      "Epoch 8/20: Training Loss: 3.2385470867156982, C-Index: 0.8613685687221976\n"
     ]
    },
    {
     "name": "stdout",
     "output_type": "stream",
     "text": [
      "Epoch 8/20: Training Loss: 3.2385470867156982, C-Index: 0.8613685687221976\n"
     ]
    },
    {
     "name": "stderr",
     "output_type": "stream",
     "text": [
      "Epoch 9/20: Training Loss: 3.1330106258392334, C-Index: 0.8767520773132217\n"
     ]
    },
    {
     "name": "stdout",
     "output_type": "stream",
     "text": [
      "Epoch 9/20: Training Loss: 3.1330106258392334, C-Index: 0.8767520773132217\n"
     ]
    },
    {
     "name": "stderr",
     "output_type": "stream",
     "text": [
      "Epoch 10/20: Training Loss: 3.103100061416626, C-Index: 0.8911284037361662\n"
     ]
    },
    {
     "name": "stdout",
     "output_type": "stream",
     "text": [
      "Epoch 10/20: Training Loss: 3.103100061416626, C-Index: 0.8911284037361662\n"
     ]
    },
    {
     "name": "stderr",
     "output_type": "stream",
     "text": [
      "Epoch 11/20: Training Loss: 3.041222333908081, C-Index: 0.8878310811620964\n"
     ]
    },
    {
     "name": "stdout",
     "output_type": "stream",
     "text": [
      "Epoch 11/20: Training Loss: 3.041222333908081, C-Index: 0.8878310811620964\n"
     ]
    },
    {
     "name": "stderr",
     "output_type": "stream",
     "text": [
      "Epoch 12/20: Training Loss: 2.953362464904785, C-Index: 0.9036942003093488\n"
     ]
    },
    {
     "name": "stdout",
     "output_type": "stream",
     "text": [
      "Epoch 12/20: Training Loss: 2.953362464904785, C-Index: 0.9036942003093488\n"
     ]
    },
    {
     "name": "stderr",
     "output_type": "stream",
     "text": [
      "Epoch 13/20: Training Loss: 2.9570682048797607, C-Index: 0.901667845709284\n"
     ]
    },
    {
     "name": "stdout",
     "output_type": "stream",
     "text": [
      "Epoch 13/20: Training Loss: 2.9570682048797607, C-Index: 0.901667845709284\n"
     ]
    },
    {
     "name": "stderr",
     "output_type": "stream",
     "text": [
      "Epoch 14/20: Training Loss: 2.882488489151001, C-Index: 0.9081305979544609\n"
     ]
    },
    {
     "name": "stdout",
     "output_type": "stream",
     "text": [
      "Epoch 14/20: Training Loss: 2.882488489151001, C-Index: 0.9081305979544609\n"
     ]
    },
    {
     "name": "stderr",
     "output_type": "stream",
     "text": [
      "Epoch 15/20: Training Loss: 2.9229888916015625, C-Index: 0.9127828203498759\n"
     ]
    },
    {
     "name": "stdout",
     "output_type": "stream",
     "text": [
      "Epoch 15/20: Training Loss: 2.9229888916015625, C-Index: 0.9127828203498759\n"
     ]
    },
    {
     "name": "stderr",
     "output_type": "stream",
     "text": [
      "Epoch 16/20: Training Loss: 2.842554807662964, C-Index: 0.9166436853275141\n"
     ]
    },
    {
     "name": "stdout",
     "output_type": "stream",
     "text": [
      "Epoch 16/20: Training Loss: 2.842554807662964, C-Index: 0.9166436853275141\n"
     ]
    },
    {
     "name": "stderr",
     "output_type": "stream",
     "text": [
      "Epoch 17/20: Training Loss: 2.7855663299560547, C-Index: 0.9245572595052817\n"
     ]
    },
    {
     "name": "stdout",
     "output_type": "stream",
     "text": [
      "Epoch 17/20: Training Loss: 2.7855663299560547, C-Index: 0.9245572595052817\n"
     ]
    },
    {
     "name": "stderr",
     "output_type": "stream",
     "text": [
      "Epoch 18/20: Training Loss: 2.7619848251342773, C-Index: 0.9314756417788755\n"
     ]
    },
    {
     "name": "stdout",
     "output_type": "stream",
     "text": [
      "Epoch 18/20: Training Loss: 2.7619848251342773, C-Index: 0.9314756417788755\n"
     ]
    },
    {
     "name": "stderr",
     "output_type": "stream",
     "text": [
      "Epoch 19/20: Training Loss: 2.695735216140747, C-Index: 0.9342334024771886\n",
      "****************************************************************************************************\n"
     ]
    },
    {
     "name": "stdout",
     "output_type": "stream",
     "text": [
      "Epoch 19/20: Training Loss: 2.695735216140747, C-Index: 0.9342334024771886\n",
      "****************************************************************************************************\n"
     ]
    },
    {
     "name": "stderr",
     "output_type": "stream",
     "text": [
      "Final Train Loss: 2.68332576751709, C-Index: 0.9330403712185705\n"
     ]
    },
    {
     "name": "stdout",
     "output_type": "stream",
     "text": [
      "Final Train Loss: 2.68332576751709, C-Index: 0.9330403712185705\n"
     ]
    },
    {
     "name": "stderr",
     "output_type": "stream",
     "text": [
      "Test Loss: 3.8461015224456787, C-Index: 0.7051831644583009\n"
     ]
    },
    {
     "name": "stdout",
     "output_type": "stream",
     "text": [
      "Test Loss: 3.8461015224456787, C-Index: 0.7051831644583009\n"
     ]
    },
    {
     "name": "stderr",
     "output_type": "stream",
     "text": [
      "Epoch 0/20: Training Loss: 4.024909496307373, C-Index: 0.6457478642791641\n"
     ]
    },
    {
     "name": "stdout",
     "output_type": "stream",
     "text": [
      "Epoch 0/20: Training Loss: 4.024909496307373, C-Index: 0.6457478642791641\n"
     ]
    },
    {
     "name": "stderr",
     "output_type": "stream",
     "text": [
      "Epoch 1/20: Training Loss: 3.7585341930389404, C-Index: 0.75667261933491\n"
     ]
    },
    {
     "name": "stdout",
     "output_type": "stream",
     "text": [
      "Epoch 1/20: Training Loss: 3.7585341930389404, C-Index: 0.75667261933491\n"
     ]
    },
    {
     "name": "stderr",
     "output_type": "stream",
     "text": [
      "Epoch 2/20: Training Loss: 3.6200873851776123, C-Index: 0.7913630001447947\n"
     ]
    },
    {
     "name": "stdout",
     "output_type": "stream",
     "text": [
      "Epoch 2/20: Training Loss: 3.6200873851776123, C-Index: 0.7913630001447947\n"
     ]
    },
    {
     "name": "stderr",
     "output_type": "stream",
     "text": [
      "Epoch 3/20: Training Loss: 3.5451536178588867, C-Index: 0.8211665620927651\n"
     ]
    },
    {
     "name": "stdout",
     "output_type": "stream",
     "text": [
      "Epoch 3/20: Training Loss: 3.5451536178588867, C-Index: 0.8211665620927651\n"
     ]
    },
    {
     "name": "stderr",
     "output_type": "stream",
     "text": [
      "Epoch 4/20: Training Loss: 3.5010945796966553, C-Index: 0.8113808581495245\n"
     ]
    },
    {
     "name": "stdout",
     "output_type": "stream",
     "text": [
      "Epoch 4/20: Training Loss: 3.5010945796966553, C-Index: 0.8113808581495245\n"
     ]
    },
    {
     "name": "stderr",
     "output_type": "stream",
     "text": [
      "Epoch 5/20: Training Loss: 3.406618356704712, C-Index: 0.8422462474057628\n"
     ]
    },
    {
     "name": "stdout",
     "output_type": "stream",
     "text": [
      "Epoch 5/20: Training Loss: 3.406618356704712, C-Index: 0.8422462474057628\n"
     ]
    },
    {
     "name": "stderr",
     "output_type": "stream",
     "text": [
      "Epoch 6/20: Training Loss: 3.3697316646575928, C-Index: 0.8439355181234616\n"
     ]
    },
    {
     "name": "stdout",
     "output_type": "stream",
     "text": [
      "Epoch 6/20: Training Loss: 3.3697316646575928, C-Index: 0.8439355181234616\n"
     ]
    },
    {
     "name": "stderr",
     "output_type": "stream",
     "text": [
      "Epoch 7/20: Training Loss: 3.299705743789673, C-Index: 0.8511511173319176\n"
     ]
    },
    {
     "name": "stdout",
     "output_type": "stream",
     "text": [
      "Epoch 7/20: Training Loss: 3.299705743789673, C-Index: 0.8511511173319176\n"
     ]
    },
    {
     "name": "stderr",
     "output_type": "stream",
     "text": [
      "Epoch 8/20: Training Loss: 3.241964101791382, C-Index: 0.8639413099087794\n"
     ]
    },
    {
     "name": "stdout",
     "output_type": "stream",
     "text": [
      "Epoch 8/20: Training Loss: 3.241964101791382, C-Index: 0.8639413099087794\n"
     ]
    },
    {
     "name": "stderr",
     "output_type": "stream",
     "text": [
      "Epoch 9/20: Training Loss: 3.1891472339630127, C-Index: 0.8716878227713692\n"
     ]
    },
    {
     "name": "stdout",
     "output_type": "stream",
     "text": [
      "Epoch 9/20: Training Loss: 3.1891472339630127, C-Index: 0.8716878227713692\n"
     ]
    },
    {
     "name": "stderr",
     "output_type": "stream",
     "text": [
      "Epoch 10/20: Training Loss: 3.1036441326141357, C-Index: 0.8827766784111202\n"
     ]
    },
    {
     "name": "stdout",
     "output_type": "stream",
     "text": [
      "Epoch 10/20: Training Loss: 3.1036441326141357, C-Index: 0.8827766784111202\n"
     ]
    },
    {
     "name": "stderr",
     "output_type": "stream",
     "text": [
      "Epoch 11/20: Training Loss: 3.0616047382354736, C-Index: 0.8889666489695449\n"
     ]
    },
    {
     "name": "stdout",
     "output_type": "stream",
     "text": [
      "Epoch 11/20: Training Loss: 3.0616047382354736, C-Index: 0.8889666489695449\n"
     ]
    },
    {
     "name": "stderr",
     "output_type": "stream",
     "text": [
      "Epoch 12/20: Training Loss: 3.0434138774871826, C-Index: 0.8958805926926975\n"
     ]
    },
    {
     "name": "stdout",
     "output_type": "stream",
     "text": [
      "Epoch 12/20: Training Loss: 3.0434138774871826, C-Index: 0.8958805926926975\n"
     ]
    },
    {
     "name": "stderr",
     "output_type": "stream",
     "text": [
      "Epoch 13/20: Training Loss: 3.028327226638794, C-Index: 0.8962667117138858\n"
     ]
    },
    {
     "name": "stdout",
     "output_type": "stream",
     "text": [
      "Epoch 13/20: Training Loss: 3.028327226638794, C-Index: 0.8962667117138858\n"
     ]
    },
    {
     "name": "stderr",
     "output_type": "stream",
     "text": [
      "Epoch 14/20: Training Loss: 2.928791046142578, C-Index: 0.9063178724841933\n"
     ]
    },
    {
     "name": "stdout",
     "output_type": "stream",
     "text": [
      "Epoch 14/20: Training Loss: 2.928791046142578, C-Index: 0.9063178724841933\n"
     ]
    },
    {
     "name": "stderr",
     "output_type": "stream",
     "text": [
      "Epoch 15/20: Training Loss: 2.949045181274414, C-Index: 0.9051353829818042\n"
     ]
    },
    {
     "name": "stdout",
     "output_type": "stream",
     "text": [
      "Epoch 15/20: Training Loss: 2.949045181274414, C-Index: 0.9051353829818042\n"
     ]
    },
    {
     "name": "stderr",
     "output_type": "stream",
     "text": [
      "Epoch 16/20: Training Loss: 2.867398262023926, C-Index: 0.9153554708238815\n"
     ]
    },
    {
     "name": "stdout",
     "output_type": "stream",
     "text": [
      "Epoch 16/20: Training Loss: 2.867398262023926, C-Index: 0.9153554708238815\n"
     ]
    },
    {
     "name": "stderr",
     "output_type": "stream",
     "text": [
      "Epoch 17/20: Training Loss: 2.7996275424957275, C-Index: 0.9205922100487475\n"
     ]
    },
    {
     "name": "stdout",
     "output_type": "stream",
     "text": [
      "Epoch 17/20: Training Loss: 2.7996275424957275, C-Index: 0.9205922100487475\n"
     ]
    },
    {
     "name": "stderr",
     "output_type": "stream",
     "text": [
      "Epoch 18/20: Training Loss: 2.801860809326172, C-Index: 0.9205439451710989\n"
     ]
    },
    {
     "name": "stdout",
     "output_type": "stream",
     "text": [
      "Epoch 18/20: Training Loss: 2.801860809326172, C-Index: 0.9205439451710989\n"
     ]
    },
    {
     "name": "stderr",
     "output_type": "stream",
     "text": [
      "Epoch 19/20: Training Loss: 2.7527167797088623, C-Index: 0.9221004874752643\n",
      "****************************************************************************************************\n"
     ]
    },
    {
     "name": "stdout",
     "output_type": "stream",
     "text": [
      "Epoch 19/20: Training Loss: 2.7527167797088623, C-Index: 0.9221004874752643\n",
      "****************************************************************************************************\n"
     ]
    },
    {
     "name": "stderr",
     "output_type": "stream",
     "text": [
      "Final Train Loss: 2.703162431716919, C-Index: 0.9334367006129639\n"
     ]
    },
    {
     "name": "stdout",
     "output_type": "stream",
     "text": [
      "Final Train Loss: 2.703162431716919, C-Index: 0.9334367006129639\n"
     ]
    },
    {
     "name": "stderr",
     "output_type": "stream",
     "text": [
      "Test Loss: 3.286003589630127, C-Index: 0.7271523178807947\n"
     ]
    },
    {
     "name": "stdout",
     "output_type": "stream",
     "text": [
      "Test Loss: 3.286003589630127, C-Index: 0.7271523178807947\n"
     ]
    },
    {
     "name": "stderr",
     "output_type": "stream",
     "text": [
      "Epoch 0/20: Training Loss: 4.1856770515441895, C-Index: 0.5891718982124886\n"
     ]
    },
    {
     "name": "stdout",
     "output_type": "stream",
     "text": [
      "Epoch 0/20: Training Loss: 4.1856770515441895, C-Index: 0.5891718982124886\n"
     ]
    },
    {
     "name": "stderr",
     "output_type": "stream",
     "text": [
      "Epoch 1/20: Training Loss: 3.8194472789764404, C-Index: 0.7376000383380458\n"
     ]
    },
    {
     "name": "stdout",
     "output_type": "stream",
     "text": [
      "Epoch 1/20: Training Loss: 3.8194472789764404, C-Index: 0.7376000383380458\n"
     ]
    },
    {
     "name": "stderr",
     "output_type": "stream",
     "text": [
      "Epoch 2/20: Training Loss: 3.6860103607177734, C-Index: 0.7649398571907797\n"
     ]
    },
    {
     "name": "stdout",
     "output_type": "stream",
     "text": [
      "Epoch 2/20: Training Loss: 3.6860103607177734, C-Index: 0.7649398571907797\n"
     ]
    },
    {
     "name": "stderr",
     "output_type": "stream",
     "text": [
      "Epoch 3/20: Training Loss: 3.5873165130615234, C-Index: 0.7955384099295538\n"
     ]
    },
    {
     "name": "stdout",
     "output_type": "stream",
     "text": [
      "Epoch 3/20: Training Loss: 3.5873165130615234, C-Index: 0.7955384099295538\n"
     ]
    },
    {
     "name": "stderr",
     "output_type": "stream",
     "text": [
      "Epoch 4/20: Training Loss: 3.4625484943389893, C-Index: 0.8331456366511717\n"
     ]
    },
    {
     "name": "stdout",
     "output_type": "stream",
     "text": [
      "Epoch 4/20: Training Loss: 3.4625484943389893, C-Index: 0.8331456366511717\n"
     ]
    },
    {
     "name": "stderr",
     "output_type": "stream",
     "text": [
      "Epoch 5/20: Training Loss: 3.4181973934173584, C-Index: 0.832151243590358\n"
     ]
    },
    {
     "name": "stdout",
     "output_type": "stream",
     "text": [
      "Epoch 5/20: Training Loss: 3.4181973934173584, C-Index: 0.832151243590358\n"
     ]
    },
    {
     "name": "stderr",
     "output_type": "stream",
     "text": [
      "Epoch 6/20: Training Loss: 3.337690591812134, C-Index: 0.8511165955815402\n"
     ]
    },
    {
     "name": "stdout",
     "output_type": "stream",
     "text": [
      "Epoch 6/20: Training Loss: 3.337690591812134, C-Index: 0.8511165955815402\n"
     ]
    },
    {
     "name": "stderr",
     "output_type": "stream",
     "text": [
      "Epoch 7/20: Training Loss: 3.2977592945098877, C-Index: 0.8560286576891742\n"
     ]
    },
    {
     "name": "stdout",
     "output_type": "stream",
     "text": [
      "Epoch 7/20: Training Loss: 3.2977592945098877, C-Index: 0.8560286576891742\n"
     ]
    },
    {
     "name": "stderr",
     "output_type": "stream",
     "text": [
      "Epoch 8/20: Training Loss: 3.297762870788574, C-Index: 0.8557051804284277\n"
     ]
    },
    {
     "name": "stdout",
     "output_type": "stream",
     "text": [
      "Epoch 8/20: Training Loss: 3.297762870788574, C-Index: 0.8557051804284277\n"
     ]
    },
    {
     "name": "stderr",
     "output_type": "stream",
     "text": [
      "Epoch 9/20: Training Loss: 3.2180566787719727, C-Index: 0.8659486270187378\n"
     ]
    },
    {
     "name": "stdout",
     "output_type": "stream",
     "text": [
      "Epoch 9/20: Training Loss: 3.2180566787719727, C-Index: 0.8659486270187378\n"
     ]
    },
    {
     "name": "stderr",
     "output_type": "stream",
     "text": [
      "Epoch 10/20: Training Loss: 3.1197969913482666, C-Index: 0.87792926630565\n"
     ]
    },
    {
     "name": "stdout",
     "output_type": "stream",
     "text": [
      "Epoch 10/20: Training Loss: 3.1197969913482666, C-Index: 0.87792926630565\n"
     ]
    },
    {
     "name": "stderr",
     "output_type": "stream",
     "text": [
      "Epoch 11/20: Training Loss: 3.099287748336792, C-Index: 0.8880409258638041\n"
     ]
    },
    {
     "name": "stdout",
     "output_type": "stream",
     "text": [
      "Epoch 11/20: Training Loss: 3.099287748336792, C-Index: 0.8880409258638041\n"
     ]
    },
    {
     "name": "stderr",
     "output_type": "stream",
     "text": [
      "Epoch 12/20: Training Loss: 3.05196213722229, C-Index: 0.8875497196530406\n"
     ]
    },
    {
     "name": "stdout",
     "output_type": "stream",
     "text": [
      "Epoch 12/20: Training Loss: 3.05196213722229, C-Index: 0.8875497196530406\n"
     ]
    },
    {
     "name": "stderr",
     "output_type": "stream",
     "text": [
      "Epoch 13/20: Training Loss: 2.996335983276367, C-Index: 0.9000455264292903\n"
     ]
    },
    {
     "name": "stdout",
     "output_type": "stream",
     "text": [
      "Epoch 13/20: Training Loss: 2.996335983276367, C-Index: 0.9000455264292903\n"
     ]
    },
    {
     "name": "stderr",
     "output_type": "stream",
     "text": [
      "Epoch 14/20: Training Loss: 2.9431886672973633, C-Index: 0.9069224133799779\n"
     ]
    },
    {
     "name": "stdout",
     "output_type": "stream",
     "text": [
      "Epoch 14/20: Training Loss: 2.9431886672973633, C-Index: 0.9069224133799779\n"
     ]
    },
    {
     "name": "stderr",
     "output_type": "stream",
     "text": [
      "Epoch 15/20: Training Loss: 2.8922927379608154, C-Index: 0.9136555326592227\n"
     ]
    },
    {
     "name": "stdout",
     "output_type": "stream",
     "text": [
      "Epoch 15/20: Training Loss: 2.8922927379608154, C-Index: 0.9136555326592227\n"
     ]
    },
    {
     "name": "stderr",
     "output_type": "stream",
     "text": [
      "Epoch 16/20: Training Loss: 2.8948047161102295, C-Index: 0.9153567834379642\n"
     ]
    },
    {
     "name": "stdout",
     "output_type": "stream",
     "text": [
      "Epoch 16/20: Training Loss: 2.8948047161102295, C-Index: 0.9153567834379642\n"
     ]
    },
    {
     "name": "stderr",
     "output_type": "stream",
     "text": [
      "Epoch 17/20: Training Loss: 2.799875020980835, C-Index: 0.9200771553170077\n"
     ]
    },
    {
     "name": "stdout",
     "output_type": "stream",
     "text": [
      "Epoch 17/20: Training Loss: 2.799875020980835, C-Index: 0.9200771553170077\n"
     ]
    },
    {
     "name": "stderr",
     "output_type": "stream",
     "text": [
      "Epoch 18/20: Training Loss: 2.7708323001861572, C-Index: 0.9272056356927205\n"
     ]
    },
    {
     "name": "stdout",
     "output_type": "stream",
     "text": [
      "Epoch 18/20: Training Loss: 2.7708323001861572, C-Index: 0.9272056356927205\n"
     ]
    },
    {
     "name": "stderr",
     "output_type": "stream",
     "text": [
      "Epoch 19/20: Training Loss: 2.761765480041504, C-Index: 0.9233838117601956\n",
      "****************************************************************************************************\n"
     ]
    },
    {
     "name": "stdout",
     "output_type": "stream",
     "text": [
      "Epoch 19/20: Training Loss: 2.761765480041504, C-Index: 0.9233838117601956\n",
      "****************************************************************************************************\n"
     ]
    },
    {
     "name": "stderr",
     "output_type": "stream",
     "text": [
      "Final Train Loss: 2.6745526790618896, C-Index: 0.9321476493985719\n"
     ]
    },
    {
     "name": "stdout",
     "output_type": "stream",
     "text": [
      "Final Train Loss: 2.6745526790618896, C-Index: 0.9321476493985719\n"
     ]
    },
    {
     "name": "stderr",
     "output_type": "stream",
     "text": [
      "Test Loss: 3.643230676651001, C-Index: 0.7523016650342801\n"
     ]
    },
    {
     "name": "stdout",
     "output_type": "stream",
     "text": [
      "Test Loss: 3.643230676651001, C-Index: 0.7523016650342801\n"
     ]
    },
    {
     "name": "stderr",
     "output_type": "stream",
     "text": [
      "Epoch 0/20: Training Loss: 4.0757527351379395, C-Index: 0.6371022342586323\n"
     ]
    },
    {
     "name": "stdout",
     "output_type": "stream",
     "text": [
      "Epoch 0/20: Training Loss: 4.0757527351379395, C-Index: 0.6371022342586323\n"
     ]
    },
    {
     "name": "stderr",
     "output_type": "stream",
     "text": [
      "Epoch 1/20: Training Loss: 3.824218988418579, C-Index: 0.74432526814667\n"
     ]
    },
    {
     "name": "stdout",
     "output_type": "stream",
     "text": [
      "Epoch 1/20: Training Loss: 3.824218988418579, C-Index: 0.74432526814667\n"
     ]
    },
    {
     "name": "stderr",
     "output_type": "stream",
     "text": [
      "Epoch 2/20: Training Loss: 3.6835896968841553, C-Index: 0.7785934029386262\n"
     ]
    },
    {
     "name": "stdout",
     "output_type": "stream",
     "text": [
      "Epoch 2/20: Training Loss: 3.6835896968841553, C-Index: 0.7785934029386262\n"
     ]
    },
    {
     "name": "stderr",
     "output_type": "stream",
     "text": [
      "Epoch 3/20: Training Loss: 3.610302686691284, C-Index: 0.7971706517478531\n"
     ]
    },
    {
     "name": "stdout",
     "output_type": "stream",
     "text": [
      "Epoch 3/20: Training Loss: 3.610302686691284, C-Index: 0.7971706517478531\n"
     ]
    },
    {
     "name": "stderr",
     "output_type": "stream",
     "text": [
      "Epoch 4/20: Training Loss: 3.484027862548828, C-Index: 0.8280535461877443\n"
     ]
    },
    {
     "name": "stdout",
     "output_type": "stream",
     "text": [
      "Epoch 4/20: Training Loss: 3.484027862548828, C-Index: 0.8280535461877443\n"
     ]
    },
    {
     "name": "stderr",
     "output_type": "stream",
     "text": [
      "Epoch 5/20: Training Loss: 3.4222660064697266, C-Index: 0.8326384682084358\n"
     ]
    },
    {
     "name": "stdout",
     "output_type": "stream",
     "text": [
      "Epoch 5/20: Training Loss: 3.4222660064697266, C-Index: 0.8326384682084358\n"
     ]
    },
    {
     "name": "stderr",
     "output_type": "stream",
     "text": [
      "Epoch 6/20: Training Loss: 3.3696470260620117, C-Index: 0.8382567793892314\n"
     ]
    },
    {
     "name": "stdout",
     "output_type": "stream",
     "text": [
      "Epoch 6/20: Training Loss: 3.3696470260620117, C-Index: 0.8382567793892314\n"
     ]
    },
    {
     "name": "stderr",
     "output_type": "stream",
     "text": [
      "Epoch 7/20: Training Loss: 3.278827667236328, C-Index: 0.8530449346114101\n"
     ]
    },
    {
     "name": "stdout",
     "output_type": "stream",
     "text": [
      "Epoch 7/20: Training Loss: 3.278827667236328, C-Index: 0.8530449346114101\n"
     ]
    },
    {
     "name": "stderr",
     "output_type": "stream",
     "text": [
      "Epoch 8/20: Training Loss: 3.258246660232544, C-Index: 0.866918481036715\n"
     ]
    },
    {
     "name": "stdout",
     "output_type": "stream",
     "text": [
      "Epoch 8/20: Training Loss: 3.258246660232544, C-Index: 0.866918481036715\n"
     ]
    },
    {
     "name": "stderr",
     "output_type": "stream",
     "text": [
      "Epoch 9/20: Training Loss: 3.233738660812378, C-Index: 0.8698998681537968\n"
     ]
    },
    {
     "name": "stdout",
     "output_type": "stream",
     "text": [
      "Epoch 9/20: Training Loss: 3.233738660812378, C-Index: 0.8698998681537968\n"
     ]
    },
    {
     "name": "stderr",
     "output_type": "stream",
     "text": [
      "Epoch 10/20: Training Loss: 3.1334002017974854, C-Index: 0.8799843209920536\n"
     ]
    },
    {
     "name": "stdout",
     "output_type": "stream",
     "text": [
      "Epoch 10/20: Training Loss: 3.1334002017974854, C-Index: 0.8799843209920536\n"
     ]
    },
    {
     "name": "stderr",
     "output_type": "stream",
     "text": [
      "Epoch 11/20: Training Loss: 3.113579511642456, C-Index: 0.8777393721269999\n"
     ]
    },
    {
     "name": "stdout",
     "output_type": "stream",
     "text": [
      "Epoch 11/20: Training Loss: 3.113579511642456, C-Index: 0.8777393721269999\n"
     ]
    },
    {
     "name": "stderr",
     "output_type": "stream",
     "text": [
      "Epoch 12/20: Training Loss: 3.033849000930786, C-Index: 0.8955089144662605\n"
     ]
    },
    {
     "name": "stdout",
     "output_type": "stream",
     "text": [
      "Epoch 12/20: Training Loss: 3.033849000930786, C-Index: 0.8955089144662605\n"
     ]
    },
    {
     "name": "stderr",
     "output_type": "stream",
     "text": [
      "Epoch 13/20: Training Loss: 3.0231621265411377, C-Index: 0.8959602798465358\n"
     ]
    },
    {
     "name": "stdout",
     "output_type": "stream",
     "text": [
      "Epoch 13/20: Training Loss: 3.0231621265411377, C-Index: 0.8959602798465358\n"
     ]
    },
    {
     "name": "stderr",
     "output_type": "stream",
     "text": [
      "Epoch 14/20: Training Loss: 2.9339582920074463, C-Index: 0.9124232381902624\n"
     ]
    },
    {
     "name": "stdout",
     "output_type": "stream",
     "text": [
      "Epoch 14/20: Training Loss: 2.9339582920074463, C-Index: 0.9124232381902624\n"
     ]
    },
    {
     "name": "stderr",
     "output_type": "stream",
     "text": [
      "Epoch 15/20: Training Loss: 2.904451370239258, C-Index: 0.9097625580539025\n"
     ]
    },
    {
     "name": "stdout",
     "output_type": "stream",
     "text": [
      "Epoch 15/20: Training Loss: 2.904451370239258, C-Index: 0.9097625580539025\n"
     ]
    },
    {
     "name": "stderr",
     "output_type": "stream",
     "text": [
      "Epoch 16/20: Training Loss: 2.8505756855010986, C-Index: 0.915677820142774\n"
     ]
    },
    {
     "name": "stdout",
     "output_type": "stream",
     "text": [
      "Epoch 16/20: Training Loss: 2.8505756855010986, C-Index: 0.915677820142774\n"
     ]
    },
    {
     "name": "stderr",
     "output_type": "stream",
     "text": [
      "Epoch 17/20: Training Loss: 2.836064100265503, C-Index: 0.9207853757616791\n"
     ]
    },
    {
     "name": "stdout",
     "output_type": "stream",
     "text": [
      "Epoch 17/20: Training Loss: 2.836064100265503, C-Index: 0.9207853757616791\n"
     ]
    },
    {
     "name": "stderr",
     "output_type": "stream",
     "text": [
      "Epoch 18/20: Training Loss: 2.7814319133758545, C-Index: 0.9270094667949494\n"
     ]
    },
    {
     "name": "stdout",
     "output_type": "stream",
     "text": [
      "Epoch 18/20: Training Loss: 2.7814319133758545, C-Index: 0.9270094667949494\n"
     ]
    },
    {
     "name": "stderr",
     "output_type": "stream",
     "text": [
      "Epoch 19/20: Training Loss: 2.7582101821899414, C-Index: 0.9237430068061148\n",
      "****************************************************************************************************\n"
     ]
    },
    {
     "name": "stdout",
     "output_type": "stream",
     "text": [
      "Epoch 19/20: Training Loss: 2.7582101821899414, C-Index: 0.9237430068061148\n",
      "****************************************************************************************************\n"
     ]
    },
    {
     "name": "stderr",
     "output_type": "stream",
     "text": [
      "Final Train Loss: 2.7178080081939697, C-Index: 0.9351934338215206\n"
     ]
    },
    {
     "name": "stdout",
     "output_type": "stream",
     "text": [
      "Final Train Loss: 2.7178080081939697, C-Index: 0.9351934338215206\n"
     ]
    },
    {
     "name": "stderr",
     "output_type": "stream",
     "text": [
      "Test Loss: 3.497490167617798, C-Index: 0.7736288200769075\n"
     ]
    },
    {
     "name": "stdout",
     "output_type": "stream",
     "text": [
      "Test Loss: 3.497490167617798, C-Index: 0.7736288200769075\n"
     ]
    },
    {
     "name": "stderr",
     "output_type": "stream",
     "text": [
      "Epoch 0/20: Training Loss: 4.270522594451904, C-Index: 0.5218327332879245\n"
     ]
    },
    {
     "name": "stdout",
     "output_type": "stream",
     "text": [
      "Epoch 0/20: Training Loss: 4.270522594451904, C-Index: 0.5218327332879245\n"
     ]
    },
    {
     "name": "stderr",
     "output_type": "stream",
     "text": [
      "Epoch 1/20: Training Loss: 3.8049895763397217, C-Index: 0.733008173591515\n"
     ]
    },
    {
     "name": "stdout",
     "output_type": "stream",
     "text": [
      "Epoch 1/20: Training Loss: 3.8049895763397217, C-Index: 0.733008173591515\n"
     ]
    },
    {
     "name": "stderr",
     "output_type": "stream",
     "text": [
      "Epoch 2/20: Training Loss: 3.6948330402374268, C-Index: 0.7612508514157829\n"
     ]
    },
    {
     "name": "stdout",
     "output_type": "stream",
     "text": [
      "Epoch 2/20: Training Loss: 3.6948330402374268, C-Index: 0.7612508514157829\n"
     ]
    },
    {
     "name": "stderr",
     "output_type": "stream",
     "text": [
      "Epoch 3/20: Training Loss: 3.6744959354400635, C-Index: 0.7860513768609516\n"
     ]
    },
    {
     "name": "stdout",
     "output_type": "stream",
     "text": [
      "Epoch 3/20: Training Loss: 3.6744959354400635, C-Index: 0.7860513768609516\n"
     ]
    },
    {
     "name": "stderr",
     "output_type": "stream",
     "text": [
      "Epoch 4/20: Training Loss: 3.5442800521850586, C-Index: 0.7942979468716551\n"
     ]
    },
    {
     "name": "stdout",
     "output_type": "stream",
     "text": [
      "Epoch 4/20: Training Loss: 3.5442800521850586, C-Index: 0.7942979468716551\n"
     ]
    },
    {
     "name": "stderr",
     "output_type": "stream",
     "text": [
      "Epoch 5/20: Training Loss: 3.462430953979492, C-Index: 0.8185146443514645\n"
     ]
    },
    {
     "name": "stdout",
     "output_type": "stream",
     "text": [
      "Epoch 5/20: Training Loss: 3.462430953979492, C-Index: 0.8185146443514645\n"
     ]
    },
    {
     "name": "stderr",
     "output_type": "stream",
     "text": [
      "Epoch 6/20: Training Loss: 3.377762794494629, C-Index: 0.8307020531283449\n"
     ]
    },
    {
     "name": "stdout",
     "output_type": "stream",
     "text": [
      "Epoch 6/20: Training Loss: 3.377762794494629, C-Index: 0.8307020531283449\n"
     ]
    },
    {
     "name": "stderr",
     "output_type": "stream",
     "text": [
      "Epoch 7/20: Training Loss: 3.3244943618774414, C-Index: 0.8536659530991535\n"
     ]
    },
    {
     "name": "stdout",
     "output_type": "stream",
     "text": [
      "Epoch 7/20: Training Loss: 3.3244943618774414, C-Index: 0.8536659530991535\n"
     ]
    },
    {
     "name": "stderr",
     "output_type": "stream",
     "text": [
      "Epoch 8/20: Training Loss: 3.276418685913086, C-Index: 0.8529969835555123\n"
     ]
    },
    {
     "name": "stdout",
     "output_type": "stream",
     "text": [
      "Epoch 8/20: Training Loss: 3.276418685913086, C-Index: 0.8529969835555123\n"
     ]
    },
    {
     "name": "stderr",
     "output_type": "stream",
     "text": [
      "Epoch 9/20: Training Loss: 3.2283475399017334, C-Index: 0.8571324316434757\n"
     ]
    },
    {
     "name": "stdout",
     "output_type": "stream",
     "text": [
      "Epoch 9/20: Training Loss: 3.2283475399017334, C-Index: 0.8571324316434757\n"
     ]
    },
    {
     "name": "stderr",
     "output_type": "stream",
     "text": [
      "Epoch 10/20: Training Loss: 3.1795241832733154, C-Index: 0.8663033959326651\n"
     ]
    },
    {
     "name": "stdout",
     "output_type": "stream",
     "text": [
      "Epoch 10/20: Training Loss: 3.1795241832733154, C-Index: 0.8663033959326651\n"
     ]
    },
    {
     "name": "stderr",
     "output_type": "stream",
     "text": [
      "Epoch 11/20: Training Loss: 3.1031389236450195, C-Index: 0.872336284908047\n"
     ]
    },
    {
     "name": "stdout",
     "output_type": "stream",
     "text": [
      "Epoch 11/20: Training Loss: 3.1031389236450195, C-Index: 0.872336284908047\n"
     ]
    },
    {
     "name": "stderr",
     "output_type": "stream",
     "text": [
      "Epoch 12/20: Training Loss: 3.077683210372925, C-Index: 0.8927581006130194\n"
     ]
    },
    {
     "name": "stdout",
     "output_type": "stream",
     "text": [
      "Epoch 12/20: Training Loss: 3.077683210372925, C-Index: 0.8927581006130194\n"
     ]
    },
    {
     "name": "stderr",
     "output_type": "stream",
     "text": [
      "Epoch 13/20: Training Loss: 3.0508663654327393, C-Index: 0.8874306704291135\n"
     ]
    },
    {
     "name": "stdout",
     "output_type": "stream",
     "text": [
      "Epoch 13/20: Training Loss: 3.0508663654327393, C-Index: 0.8874306704291135\n"
     ]
    },
    {
     "name": "stderr",
     "output_type": "stream",
     "text": [
      "Epoch 14/20: Training Loss: 3.0062673091888428, C-Index: 0.8947041938308845\n"
     ]
    },
    {
     "name": "stdout",
     "output_type": "stream",
     "text": [
      "Epoch 14/20: Training Loss: 3.0062673091888428, C-Index: 0.8947041938308845\n"
     ]
    },
    {
     "name": "stderr",
     "output_type": "stream",
     "text": [
      "Epoch 15/20: Training Loss: 2.917773962020874, C-Index: 0.9063077746424054\n"
     ]
    },
    {
     "name": "stdout",
     "output_type": "stream",
     "text": [
      "Epoch 15/20: Training Loss: 2.917773962020874, C-Index: 0.9063077746424054\n"
     ]
    },
    {
     "name": "stderr",
     "output_type": "stream",
     "text": [
      "Epoch 16/20: Training Loss: 2.87272047996521, C-Index: 0.9127906976744186\n"
     ]
    },
    {
     "name": "stdout",
     "output_type": "stream",
     "text": [
      "Epoch 16/20: Training Loss: 2.87272047996521, C-Index: 0.9127906976744186\n"
     ]
    },
    {
     "name": "stderr",
     "output_type": "stream",
     "text": [
      "Epoch 17/20: Training Loss: 2.8904287815093994, C-Index: 0.9151138464532451\n"
     ]
    },
    {
     "name": "stdout",
     "output_type": "stream",
     "text": [
      "Epoch 17/20: Training Loss: 2.8904287815093994, C-Index: 0.9151138464532451\n"
     ]
    },
    {
     "name": "stderr",
     "output_type": "stream",
     "text": [
      "Epoch 18/20: Training Loss: 2.8546149730682373, C-Index: 0.9196506762673932\n"
     ]
    },
    {
     "name": "stdout",
     "output_type": "stream",
     "text": [
      "Epoch 18/20: Training Loss: 2.8546149730682373, C-Index: 0.9196506762673932\n"
     ]
    },
    {
     "name": "stderr",
     "output_type": "stream",
     "text": [
      "Epoch 19/20: Training Loss: 2.781681776046753, C-Index: 0.9208791476111706\n",
      "****************************************************************************************************\n"
     ]
    },
    {
     "name": "stdout",
     "output_type": "stream",
     "text": [
      "Epoch 19/20: Training Loss: 2.781681776046753, C-Index: 0.9208791476111706\n",
      "****************************************************************************************************\n"
     ]
    },
    {
     "name": "stderr",
     "output_type": "stream",
     "text": [
      "Final Train Loss: 2.7310030460357666, C-Index: 0.9352437481755376\n"
     ]
    },
    {
     "name": "stdout",
     "output_type": "stream",
     "text": [
      "Final Train Loss: 2.7310030460357666, C-Index: 0.9352437481755376\n"
     ]
    },
    {
     "name": "stderr",
     "output_type": "stream",
     "text": [
      "Test Loss: 3.2784714698791504, C-Index: 0.7925727976409879\n"
     ]
    },
    {
     "name": "stdout",
     "output_type": "stream",
     "text": [
      "Test Loss: 3.2784714698791504, C-Index: 0.7925727976409879\n",
      "Result Path: ./logs/single/results_5_24_WSI\n"
     ]
    },
    {
     "name": "stderr",
     "output_type": "stream",
     "text": [
      "Epoch 0/20: Training Loss: 4.196996688842773, C-Index: 0.567595112768432\n"
     ]
    },
    {
     "name": "stdout",
     "output_type": "stream",
     "text": [
      "Epoch 0/20: Training Loss: 4.196996688842773, C-Index: 0.567595112768432\n"
     ]
    },
    {
     "name": "stderr",
     "output_type": "stream",
     "text": [
      "Epoch 1/20: Training Loss: 3.9988553524017334, C-Index: 0.6691886188415007\n"
     ]
    },
    {
     "name": "stdout",
     "output_type": "stream",
     "text": [
      "Epoch 1/20: Training Loss: 3.9988553524017334, C-Index: 0.6691886188415007\n"
     ]
    },
    {
     "name": "stderr",
     "output_type": "stream",
     "text": [
      "Epoch 2/20: Training Loss: 3.8722684383392334, C-Index: 0.7245836380858742\n"
     ]
    },
    {
     "name": "stdout",
     "output_type": "stream",
     "text": [
      "Epoch 2/20: Training Loss: 3.8722684383392334, C-Index: 0.7245836380858742\n"
     ]
    },
    {
     "name": "stderr",
     "output_type": "stream",
     "text": [
      "Epoch 3/20: Training Loss: 3.8002490997314453, C-Index: 0.7559741489910193\n"
     ]
    },
    {
     "name": "stdout",
     "output_type": "stream",
     "text": [
      "Epoch 3/20: Training Loss: 3.8002490997314453, C-Index: 0.7559741489910193\n"
     ]
    },
    {
     "name": "stderr",
     "output_type": "stream",
     "text": [
      "Epoch 4/20: Training Loss: 3.770212411880493, C-Index: 0.7528446901116294\n"
     ]
    },
    {
     "name": "stdout",
     "output_type": "stream",
     "text": [
      "Epoch 4/20: Training Loss: 3.770212411880493, C-Index: 0.7528446901116294\n"
     ]
    },
    {
     "name": "stderr",
     "output_type": "stream",
     "text": [
      "Epoch 5/20: Training Loss: 3.6146764755249023, C-Index: 0.7942830421697582\n"
     ]
    },
    {
     "name": "stdout",
     "output_type": "stream",
     "text": [
      "Epoch 5/20: Training Loss: 3.6146764755249023, C-Index: 0.7942830421697582\n"
     ]
    },
    {
     "name": "stderr",
     "output_type": "stream",
     "text": [
      "Epoch 6/20: Training Loss: 3.595918893814087, C-Index: 0.7965851728396542\n"
     ]
    },
    {
     "name": "stdout",
     "output_type": "stream",
     "text": [
      "Epoch 6/20: Training Loss: 3.595918893814087, C-Index: 0.7965851728396542\n"
     ]
    },
    {
     "name": "stderr",
     "output_type": "stream",
     "text": [
      "Epoch 7/20: Training Loss: 3.6005566120147705, C-Index: 0.8048104938789703\n"
     ]
    },
    {
     "name": "stdout",
     "output_type": "stream",
     "text": [
      "Epoch 7/20: Training Loss: 3.6005566120147705, C-Index: 0.8048104938789703\n"
     ]
    },
    {
     "name": "stderr",
     "output_type": "stream",
     "text": [
      "Epoch 8/20: Training Loss: 3.561992883682251, C-Index: 0.8189709955516121\n"
     ]
    },
    {
     "name": "stdout",
     "output_type": "stream",
     "text": [
      "Epoch 8/20: Training Loss: 3.561992883682251, C-Index: 0.8189709955516121\n"
     ]
    },
    {
     "name": "stderr",
     "output_type": "stream",
     "text": [
      "Epoch 9/20: Training Loss: 3.5231075286865234, C-Index: 0.8142708121005743\n"
     ]
    },
    {
     "name": "stdout",
     "output_type": "stream",
     "text": [
      "Epoch 9/20: Training Loss: 3.5231075286865234, C-Index: 0.8142708121005743\n"
     ]
    },
    {
     "name": "stderr",
     "output_type": "stream",
     "text": [
      "Epoch 10/20: Training Loss: 3.491657018661499, C-Index: 0.8216927854582079\n"
     ]
    },
    {
     "name": "stdout",
     "output_type": "stream",
     "text": [
      "Epoch 10/20: Training Loss: 3.491657018661499, C-Index: 0.8216927854582079\n"
     ]
    },
    {
     "name": "stderr",
     "output_type": "stream",
     "text": [
      "Epoch 11/20: Training Loss: 3.352503538131714, C-Index: 0.8535269361278641\n"
     ]
    },
    {
     "name": "stdout",
     "output_type": "stream",
     "text": [
      "Epoch 11/20: Training Loss: 3.352503538131714, C-Index: 0.8535269361278641\n"
     ]
    },
    {
     "name": "stderr",
     "output_type": "stream",
     "text": [
      "Epoch 12/20: Training Loss: 3.3586575984954834, C-Index: 0.8541744103787724\n"
     ]
    },
    {
     "name": "stdout",
     "output_type": "stream",
     "text": [
      "Epoch 12/20: Training Loss: 3.3586575984954834, C-Index: 0.8541744103787724\n"
     ]
    },
    {
     "name": "stderr",
     "output_type": "stream",
     "text": [
      "Epoch 13/20: Training Loss: 3.3264315128326416, C-Index: 0.8614405103056318\n"
     ]
    },
    {
     "name": "stdout",
     "output_type": "stream",
     "text": [
      "Epoch 13/20: Training Loss: 3.3264315128326416, C-Index: 0.8614405103056318\n"
     ]
    },
    {
     "name": "stderr",
     "output_type": "stream",
     "text": [
      "Epoch 14/20: Training Loss: 3.262539863586426, C-Index: 0.8728912123355835\n"
     ]
    },
    {
     "name": "stdout",
     "output_type": "stream",
     "text": [
      "Epoch 14/20: Training Loss: 3.262539863586426, C-Index: 0.8728912123355835\n"
     ]
    },
    {
     "name": "stderr",
     "output_type": "stream",
     "text": [
      "Epoch 15/20: Training Loss: 3.251347780227661, C-Index: 0.8649056965743817\n"
     ]
    },
    {
     "name": "stdout",
     "output_type": "stream",
     "text": [
      "Epoch 15/20: Training Loss: 3.251347780227661, C-Index: 0.8649056965743817\n"
     ]
    },
    {
     "name": "stderr",
     "output_type": "stream",
     "text": [
      "Epoch 16/20: Training Loss: 3.254934549331665, C-Index: 0.8645220081293989\n"
     ]
    },
    {
     "name": "stdout",
     "output_type": "stream",
     "text": [
      "Epoch 16/20: Training Loss: 3.254934549331665, C-Index: 0.8645220081293989\n"
     ]
    },
    {
     "name": "stderr",
     "output_type": "stream",
     "text": [
      "Epoch 17/20: Training Loss: 3.1925041675567627, C-Index: 0.8784546947878323\n"
     ]
    },
    {
     "name": "stdout",
     "output_type": "stream",
     "text": [
      "Epoch 17/20: Training Loss: 3.1925041675567627, C-Index: 0.8784546947878323\n"
     ]
    },
    {
     "name": "stderr",
     "output_type": "stream",
     "text": [
      "Epoch 18/20: Training Loss: 3.1590611934661865, C-Index: 0.8806728936103884\n"
     ]
    },
    {
     "name": "stdout",
     "output_type": "stream",
     "text": [
      "Epoch 18/20: Training Loss: 3.1590611934661865, C-Index: 0.8806728936103884\n"
     ]
    },
    {
     "name": "stderr",
     "output_type": "stream",
     "text": [
      "Epoch 19/20: Training Loss: 3.066563606262207, C-Index: 0.8902171436793324\n",
      "****************************************************************************************************\n"
     ]
    },
    {
     "name": "stdout",
     "output_type": "stream",
     "text": [
      "Epoch 19/20: Training Loss: 3.066563606262207, C-Index: 0.8902171436793324\n",
      "****************************************************************************************************\n"
     ]
    },
    {
     "name": "stderr",
     "output_type": "stream",
     "text": [
      "Final Train Loss: 3.169687509536743, C-Index: 0.8777592594813012\n"
     ]
    },
    {
     "name": "stdout",
     "output_type": "stream",
     "text": [
      "Final Train Loss: 3.169687509536743, C-Index: 0.8777592594813012\n"
     ]
    },
    {
     "name": "stderr",
     "output_type": "stream",
     "text": [
      "Test Loss: 3.664322853088379, C-Index: 0.7277864380358535\n"
     ]
    },
    {
     "name": "stdout",
     "output_type": "stream",
     "text": [
      "Test Loss: 3.664322853088379, C-Index: 0.7277864380358535\n"
     ]
    },
    {
     "name": "stderr",
     "output_type": "stream",
     "text": [
      "Epoch 0/20: Training Loss: 4.191369533538818, C-Index: 0.573869395241083\n"
     ]
    },
    {
     "name": "stdout",
     "output_type": "stream",
     "text": [
      "Epoch 0/20: Training Loss: 4.191369533538818, C-Index: 0.573869395241083\n"
     ]
    },
    {
     "name": "stderr",
     "output_type": "stream",
     "text": [
      "Epoch 1/20: Training Loss: 3.979281187057495, C-Index: 0.7000941165114146\n"
     ]
    },
    {
     "name": "stdout",
     "output_type": "stream",
     "text": [
      "Epoch 1/20: Training Loss: 3.979281187057495, C-Index: 0.7000941165114146\n"
     ]
    },
    {
     "name": "stderr",
     "output_type": "stream",
     "text": [
      "Epoch 2/20: Training Loss: 3.969496488571167, C-Index: 0.7110985086152807\n"
     ]
    },
    {
     "name": "stdout",
     "output_type": "stream",
     "text": [
      "Epoch 2/20: Training Loss: 3.969496488571167, C-Index: 0.7110985086152807\n"
     ]
    },
    {
     "name": "stderr",
     "output_type": "stream",
     "text": [
      "Epoch 3/20: Training Loss: 3.8418405055999756, C-Index: 0.7401057000820503\n"
     ]
    },
    {
     "name": "stdout",
     "output_type": "stream",
     "text": [
      "Epoch 3/20: Training Loss: 3.8418405055999756, C-Index: 0.7401057000820503\n"
     ]
    },
    {
     "name": "stderr",
     "output_type": "stream",
     "text": [
      "Epoch 4/20: Training Loss: 3.829866409301758, C-Index: 0.7579516385925962\n"
     ]
    },
    {
     "name": "stdout",
     "output_type": "stream",
     "text": [
      "Epoch 4/20: Training Loss: 3.829866409301758, C-Index: 0.7579516385925962\n"
     ]
    },
    {
     "name": "stderr",
     "output_type": "stream",
     "text": [
      "Epoch 5/20: Training Loss: 3.697646379470825, C-Index: 0.77380665090014\n"
     ]
    },
    {
     "name": "stdout",
     "output_type": "stream",
     "text": [
      "Epoch 5/20: Training Loss: 3.697646379470825, C-Index: 0.77380665090014\n"
     ]
    },
    {
     "name": "stderr",
     "output_type": "stream",
     "text": [
      "Epoch 6/20: Training Loss: 3.7315471172332764, C-Index: 0.7781142912302718\n"
     ]
    },
    {
     "name": "stdout",
     "output_type": "stream",
     "text": [
      "Epoch 6/20: Training Loss: 3.7315471172332764, C-Index: 0.7781142912302718\n"
     ]
    },
    {
     "name": "stderr",
     "output_type": "stream",
     "text": [
      "Epoch 7/20: Training Loss: 3.622737169265747, C-Index: 0.7930402046430812\n"
     ]
    },
    {
     "name": "stdout",
     "output_type": "stream",
     "text": [
      "Epoch 7/20: Training Loss: 3.622737169265747, C-Index: 0.7930402046430812\n"
     ]
    },
    {
     "name": "stderr",
     "output_type": "stream",
     "text": [
      "Epoch 8/20: Training Loss: 3.5452888011932373, C-Index: 0.8163280081084995\n"
     ]
    },
    {
     "name": "stdout",
     "output_type": "stream",
     "text": [
      "Epoch 8/20: Training Loss: 3.5452888011932373, C-Index: 0.8163280081084995\n"
     ]
    },
    {
     "name": "stderr",
     "output_type": "stream",
     "text": [
      "Epoch 9/20: Training Loss: 3.498443365097046, C-Index: 0.8284545586176939\n"
     ]
    },
    {
     "name": "stdout",
     "output_type": "stream",
     "text": [
      "Epoch 9/20: Training Loss: 3.498443365097046, C-Index: 0.8284545586176939\n"
     ]
    },
    {
     "name": "stderr",
     "output_type": "stream",
     "text": [
      "Epoch 10/20: Training Loss: 3.5437171459198, C-Index: 0.8225179786669241\n"
     ]
    },
    {
     "name": "stdout",
     "output_type": "stream",
     "text": [
      "Epoch 10/20: Training Loss: 3.5437171459198, C-Index: 0.8225179786669241\n"
     ]
    },
    {
     "name": "stderr",
     "output_type": "stream",
     "text": [
      "Epoch 11/20: Training Loss: 3.4711544513702393, C-Index: 0.8375404218350306\n"
     ]
    },
    {
     "name": "stdout",
     "output_type": "stream",
     "text": [
      "Epoch 11/20: Training Loss: 3.4711544513702393, C-Index: 0.8375404218350306\n"
     ]
    },
    {
     "name": "stderr",
     "output_type": "stream",
     "text": [
      "Epoch 12/20: Training Loss: 3.463017463684082, C-Index: 0.8437424586128675\n"
     ]
    },
    {
     "name": "stdout",
     "output_type": "stream",
     "text": [
      "Epoch 12/20: Training Loss: 3.463017463684082, C-Index: 0.8437424586128675\n"
     ]
    },
    {
     "name": "stderr",
     "output_type": "stream",
     "text": [
      "Epoch 13/20: Training Loss: 3.4019458293914795, C-Index: 0.8381799314638737\n"
     ]
    },
    {
     "name": "stdout",
     "output_type": "stream",
     "text": [
      "Epoch 13/20: Training Loss: 3.4019458293914795, C-Index: 0.8381799314638737\n"
     ]
    },
    {
     "name": "stderr",
     "output_type": "stream",
     "text": [
      "Epoch 14/20: Training Loss: 3.3680551052093506, C-Index: 0.8611540132245765\n"
     ]
    },
    {
     "name": "stdout",
     "output_type": "stream",
     "text": [
      "Epoch 14/20: Training Loss: 3.3680551052093506, C-Index: 0.8611540132245765\n"
     ]
    },
    {
     "name": "stderr",
     "output_type": "stream",
     "text": [
      "Epoch 15/20: Training Loss: 3.3447182178497314, C-Index: 0.8515975674501665\n"
     ]
    },
    {
     "name": "stdout",
     "output_type": "stream",
     "text": [
      "Epoch 15/20: Training Loss: 3.3447182178497314, C-Index: 0.8515975674501665\n"
     ]
    },
    {
     "name": "stderr",
     "output_type": "stream",
     "text": [
      "Epoch 16/20: Training Loss: 3.2708303928375244, C-Index: 0.8680438245089048\n"
     ]
    },
    {
     "name": "stdout",
     "output_type": "stream",
     "text": [
      "Epoch 16/20: Training Loss: 3.2708303928375244, C-Index: 0.8680438245089048\n"
     ]
    },
    {
     "name": "stderr",
     "output_type": "stream",
     "text": [
      "Epoch 17/20: Training Loss: 3.22023868560791, C-Index: 0.87067426034075\n"
     ]
    },
    {
     "name": "stdout",
     "output_type": "stream",
     "text": [
      "Epoch 17/20: Training Loss: 3.22023868560791, C-Index: 0.87067426034075\n"
     ]
    },
    {
     "name": "stderr",
     "output_type": "stream",
     "text": [
      "Epoch 18/20: Training Loss: 3.1762216091156006, C-Index: 0.8816545200057918\n"
     ]
    },
    {
     "name": "stdout",
     "output_type": "stream",
     "text": [
      "Epoch 18/20: Training Loss: 3.1762216091156006, C-Index: 0.8816545200057918\n"
     ]
    },
    {
     "name": "stderr",
     "output_type": "stream",
     "text": [
      "Epoch 19/20: Training Loss: 3.1509974002838135, C-Index: 0.8830662676770115\n",
      "****************************************************************************************************\n"
     ]
    },
    {
     "name": "stdout",
     "output_type": "stream",
     "text": [
      "Epoch 19/20: Training Loss: 3.1509974002838135, C-Index: 0.8830662676770115\n",
      "****************************************************************************************************\n"
     ]
    },
    {
     "name": "stderr",
     "output_type": "stream",
     "text": [
      "Final Train Loss: 3.2598001956939697, C-Index: 0.8868852261209518\n"
     ]
    },
    {
     "name": "stdout",
     "output_type": "stream",
     "text": [
      "Final Train Loss: 3.2598001956939697, C-Index: 0.8868852261209518\n"
     ]
    },
    {
     "name": "stderr",
     "output_type": "stream",
     "text": [
      "Test Loss: 3.2953011989593506, C-Index: 0.7172185430463576\n"
     ]
    },
    {
     "name": "stdout",
     "output_type": "stream",
     "text": [
      "Test Loss: 3.2953011989593506, C-Index: 0.7172185430463576\n"
     ]
    },
    {
     "name": "stderr",
     "output_type": "stream",
     "text": [
      "Epoch 0/20: Training Loss: 4.236246585845947, C-Index: 0.5505343365121963\n"
     ]
    },
    {
     "name": "stdout",
     "output_type": "stream",
     "text": [
      "Epoch 0/20: Training Loss: 4.236246585845947, C-Index: 0.5505343365121963\n"
     ]
    },
    {
     "name": "stderr",
     "output_type": "stream",
     "text": [
      "Epoch 1/20: Training Loss: 4.0711846351623535, C-Index: 0.6548138208654813\n"
     ]
    },
    {
     "name": "stdout",
     "output_type": "stream",
     "text": [
      "Epoch 1/20: Training Loss: 4.0711846351623535, C-Index: 0.6548138208654813\n"
     ]
    },
    {
     "name": "stderr",
     "output_type": "stream",
     "text": [
      "Epoch 2/20: Training Loss: 3.906642198562622, C-Index: 0.735096084727081\n"
     ]
    },
    {
     "name": "stdout",
     "output_type": "stream",
     "text": [
      "Epoch 2/20: Training Loss: 3.906642198562622, C-Index: 0.735096084727081\n"
     ]
    },
    {
     "name": "stderr",
     "output_type": "stream",
     "text": [
      "Epoch 3/20: Training Loss: 3.81754469871521, C-Index: 0.7413020558777016\n"
     ]
    },
    {
     "name": "stdout",
     "output_type": "stream",
     "text": [
      "Epoch 3/20: Training Loss: 3.81754469871521, C-Index: 0.7413020558777016\n"
     ]
    },
    {
     "name": "stderr",
     "output_type": "stream",
     "text": [
      "Epoch 4/20: Training Loss: 3.7718124389648438, C-Index: 0.763262567690612\n"
     ]
    },
    {
     "name": "stdout",
     "output_type": "stream",
     "text": [
      "Epoch 4/20: Training Loss: 3.7718124389648438, C-Index: 0.763262567690612\n"
     ]
    },
    {
     "name": "stderr",
     "output_type": "stream",
     "text": [
      "Epoch 5/20: Training Loss: 3.7608015537261963, C-Index: 0.7680907653232376\n"
     ]
    },
    {
     "name": "stdout",
     "output_type": "stream",
     "text": [
      "Epoch 5/20: Training Loss: 3.7608015537261963, C-Index: 0.7680907653232376\n"
     ]
    },
    {
     "name": "stderr",
     "output_type": "stream",
     "text": [
      "Epoch 6/20: Training Loss: 3.609879732131958, C-Index: 0.7952868165045287\n"
     ]
    },
    {
     "name": "stdout",
     "output_type": "stream",
     "text": [
      "Epoch 6/20: Training Loss: 3.609879732131958, C-Index: 0.7952868165045287\n"
     ]
    },
    {
     "name": "stderr",
     "output_type": "stream",
     "text": [
      "Epoch 7/20: Training Loss: 3.6210591793060303, C-Index: 0.8101428092203\n"
     ]
    },
    {
     "name": "stdout",
     "output_type": "stream",
     "text": [
      "Epoch 7/20: Training Loss: 3.6210591793060303, C-Index: 0.8101428092203\n"
     ]
    },
    {
     "name": "stderr",
     "output_type": "stream",
     "text": [
      "Epoch 8/20: Training Loss: 3.5512096881866455, C-Index: 0.8069679398092682\n"
     ]
    },
    {
     "name": "stdout",
     "output_type": "stream",
     "text": [
      "Epoch 8/20: Training Loss: 3.5512096881866455, C-Index: 0.8069679398092682\n"
     ]
    },
    {
     "name": "stderr",
     "output_type": "stream",
     "text": [
      "Epoch 9/20: Training Loss: 3.504575490951538, C-Index: 0.8283893228542675\n"
     ]
    },
    {
     "name": "stdout",
     "output_type": "stream",
     "text": [
      "Epoch 9/20: Training Loss: 3.504575490951538, C-Index: 0.8283893228542675\n"
     ]
    },
    {
     "name": "stderr",
     "output_type": "stream",
     "text": [
      "Epoch 10/20: Training Loss: 3.4674007892608643, C-Index: 0.8334451526333445\n"
     ]
    },
    {
     "name": "stdout",
     "output_type": "stream",
     "text": [
      "Epoch 10/20: Training Loss: 3.4674007892608643, C-Index: 0.8334451526333445\n"
     ]
    },
    {
     "name": "stderr",
     "output_type": "stream",
     "text": [
      "Epoch 11/20: Training Loss: 3.390592336654663, C-Index: 0.8354698806728327\n"
     ]
    },
    {
     "name": "stdout",
     "output_type": "stream",
     "text": [
      "Epoch 11/20: Training Loss: 3.390592336654663, C-Index: 0.8354698806728327\n"
     ]
    },
    {
     "name": "stderr",
     "output_type": "stream",
     "text": [
      "Epoch 12/20: Training Loss: 3.3391621112823486, C-Index: 0.8577418891072027\n"
     ]
    },
    {
     "name": "stdout",
     "output_type": "stream",
     "text": [
      "Epoch 12/20: Training Loss: 3.3391621112823486, C-Index: 0.8577418891072027\n"
     ]
    },
    {
     "name": "stderr",
     "output_type": "stream",
     "text": [
      "Epoch 13/20: Training Loss: 3.282935857772827, C-Index: 0.8662241817223367\n"
     ]
    },
    {
     "name": "stdout",
     "output_type": "stream",
     "text": [
      "Epoch 13/20: Training Loss: 3.282935857772827, C-Index: 0.8662241817223367\n"
     ]
    },
    {
     "name": "stderr",
     "output_type": "stream",
     "text": [
      "Epoch 14/20: Training Loss: 3.2450997829437256, C-Index: 0.8889514544496094\n"
     ]
    },
    {
     "name": "stdout",
     "output_type": "stream",
     "text": [
      "Epoch 14/20: Training Loss: 3.2450997829437256, C-Index: 0.8889514544496094\n"
     ]
    },
    {
     "name": "stderr",
     "output_type": "stream",
     "text": [
      "Epoch 15/20: Training Loss: 3.1972217559814453, C-Index: 0.8895984089711026\n"
     ]
    },
    {
     "name": "stdout",
     "output_type": "stream",
     "text": [
      "Epoch 15/20: Training Loss: 3.1972217559814453, C-Index: 0.8895984089711026\n"
     ]
    },
    {
     "name": "stderr",
     "output_type": "stream",
     "text": [
      "Epoch 16/20: Training Loss: 3.202115058898926, C-Index: 0.8702017539655916\n"
     ]
    },
    {
     "name": "stdout",
     "output_type": "stream",
     "text": [
      "Epoch 16/20: Training Loss: 3.202115058898926, C-Index: 0.8702017539655916\n"
     ]
    },
    {
     "name": "stderr",
     "output_type": "stream",
     "text": [
      "Epoch 17/20: Training Loss: 3.15456485748291, C-Index: 0.8929050654142905\n"
     ]
    },
    {
     "name": "stdout",
     "output_type": "stream",
     "text": [
      "Epoch 17/20: Training Loss: 3.15456485748291, C-Index: 0.8929050654142905\n"
     ]
    },
    {
     "name": "stderr",
     "output_type": "stream",
     "text": [
      "Epoch 18/20: Training Loss: 3.0638396739959717, C-Index: 0.8903651698854651\n"
     ]
    },
    {
     "name": "stdout",
     "output_type": "stream",
     "text": [
      "Epoch 18/20: Training Loss: 3.0638396739959717, C-Index: 0.8903651698854651\n"
     ]
    },
    {
     "name": "stderr",
     "output_type": "stream",
     "text": [
      "Epoch 19/20: Training Loss: 3.04768443107605, C-Index: 0.8940552067858341\n",
      "****************************************************************************************************\n"
     ]
    },
    {
     "name": "stdout",
     "output_type": "stream",
     "text": [
      "Epoch 19/20: Training Loss: 3.04768443107605, C-Index: 0.8940552067858341\n",
      "****************************************************************************************************\n"
     ]
    },
    {
     "name": "stderr",
     "output_type": "stream",
     "text": [
      "Final Train Loss: 3.141273260116577, C-Index: 0.9072758422389419\n"
     ]
    },
    {
     "name": "stdout",
     "output_type": "stream",
     "text": [
      "Final Train Loss: 3.141273260116577, C-Index: 0.9072758422389419\n"
     ]
    },
    {
     "name": "stderr",
     "output_type": "stream",
     "text": [
      "Test Loss: 3.2713394165039062, C-Index: 0.7414299706170421\n"
     ]
    },
    {
     "name": "stdout",
     "output_type": "stream",
     "text": [
      "Test Loss: 3.2713394165039062, C-Index: 0.7414299706170421\n"
     ]
    },
    {
     "name": "stderr",
     "output_type": "stream",
     "text": [
      "Epoch 0/20: Training Loss: 4.280430316925049, C-Index: 0.5290121037190132\n"
     ]
    },
    {
     "name": "stdout",
     "output_type": "stream",
     "text": [
      "Epoch 0/20: Training Loss: 4.280430316925049, C-Index: 0.5290121037190132\n"
     ]
    },
    {
     "name": "stderr",
     "output_type": "stream",
     "text": [
      "Epoch 1/20: Training Loss: 4.1235880851745605, C-Index: 0.6255805390252883\n"
     ]
    },
    {
     "name": "stdout",
     "output_type": "stream",
     "text": [
      "Epoch 1/20: Training Loss: 4.1235880851745605, C-Index: 0.6255805390252883\n"
     ]
    },
    {
     "name": "stderr",
     "output_type": "stream",
     "text": [
      "Epoch 2/20: Training Loss: 3.951639175415039, C-Index: 0.7073251850004157\n"
     ]
    },
    {
     "name": "stdout",
     "output_type": "stream",
     "text": [
      "Epoch 2/20: Training Loss: 3.951639175415039, C-Index: 0.7073251850004157\n"
     ]
    },
    {
     "name": "stderr",
     "output_type": "stream",
     "text": [
      "Epoch 3/20: Training Loss: 3.8508212566375732, C-Index: 0.7616434451056552\n"
     ]
    },
    {
     "name": "stdout",
     "output_type": "stream",
     "text": [
      "Epoch 3/20: Training Loss: 3.8508212566375732, C-Index: 0.7616434451056552\n"
     ]
    },
    {
     "name": "stderr",
     "output_type": "stream",
     "text": [
      "Epoch 4/20: Training Loss: 3.765947103500366, C-Index: 0.7586383019159273\n"
     ]
    },
    {
     "name": "stdout",
     "output_type": "stream",
     "text": [
      "Epoch 4/20: Training Loss: 3.765947103500366, C-Index: 0.7586383019159273\n"
     ]
    },
    {
     "name": "stderr",
     "output_type": "stream",
     "text": [
      "Epoch 5/20: Training Loss: 3.7137622833251953, C-Index: 0.7955671168442433\n"
     ]
    },
    {
     "name": "stdout",
     "output_type": "stream",
     "text": [
      "Epoch 5/20: Training Loss: 3.7137622833251953, C-Index: 0.7955671168442433\n"
     ]
    },
    {
     "name": "stderr",
     "output_type": "stream",
     "text": [
      "Epoch 6/20: Training Loss: 3.7089366912841797, C-Index: 0.7956383850621815\n"
     ]
    },
    {
     "name": "stdout",
     "output_type": "stream",
     "text": [
      "Epoch 6/20: Training Loss: 3.7089366912841797, C-Index: 0.7956383850621815\n"
     ]
    },
    {
     "name": "stderr",
     "output_type": "stream",
     "text": [
      "Epoch 7/20: Training Loss: 3.6160411834716797, C-Index: 0.8061148130990985\n"
     ]
    },
    {
     "name": "stdout",
     "output_type": "stream",
     "text": [
      "Epoch 7/20: Training Loss: 3.6160411834716797, C-Index: 0.8061148130990985\n"
     ]
    },
    {
     "name": "stderr",
     "output_type": "stream",
     "text": [
      "Epoch 8/20: Training Loss: 3.663531541824341, C-Index: 0.8093693950516101\n"
     ]
    },
    {
     "name": "stdout",
     "output_type": "stream",
     "text": [
      "Epoch 8/20: Training Loss: 3.663531541824341, C-Index: 0.8093693950516101\n"
     ]
    },
    {
     "name": "stderr",
     "output_type": "stream",
     "text": [
      "Epoch 9/20: Training Loss: 3.4688193798065186, C-Index: 0.8329354191165117\n"
     ]
    },
    {
     "name": "stdout",
     "output_type": "stream",
     "text": [
      "Epoch 9/20: Training Loss: 3.4688193798065186, C-Index: 0.8329354191165117\n"
     ]
    },
    {
     "name": "stderr",
     "output_type": "stream",
     "text": [
      "Epoch 10/20: Training Loss: 3.4515793323516846, C-Index: 0.8481986957916118\n"
     ]
    },
    {
     "name": "stdout",
     "output_type": "stream",
     "text": [
      "Epoch 10/20: Training Loss: 3.4515793323516846, C-Index: 0.8481986957916118\n"
     ]
    },
    {
     "name": "stderr",
     "output_type": "stream",
     "text": [
      "Epoch 11/20: Training Loss: 3.471876382827759, C-Index: 0.837128365938543\n"
     ]
    },
    {
     "name": "stdout",
     "output_type": "stream",
     "text": [
      "Epoch 11/20: Training Loss: 3.471876382827759, C-Index: 0.837128365938543\n"
     ]
    },
    {
     "name": "stderr",
     "output_type": "stream",
     "text": [
      "Epoch 12/20: Training Loss: 3.3886969089508057, C-Index: 0.8567746380168431\n"
     ]
    },
    {
     "name": "stdout",
     "output_type": "stream",
     "text": [
      "Epoch 12/20: Training Loss: 3.3886969089508057, C-Index: 0.8567746380168431\n"
     ]
    },
    {
     "name": "stderr",
     "output_type": "stream",
     "text": [
      "Epoch 13/20: Training Loss: 3.3176326751708984, C-Index: 0.8559669315468766\n"
     ]
    },
    {
     "name": "stdout",
     "output_type": "stream",
     "text": [
      "Epoch 13/20: Training Loss: 3.3176326751708984, C-Index: 0.8559669315468766\n"
     ]
    },
    {
     "name": "stderr",
     "output_type": "stream",
     "text": [
      "Epoch 14/20: Training Loss: 3.3773396015167236, C-Index: 0.8646378980626923\n"
     ]
    },
    {
     "name": "stdout",
     "output_type": "stream",
     "text": [
      "Epoch 14/20: Training Loss: 3.3773396015167236, C-Index: 0.8646378980626923\n"
     ]
    },
    {
     "name": "stderr",
     "output_type": "stream",
     "text": [
      "Epoch 15/20: Training Loss: 3.2702929973602295, C-Index: 0.8743778878475811\n"
     ]
    },
    {
     "name": "stdout",
     "output_type": "stream",
     "text": [
      "Epoch 15/20: Training Loss: 3.2702929973602295, C-Index: 0.8743778878475811\n"
     ]
    },
    {
     "name": "stderr",
     "output_type": "stream",
     "text": [
      "Epoch 16/20: Training Loss: 3.224454164505005, C-Index: 0.879782394374562\n"
     ]
    },
    {
     "name": "stdout",
     "output_type": "stream",
     "text": [
      "Epoch 16/20: Training Loss: 3.224454164505005, C-Index: 0.879782394374562\n"
     ]
    },
    {
     "name": "stderr",
     "output_type": "stream",
     "text": [
      "Epoch 17/20: Training Loss: 3.1550331115722656, C-Index: 0.8835358538526411\n"
     ]
    },
    {
     "name": "stdout",
     "output_type": "stream",
     "text": [
      "Epoch 17/20: Training Loss: 3.1550331115722656, C-Index: 0.8835358538526411\n"
     ]
    },
    {
     "name": "stderr",
     "output_type": "stream",
     "text": [
      "Epoch 18/20: Training Loss: 3.1065008640289307, C-Index: 0.8948318663958474\n"
     ]
    },
    {
     "name": "stdout",
     "output_type": "stream",
     "text": [
      "Epoch 18/20: Training Loss: 3.1065008640289307, C-Index: 0.8948318663958474\n"
     ]
    },
    {
     "name": "stderr",
     "output_type": "stream",
     "text": [
      "Epoch 19/20: Training Loss: 3.1636343002319336, C-Index: 0.8819917091306465\n",
      "****************************************************************************************************\n"
     ]
    },
    {
     "name": "stdout",
     "output_type": "stream",
     "text": [
      "Epoch 19/20: Training Loss: 3.1636343002319336, C-Index: 0.8819917091306465\n",
      "****************************************************************************************************\n"
     ]
    },
    {
     "name": "stderr",
     "output_type": "stream",
     "text": [
      "Final Train Loss: 3.098984718322754, C-Index: 0.9075294872251719\n"
     ]
    },
    {
     "name": "stdout",
     "output_type": "stream",
     "text": [
      "Final Train Loss: 3.098984718322754, C-Index: 0.9075294872251719\n"
     ]
    },
    {
     "name": "stderr",
     "output_type": "stream",
     "text": [
      "Test Loss: 3.5153255462646484, C-Index: 0.7144302772718073\n"
     ]
    },
    {
     "name": "stdout",
     "output_type": "stream",
     "text": [
      "Test Loss: 3.5153255462646484, C-Index: 0.7144302772718073\n"
     ]
    },
    {
     "name": "stderr",
     "output_type": "stream",
     "text": [
      "Epoch 0/20: Training Loss: 4.363368034362793, C-Index: 0.5231098569621485\n"
     ]
    },
    {
     "name": "stdout",
     "output_type": "stream",
     "text": [
      "Epoch 0/20: Training Loss: 4.363368034362793, C-Index: 0.5231098569621485\n"
     ]
    },
    {
     "name": "stderr",
     "output_type": "stream",
     "text": [
      "Epoch 1/20: Training Loss: 4.059731483459473, C-Index: 0.6493383283059259\n"
     ]
    },
    {
     "name": "stdout",
     "output_type": "stream",
     "text": [
      "Epoch 1/20: Training Loss: 4.059731483459473, C-Index: 0.6493383283059259\n"
     ]
    },
    {
     "name": "stderr",
     "output_type": "stream",
     "text": [
      "Epoch 2/20: Training Loss: 3.9078872203826904, C-Index: 0.6934538289384061\n"
     ]
    },
    {
     "name": "stdout",
     "output_type": "stream",
     "text": [
      "Epoch 2/20: Training Loss: 3.9078872203826904, C-Index: 0.6934538289384061\n"
     ]
    },
    {
     "name": "stderr",
     "output_type": "stream",
     "text": [
      "Epoch 3/20: Training Loss: 3.876264810562134, C-Index: 0.7274131555901527\n"
     ]
    },
    {
     "name": "stdout",
     "output_type": "stream",
     "text": [
      "Epoch 3/20: Training Loss: 3.876264810562134, C-Index: 0.7274131555901527\n"
     ]
    },
    {
     "name": "stderr",
     "output_type": "stream",
     "text": [
      "Epoch 4/20: Training Loss: 3.784564971923828, C-Index: 0.7613238299114528\n"
     ]
    },
    {
     "name": "stdout",
     "output_type": "stream",
     "text": [
      "Epoch 4/20: Training Loss: 3.784564971923828, C-Index: 0.7613238299114528\n"
     ]
    },
    {
     "name": "stderr",
     "output_type": "stream",
     "text": [
      "Epoch 5/20: Training Loss: 3.785280227661133, C-Index: 0.7544030359054199\n"
     ]
    },
    {
     "name": "stdout",
     "output_type": "stream",
     "text": [
      "Epoch 5/20: Training Loss: 3.785280227661133, C-Index: 0.7544030359054199\n"
     ]
    },
    {
     "name": "stderr",
     "output_type": "stream",
     "text": [
      "Epoch 6/20: Training Loss: 3.7254154682159424, C-Index: 0.7721368103532159\n"
     ]
    },
    {
     "name": "stdout",
     "output_type": "stream",
     "text": [
      "Epoch 6/20: Training Loss: 3.7254154682159424, C-Index: 0.7721368103532159\n"
     ]
    },
    {
     "name": "stderr",
     "output_type": "stream",
     "text": [
      "Epoch 7/20: Training Loss: 3.6148605346679688, C-Index: 0.7951858519023062\n"
     ]
    },
    {
     "name": "stdout",
     "output_type": "stream",
     "text": [
      "Epoch 7/20: Training Loss: 3.6148605346679688, C-Index: 0.7951858519023062\n"
     ]
    },
    {
     "name": "stderr",
     "output_type": "stream",
     "text": [
      "Epoch 8/20: Training Loss: 3.5528833866119385, C-Index: 0.8038581298044176\n"
     ]
    },
    {
     "name": "stdout",
     "output_type": "stream",
     "text": [
      "Epoch 8/20: Training Loss: 3.5528833866119385, C-Index: 0.8038581298044176\n"
     ]
    },
    {
     "name": "stderr",
     "output_type": "stream",
     "text": [
      "Epoch 9/20: Training Loss: 3.5420005321502686, C-Index: 0.8178821640556583\n"
     ]
    },
    {
     "name": "stdout",
     "output_type": "stream",
     "text": [
      "Epoch 9/20: Training Loss: 3.5420005321502686, C-Index: 0.8178821640556583\n"
     ]
    },
    {
     "name": "stderr",
     "output_type": "stream",
     "text": [
      "Epoch 10/20: Training Loss: 3.525747060775757, C-Index: 0.8129317894327138\n"
     ]
    },
    {
     "name": "stdout",
     "output_type": "stream",
     "text": [
      "Epoch 10/20: Training Loss: 3.525747060775757, C-Index: 0.8129317894327138\n"
     ]
    },
    {
     "name": "stderr",
     "output_type": "stream",
     "text": [
      "Epoch 11/20: Training Loss: 3.423036575317383, C-Index: 0.8436314099445363\n"
     ]
    },
    {
     "name": "stdout",
     "output_type": "stream",
     "text": [
      "Epoch 11/20: Training Loss: 3.423036575317383, C-Index: 0.8436314099445363\n"
     ]
    },
    {
     "name": "stderr",
     "output_type": "stream",
     "text": [
      "Epoch 12/20: Training Loss: 3.3525495529174805, C-Index: 0.8433759852096916\n"
     ]
    },
    {
     "name": "stdout",
     "output_type": "stream",
     "text": [
      "Epoch 12/20: Training Loss: 3.3525495529174805, C-Index: 0.8433759852096916\n"
     ]
    },
    {
     "name": "stderr",
     "output_type": "stream",
     "text": [
      "Epoch 13/20: Training Loss: 3.398953437805176, C-Index: 0.8364673542862703\n"
     ]
    },
    {
     "name": "stdout",
     "output_type": "stream",
     "text": [
      "Epoch 13/20: Training Loss: 3.398953437805176, C-Index: 0.8364673542862703\n"
     ]
    },
    {
     "name": "stderr",
     "output_type": "stream",
     "text": [
      "Epoch 14/20: Training Loss: 3.348015785217285, C-Index: 0.8349226427945898\n"
     ]
    },
    {
     "name": "stdout",
     "output_type": "stream",
     "text": [
      "Epoch 14/20: Training Loss: 3.348015785217285, C-Index: 0.8349226427945898\n"
     ]
    },
    {
     "name": "stderr",
     "output_type": "stream",
     "text": [
      "Epoch 15/20: Training Loss: 3.3233509063720703, C-Index: 0.840700107035127\n"
     ]
    },
    {
     "name": "stdout",
     "output_type": "stream",
     "text": [
      "Epoch 15/20: Training Loss: 3.3233509063720703, C-Index: 0.840700107035127\n"
     ]
    },
    {
     "name": "stderr",
     "output_type": "stream",
     "text": [
      "Epoch 16/20: Training Loss: 3.206904411315918, C-Index: 0.869113068015958\n"
     ]
    },
    {
     "name": "stdout",
     "output_type": "stream",
     "text": [
      "Epoch 16/20: Training Loss: 3.206904411315918, C-Index: 0.869113068015958\n"
     ]
    },
    {
     "name": "stderr",
     "output_type": "stream",
     "text": [
      "Epoch 17/20: Training Loss: 3.2001960277557373, C-Index: 0.8667655930719081\n"
     ]
    },
    {
     "name": "stdout",
     "output_type": "stream",
     "text": [
      "Epoch 17/20: Training Loss: 3.2001960277557373, C-Index: 0.8667655930719081\n"
     ]
    },
    {
     "name": "stderr",
     "output_type": "stream",
     "text": [
      "Epoch 18/20: Training Loss: 3.1489856243133545, C-Index: 0.8779313029094094\n"
     ]
    },
    {
     "name": "stdout",
     "output_type": "stream",
     "text": [
      "Epoch 18/20: Training Loss: 3.1489856243133545, C-Index: 0.8779313029094094\n"
     ]
    },
    {
     "name": "stderr",
     "output_type": "stream",
     "text": [
      "Epoch 19/20: Training Loss: 3.1437551975250244, C-Index: 0.8826140897148973\n",
      "****************************************************************************************************\n"
     ]
    },
    {
     "name": "stdout",
     "output_type": "stream",
     "text": [
      "Epoch 19/20: Training Loss: 3.1437551975250244, C-Index: 0.8826140897148973\n",
      "****************************************************************************************************\n"
     ]
    },
    {
     "name": "stderr",
     "output_type": "stream",
     "text": [
      "Final Train Loss: 3.1309165954589844, C-Index: 0.891316775323538\n"
     ]
    },
    {
     "name": "stdout",
     "output_type": "stream",
     "text": [
      "Final Train Loss: 3.1309165954589844, C-Index: 0.891316775323538\n"
     ]
    },
    {
     "name": "stderr",
     "output_type": "stream",
     "text": [
      "Test Loss: 3.4501254558563232, C-Index: 0.7511979358643568\n"
     ]
    },
    {
     "name": "stdout",
     "output_type": "stream",
     "text": [
      "Test Loss: 3.4501254558563232, C-Index: 0.7511979358643568\n"
     ]
    }
   ],
   "source": [
    "import numpy as np\n",
    "\n",
    "\n",
    "all_modalities = [\"clinical\", \"miRNA\", \"mRNA\", \"WSI\"]\n",
    "all_modalities = np.array(all_modalities)\n",
    "for modality in all_modalities:\n",
    "    args = Args([modality])\n",
    "    train_eval_model(args)"
   ]
  },
  {
   "cell_type": "code",
   "execution_count": null,
   "metadata": {},
   "outputs": [],
   "source": []
  }
 ],
 "metadata": {
  "kernelspec": {
   "display_name": "int_env",
   "language": "python",
   "name": "python3"
  },
  "language_info": {
   "codemirror_mode": {
    "name": "ipython",
    "version": 3
   },
   "file_extension": ".py",
   "mimetype": "text/x-python",
   "name": "python",
   "nbconvert_exporter": "python",
   "pygments_lexer": "ipython3",
   "version": "3.10.11"
  }
 },
 "nbformat": 4,
 "nbformat_minor": 2
}
