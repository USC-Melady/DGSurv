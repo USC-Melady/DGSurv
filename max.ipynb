{
 "cells": [
  {
   "cell_type": "code",
   "execution_count": 2,
   "metadata": {},
   "outputs": [
    {
     "name": "stdout",
     "output_type": "stream",
     "text": [
      "Result Path: ./logs/max/results_5_24_clinical_miRNA_mRNA_WSI\n"
     ]
    }
   ],
   "source": [
    "import os\n",
    "\n",
    "\n",
    "def result_file_name(args):\n",
    "    file_name = f\"results_{args.fold_range}_{args.seed}\"\n",
    "    if len(args.modalities) > 0:\n",
    "        file_name += \"_\"\n",
    "        file_name += \"_\".join(args.modalities)\n",
    "    return file_name\n",
    "\n",
    "class Args:\n",
    "    def __init__(self, modalities=[\"clinical\", \"miRNA\", \"mRNA\", \"WSI\"]):\n",
    "        self.epochs = 20\n",
    "        self.modality_data_path = {'clinical': './preprocess/preprocessed_data/clinical_kidney.csv',\n",
    "                                    'mRNA': './preprocess/preprocessed_data/mrna_kidney.csv',\n",
    "                                    'miRNA': './preprocess/preprocessed_data/mirna_kidney.csv',\n",
    "                                    'WSI': './preprocess/preprocessed_data/UNI2_features/TCGA-Kidney.pt'}\n",
    "        self.device = \"cuda\"\n",
    "        self.modalities = modalities\n",
    "        self.input_modality_dim = {'clinical':4, 'mRNA':2746, 'miRNA':743 , 'WSI': 1536}\n",
    "        self.fold_range = 5\n",
    "        self.fold = 1\n",
    "        self.modality_fv_len = 128\n",
    "        self.batch_size = 128\n",
    "        self.learning_rate = 1e-4\n",
    "        self.loss_trade_off = 0.3\n",
    "        self.loss_mode = 'total'\n",
    "        self.seed = 24\n",
    "        self.result_path = f\"./logs/max/{result_file_name(self)}\"\n",
    "        print(f\"Result Path: {self.result_path}\")\n",
    "        self.log_file_name = \"temp.log\"\n",
    "        self.scheduler_patience = 5\n",
    "        self.num_workers = 4\n",
    "        self.num_modalities = len(self.modalities)\n",
    "        self.split_path = \"./splits/kidney_splits\"\n",
    "        self.remove_missing = True\n",
    "\n",
    "args = Args()"
   ]
  },
  {
   "cell_type": "code",
   "execution_count": 3,
   "metadata": {},
   "outputs": [],
   "source": [
    "import torch\n",
    "from torch import nn\n",
    "import torch.nn.functional as F\n",
    "\n",
    "\n",
    "class AggModel(nn.Module):\n",
    "    def __init__(self, n_views, n_in_feats, encoder_model):\n",
    "        super(AggModel, self).__init__()\n",
    "        self.modality_count = n_views\n",
    "        self.modality_fv_len = n_in_feats\n",
    "        \n",
    "        self.encoder_model = encoder_model\n",
    "        self.hazard_layer = nn.Linear(self.modality_fv_len, 1)\n",
    "        self.label_layer = nn.Linear(self.modality_fv_len, 2)\n",
    "\t\t\t\n",
    "    def forward(self, x_modality, mask):\n",
    "        representation = self.encoder_model(x_modality)\n",
    "        missing_rep = []\n",
    "        for i, rep in enumerate(representation):\n",
    "            index = torch.ones((rep.shape[0]), dtype=int) * i \n",
    "            index = index.to(rep.device)\n",
    "            modality_mask = mask[:, i].reshape(-1, 1)\n",
    "            rep =  modality_mask * rep\n",
    "            missing_rep.append(rep)\n",
    "        \n",
    "        representation_dict = {} #used for self supervised loss\n",
    "        for i, data in enumerate(missing_rep):\n",
    "            representation_dict[i] = data\n",
    "\n",
    "        final_representation = torch.cat(missing_rep, 1).reshape(-1, self.modality_count, self.modality_fv_len)\n",
    "        final_representation = torch.max(final_representation, 1)[0]\n",
    "        \n",
    "        hazard = self.hazard_layer(final_representation)\n",
    "        score = F.log_softmax(self.label_layer(final_representation), dim=1)\n",
    "        return {'hazard':hazard, 'score':score}, representation_dict"
   ]
  },
  {
   "cell_type": "code",
   "execution_count": 4,
   "metadata": {},
   "outputs": [],
   "source": [
    "from lifelines.utils import concordance_index\n",
    "\n",
    "\n",
    "def print_log(msg, logger):\n",
    "    print(msg)\n",
    "    logger.info(msg)\n",
    "\n",
    "def evaluation(model, dataloader, loss_fucnt, device):\n",
    "    running_loss = []\n",
    "    running_sample_time = torch.FloatTensor().to(device)\n",
    "    running_sample_event = torch.LongTensor().to(device)\n",
    "    running_hazard = torch.FloatTensor().to(device)\n",
    "\n",
    "    model.eval()\n",
    "    with torch.no_grad():\n",
    "        for x_modal, data_label, mask in dataloader:\n",
    "            for modality in x_modal:\n",
    "                x_modal[modality] = x_modal[modality].to(device)\n",
    "            event = data_label[:, 0].to(device)\n",
    "            time = data_label[:, 1].to(device)\n",
    "            mask = mask.to(device)\n",
    "            hazard, representation = model(x_modal, mask)\n",
    "            loss = loss_fucnt(representation, list(representation.keys()), hazard, event, time)\n",
    "            hazard = hazard['hazard']\n",
    "            \n",
    "            running_loss.append(loss.item())\n",
    "            running_sample_time = torch.cat((running_sample_time, time.data.float()))\n",
    "            running_sample_event = torch.cat((running_sample_event, event.long().data))\n",
    "            running_hazard = torch.cat((running_hazard, hazard.detach()))\n",
    "            \n",
    "    eval_loss = torch.mean(torch.tensor(running_loss))\n",
    "    eval_c_index = concordance_index(running_sample_time.cpu().numpy(), -running_hazard.cpu().numpy(), running_sample_event.cpu().numpy())\n",
    "    return eval_loss, eval_c_index"
   ]
  },
  {
   "cell_type": "code",
   "execution_count": 5,
   "metadata": {},
   "outputs": [],
   "source": [
    "import copy\n",
    "import random\n",
    "import logging \n",
    "import numpy as np\n",
    "from utils.loss import Loss\n",
    "from torch.optim import Adam\n",
    "from torch.utils.data import DataLoader\n",
    "from utils.dataset import MultiModalDataset\n",
    "from utils.encoder import EncoderModel\n",
    "\n",
    "\n",
    "def save_model(model, path):\n",
    "    torch.save(model.state_dict(), path)\n",
    "\n",
    "def set_seed(seed):\n",
    "    random.seed(seed)\n",
    "    os.environ['PYTHONHASHSEED'] = str(seed)\n",
    "    np.random.seed(seed)\n",
    "    torch.manual_seed(seed)\n",
    "    torch.cuda.manual_seed(seed)\n",
    "    torch.cuda.manual_seed_all(seed)  \n",
    "    torch.backends.cudnn.benchmark = False\n",
    "    torch.backends.cudnn.deterministic = True\n",
    "        \n",
    "def train_eval_model(args):\n",
    "    set_seed(args.seed)\n",
    "    os.makedirs(args.result_path, exist_ok=True)\n",
    "\n",
    "    logging.basicConfig(format='%(message)s')\n",
    "    for k in range(args.fold_range):\n",
    "        args.fold = k\n",
    "        args.log_file_name = f\"result_fold{args.fold}.log\"\n",
    "        args.log_file_name = os.path.join(args.result_path, args.log_file_name)\n",
    "        if os.path.exists(args.log_file_name):\n",
    "            os.remove(args.log_file_name)\n",
    "            \n",
    "        handler = logging.FileHandler(args.log_file_name, mode='w')\n",
    "        logger=logging.getLogger() \n",
    "        logger.setLevel(logging.DEBUG) \n",
    "        logger.addHandler(handler)\n",
    "        \n",
    "        train_dataset = MultiModalDataset(args, 'train', args.modalities, args.modality_data_path, remove_missing=args.remove_missing)\n",
    "        train_dataloader = DataLoader(train_dataset, batch_size=args.batch_size, shuffle=True, num_workers=args.num_workers)\n",
    "        test_dataset = MultiModalDataset(args, 'test', args.modalities, args.modality_data_path)\n",
    "        test_dataloader = DataLoader(test_dataset, batch_size=args.batch_size, shuffle=False, num_workers=args.num_workers)\n",
    "\n",
    "        device = torch.device(args.device)\n",
    "        encoder_model = EncoderModel(args.modalities, args.modality_fv_len, args.input_modality_dim)\n",
    "        model = AggModel(args.num_modalities, args.modality_fv_len, encoder_model)\n",
    "        optimizer = Adam(model.parameters(), lr=args.learning_rate)\n",
    "        scheduler = torch.optim.lr_scheduler.ReduceLROnPlateau(  \n",
    "            optimizer=optimizer, mode='max', factor=0.1,\n",
    "            patience = args.scheduler_patience, verbose=True, threshold=1e-3,\n",
    "            threshold_mode='rel', cooldown=0, min_lr=0, eps=1e-8)\n",
    "        model.to(device)\n",
    "        \n",
    "        loss_fucnt = Loss(trade_off=args.loss_trade_off, mode=args.loss_mode)\n",
    "\n",
    "        for epoch in range(args.epochs):\n",
    "            running_loss = []\n",
    "            running_sample_time = torch.FloatTensor().to(device)\n",
    "            running_sample_event = torch.LongTensor().to(device)\n",
    "            running_hazard = torch.FloatTensor().to(device)\n",
    "            \n",
    "            model.train()\n",
    "            for x_modal, data_label, mask in train_dataloader:\n",
    "                for modality in x_modal:\n",
    "                    x_modal[modality] = x_modal[modality].to(device)\n",
    "                event = data_label[:, 0].to(device)\n",
    "                time = data_label[:, 1].to(device)\n",
    "                mask = mask.to(device)\n",
    "                hazard, representation = model(x_modal, mask)\n",
    "                loss = loss_fucnt(representation, list(representation.keys()), hazard, event, time)\n",
    "                optimizer.zero_grad()\n",
    "                loss.backward()\n",
    "                optimizer.step()\n",
    "                hazard = hazard['hazard']\n",
    "                \n",
    "                running_loss.append(loss.item())\n",
    "                running_sample_time = torch.cat((running_sample_time, time.data.float()))\n",
    "                running_sample_event = torch.cat((running_sample_event, event.long().data))\n",
    "                running_hazard = torch.cat((running_hazard, hazard.detach()))\n",
    "                \n",
    "            train_loss = torch.mean(torch.tensor(running_loss))\n",
    "            train_c_index = concordance_index(running_sample_time.cpu().numpy(), -running_hazard.cpu().numpy(), running_sample_event.cpu().numpy())\n",
    "            print_log(f\"Epoch {epoch}/{args.epochs}: Training Loss: {train_loss}, C-Index: {train_c_index}\", logger)\n",
    "            scheduler.step(train_c_index)\n",
    "            if scheduler.patience == scheduler.num_bad_epochs: \n",
    "                print_log(\"Reducing the learning rate\", logger)\n",
    "            best_model = copy.deepcopy(model.state_dict())\n",
    "        print_log(\"*\" * 100, logger)\n",
    "        \n",
    "        model.load_state_dict(best_model)\n",
    "        model_save_path = os.path.join(args.result_path, f\"model_fold{args.fold}.pt\")\n",
    "        save_model(model, model_save_path)\n",
    "        train_loss, train_c_index = evaluation(model, train_dataloader, loss_fucnt, device)\n",
    "        print_log(f\"Final Train Loss: {train_loss}, C-Index: {train_c_index}\", logger)\n",
    "        test_loss, test_c_index = evaluation(model, test_dataloader, loss_fucnt, device)\n",
    "        print_log(f\"Test Loss: {test_loss}, C-Index: {test_c_index}\", logger)\n",
    "        \n",
    "        logger.removeHandler(handler)"
   ]
  },
  {
   "cell_type": "code",
   "execution_count": 6,
   "metadata": {},
   "outputs": [
    {
     "name": "stdout",
     "output_type": "stream",
     "text": [
      "Result Path: ./logs/max/results_5_24_clinical_miRNA_mRNA_WSI\n"
     ]
    },
    {
     "name": "stderr",
     "output_type": "stream",
     "text": [
      "Epoch 0/20: Training Loss: 4.290692329406738, C-Index: 0.6144290835841297\n"
     ]
    },
    {
     "name": "stdout",
     "output_type": "stream",
     "text": [
      "Epoch 0/20: Training Loss: 4.290692329406738, C-Index: 0.6144290835841297\n"
     ]
    },
    {
     "name": "stderr",
     "output_type": "stream",
     "text": [
      "Epoch 1/20: Training Loss: 3.859844207763672, C-Index: 0.7709260080814379\n"
     ]
    },
    {
     "name": "stdout",
     "output_type": "stream",
     "text": [
      "Epoch 1/20: Training Loss: 3.859844207763672, C-Index: 0.7709260080814379\n"
     ]
    },
    {
     "name": "stderr",
     "output_type": "stream",
     "text": [
      "Epoch 2/20: Training Loss: 3.7109975814819336, C-Index: 0.8096185897051594\n"
     ]
    },
    {
     "name": "stdout",
     "output_type": "stream",
     "text": [
      "Epoch 2/20: Training Loss: 3.7109975814819336, C-Index: 0.8096185897051594\n"
     ]
    },
    {
     "name": "stderr",
     "output_type": "stream",
     "text": [
      "Epoch 3/20: Training Loss: 3.540652275085449, C-Index: 0.8346182899485618\n"
     ]
    },
    {
     "name": "stdout",
     "output_type": "stream",
     "text": [
      "Epoch 3/20: Training Loss: 3.540652275085449, C-Index: 0.8346182899485618\n"
     ]
    },
    {
     "name": "stderr",
     "output_type": "stream",
     "text": [
      "Epoch 4/20: Training Loss: 3.551755905151367, C-Index: 0.8455294301027566\n"
     ]
    },
    {
     "name": "stdout",
     "output_type": "stream",
     "text": [
      "Epoch 4/20: Training Loss: 3.551755905151367, C-Index: 0.8455294301027566\n"
     ]
    },
    {
     "name": "stderr",
     "output_type": "stream",
     "text": [
      "Epoch 5/20: Training Loss: 3.295098304748535, C-Index: 0.8783707629404923\n"
     ]
    },
    {
     "name": "stdout",
     "output_type": "stream",
     "text": [
      "Epoch 5/20: Training Loss: 3.295098304748535, C-Index: 0.8783707629404923\n"
     ]
    },
    {
     "name": "stderr",
     "output_type": "stream",
     "text": [
      "Epoch 6/20: Training Loss: 3.2668800354003906, C-Index: 0.8818599297370535\n"
     ]
    },
    {
     "name": "stdout",
     "output_type": "stream",
     "text": [
      "Epoch 6/20: Training Loss: 3.2668800354003906, C-Index: 0.8818599297370535\n"
     ]
    },
    {
     "name": "stderr",
     "output_type": "stream",
     "text": [
      "Epoch 7/20: Training Loss: 3.1211299896240234, C-Index: 0.9023393004880037\n"
     ]
    },
    {
     "name": "stdout",
     "output_type": "stream",
     "text": [
      "Epoch 7/20: Training Loss: 3.1211299896240234, C-Index: 0.9023393004880037\n"
     ]
    },
    {
     "name": "stderr",
     "output_type": "stream",
     "text": [
      "Epoch 8/20: Training Loss: 3.093092203140259, C-Index: 0.9022553686406638\n"
     ]
    },
    {
     "name": "stdout",
     "output_type": "stream",
     "text": [
      "Epoch 8/20: Training Loss: 3.093092203140259, C-Index: 0.9022553686406638\n"
     ]
    },
    {
     "name": "stderr",
     "output_type": "stream",
     "text": [
      "Epoch 9/20: Training Loss: 3.001194715499878, C-Index: 0.9119315116125706\n"
     ]
    },
    {
     "name": "stdout",
     "output_type": "stream",
     "text": [
      "Epoch 9/20: Training Loss: 3.001194715499878, C-Index: 0.9119315116125706\n"
     ]
    },
    {
     "name": "stderr",
     "output_type": "stream",
     "text": [
      "Epoch 10/20: Training Loss: 3.002542495727539, C-Index: 0.9171832472032709\n"
     ]
    },
    {
     "name": "stdout",
     "output_type": "stream",
     "text": [
      "Epoch 10/20: Training Loss: 3.002542495727539, C-Index: 0.9171832472032709\n"
     ]
    },
    {
     "name": "stderr",
     "output_type": "stream",
     "text": [
      "Epoch 11/20: Training Loss: 2.9241864681243896, C-Index: 0.9218834306543087\n"
     ]
    },
    {
     "name": "stdout",
     "output_type": "stream",
     "text": [
      "Epoch 11/20: Training Loss: 2.9241864681243896, C-Index: 0.9218834306543087\n"
     ]
    },
    {
     "name": "stderr",
     "output_type": "stream",
     "text": [
      "Epoch 12/20: Training Loss: 2.8913660049438477, C-Index: 0.9240296878934305\n"
     ]
    },
    {
     "name": "stdout",
     "output_type": "stream",
     "text": [
      "Epoch 12/20: Training Loss: 2.8913660049438477, C-Index: 0.9240296878934305\n"
     ]
    },
    {
     "name": "stderr",
     "output_type": "stream",
     "text": [
      "Epoch 13/20: Training Loss: 2.7544422149658203, C-Index: 0.9387057709140179\n"
     ]
    },
    {
     "name": "stdout",
     "output_type": "stream",
     "text": [
      "Epoch 13/20: Training Loss: 2.7544422149658203, C-Index: 0.9387057709140179\n"
     ]
    },
    {
     "name": "stderr",
     "output_type": "stream",
     "text": [
      "Epoch 14/20: Training Loss: 2.707059621810913, C-Index: 0.9354204386038537\n"
     ]
    },
    {
     "name": "stdout",
     "output_type": "stream",
     "text": [
      "Epoch 14/20: Training Loss: 2.707059621810913, C-Index: 0.9354204386038537\n"
     ]
    },
    {
     "name": "stderr",
     "output_type": "stream",
     "text": [
      "Epoch 15/20: Training Loss: 2.6632909774780273, C-Index: 0.9447968249781178\n"
     ]
    },
    {
     "name": "stdout",
     "output_type": "stream",
     "text": [
      "Epoch 15/20: Training Loss: 2.6632909774780273, C-Index: 0.9447968249781178\n"
     ]
    },
    {
     "name": "stderr",
     "output_type": "stream",
     "text": [
      "Epoch 16/20: Training Loss: 2.6688718795776367, C-Index: 0.943885564921284\n"
     ]
    },
    {
     "name": "stdout",
     "output_type": "stream",
     "text": [
      "Epoch 16/20: Training Loss: 2.6688718795776367, C-Index: 0.943885564921284\n"
     ]
    },
    {
     "name": "stderr",
     "output_type": "stream",
     "text": [
      "Epoch 17/20: Training Loss: 2.5922563076019287, C-Index: 0.9457560460905744\n"
     ]
    },
    {
     "name": "stdout",
     "output_type": "stream",
     "text": [
      "Epoch 17/20: Training Loss: 2.5922563076019287, C-Index: 0.9457560460905744\n"
     ]
    },
    {
     "name": "stderr",
     "output_type": "stream",
     "text": [
      "Epoch 18/20: Training Loss: 2.571258306503296, C-Index: 0.9454802700207432\n"
     ]
    },
    {
     "name": "stdout",
     "output_type": "stream",
     "text": [
      "Epoch 18/20: Training Loss: 2.571258306503296, C-Index: 0.9454802700207432\n"
     ]
    },
    {
     "name": "stderr",
     "output_type": "stream",
     "text": [
      "Epoch 19/20: Training Loss: 2.5539467334747314, C-Index: 0.9486456996918502\n",
      "****************************************************************************************************\n"
     ]
    },
    {
     "name": "stdout",
     "output_type": "stream",
     "text": [
      "Epoch 19/20: Training Loss: 2.5539467334747314, C-Index: 0.9486456996918502\n",
      "****************************************************************************************************\n"
     ]
    },
    {
     "name": "stderr",
     "output_type": "stream",
     "text": [
      "Final Train Loss: 2.6172420978546143, C-Index: 0.9670267742593015\n"
     ]
    },
    {
     "name": "stdout",
     "output_type": "stream",
     "text": [
      "Final Train Loss: 2.6172420978546143, C-Index: 0.9670267742593015\n"
     ]
    },
    {
     "name": "stderr",
     "output_type": "stream",
     "text": [
      "Test Loss: 3.877347469329834, C-Index: 0.7357755261106781\n"
     ]
    },
    {
     "name": "stdout",
     "output_type": "stream",
     "text": [
      "Test Loss: 3.877347469329834, C-Index: 0.7357755261106781\n"
     ]
    },
    {
     "name": "stderr",
     "output_type": "stream",
     "text": [
      "Epoch 0/20: Training Loss: 4.276926040649414, C-Index: 0.639063178724842\n"
     ]
    },
    {
     "name": "stdout",
     "output_type": "stream",
     "text": [
      "Epoch 0/20: Training Loss: 4.276926040649414, C-Index: 0.639063178724842\n"
     ]
    },
    {
     "name": "stderr",
     "output_type": "stream",
     "text": [
      "Epoch 1/20: Training Loss: 3.9557673931121826, C-Index: 0.7479125440417008\n"
     ]
    },
    {
     "name": "stdout",
     "output_type": "stream",
     "text": [
      "Epoch 1/20: Training Loss: 3.9557673931121826, C-Index: 0.7479125440417008\n"
     ]
    },
    {
     "name": "stderr",
     "output_type": "stream",
     "text": [
      "Epoch 2/20: Training Loss: 3.76065731048584, C-Index: 0.7968169313190792\n"
     ]
    },
    {
     "name": "stdout",
     "output_type": "stream",
     "text": [
      "Epoch 2/20: Training Loss: 3.76065731048584, C-Index: 0.7968169313190792\n"
     ]
    },
    {
     "name": "stderr",
     "output_type": "stream",
     "text": [
      "Epoch 3/20: Training Loss: 3.6926984786987305, C-Index: 0.8275978570394324\n"
     ]
    },
    {
     "name": "stdout",
     "output_type": "stream",
     "text": [
      "Epoch 3/20: Training Loss: 3.6926984786987305, C-Index: 0.8275978570394324\n"
     ]
    },
    {
     "name": "stderr",
     "output_type": "stream",
     "text": [
      "Epoch 4/20: Training Loss: 3.5681207180023193, C-Index: 0.8282132342294513\n"
     ]
    },
    {
     "name": "stdout",
     "output_type": "stream",
     "text": [
      "Epoch 4/20: Training Loss: 3.5681207180023193, C-Index: 0.8282132342294513\n"
     ]
    },
    {
     "name": "stderr",
     "output_type": "stream",
     "text": [
      "Epoch 5/20: Training Loss: 3.44584584236145, C-Index: 0.8519716202519426\n"
     ]
    },
    {
     "name": "stdout",
     "output_type": "stream",
     "text": [
      "Epoch 5/20: Training Loss: 3.44584584236145, C-Index: 0.8519716202519426\n"
     ]
    },
    {
     "name": "stderr",
     "output_type": "stream",
     "text": [
      "Epoch 6/20: Training Loss: 3.418489456176758, C-Index: 0.8511993822095661\n"
     ]
    },
    {
     "name": "stdout",
     "output_type": "stream",
     "text": [
      "Epoch 6/20: Training Loss: 3.418489456176758, C-Index: 0.8511993822095661\n"
     ]
    },
    {
     "name": "stderr",
     "output_type": "stream",
     "text": [
      "Epoch 7/20: Training Loss: 3.3313961029052734, C-Index: 0.8758265360297312\n"
     ]
    },
    {
     "name": "stdout",
     "output_type": "stream",
     "text": [
      "Epoch 7/20: Training Loss: 3.3313961029052734, C-Index: 0.8758265360297312\n"
     ]
    },
    {
     "name": "stderr",
     "output_type": "stream",
     "text": [
      "Epoch 8/20: Training Loss: 3.1555442810058594, C-Index: 0.8820527052463922\n"
     ]
    },
    {
     "name": "stdout",
     "output_type": "stream",
     "text": [
      "Epoch 8/20: Training Loss: 3.1555442810058594, C-Index: 0.8820527052463922\n"
     ]
    },
    {
     "name": "stderr",
     "output_type": "stream",
     "text": [
      "Epoch 9/20: Training Loss: 3.1930840015411377, C-Index: 0.8856967035088567\n"
     ]
    },
    {
     "name": "stdout",
     "output_type": "stream",
     "text": [
      "Epoch 9/20: Training Loss: 3.1930840015411377, C-Index: 0.8856967035088567\n"
     ]
    },
    {
     "name": "stderr",
     "output_type": "stream",
     "text": [
      "Epoch 10/20: Training Loss: 3.121859312057495, C-Index: 0.8959650562285825\n"
     ]
    },
    {
     "name": "stdout",
     "output_type": "stream",
     "text": [
      "Epoch 10/20: Training Loss: 3.121859312057495, C-Index: 0.8959650562285825\n"
     ]
    },
    {
     "name": "stderr",
     "output_type": "stream",
     "text": [
      "Epoch 11/20: Training Loss: 3.0244505405426025, C-Index: 0.9068125874800907\n"
     ]
    },
    {
     "name": "stdout",
     "output_type": "stream",
     "text": [
      "Epoch 11/20: Training Loss: 3.0244505405426025, C-Index: 0.9068125874800907\n"
     ]
    },
    {
     "name": "stderr",
     "output_type": "stream",
     "text": [
      "Epoch 12/20: Training Loss: 2.977051019668579, C-Index: 0.9189270717698731\n"
     ]
    },
    {
     "name": "stdout",
     "output_type": "stream",
     "text": [
      "Epoch 12/20: Training Loss: 2.977051019668579, C-Index: 0.9189270717698731\n"
     ]
    },
    {
     "name": "stderr",
     "output_type": "stream",
     "text": [
      "Epoch 13/20: Training Loss: 2.9067928791046143, C-Index: 0.9244292678218061\n"
     ]
    },
    {
     "name": "stdout",
     "output_type": "stream",
     "text": [
      "Epoch 13/20: Training Loss: 2.9067928791046143, C-Index: 0.9244292678218061\n"
     ]
    },
    {
     "name": "stderr",
     "output_type": "stream",
     "text": [
      "Epoch 14/20: Training Loss: 2.856766700744629, C-Index: 0.9300641922872726\n"
     ]
    },
    {
     "name": "stdout",
     "output_type": "stream",
     "text": [
      "Epoch 14/20: Training Loss: 2.856766700744629, C-Index: 0.9300641922872726\n"
     ]
    },
    {
     "name": "stderr",
     "output_type": "stream",
     "text": [
      "Epoch 15/20: Training Loss: 2.7608673572540283, C-Index: 0.9364592885757035\n"
     ]
    },
    {
     "name": "stdout",
     "output_type": "stream",
     "text": [
      "Epoch 15/20: Training Loss: 2.7608673572540283, C-Index: 0.9364592885757035\n"
     ]
    },
    {
     "name": "stderr",
     "output_type": "stream",
     "text": [
      "Epoch 16/20: Training Loss: 2.768927812576294, C-Index: 0.9335995945750277\n"
     ]
    },
    {
     "name": "stdout",
     "output_type": "stream",
     "text": [
      "Epoch 16/20: Training Loss: 2.768927812576294, C-Index: 0.9335995945750277\n"
     ]
    },
    {
     "name": "stderr",
     "output_type": "stream",
     "text": [
      "Epoch 17/20: Training Loss: 2.6986420154571533, C-Index: 0.9418166899946908\n"
     ]
    },
    {
     "name": "stdout",
     "output_type": "stream",
     "text": [
      "Epoch 17/20: Training Loss: 2.6986420154571533, C-Index: 0.9418166899946908\n"
     ]
    },
    {
     "name": "stderr",
     "output_type": "stream",
     "text": [
      "Epoch 18/20: Training Loss: 2.644761562347412, C-Index: 0.9417322264588059\n"
     ]
    },
    {
     "name": "stdout",
     "output_type": "stream",
     "text": [
      "Epoch 18/20: Training Loss: 2.644761562347412, C-Index: 0.9417322264588059\n"
     ]
    },
    {
     "name": "stderr",
     "output_type": "stream",
     "text": [
      "Epoch 19/20: Training Loss: 2.6917266845703125, C-Index: 0.9419976832858729\n",
      "****************************************************************************************************\n"
     ]
    },
    {
     "name": "stdout",
     "output_type": "stream",
     "text": [
      "Epoch 19/20: Training Loss: 2.6917266845703125, C-Index: 0.9419976832858729\n",
      "****************************************************************************************************\n"
     ]
    },
    {
     "name": "stderr",
     "output_type": "stream",
     "text": [
      "Final Train Loss: 2.755491256713867, C-Index: 0.9594213041169941\n"
     ]
    },
    {
     "name": "stdout",
     "output_type": "stream",
     "text": [
      "Final Train Loss: 2.755491256713867, C-Index: 0.9594213041169941\n"
     ]
    },
    {
     "name": "stderr",
     "output_type": "stream",
     "text": [
      "Test Loss: 3.565751075744629, C-Index: 0.725449385052034\n"
     ]
    },
    {
     "name": "stdout",
     "output_type": "stream",
     "text": [
      "Test Loss: 3.565751075744629, C-Index: 0.725449385052034\n"
     ]
    },
    {
     "name": "stderr",
     "output_type": "stream",
     "text": [
      "Epoch 0/20: Training Loss: 4.224490165710449, C-Index: 0.6356447980064216\n"
     ]
    },
    {
     "name": "stdout",
     "output_type": "stream",
     "text": [
      "Epoch 0/20: Training Loss: 4.224490165710449, C-Index: 0.6356447980064216\n"
     ]
    },
    {
     "name": "stderr",
     "output_type": "stream",
     "text": [
      "Epoch 1/20: Training Loss: 3.8653194904327393, C-Index: 0.7818085973067523\n"
     ]
    },
    {
     "name": "stdout",
     "output_type": "stream",
     "text": [
      "Epoch 1/20: Training Loss: 3.8653194904327393, C-Index: 0.7818085973067523\n"
     ]
    },
    {
     "name": "stderr",
     "output_type": "stream",
     "text": [
      "Epoch 2/20: Training Loss: 3.7230775356292725, C-Index: 0.8076268749700484\n"
     ]
    },
    {
     "name": "stdout",
     "output_type": "stream",
     "text": [
      "Epoch 2/20: Training Loss: 3.7230775356292725, C-Index: 0.8076268749700484\n"
     ]
    },
    {
     "name": "stderr",
     "output_type": "stream",
     "text": [
      "Epoch 3/20: Training Loss: 3.572608232498169, C-Index: 0.8419993290841999\n"
     ]
    },
    {
     "name": "stdout",
     "output_type": "stream",
     "text": [
      "Epoch 3/20: Training Loss: 3.572608232498169, C-Index: 0.8419993290841999\n"
     ]
    },
    {
     "name": "stderr",
     "output_type": "stream",
     "text": [
      "Epoch 4/20: Training Loss: 3.4019861221313477, C-Index: 0.8645708535007428\n"
     ]
    },
    {
     "name": "stdout",
     "output_type": "stream",
     "text": [
      "Epoch 4/20: Training Loss: 3.4019861221313477, C-Index: 0.8645708535007428\n"
     ]
    },
    {
     "name": "stderr",
     "output_type": "stream",
     "text": [
      "Epoch 5/20: Training Loss: 3.3369810581207275, C-Index: 0.878216801648536\n"
     ]
    },
    {
     "name": "stdout",
     "output_type": "stream",
     "text": [
      "Epoch 5/20: Training Loss: 3.3369810581207275, C-Index: 0.878216801648536\n"
     ]
    },
    {
     "name": "stderr",
     "output_type": "stream",
     "text": [
      "Epoch 6/20: Training Loss: 3.278686285018921, C-Index: 0.8795945751665308\n"
     ]
    },
    {
     "name": "stdout",
     "output_type": "stream",
     "text": [
      "Epoch 6/20: Training Loss: 3.278686285018921, C-Index: 0.8795945751665308\n"
     ]
    },
    {
     "name": "stderr",
     "output_type": "stream",
     "text": [
      "Epoch 7/20: Training Loss: 3.2004401683807373, C-Index: 0.8917788853213208\n"
     ]
    },
    {
     "name": "stdout",
     "output_type": "stream",
     "text": [
      "Epoch 7/20: Training Loss: 3.2004401683807373, C-Index: 0.8917788853213208\n"
     ]
    },
    {
     "name": "stderr",
     "output_type": "stream",
     "text": [
      "Epoch 8/20: Training Loss: 3.113170623779297, C-Index: 0.9071141036085686\n"
     ]
    },
    {
     "name": "stdout",
     "output_type": "stream",
     "text": [
      "Epoch 8/20: Training Loss: 3.113170623779297, C-Index: 0.9071141036085686\n"
     ]
    },
    {
     "name": "stderr",
     "output_type": "stream",
     "text": [
      "Epoch 9/20: Training Loss: 2.948147773742676, C-Index: 0.9193702975990798\n"
     ]
    },
    {
     "name": "stdout",
     "output_type": "stream",
     "text": [
      "Epoch 9/20: Training Loss: 2.948147773742676, C-Index: 0.9193702975990798\n"
     ]
    },
    {
     "name": "stderr",
     "output_type": "stream",
     "text": [
      "Epoch 10/20: Training Loss: 2.8849761486053467, C-Index: 0.9272056356927205\n"
     ]
    },
    {
     "name": "stdout",
     "output_type": "stream",
     "text": [
      "Epoch 10/20: Training Loss: 2.8849761486053467, C-Index: 0.9272056356927205\n"
     ]
    },
    {
     "name": "stderr",
     "output_type": "stream",
     "text": [
      "Epoch 11/20: Training Loss: 2.8683183193206787, C-Index: 0.9273374227248766\n"
     ]
    },
    {
     "name": "stdout",
     "output_type": "stream",
     "text": [
      "Epoch 11/20: Training Loss: 2.8683183193206787, C-Index: 0.9273374227248766\n"
     ]
    },
    {
     "name": "stderr",
     "output_type": "stream",
     "text": [
      "Epoch 12/20: Training Loss: 2.811290740966797, C-Index: 0.9334235874826281\n"
     ]
    },
    {
     "name": "stdout",
     "output_type": "stream",
     "text": [
      "Epoch 12/20: Training Loss: 2.811290740966797, C-Index: 0.9334235874826281\n"
     ]
    },
    {
     "name": "stderr",
     "output_type": "stream",
     "text": [
      "Epoch 13/20: Training Loss: 2.7421886920928955, C-Index: 0.9379043465759332\n"
     ]
    },
    {
     "name": "stdout",
     "output_type": "stream",
     "text": [
      "Epoch 13/20: Training Loss: 2.7421886920928955, C-Index: 0.9379043465759332\n"
     ]
    },
    {
     "name": "stderr",
     "output_type": "stream",
     "text": [
      "Epoch 14/20: Training Loss: 2.667766809463501, C-Index: 0.9453203622945321\n"
     ]
    },
    {
     "name": "stdout",
     "output_type": "stream",
     "text": [
      "Epoch 14/20: Training Loss: 2.667766809463501, C-Index: 0.9453203622945321\n"
     ]
    },
    {
     "name": "stderr",
     "output_type": "stream",
     "text": [
      "Epoch 15/20: Training Loss: 2.6154253482818604, C-Index: 0.9464465423875018\n"
     ]
    },
    {
     "name": "stdout",
     "output_type": "stream",
     "text": [
      "Epoch 15/20: Training Loss: 2.6154253482818604, C-Index: 0.9464465423875018\n"
     ]
    },
    {
     "name": "stderr",
     "output_type": "stream",
     "text": [
      "Epoch 16/20: Training Loss: 2.554007053375244, C-Index: 0.9519815977380554\n"
     ]
    },
    {
     "name": "stdout",
     "output_type": "stream",
     "text": [
      "Epoch 16/20: Training Loss: 2.554007053375244, C-Index: 0.9519815977380554\n"
     ]
    },
    {
     "name": "stderr",
     "output_type": "stream",
     "text": [
      "Epoch 17/20: Training Loss: 2.5292108058929443, C-Index: 0.9515742560023003\n"
     ]
    },
    {
     "name": "stdout",
     "output_type": "stream",
     "text": [
      "Epoch 17/20: Training Loss: 2.5292108058929443, C-Index: 0.9515742560023003\n"
     ]
    },
    {
     "name": "stderr",
     "output_type": "stream",
     "text": [
      "Epoch 18/20: Training Loss: 2.4944472312927246, C-Index: 0.9519576364594815\n"
     ]
    },
    {
     "name": "stdout",
     "output_type": "stream",
     "text": [
      "Epoch 18/20: Training Loss: 2.4944472312927246, C-Index: 0.9519576364594815\n"
     ]
    },
    {
     "name": "stderr",
     "output_type": "stream",
     "text": [
      "Epoch 19/20: Training Loss: 2.3729007244110107, C-Index: 0.9564264149134998\n",
      "****************************************************************************************************\n"
     ]
    },
    {
     "name": "stdout",
     "output_type": "stream",
     "text": [
      "Epoch 19/20: Training Loss: 2.3729007244110107, C-Index: 0.9564264149134998\n",
      "****************************************************************************************************\n"
     ]
    },
    {
     "name": "stderr",
     "output_type": "stream",
     "text": [
      "Final Train Loss: 2.504897117614746, C-Index: 0.9685867637897159\n"
     ]
    },
    {
     "name": "stdout",
     "output_type": "stream",
     "text": [
      "Final Train Loss: 2.504897117614746, C-Index: 0.9685867637897159\n"
     ]
    },
    {
     "name": "stderr",
     "output_type": "stream",
     "text": [
      "Test Loss: 3.505781650543213, C-Index: 0.7363369245837414\n"
     ]
    },
    {
     "name": "stdout",
     "output_type": "stream",
     "text": [
      "Test Loss: 3.505781650543213, C-Index: 0.7363369245837414\n"
     ]
    },
    {
     "name": "stderr",
     "output_type": "stream",
     "text": [
      "Epoch 0/20: Training Loss: 4.286607265472412, C-Index: 0.6125146990699497\n"
     ]
    },
    {
     "name": "stdout",
     "output_type": "stream",
     "text": [
      "Epoch 0/20: Training Loss: 4.286607265472412, C-Index: 0.6125146990699497\n"
     ]
    },
    {
     "name": "stderr",
     "output_type": "stream",
     "text": [
      "Epoch 1/20: Training Loss: 3.899954080581665, C-Index: 0.7580562781360985\n"
     ]
    },
    {
     "name": "stdout",
     "output_type": "stream",
     "text": [
      "Epoch 1/20: Training Loss: 3.899954080581665, C-Index: 0.7580562781360985\n"
     ]
    },
    {
     "name": "stderr",
     "output_type": "stream",
     "text": [
      "Epoch 2/20: Training Loss: 3.764143943786621, C-Index: 0.798845454869401\n"
     ]
    },
    {
     "name": "stdout",
     "output_type": "stream",
     "text": [
      "Epoch 2/20: Training Loss: 3.764143943786621, C-Index: 0.798845454869401\n"
     ]
    },
    {
     "name": "stderr",
     "output_type": "stream",
     "text": [
      "Epoch 3/20: Training Loss: 3.6550590991973877, C-Index: 0.81680504578983\n"
     ]
    },
    {
     "name": "stdout",
     "output_type": "stream",
     "text": [
      "Epoch 3/20: Training Loss: 3.6550590991973877, C-Index: 0.81680504578983\n"
     ]
    },
    {
     "name": "stderr",
     "output_type": "stream",
     "text": [
      "Epoch 4/20: Training Loss: 3.4537642002105713, C-Index: 0.851334497380893\n"
     ]
    },
    {
     "name": "stdout",
     "output_type": "stream",
     "text": [
      "Epoch 4/20: Training Loss: 3.4537642002105713, C-Index: 0.851334497380893\n"
     ]
    },
    {
     "name": "stderr",
     "output_type": "stream",
     "text": [
      "Epoch 5/20: Training Loss: 3.385363817214966, C-Index: 0.8606349998218294\n"
     ]
    },
    {
     "name": "stdout",
     "output_type": "stream",
     "text": [
      "Epoch 5/20: Training Loss: 3.385363817214966, C-Index: 0.8606349998218294\n"
     ]
    },
    {
     "name": "stderr",
     "output_type": "stream",
     "text": [
      "Epoch 6/20: Training Loss: 3.363391876220703, C-Index: 0.8691159177564765\n"
     ]
    },
    {
     "name": "stdout",
     "output_type": "stream",
     "text": [
      "Epoch 6/20: Training Loss: 3.363391876220703, C-Index: 0.8691159177564765\n"
     ]
    },
    {
     "name": "stderr",
     "output_type": "stream",
     "text": [
      "Epoch 7/20: Training Loss: 3.243577003479004, C-Index: 0.8909833826271841\n"
     ]
    },
    {
     "name": "stdout",
     "output_type": "stream",
     "text": [
      "Epoch 7/20: Training Loss: 3.243577003479004, C-Index: 0.8909833826271841\n"
     ]
    },
    {
     "name": "stderr",
     "output_type": "stream",
     "text": [
      "Epoch 8/20: Training Loss: 3.0876245498657227, C-Index: 0.9070662438085736\n"
     ]
    },
    {
     "name": "stdout",
     "output_type": "stream",
     "text": [
      "Epoch 8/20: Training Loss: 3.0876245498657227, C-Index: 0.9070662438085736\n"
     ]
    },
    {
     "name": "stderr",
     "output_type": "stream",
     "text": [
      "Epoch 9/20: Training Loss: 3.1122610569000244, C-Index: 0.9015429569183623\n"
     ]
    },
    {
     "name": "stdout",
     "output_type": "stream",
     "text": [
      "Epoch 9/20: Training Loss: 3.1122610569000244, C-Index: 0.9015429569183623\n"
     ]
    },
    {
     "name": "stderr",
     "output_type": "stream",
     "text": [
      "Epoch 10/20: Training Loss: 2.9808919429779053, C-Index: 0.9128389694615686\n"
     ]
    },
    {
     "name": "stdout",
     "output_type": "stream",
     "text": [
      "Epoch 10/20: Training Loss: 2.9808919429779053, C-Index: 0.9128389694615686\n"
     ]
    },
    {
     "name": "stderr",
     "output_type": "stream",
     "text": [
      "Epoch 11/20: Training Loss: 2.9389970302581787, C-Index: 0.9298008053308627\n"
     ]
    },
    {
     "name": "stdout",
     "output_type": "stream",
     "text": [
      "Epoch 11/20: Training Loss: 2.9389970302581787, C-Index: 0.9298008053308627\n"
     ]
    },
    {
     "name": "stderr",
     "output_type": "stream",
     "text": [
      "Epoch 12/20: Training Loss: 2.927837371826172, C-Index: 0.9254772001092779\n"
     ]
    },
    {
     "name": "stdout",
     "output_type": "stream",
     "text": [
      "Epoch 12/20: Training Loss: 2.927837371826172, C-Index: 0.9254772001092779\n"
     ]
    },
    {
     "name": "stderr",
     "output_type": "stream",
     "text": [
      "Epoch 13/20: Training Loss: 2.8557310104370117, C-Index: 0.93057287769186\n"
     ]
    },
    {
     "name": "stdout",
     "output_type": "stream",
     "text": [
      "Epoch 13/20: Training Loss: 2.8557310104370117, C-Index: 0.93057287769186\n"
     ]
    },
    {
     "name": "stderr",
     "output_type": "stream",
     "text": [
      "Epoch 14/20: Training Loss: 2.769984245300293, C-Index: 0.9371889439237905\n"
     ]
    },
    {
     "name": "stdout",
     "output_type": "stream",
     "text": [
      "Epoch 14/20: Training Loss: 2.769984245300293, C-Index: 0.9371889439237905\n"
     ]
    },
    {
     "name": "stderr",
     "output_type": "stream",
     "text": [
      "Epoch 15/20: Training Loss: 2.6793136596679688, C-Index: 0.9436505956835216\n"
     ]
    },
    {
     "name": "stdout",
     "output_type": "stream",
     "text": [
      "Epoch 15/20: Training Loss: 2.6793136596679688, C-Index: 0.9436505956835216\n"
     ]
    },
    {
     "name": "stderr",
     "output_type": "stream",
     "text": [
      "Epoch 16/20: Training Loss: 2.6772470474243164, C-Index: 0.9419876705982967\n"
     ]
    },
    {
     "name": "stdout",
     "output_type": "stream",
     "text": [
      "Epoch 16/20: Training Loss: 2.6772470474243164, C-Index: 0.9419876705982967\n"
     ]
    },
    {
     "name": "stderr",
     "output_type": "stream",
     "text": [
      "Epoch 17/20: Training Loss: 2.6314191818237305, C-Index: 0.949221394719025\n"
     ]
    },
    {
     "name": "stdout",
     "output_type": "stream",
     "text": [
      "Epoch 17/20: Training Loss: 2.6314191818237305, C-Index: 0.949221394719025\n"
     ]
    },
    {
     "name": "stderr",
     "output_type": "stream",
     "text": [
      "Epoch 18/20: Training Loss: 2.6516175270080566, C-Index: 0.9547684376818825\n"
     ]
    },
    {
     "name": "stdout",
     "output_type": "stream",
     "text": [
      "Epoch 18/20: Training Loss: 2.6516175270080566, C-Index: 0.9547684376818825\n"
     ]
    },
    {
     "name": "stderr",
     "output_type": "stream",
     "text": [
      "Epoch 19/20: Training Loss: 2.4985878467559814, C-Index: 0.9510031001674804\n",
      "****************************************************************************************************\n"
     ]
    },
    {
     "name": "stdout",
     "output_type": "stream",
     "text": [
      "Epoch 19/20: Training Loss: 2.4985878467559814, C-Index: 0.9510031001674804\n",
      "****************************************************************************************************\n"
     ]
    },
    {
     "name": "stderr",
     "output_type": "stream",
     "text": [
      "Final Train Loss: 2.6134960651397705, C-Index: 0.9682856430174963\n"
     ]
    },
    {
     "name": "stdout",
     "output_type": "stream",
     "text": [
      "Final Train Loss: 2.6134960651397705, C-Index: 0.9682856430174963\n"
     ]
    },
    {
     "name": "stderr",
     "output_type": "stream",
     "text": [
      "Test Loss: 3.6517021656036377, C-Index: 0.7911353976927747\n"
     ]
    },
    {
     "name": "stdout",
     "output_type": "stream",
     "text": [
      "Test Loss: 3.6517021656036377, C-Index: 0.7911353976927747\n"
     ]
    },
    {
     "name": "stderr",
     "output_type": "stream",
     "text": [
      "Epoch 0/20: Training Loss: 4.319021701812744, C-Index: 0.5953828938406149\n"
     ]
    },
    {
     "name": "stdout",
     "output_type": "stream",
     "text": [
      "Epoch 0/20: Training Loss: 4.319021701812744, C-Index: 0.5953828938406149\n"
     ]
    },
    {
     "name": "stderr",
     "output_type": "stream",
     "text": [
      "Epoch 1/20: Training Loss: 3.8696773052215576, C-Index: 0.7552057993577892\n"
     ]
    },
    {
     "name": "stdout",
     "output_type": "stream",
     "text": [
      "Epoch 1/20: Training Loss: 3.8696773052215576, C-Index: 0.7552057993577892\n"
     ]
    },
    {
     "name": "stderr",
     "output_type": "stream",
     "text": [
      "Epoch 2/20: Training Loss: 3.7279205322265625, C-Index: 0.807142162109565\n"
     ]
    },
    {
     "name": "stdout",
     "output_type": "stream",
     "text": [
      "Epoch 2/20: Training Loss: 3.7279205322265625, C-Index: 0.807142162109565\n"
     ]
    },
    {
     "name": "stderr",
     "output_type": "stream",
     "text": [
      "Epoch 3/20: Training Loss: 3.651111602783203, C-Index: 0.822504135448088\n"
     ]
    },
    {
     "name": "stdout",
     "output_type": "stream",
     "text": [
      "Epoch 3/20: Training Loss: 3.651111602783203, C-Index: 0.822504135448088\n"
     ]
    },
    {
     "name": "stderr",
     "output_type": "stream",
     "text": [
      "Epoch 4/20: Training Loss: 3.444643259048462, C-Index: 0.8496642989199182\n"
     ]
    },
    {
     "name": "stdout",
     "output_type": "stream",
     "text": [
      "Epoch 4/20: Training Loss: 3.444643259048462, C-Index: 0.8496642989199182\n"
     ]
    },
    {
     "name": "stderr",
     "output_type": "stream",
     "text": [
      "Epoch 5/20: Training Loss: 3.405123472213745, C-Index: 0.8551741753429989\n"
     ]
    },
    {
     "name": "stdout",
     "output_type": "stream",
     "text": [
      "Epoch 5/20: Training Loss: 3.405123472213745, C-Index: 0.8551741753429989\n"
     ]
    },
    {
     "name": "stderr",
     "output_type": "stream",
     "text": [
      "Epoch 6/20: Training Loss: 3.2776525020599365, C-Index: 0.8708767149946482\n"
     ]
    },
    {
     "name": "stdout",
     "output_type": "stream",
     "text": [
      "Epoch 6/20: Training Loss: 3.2776525020599365, C-Index: 0.8708767149946482\n"
     ]
    },
    {
     "name": "stderr",
     "output_type": "stream",
     "text": [
      "Epoch 7/20: Training Loss: 3.2838518619537354, C-Index: 0.8707915734163666\n"
     ]
    },
    {
     "name": "stdout",
     "output_type": "stream",
     "text": [
      "Epoch 7/20: Training Loss: 3.2838518619537354, C-Index: 0.8707915734163666\n"
     ]
    },
    {
     "name": "stderr",
     "output_type": "stream",
     "text": [
      "Epoch 8/20: Training Loss: 3.115966796875, C-Index: 0.8971246472706043\n"
     ]
    },
    {
     "name": "stdout",
     "output_type": "stream",
     "text": [
      "Epoch 8/20: Training Loss: 3.115966796875, C-Index: 0.8971246472706043\n"
     ]
    },
    {
     "name": "stderr",
     "output_type": "stream",
     "text": [
      "Epoch 9/20: Training Loss: 3.126129150390625, C-Index: 0.8923567188868347\n"
     ]
    },
    {
     "name": "stdout",
     "output_type": "stream",
     "text": [
      "Epoch 9/20: Training Loss: 3.126129150390625, C-Index: 0.8923567188868347\n"
     ]
    },
    {
     "name": "stderr",
     "output_type": "stream",
     "text": [
      "Epoch 10/20: Training Loss: 3.023498773574829, C-Index: 0.9088985112386884\n"
     ]
    },
    {
     "name": "stdout",
     "output_type": "stream",
     "text": [
      "Epoch 10/20: Training Loss: 3.023498773574829, C-Index: 0.9088985112386884\n"
     ]
    },
    {
     "name": "stderr",
     "output_type": "stream",
     "text": [
      "Epoch 11/20: Training Loss: 2.9499435424804688, C-Index: 0.9070132334338815\n"
     ]
    },
    {
     "name": "stdout",
     "output_type": "stream",
     "text": [
      "Epoch 11/20: Training Loss: 2.9499435424804688, C-Index: 0.9070132334338815\n"
     ]
    },
    {
     "name": "stderr",
     "output_type": "stream",
     "text": [
      "Epoch 12/20: Training Loss: 2.895650863647461, C-Index: 0.9194925561934416\n"
     ]
    },
    {
     "name": "stdout",
     "output_type": "stream",
     "text": [
      "Epoch 12/20: Training Loss: 2.895650863647461, C-Index: 0.9194925561934416\n"
     ]
    },
    {
     "name": "stderr",
     "output_type": "stream",
     "text": [
      "Epoch 13/20: Training Loss: 2.832481622695923, C-Index: 0.9224725114332977\n"
     ]
    },
    {
     "name": "stdout",
     "output_type": "stream",
     "text": [
      "Epoch 13/20: Training Loss: 2.832481622695923, C-Index: 0.9224725114332977\n"
     ]
    },
    {
     "name": "stderr",
     "output_type": "stream",
     "text": [
      "Epoch 14/20: Training Loss: 2.8265717029571533, C-Index: 0.9141894521747592\n"
     ]
    },
    {
     "name": "stdout",
     "output_type": "stream",
     "text": [
      "Epoch 14/20: Training Loss: 2.8265717029571533, C-Index: 0.9141894521747592\n"
     ]
    },
    {
     "name": "stderr",
     "output_type": "stream",
     "text": [
      "Epoch 15/20: Training Loss: 2.686774253845215, C-Index: 0.9406319937725017\n"
     ]
    },
    {
     "name": "stdout",
     "output_type": "stream",
     "text": [
      "Epoch 15/20: Training Loss: 2.686774253845215, C-Index: 0.9406319937725017\n"
     ]
    },
    {
     "name": "stderr",
     "output_type": "stream",
     "text": [
      "Epoch 16/20: Training Loss: 2.7187557220458984, C-Index: 0.9319232266225552\n"
     ]
    },
    {
     "name": "stdout",
     "output_type": "stream",
     "text": [
      "Epoch 16/20: Training Loss: 2.7187557220458984, C-Index: 0.9319232266225552\n"
     ]
    },
    {
     "name": "stderr",
     "output_type": "stream",
     "text": [
      "Epoch 17/20: Training Loss: 2.6073081493377686, C-Index: 0.9382966819110635\n"
     ]
    },
    {
     "name": "stdout",
     "output_type": "stream",
     "text": [
      "Epoch 17/20: Training Loss: 2.6073081493377686, C-Index: 0.9382966819110635\n"
     ]
    },
    {
     "name": "stderr",
     "output_type": "stream",
     "text": [
      "Epoch 18/20: Training Loss: 2.6335647106170654, C-Index: 0.9417266712075508\n"
     ]
    },
    {
     "name": "stdout",
     "output_type": "stream",
     "text": [
      "Epoch 18/20: Training Loss: 2.6335647106170654, C-Index: 0.9417266712075508\n"
     ]
    },
    {
     "name": "stderr",
     "output_type": "stream",
     "text": [
      "Epoch 19/20: Training Loss: 2.5688040256500244, C-Index: 0.943210567286173\n",
      "****************************************************************************************************\n"
     ]
    },
    {
     "name": "stdout",
     "output_type": "stream",
     "text": [
      "Epoch 19/20: Training Loss: 2.5688040256500244, C-Index: 0.943210567286173\n",
      "****************************************************************************************************\n"
     ]
    },
    {
     "name": "stderr",
     "output_type": "stream",
     "text": [
      "Final Train Loss: 2.642120599746704, C-Index: 0.9596915442249684\n"
     ]
    },
    {
     "name": "stdout",
     "output_type": "stream",
     "text": [
      "Final Train Loss: 2.642120599746704, C-Index: 0.9596915442249684\n"
     ]
    },
    {
     "name": "stderr",
     "output_type": "stream",
     "text": [
      "Test Loss: 3.7141411304473877, C-Index: 0.7670475488389237\n"
     ]
    },
    {
     "name": "stdout",
     "output_type": "stream",
     "text": [
      "Test Loss: 3.7141411304473877, C-Index: 0.7670475488389237\n"
     ]
    }
   ],
   "source": [
    "import numpy as np\n",
    "\n",
    "\n",
    "all_modalities = [\"clinical\", \"miRNA\", \"mRNA\", \"WSI\"]\n",
    "all_modalities = np.array(all_modalities)\n",
    "i = 2 ** len(all_modalities) - 1\n",
    "selection = F\"{i:0{len(all_modalities)}b}\"\n",
    "modality_select = all_modalities[np.array(list(selection)) == '1']\n",
    "args = Args(modality_select)\n",
    "train_eval_model(args)"
   ]
  },
  {
   "cell_type": "code",
   "execution_count": null,
   "metadata": {},
   "outputs": [],
   "source": []
  }
 ],
 "metadata": {
  "kernelspec": {
   "display_name": "int_env",
   "language": "python",
   "name": "python3"
  },
  "language_info": {
   "codemirror_mode": {
    "name": "ipython",
    "version": 3
   },
   "file_extension": ".py",
   "mimetype": "text/x-python",
   "name": "python",
   "nbconvert_exporter": "python",
   "pygments_lexer": "ipython3",
   "version": "3.10.11"
  }
 },
 "nbformat": 4,
 "nbformat_minor": 2
}
