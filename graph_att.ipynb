{
 "cells": [
  {
   "cell_type": "code",
   "execution_count": 2,
   "metadata": {},
   "outputs": [
    {
     "name": "stdout",
     "output_type": "stream",
     "text": [
      "Result Path: ./logs/graph_att/results_5_24_clinical_miRNA_mRNA_WSI\n"
     ]
    }
   ],
   "source": [
    "import os\n",
    "\n",
    "\n",
    "def result_file_name(args):\n",
    "    file_name = f\"results_{args.fold_range}_{args.seed}\"\n",
    "    if len(args.modalities) > 0:\n",
    "        file_name += \"_\"\n",
    "        file_name += \"_\".join(args.modalities)\n",
    "    return file_name\n",
    "\n",
    "class Args:\n",
    "    def __init__(self, modalities=[\"clinical\", \"miRNA\", \"mRNA\", \"WSI\"]):\n",
    "        self.epochs = 20\n",
    "        self.modality_data_path = {'clinical': './preprocess/preprocessed_data/clinical_kidney.csv',\n",
    "                                    'mRNA': './preprocess/preprocessed_data/mrna_kidney.csv',\n",
    "                                    'miRNA': './preprocess/preprocessed_data/mirna_kidney.csv',\n",
    "                                    'WSI': './preprocess/preprocessed_data/UNI2_features/TCGA-Kidney.pt'}\n",
    "        self.device = \"cuda\"\n",
    "        self.modalities = modalities\n",
    "        self.input_modality_dim = {'clinical':4, 'mRNA':2746, 'miRNA':743 , 'WSI': 1536}\n",
    "        self.fold_range = 5\n",
    "        self.fold = 1\n",
    "        self.modality_fv_len = 128\n",
    "        self.batch_size = 128\n",
    "        self.learning_rate = 1e-4\n",
    "        self.loss_trade_off = 0.3\n",
    "        self.loss_mode = 'total'\n",
    "        self.seed = 24\n",
    "        self.result_path = f\"./logs/graph_att/{result_file_name(self)}\"\n",
    "        print(f\"Result Path: {self.result_path}\")\n",
    "        self.log_file_name = \"temp.log\"\n",
    "        self.scheduler_patience = 5\n",
    "        self.num_workers = 4\n",
    "        self.num_modalities = len(self.modalities)\n",
    "        self.split_path = \"./splits/kidney_splits\"\n",
    "        self.remove_missing = True\n",
    "\n",
    "args = Args()"
   ]
  },
  {
   "cell_type": "code",
   "execution_count": 3,
   "metadata": {},
   "outputs": [],
   "source": [
    "import torch\n",
    "import torch.nn as nn\n",
    "from torch_geometric.nn import GAT\n",
    "from torch_geometric.utils import from_scipy_sparse_matrix, to_scipy_sparse_matrix\n",
    "import scipy.sparse as sp\n",
    "from torch_geometric.nn import GATv2Conv\n",
    "import torch.nn.functional as F\n",
    "\n",
    "\n",
    "class GraphAttention(nn.Module):\n",
    "    def __init__(self, num_modalities, modality_dim, hidden_dim, output_dim, device):\n",
    "        super(GraphAttention, self).__init__()\n",
    "        self.input_dim = modality_dim\n",
    "        self.hidden_dim = hidden_dim\n",
    "        self.output_dim = output_dim\n",
    "        self.gat1 = GATv2Conv(self.input_dim, self.hidden_dim)\n",
    "        self.num_modalities = num_modalities\n",
    "        adjacency_matrix = torch.ones([self.num_modalities, self.num_modalities], dtype=torch.float)\n",
    "        self.adjacency_matrix = sp.coo_matrix(adjacency_matrix.numpy())\n",
    "        edge_index, edge_weight = from_scipy_sparse_matrix(self.adjacency_matrix)\n",
    "        self.edge_index = edge_index.to(device)\n",
    "        \n",
    "    def forward(self, x):\n",
    "        result= []\n",
    "        attns = []\n",
    "        for data in x:\n",
    "            x_fv, att_w = self.gat1(data, self.edge_index, return_attention_weights = True)\n",
    "            adj1 = to_scipy_sparse_matrix(att_w[0].detach().cpu(),att_w[1].detach().cpu(), self.num_modalities)        \n",
    "            result.append(x_fv)\n",
    "            attns.append(adj1.todense())\n",
    "        return torch.stack(result), attns"
   ]
  },
  {
   "cell_type": "code",
   "execution_count": 4,
   "metadata": {},
   "outputs": [],
   "source": [
    "from torch import nn\n",
    "\n",
    "\n",
    "class AggModel(nn.Module):\n",
    "    def __init__(self, n_views, n_in_feats, encoder_model, device):\n",
    "        super(AggModel, self).__init__()\n",
    "        self.output_dim = n_in_feats * n_views\n",
    "        self.modality_count = n_views\n",
    "        self.modality_fv_len = n_in_feats\n",
    "        \n",
    "        self.encoder_model = encoder_model\n",
    "        self.fusion = GraphAttention(self.modality_count, self.modality_fv_len, self.modality_fv_len, self.modality_fv_len, device)\n",
    "        self.hazard_layer = nn.Linear(self.output_dim, 1)\n",
    "        self.label_layer = nn.Linear(self.output_dim, 2)\n",
    "\t\n",
    "    def to_device(self, device):\n",
    "        self.to(device)\n",
    "\n",
    "    def to_train(self):\n",
    "        self.train()\n",
    "\n",
    "    def to_eval(self):\n",
    "        self.eval()\n",
    "\t\t\t\n",
    "    def forward(self, x_modality, mask):\n",
    "        representation = self.encoder_model(x_modality)\n",
    "        missing_rep = []\n",
    "        for i, rep in enumerate(representation):\n",
    "            index = torch.ones((rep.shape[0]), dtype=int) * i \n",
    "            index = index.to(rep.device)\n",
    "            modality_mask = mask[:, i].reshape(-1, 1)\n",
    "            rep =  modality_mask * rep\n",
    "            missing_rep.append(rep)\n",
    "        \n",
    "        representation_dict = {} #used for self supervised loss\n",
    "        for i, data in enumerate(missing_rep):\n",
    "            representation_dict[i] = data\n",
    "\n",
    "        final_representation, _ = self.fusion(torch.stack(missing_rep, 1))\n",
    "        final_representation = final_representation.reshape(-1, self.output_dim)\n",
    "\n",
    "        hazard = self.hazard_layer(final_representation)\n",
    "        score = F.log_softmax(self.label_layer(final_representation), dim=1)\n",
    "        return {'hazard':hazard, 'score':score}, representation_dict"
   ]
  },
  {
   "cell_type": "code",
   "execution_count": 5,
   "metadata": {},
   "outputs": [],
   "source": [
    "from lifelines.utils import concordance_index\n",
    "\n",
    "\n",
    "def print_log(msg, logger):\n",
    "    print(msg)\n",
    "    logger.info(msg)\n",
    "\n",
    "def evaluation(model, dataloader, loss_fucnt, device):\n",
    "    running_loss = []\n",
    "    running_sample_time = torch.FloatTensor().to(device)\n",
    "    running_sample_event = torch.LongTensor().to(device)\n",
    "    running_hazard = torch.FloatTensor().to(device)\n",
    "    \n",
    "    model.to_eval()\n",
    "    with torch.no_grad():\n",
    "        for x_modal, data_label, mask in dataloader:\n",
    "            for modality in x_modal:\n",
    "                x_modal[modality] = x_modal[modality].to(device)\n",
    "            event = data_label[:, 0].to(device)\n",
    "            time = data_label[:, 1].to(device)\n",
    "            mask = mask.to(device)\n",
    "            hazard, representation = model(x_modal, mask)\n",
    "            loss = loss_fucnt(representation, list(representation.keys()), hazard, event, time)\n",
    "            hazard = hazard['hazard']\n",
    "            \n",
    "            running_loss.append(loss.item())\n",
    "            running_sample_time = torch.cat((running_sample_time, time.data.float()))\n",
    "            running_sample_event = torch.cat((running_sample_event, event.long().data))\n",
    "            running_hazard = torch.cat((running_hazard, hazard.detach()))\n",
    "            \n",
    "    eval_loss = torch.mean(torch.tensor(running_loss))\n",
    "    eval_c_index = concordance_index(running_sample_time.cpu().numpy(), -running_hazard.cpu().numpy(), running_sample_event.cpu().numpy())\n",
    "    return eval_loss, eval_c_index"
   ]
  },
  {
   "cell_type": "code",
   "execution_count": 6,
   "metadata": {},
   "outputs": [],
   "source": [
    "import copy\n",
    "import random\n",
    "import logging \n",
    "import numpy as np\n",
    "from utils.loss import Loss\n",
    "from torch.optim import Adam\n",
    "from torch.utils.data import DataLoader\n",
    "from utils.dataset import MultiModalDataset\n",
    "from utils.encoder import EncoderModel\n",
    "    \n",
    "\n",
    "def save_model(model, path):\n",
    "    torch.save(model.state_dict(), path)\n",
    "\n",
    "def set_seed(seed):\n",
    "    random.seed(seed)\n",
    "    os.environ['PYTHONHASHSEED'] = str(seed)\n",
    "    np.random.seed(seed)\n",
    "    torch.manual_seed(seed)\n",
    "    torch.cuda.manual_seed(seed)\n",
    "    torch.cuda.manual_seed_all(seed)  \n",
    "    torch.backends.cudnn.benchmark = False\n",
    "    torch.backends.cudnn.deterministic = True\n",
    "        \n",
    "def train_eval_model(args):\n",
    "    set_seed(args.seed)\n",
    "\n",
    "    os.makedirs(args.result_path, exist_ok=True)\n",
    "\n",
    "    logging.basicConfig(format='%(message)s')\n",
    "    for k in range(args.fold_range):\n",
    "        args.fold = k\n",
    "        args.log_file_name = f\"result_fold{args.fold}.log\"\n",
    "        args.log_file_name = os.path.join(args.result_path, args.log_file_name)\n",
    "        if os.path.exists(args.log_file_name):\n",
    "            os.remove(args.log_file_name)\n",
    "            \n",
    "        handler = logging.FileHandler(args.log_file_name, mode='w')\n",
    "        logger=logging.getLogger() \n",
    "        logger.setLevel(logging.DEBUG) \n",
    "        logger.addHandler(handler)\n",
    "        \n",
    "        train_dataset = MultiModalDataset(args, 'train', args.modalities, args.modality_data_path, remove_missing=args.remove_missing)\n",
    "        train_dataloader = DataLoader(train_dataset, batch_size=args.batch_size, shuffle=True, num_workers=args.num_workers)\n",
    "        test_dataset = MultiModalDataset(args, 'test', args.modalities, args.modality_data_path)\n",
    "        test_dataloader = DataLoader(test_dataset, batch_size=args.batch_size, shuffle=False, num_workers=args.num_workers)\n",
    "\n",
    "        device = torch.device(args.device)\n",
    "        encoder_model = EncoderModel(args.modalities, args.modality_fv_len, args.input_modality_dim)\n",
    "        model = AggModel(args.num_modalities, args.modality_fv_len, encoder_model, device)\n",
    "        optimizer = Adam(model.parameters(), lr=args.learning_rate)\n",
    "        scheduler = torch.optim.lr_scheduler.ReduceLROnPlateau( \n",
    "            optimizer=optimizer, mode='max', factor=0.1,\n",
    "            patience = args.scheduler_patience, verbose=True, threshold=1e-3,\n",
    "            threshold_mode='rel', cooldown=0, min_lr=0, eps=1e-8)\n",
    "        model.to_device(device)\n",
    "        \n",
    "        loss_fucnt = Loss(trade_off=args.loss_trade_off, mode=args.loss_mode)\n",
    "\n",
    "        for epoch in range(args.epochs):\n",
    "            running_loss = []\n",
    "            running_sample_time = torch.FloatTensor().to(device)\n",
    "            running_sample_event = torch.LongTensor().to(device)\n",
    "            running_hazard = torch.FloatTensor().to(device)\n",
    "            \n",
    "            model.to_train()\n",
    "            for x_modal, data_label, mask in train_dataloader:\n",
    "                for modality in x_modal:\n",
    "                    x_modal[modality] = x_modal[modality].to(device)\n",
    "                event = data_label[:, 0].to(device)\n",
    "                time = data_label[:, 1].to(device)\n",
    "                mask = mask.to(device)\n",
    "                hazard, representation = model(x_modal, mask)\n",
    "                loss = loss_fucnt(representation, list(representation.keys()), hazard, event, time)\n",
    "                optimizer.zero_grad()\n",
    "                loss.backward()\n",
    "                optimizer.step()\n",
    "                hazard = hazard['hazard']\n",
    "                \n",
    "                running_loss.append(loss.item())\n",
    "                running_sample_time = torch.cat((running_sample_time, time.data.float()))\n",
    "                running_sample_event = torch.cat((running_sample_event, event.long().data))\n",
    "                running_hazard = torch.cat((running_hazard, hazard.detach()))\n",
    "                \n",
    "            train_loss = torch.mean(torch.tensor(running_loss))\n",
    "            train_c_index = concordance_index(running_sample_time.cpu().numpy(), -running_hazard.cpu().numpy(), running_sample_event.cpu().numpy())\n",
    "            print_log(f\"Epoch {epoch}/{args.epochs}: Training Loss: {train_loss}, C-Index: {train_c_index}\", logger)\n",
    "            scheduler.step(train_c_index)\n",
    "            if scheduler.patience == scheduler.num_bad_epochs: #need to fix to make it more accurate\n",
    "                print_log(\"Reducing the learning rate\", logger)\n",
    "            best_model = copy.deepcopy(model.state_dict())\n",
    "        print_log(\"*\" * 100, logger)\n",
    "        \n",
    "        model.load_state_dict(best_model)\n",
    "        model_save_path = os.path.join(args.result_path, f\"model_fold{args.fold}.pt\")\n",
    "        save_model(model, model_save_path)\n",
    "        train_loss, train_c_index = evaluation(model, train_dataloader, loss_fucnt, device)\n",
    "        print_log(f\"Final Train Loss: {train_loss}, C-Index: {train_c_index}\", logger)\n",
    "        test_loss, test_c_index = evaluation(model, test_dataloader, loss_fucnt, device)\n",
    "        print_log(f\"Test Loss: {test_loss}, C-Index: {test_c_index}\", logger)\n",
    "        \n",
    "        logger.removeHandler(handler)"
   ]
  },
  {
   "cell_type": "code",
   "execution_count": 7,
   "metadata": {},
   "outputs": [
    {
     "name": "stdout",
     "output_type": "stream",
     "text": [
      "Result Path: ./logs/graph_att/results_5_24_clinical_miRNA_mRNA_WSI\n"
     ]
    },
    {
     "name": "stderr",
     "output_type": "stream",
     "text": [
      "Epoch 0/20: Training Loss: 4.316524505615234, C-Index: 0.5681106941163775\n"
     ]
    },
    {
     "name": "stdout",
     "output_type": "stream",
     "text": [
      "Epoch 0/20: Training Loss: 4.316524505615234, C-Index: 0.5681106941163775\n"
     ]
    },
    {
     "name": "stderr",
     "output_type": "stream",
     "text": [
      "Epoch 1/20: Training Loss: 4.1388020515441895, C-Index: 0.6819702401649861\n"
     ]
    },
    {
     "name": "stdout",
     "output_type": "stream",
     "text": [
      "Epoch 1/20: Training Loss: 4.1388020515441895, C-Index: 0.6819702401649861\n"
     ]
    },
    {
     "name": "stderr",
     "output_type": "stream",
     "text": [
      "Epoch 2/20: Training Loss: 4.010704517364502, C-Index: 0.7266699440054676\n"
     ]
    },
    {
     "name": "stdout",
     "output_type": "stream",
     "text": [
      "Epoch 2/20: Training Loss: 4.010704517364502, C-Index: 0.7266699440054676\n"
     ]
    },
    {
     "name": "stderr",
     "output_type": "stream",
     "text": [
      "Epoch 3/20: Training Loss: 3.797489881515503, C-Index: 0.7818731190273498\n"
     ]
    },
    {
     "name": "stdout",
     "output_type": "stream",
     "text": [
      "Epoch 3/20: Training Loss: 3.797489881515503, C-Index: 0.7818731190273498\n"
     ]
    },
    {
     "name": "stderr",
     "output_type": "stream",
     "text": [
      "Epoch 4/20: Training Loss: 3.7805306911468506, C-Index: 0.7904941187755542\n"
     ]
    },
    {
     "name": "stdout",
     "output_type": "stream",
     "text": [
      "Epoch 4/20: Training Loss: 3.7805306911468506, C-Index: 0.7904941187755542\n"
     ]
    },
    {
     "name": "stderr",
     "output_type": "stream",
     "text": [
      "Epoch 5/20: Training Loss: 3.5916805267333984, C-Index: 0.8147144518650855\n"
     ]
    },
    {
     "name": "stdout",
     "output_type": "stream",
     "text": [
      "Epoch 5/20: Training Loss: 3.5916805267333984, C-Index: 0.8147144518650855\n"
     ]
    },
    {
     "name": "stderr",
     "output_type": "stream",
     "text": [
      "Epoch 6/20: Training Loss: 3.5453546047210693, C-Index: 0.8322322274313257\n"
     ]
    },
    {
     "name": "stdout",
     "output_type": "stream",
     "text": [
      "Epoch 6/20: Training Loss: 3.5453546047210693, C-Index: 0.8322322274313257\n"
     ]
    },
    {
     "name": "stderr",
     "output_type": "stream",
     "text": [
      "Epoch 7/20: Training Loss: 3.4979381561279297, C-Index: 0.8485509766069951\n"
     ]
    },
    {
     "name": "stdout",
     "output_type": "stream",
     "text": [
      "Epoch 7/20: Training Loss: 3.4979381561279297, C-Index: 0.8485509766069951\n"
     ]
    },
    {
     "name": "stderr",
     "output_type": "stream",
     "text": [
      "Epoch 8/20: Training Loss: 3.362492322921753, C-Index: 0.8624237119459\n"
     ]
    },
    {
     "name": "stdout",
     "output_type": "stream",
     "text": [
      "Epoch 8/20: Training Loss: 3.362492322921753, C-Index: 0.8624237119459\n"
     ]
    },
    {
     "name": "stderr",
     "output_type": "stream",
     "text": [
      "Epoch 9/20: Training Loss: 3.3396222591400146, C-Index: 0.8631311375163367\n"
     ]
    },
    {
     "name": "stdout",
     "output_type": "stream",
     "text": [
      "Epoch 9/20: Training Loss: 3.3396222591400146, C-Index: 0.8631311375163367\n"
     ]
    },
    {
     "name": "stderr",
     "output_type": "stream",
     "text": [
      "Epoch 10/20: Training Loss: 3.246286153793335, C-Index: 0.8768120286327502\n"
     ]
    },
    {
     "name": "stdout",
     "output_type": "stream",
     "text": [
      "Epoch 10/20: Training Loss: 3.246286153793335, C-Index: 0.8768120286327502\n"
     ]
    },
    {
     "name": "stderr",
     "output_type": "stream",
     "text": [
      "Epoch 11/20: Training Loss: 3.278798818588257, C-Index: 0.8769679020635244\n"
     ]
    },
    {
     "name": "stdout",
     "output_type": "stream",
     "text": [
      "Epoch 11/20: Training Loss: 3.278798818588257, C-Index: 0.8769679020635244\n"
     ]
    },
    {
     "name": "stderr",
     "output_type": "stream",
     "text": [
      "Epoch 12/20: Training Loss: 3.163625717163086, C-Index: 0.8964640711742066\n"
     ]
    },
    {
     "name": "stdout",
     "output_type": "stream",
     "text": [
      "Epoch 12/20: Training Loss: 3.163625717163086, C-Index: 0.8964640711742066\n"
     ]
    },
    {
     "name": "stderr",
     "output_type": "stream",
     "text": [
      "Epoch 13/20: Training Loss: 3.0641863346099854, C-Index: 0.8975551851896261\n"
     ]
    },
    {
     "name": "stdout",
     "output_type": "stream",
     "text": [
      "Epoch 13/20: Training Loss: 3.0641863346099854, C-Index: 0.8975551851896261\n"
     ]
    },
    {
     "name": "stderr",
     "output_type": "stream",
     "text": [
      "Epoch 14/20: Training Loss: 2.9544780254364014, C-Index: 0.9138499538374839\n"
     ]
    },
    {
     "name": "stdout",
     "output_type": "stream",
     "text": [
      "Epoch 14/20: Training Loss: 2.9544780254364014, C-Index: 0.9138499538374839\n"
     ]
    },
    {
     "name": "stderr",
     "output_type": "stream",
     "text": [
      "Epoch 15/20: Training Loss: 2.8956356048583984, C-Index: 0.9158403376458316\n"
     ]
    },
    {
     "name": "stdout",
     "output_type": "stream",
     "text": [
      "Epoch 15/20: Training Loss: 2.8956356048583984, C-Index: 0.9158403376458316\n"
     ]
    },
    {
     "name": "stderr",
     "output_type": "stream",
     "text": [
      "Epoch 16/20: Training Loss: 2.9169158935546875, C-Index: 0.9167156269109483\n"
     ]
    },
    {
     "name": "stdout",
     "output_type": "stream",
     "text": [
      "Epoch 16/20: Training Loss: 2.9169158935546875, C-Index: 0.9167156269109483\n"
     ]
    },
    {
     "name": "stderr",
     "output_type": "stream",
     "text": [
      "Epoch 17/20: Training Loss: 2.8380634784698486, C-Index: 0.9272550688840662\n"
     ]
    },
    {
     "name": "stdout",
     "output_type": "stream",
     "text": [
      "Epoch 17/20: Training Loss: 2.8380634784698486, C-Index: 0.9272550688840662\n"
     ]
    },
    {
     "name": "stderr",
     "output_type": "stream",
     "text": [
      "Epoch 18/20: Training Loss: 2.7406044006347656, C-Index: 0.9308521480557788\n"
     ]
    },
    {
     "name": "stdout",
     "output_type": "stream",
     "text": [
      "Epoch 18/20: Training Loss: 2.7406044006347656, C-Index: 0.9308521480557788\n"
     ]
    },
    {
     "name": "stderr",
     "output_type": "stream",
     "text": [
      "Epoch 19/20: Training Loss: 2.680767059326172, C-Index: 0.9385618877471493\n",
      "****************************************************************************************************\n"
     ]
    },
    {
     "name": "stdout",
     "output_type": "stream",
     "text": [
      "Epoch 19/20: Training Loss: 2.680767059326172, C-Index: 0.9385618877471493\n",
      "****************************************************************************************************\n"
     ]
    },
    {
     "name": "stderr",
     "output_type": "stream",
     "text": [
      "Final Train Loss: 2.6120760440826416, C-Index: 0.9497128331794583\n"
     ]
    },
    {
     "name": "stdout",
     "output_type": "stream",
     "text": [
      "Final Train Loss: 2.6120760440826416, C-Index: 0.9497128331794583\n"
     ]
    },
    {
     "name": "stderr",
     "output_type": "stream",
     "text": [
      "Test Loss: 4.006721496582031, C-Index: 0.7250584567420109\n"
     ]
    },
    {
     "name": "stdout",
     "output_type": "stream",
     "text": [
      "Test Loss: 4.006721496582031, C-Index: 0.7250584567420109\n"
     ]
    },
    {
     "name": "stderr",
     "output_type": "stream",
     "text": [
      "Epoch 0/20: Training Loss: 4.257290363311768, C-Index: 0.5745933684058111\n"
     ]
    },
    {
     "name": "stdout",
     "output_type": "stream",
     "text": [
      "Epoch 0/20: Training Loss: 4.257290363311768, C-Index: 0.5745933684058111\n"
     ]
    },
    {
     "name": "stderr",
     "output_type": "stream",
     "text": [
      "Epoch 1/20: Training Loss: 4.01749849319458, C-Index: 0.7326729089241759\n"
     ]
    },
    {
     "name": "stdout",
     "output_type": "stream",
     "text": [
      "Epoch 1/20: Training Loss: 4.01749849319458, C-Index: 0.7326729089241759\n"
     ]
    },
    {
     "name": "stderr",
     "output_type": "stream",
     "text": [
      "Epoch 2/20: Training Loss: 3.8389275074005127, C-Index: 0.7761474974660939\n"
     ]
    },
    {
     "name": "stdout",
     "output_type": "stream",
     "text": [
      "Epoch 2/20: Training Loss: 3.8389275074005127, C-Index: 0.7761474974660939\n"
     ]
    },
    {
     "name": "stderr",
     "output_type": "stream",
     "text": [
      "Epoch 3/20: Training Loss: 3.811734199523926, C-Index: 0.7819875476615666\n"
     ]
    },
    {
     "name": "stdout",
     "output_type": "stream",
     "text": [
      "Epoch 3/20: Training Loss: 3.811734199523926, C-Index: 0.7819875476615666\n"
     ]
    },
    {
     "name": "stderr",
     "output_type": "stream",
     "text": [
      "Epoch 4/20: Training Loss: 3.6715657711029053, C-Index: 0.7950793957237319\n"
     ]
    },
    {
     "name": "stdout",
     "output_type": "stream",
     "text": [
      "Epoch 4/20: Training Loss: 3.6715657711029053, C-Index: 0.7950793957237319\n"
     ]
    },
    {
     "name": "stderr",
     "output_type": "stream",
     "text": [
      "Epoch 5/20: Training Loss: 3.5873501300811768, C-Index: 0.8262464404652734\n"
     ]
    },
    {
     "name": "stdout",
     "output_type": "stream",
     "text": [
      "Epoch 5/20: Training Loss: 3.5873501300811768, C-Index: 0.8262464404652734\n"
     ]
    },
    {
     "name": "stderr",
     "output_type": "stream",
     "text": [
      "Epoch 6/20: Training Loss: 3.586930513381958, C-Index: 0.8307592065254115\n"
     ]
    },
    {
     "name": "stdout",
     "output_type": "stream",
     "text": [
      "Epoch 6/20: Training Loss: 3.586930513381958, C-Index: 0.8307592065254115\n"
     ]
    },
    {
     "name": "stderr",
     "output_type": "stream",
     "text": [
      "Epoch 7/20: Training Loss: 3.501821756362915, C-Index: 0.845335199575269\n"
     ]
    },
    {
     "name": "stdout",
     "output_type": "stream",
     "text": [
      "Epoch 7/20: Training Loss: 3.501821756362915, C-Index: 0.845335199575269\n"
     ]
    },
    {
     "name": "stderr",
     "output_type": "stream",
     "text": [
      "Epoch 8/20: Training Loss: 3.376060724258423, C-Index: 0.8564481876538443\n"
     ]
    },
    {
     "name": "stdout",
     "output_type": "stream",
     "text": [
      "Epoch 8/20: Training Loss: 3.376060724258423, C-Index: 0.8564481876538443\n"
     ]
    },
    {
     "name": "stderr",
     "output_type": "stream",
     "text": [
      "Epoch 9/20: Training Loss: 3.333177328109741, C-Index: 0.858849365316859\n"
     ]
    },
    {
     "name": "stdout",
     "output_type": "stream",
     "text": [
      "Epoch 9/20: Training Loss: 3.333177328109741, C-Index: 0.858849365316859\n"
     ]
    },
    {
     "name": "stderr",
     "output_type": "stream",
     "text": [
      "Epoch 10/20: Training Loss: 3.2423837184906006, C-Index: 0.8778295284521453\n"
     ]
    },
    {
     "name": "stdout",
     "output_type": "stream",
     "text": [
      "Epoch 10/20: Training Loss: 3.2423837184906006, C-Index: 0.8778295284521453\n"
     ]
    },
    {
     "name": "stderr",
     "output_type": "stream",
     "text": [
      "Epoch 11/20: Training Loss: 3.2370645999908447, C-Index: 0.8821371687822771\n"
     ]
    },
    {
     "name": "stdout",
     "output_type": "stream",
     "text": [
      "Epoch 11/20: Training Loss: 3.2370645999908447, C-Index: 0.8821371687822771\n"
     ]
    },
    {
     "name": "stderr",
     "output_type": "stream",
     "text": [
      "Epoch 12/20: Training Loss: 3.1183292865753174, C-Index: 0.9037115690911723\n"
     ]
    },
    {
     "name": "stdout",
     "output_type": "stream",
     "text": [
      "Epoch 12/20: Training Loss: 3.1183292865753174, C-Index: 0.9037115690911723\n"
     ]
    },
    {
     "name": "stderr",
     "output_type": "stream",
     "text": [
      "Epoch 13/20: Training Loss: 3.0957868099212646, C-Index: 0.9047733963994401\n"
     ]
    },
    {
     "name": "stdout",
     "output_type": "stream",
     "text": [
      "Epoch 13/20: Training Loss: 3.0957868099212646, C-Index: 0.9047733963994401\n"
     ]
    },
    {
     "name": "stderr",
     "output_type": "stream",
     "text": [
      "Epoch 14/20: Training Loss: 2.993769884109497, C-Index: 0.9119407307302476\n"
     ]
    },
    {
     "name": "stdout",
     "output_type": "stream",
     "text": [
      "Epoch 14/20: Training Loss: 2.993769884109497, C-Index: 0.9119407307302476\n"
     ]
    },
    {
     "name": "stderr",
     "output_type": "stream",
     "text": [
      "Epoch 15/20: Training Loss: 2.9648077487945557, C-Index: 0.9174670592210049\n"
     ]
    },
    {
     "name": "stdout",
     "output_type": "stream",
     "text": [
      "Epoch 15/20: Training Loss: 2.9648077487945557, C-Index: 0.9174670592210049\n"
     ]
    },
    {
     "name": "stderr",
     "output_type": "stream",
     "text": [
      "Epoch 16/20: Training Loss: 2.858250617980957, C-Index: 0.929472947536078\n"
     ]
    },
    {
     "name": "stdout",
     "output_type": "stream",
     "text": [
      "Epoch 16/20: Training Loss: 2.858250617980957, C-Index: 0.929472947536078\n"
     ]
    },
    {
     "name": "stderr",
     "output_type": "stream",
     "text": [
      "Epoch 17/20: Training Loss: 2.7491683959960938, C-Index: 0.9317655292243834\n"
     ]
    },
    {
     "name": "stdout",
     "output_type": "stream",
     "text": [
      "Epoch 17/20: Training Loss: 2.7491683959960938, C-Index: 0.9317655292243834\n"
     ]
    },
    {
     "name": "stderr",
     "output_type": "stream",
     "text": [
      "Epoch 18/20: Training Loss: 2.754342794418335, C-Index: 0.9274337564554274\n"
     ]
    },
    {
     "name": "stdout",
     "output_type": "stream",
     "text": [
      "Epoch 18/20: Training Loss: 2.754342794418335, C-Index: 0.9274337564554274\n"
     ]
    },
    {
     "name": "stderr",
     "output_type": "stream",
     "text": [
      "Epoch 19/20: Training Loss: 2.6551244258880615, C-Index: 0.9423958685264733\n",
      "****************************************************************************************************\n"
     ]
    },
    {
     "name": "stdout",
     "output_type": "stream",
     "text": [
      "Epoch 19/20: Training Loss: 2.6551244258880615, C-Index: 0.9423958685264733\n",
      "****************************************************************************************************\n"
     ]
    },
    {
     "name": "stderr",
     "output_type": "stream",
     "text": [
      "Final Train Loss: 2.578139543533325, C-Index: 0.950214778705536\n"
     ]
    },
    {
     "name": "stdout",
     "output_type": "stream",
     "text": [
      "Final Train Loss: 2.578139543533325, C-Index: 0.950214778705536\n"
     ]
    },
    {
     "name": "stderr",
     "output_type": "stream",
     "text": [
      "Test Loss: 3.388868570327759, C-Index: 0.7385052034058657\n"
     ]
    },
    {
     "name": "stdout",
     "output_type": "stream",
     "text": [
      "Test Loss: 3.388868570327759, C-Index: 0.7385052034058657\n"
     ]
    },
    {
     "name": "stderr",
     "output_type": "stream",
     "text": [
      "Epoch 0/20: Training Loss: 4.317249298095703, C-Index: 0.551804284276609\n"
     ]
    },
    {
     "name": "stdout",
     "output_type": "stream",
     "text": [
      "Epoch 0/20: Training Loss: 4.317249298095703, C-Index: 0.551804284276609\n"
     ]
    },
    {
     "name": "stderr",
     "output_type": "stream",
     "text": [
      "Epoch 1/20: Training Loss: 4.117033004760742, C-Index: 0.6885872430152873\n"
     ]
    },
    {
     "name": "stdout",
     "output_type": "stream",
     "text": [
      "Epoch 1/20: Training Loss: 4.117033004760742, C-Index: 0.6885872430152873\n"
     ]
    },
    {
     "name": "stderr",
     "output_type": "stream",
     "text": [
      "Epoch 2/20: Training Loss: 4.017776966094971, C-Index: 0.7256193990511334\n"
     ]
    },
    {
     "name": "stdout",
     "output_type": "stream",
     "text": [
      "Epoch 2/20: Training Loss: 4.017776966094971, C-Index: 0.7256193990511334\n"
     ]
    },
    {
     "name": "stderr",
     "output_type": "stream",
     "text": [
      "Epoch 3/20: Training Loss: 3.8795764446258545, C-Index: 0.7765371160205109\n"
     ]
    },
    {
     "name": "stdout",
     "output_type": "stream",
     "text": [
      "Epoch 3/20: Training Loss: 3.8795764446258545, C-Index: 0.7765371160205109\n"
     ]
    },
    {
     "name": "stderr",
     "output_type": "stream",
     "text": [
      "Epoch 4/20: Training Loss: 3.767591714859009, C-Index: 0.8045837925911726\n"
     ]
    },
    {
     "name": "stdout",
     "output_type": "stream",
     "text": [
      "Epoch 4/20: Training Loss: 3.767591714859009, C-Index: 0.8045837925911726\n"
     ]
    },
    {
     "name": "stderr",
     "output_type": "stream",
     "text": [
      "Epoch 5/20: Training Loss: 3.689465284347534, C-Index: 0.8174390185460296\n"
     ]
    },
    {
     "name": "stdout",
     "output_type": "stream",
     "text": [
      "Epoch 5/20: Training Loss: 3.689465284347534, C-Index: 0.8174390185460296\n"
     ]
    },
    {
     "name": "stderr",
     "output_type": "stream",
     "text": [
      "Epoch 6/20: Training Loss: 3.6011579036712646, C-Index: 0.8333493075190492\n"
     ]
    },
    {
     "name": "stdout",
     "output_type": "stream",
     "text": [
      "Epoch 6/20: Training Loss: 3.6011579036712646, C-Index: 0.8333493075190492\n"
     ]
    },
    {
     "name": "stderr",
     "output_type": "stream",
     "text": [
      "Epoch 7/20: Training Loss: 3.4957094192504883, C-Index: 0.8474625005990319\n"
     ]
    },
    {
     "name": "stdout",
     "output_type": "stream",
     "text": [
      "Epoch 7/20: Training Loss: 3.4957094192504883, C-Index: 0.8474625005990319\n"
     ]
    },
    {
     "name": "stderr",
     "output_type": "stream",
     "text": [
      "Epoch 8/20: Training Loss: 3.383037805557251, C-Index: 0.8662840849187713\n"
     ]
    },
    {
     "name": "stdout",
     "output_type": "stream",
     "text": [
      "Epoch 8/20: Training Loss: 3.383037805557251, C-Index: 0.8662840849187713\n"
     ]
    },
    {
     "name": "stderr",
     "output_type": "stream",
     "text": [
      "Epoch 9/20: Training Loss: 3.35684871673584, C-Index: 0.8732448363444674\n"
     ]
    },
    {
     "name": "stdout",
     "output_type": "stream",
     "text": [
      "Epoch 9/20: Training Loss: 3.35684871673584, C-Index: 0.8732448363444674\n"
     ]
    },
    {
     "name": "stderr",
     "output_type": "stream",
     "text": [
      "Epoch 10/20: Training Loss: 3.2213470935821533, C-Index: 0.8941630325394163\n"
     ]
    },
    {
     "name": "stdout",
     "output_type": "stream",
     "text": [
      "Epoch 10/20: Training Loss: 3.2213470935821533, C-Index: 0.8941630325394163\n"
     ]
    },
    {
     "name": "stderr",
     "output_type": "stream",
     "text": [
      "Epoch 11/20: Training Loss: 3.125552177429199, C-Index: 0.9027052283509848\n"
     ]
    },
    {
     "name": "stdout",
     "output_type": "stream",
     "text": [
      "Epoch 11/20: Training Loss: 3.125552177429199, C-Index: 0.9027052283509848\n"
     ]
    },
    {
     "name": "stderr",
     "output_type": "stream",
     "text": [
      "Epoch 12/20: Training Loss: 3.0706565380096436, C-Index: 0.9085997028801457\n"
     ]
    },
    {
     "name": "stdout",
     "output_type": "stream",
     "text": [
      "Epoch 12/20: Training Loss: 3.0706565380096436, C-Index: 0.9085997028801457\n"
     ]
    },
    {
     "name": "stderr",
     "output_type": "stream",
     "text": [
      "Epoch 13/20: Training Loss: 2.983626127243042, C-Index: 0.9105525470839124\n"
     ]
    },
    {
     "name": "stdout",
     "output_type": "stream",
     "text": [
      "Epoch 13/20: Training Loss: 2.983626127243042, C-Index: 0.9105525470839124\n"
     ]
    },
    {
     "name": "stderr",
     "output_type": "stream",
     "text": [
      "Epoch 14/20: Training Loss: 2.931974172592163, C-Index: 0.9195739684669574\n"
     ]
    },
    {
     "name": "stdout",
     "output_type": "stream",
     "text": [
      "Epoch 14/20: Training Loss: 2.931974172592163, C-Index: 0.9195739684669574\n"
     ]
    },
    {
     "name": "stderr",
     "output_type": "stream",
     "text": [
      "Epoch 15/20: Training Loss: 2.935678243637085, C-Index: 0.9184837302918484\n"
     ]
    },
    {
     "name": "stdout",
     "output_type": "stream",
     "text": [
      "Epoch 15/20: Training Loss: 2.935678243637085, C-Index: 0.9184837302918484\n"
     ]
    },
    {
     "name": "stderr",
     "output_type": "stream",
     "text": [
      "Epoch 16/20: Training Loss: 2.7195374965667725, C-Index: 0.9340945032826952\n"
     ]
    },
    {
     "name": "stdout",
     "output_type": "stream",
     "text": [
      "Epoch 16/20: Training Loss: 2.7195374965667725, C-Index: 0.9340945032826952\n"
     ]
    },
    {
     "name": "stderr",
     "output_type": "stream",
     "text": [
      "Epoch 17/20: Training Loss: 2.713047981262207, C-Index: 0.9348492835577706\n"
     ]
    },
    {
     "name": "stdout",
     "output_type": "stream",
     "text": [
      "Epoch 17/20: Training Loss: 2.713047981262207, C-Index: 0.9348492835577706\n"
     ]
    },
    {
     "name": "stderr",
     "output_type": "stream",
     "text": [
      "Epoch 18/20: Training Loss: 2.6555168628692627, C-Index: 0.9410432740691044\n"
     ]
    },
    {
     "name": "stdout",
     "output_type": "stream",
     "text": [
      "Epoch 18/20: Training Loss: 2.6555168628692627, C-Index: 0.9410432740691044\n"
     ]
    },
    {
     "name": "stderr",
     "output_type": "stream",
     "text": [
      "Epoch 19/20: Training Loss: 2.5790631771087646, C-Index: 0.9446734077730388\n",
      "****************************************************************************************************\n"
     ]
    },
    {
     "name": "stdout",
     "output_type": "stream",
     "text": [
      "Epoch 19/20: Training Loss: 2.5790631771087646, C-Index: 0.9446734077730388\n",
      "****************************************************************************************************\n"
     ]
    },
    {
     "name": "stderr",
     "output_type": "stream",
     "text": [
      "Final Train Loss: 2.5234458446502686, C-Index: 0.9560430344563186\n"
     ]
    },
    {
     "name": "stdout",
     "output_type": "stream",
     "text": [
      "Final Train Loss: 2.5234458446502686, C-Index: 0.9560430344563186\n"
     ]
    },
    {
     "name": "stderr",
     "output_type": "stream",
     "text": [
      "Test Loss: 4.009307861328125, C-Index: 0.7561214495592556\n"
     ]
    },
    {
     "name": "stdout",
     "output_type": "stream",
     "text": [
      "Test Loss: 4.009307861328125, C-Index: 0.7561214495592556\n"
     ]
    },
    {
     "name": "stderr",
     "output_type": "stream",
     "text": [
      "Epoch 0/20: Training Loss: 4.2684245109558105, C-Index: 0.5804677570704011\n"
     ]
    },
    {
     "name": "stdout",
     "output_type": "stream",
     "text": [
      "Epoch 0/20: Training Loss: 4.2684245109558105, C-Index: 0.5804677570704011\n"
     ]
    },
    {
     "name": "stderr",
     "output_type": "stream",
     "text": [
      "Epoch 1/20: Training Loss: 4.121853351593018, C-Index: 0.6903633491311216\n"
     ]
    },
    {
     "name": "stdout",
     "output_type": "stream",
     "text": [
      "Epoch 1/20: Training Loss: 4.121853351593018, C-Index: 0.6903633491311216\n"
     ]
    },
    {
     "name": "stderr",
     "output_type": "stream",
     "text": [
      "Epoch 2/20: Training Loss: 3.9126789569854736, C-Index: 0.766335269453254\n"
     ]
    },
    {
     "name": "stdout",
     "output_type": "stream",
     "text": [
      "Epoch 2/20: Training Loss: 3.9126789569854736, C-Index: 0.766335269453254\n"
     ]
    },
    {
     "name": "stderr",
     "output_type": "stream",
     "text": [
      "Epoch 3/20: Training Loss: 3.8638553619384766, C-Index: 0.7664896839254535\n"
     ]
    },
    {
     "name": "stdout",
     "output_type": "stream",
     "text": [
      "Epoch 3/20: Training Loss: 3.8638553619384766, C-Index: 0.7664896839254535\n"
     ]
    },
    {
     "name": "stderr",
     "output_type": "stream",
     "text": [
      "Epoch 4/20: Training Loss: 3.764188766479492, C-Index: 0.7986791623608785\n"
     ]
    },
    {
     "name": "stdout",
     "output_type": "stream",
     "text": [
      "Epoch 4/20: Training Loss: 3.764188766479492, C-Index: 0.7986791623608785\n"
     ]
    },
    {
     "name": "stderr",
     "output_type": "stream",
     "text": [
      "Epoch 5/20: Training Loss: 3.651736259460449, C-Index: 0.8190737507275297\n"
     ]
    },
    {
     "name": "stdout",
     "output_type": "stream",
     "text": [
      "Epoch 5/20: Training Loss: 3.651736259460449, C-Index: 0.8190737507275297\n"
     ]
    },
    {
     "name": "stderr",
     "output_type": "stream",
     "text": [
      "Epoch 6/20: Training Loss: 3.564105272293091, C-Index: 0.8354891969259642\n"
     ]
    },
    {
     "name": "stdout",
     "output_type": "stream",
     "text": [
      "Epoch 6/20: Training Loss: 3.564105272293091, C-Index: 0.8354891969259642\n"
     ]
    },
    {
     "name": "stderr",
     "output_type": "stream",
     "text": [
      "Epoch 7/20: Training Loss: 3.531994104385376, C-Index: 0.8441364073691338\n"
     ]
    },
    {
     "name": "stdout",
     "output_type": "stream",
     "text": [
      "Epoch 7/20: Training Loss: 3.531994104385376, C-Index: 0.8441364073691338\n"
     ]
    },
    {
     "name": "stderr",
     "output_type": "stream",
     "text": [
      "Epoch 8/20: Training Loss: 3.444305419921875, C-Index: 0.8597916592428939\n"
     ]
    },
    {
     "name": "stdout",
     "output_type": "stream",
     "text": [
      "Epoch 8/20: Training Loss: 3.444305419921875, C-Index: 0.8597916592428939\n"
     ]
    },
    {
     "name": "stderr",
     "output_type": "stream",
     "text": [
      "Epoch 9/20: Training Loss: 3.335590362548828, C-Index: 0.8729881575977859\n"
     ]
    },
    {
     "name": "stdout",
     "output_type": "stream",
     "text": [
      "Epoch 9/20: Training Loss: 3.335590362548828, C-Index: 0.8729881575977859\n"
     ]
    },
    {
     "name": "stderr",
     "output_type": "stream",
     "text": [
      "Epoch 10/20: Training Loss: 3.2473490238189697, C-Index: 0.88079202746202\n"
     ]
    },
    {
     "name": "stdout",
     "output_type": "stream",
     "text": [
      "Epoch 10/20: Training Loss: 3.2473490238189697, C-Index: 0.88079202746202\n"
     ]
    },
    {
     "name": "stderr",
     "output_type": "stream",
     "text": [
      "Epoch 11/20: Training Loss: 3.2076311111450195, C-Index: 0.897017425079286\n"
     ]
    },
    {
     "name": "stdout",
     "output_type": "stream",
     "text": [
      "Epoch 11/20: Training Loss: 3.2076311111450195, C-Index: 0.897017425079286\n"
     ]
    },
    {
     "name": "stderr",
     "output_type": "stream",
     "text": [
      "Epoch 12/20: Training Loss: 3.1295278072357178, C-Index: 0.9038591740013541\n"
     ]
    },
    {
     "name": "stdout",
     "output_type": "stream",
     "text": [
      "Epoch 12/20: Training Loss: 3.1295278072357178, C-Index: 0.9038591740013541\n"
     ]
    },
    {
     "name": "stderr",
     "output_type": "stream",
     "text": [
      "Epoch 13/20: Training Loss: 3.0444834232330322, C-Index: 0.9128864816068607\n"
     ]
    },
    {
     "name": "stdout",
     "output_type": "stream",
     "text": [
      "Epoch 13/20: Training Loss: 3.0444834232330322, C-Index: 0.9128864816068607\n"
     ]
    },
    {
     "name": "stderr",
     "output_type": "stream",
     "text": [
      "Epoch 14/20: Training Loss: 2.942018508911133, C-Index: 0.9173169891553529\n"
     ]
    },
    {
     "name": "stdout",
     "output_type": "stream",
     "text": [
      "Epoch 14/20: Training Loss: 2.942018508911133, C-Index: 0.9173169891553529\n"
     ]
    },
    {
     "name": "stderr",
     "output_type": "stream",
     "text": [
      "Epoch 15/20: Training Loss: 2.8744771480560303, C-Index: 0.9253584197460476\n"
     ]
    },
    {
     "name": "stdout",
     "output_type": "stream",
     "text": [
      "Epoch 15/20: Training Loss: 2.8744771480560303, C-Index: 0.9253584197460476\n"
     ]
    },
    {
     "name": "stderr",
     "output_type": "stream",
     "text": [
      "Epoch 16/20: Training Loss: 2.8544235229492188, C-Index: 0.9284348311537136\n"
     ]
    },
    {
     "name": "stdout",
     "output_type": "stream",
     "text": [
      "Epoch 16/20: Training Loss: 2.8544235229492188, C-Index: 0.9284348311537136\n"
     ]
    },
    {
     "name": "stderr",
     "output_type": "stream",
     "text": [
      "Epoch 17/20: Training Loss: 2.725858688354492, C-Index: 0.9324852415398687\n"
     ]
    },
    {
     "name": "stdout",
     "output_type": "stream",
     "text": [
      "Epoch 17/20: Training Loss: 2.725858688354492, C-Index: 0.9324852415398687\n"
     ]
    },
    {
     "name": "stderr",
     "output_type": "stream",
     "text": [
      "Epoch 18/20: Training Loss: 2.696054220199585, C-Index: 0.9352409459668127\n"
     ]
    },
    {
     "name": "stdout",
     "output_type": "stream",
     "text": [
      "Epoch 18/20: Training Loss: 2.696054220199585, C-Index: 0.9352409459668127\n"
     ]
    },
    {
     "name": "stderr",
     "output_type": "stream",
     "text": [
      "Epoch 19/20: Training Loss: 2.656233549118042, C-Index: 0.9390775516991531\n",
      "****************************************************************************************************\n"
     ]
    },
    {
     "name": "stdout",
     "output_type": "stream",
     "text": [
      "Epoch 19/20: Training Loss: 2.656233549118042, C-Index: 0.9390775516991531\n",
      "****************************************************************************************************\n"
     ]
    },
    {
     "name": "stderr",
     "output_type": "stream",
     "text": [
      "Final Train Loss: 2.714604377746582, C-Index: 0.9437099858651368\n"
     ]
    },
    {
     "name": "stdout",
     "output_type": "stream",
     "text": [
      "Final Train Loss: 2.714604377746582, C-Index: 0.9437099858651368\n"
     ]
    },
    {
     "name": "stderr",
     "output_type": "stream",
     "text": [
      "Test Loss: 4.0100860595703125, C-Index: 0.7494434325035418\n"
     ]
    },
    {
     "name": "stdout",
     "output_type": "stream",
     "text": [
      "Test Loss: 4.0100860595703125, C-Index: 0.7494434325035418\n"
     ]
    },
    {
     "name": "stderr",
     "output_type": "stream",
     "text": [
      "Epoch 0/20: Training Loss: 4.257678031921387, C-Index: 0.5493334630728812\n"
     ]
    },
    {
     "name": "stdout",
     "output_type": "stream",
     "text": [
      "Epoch 0/20: Training Loss: 4.257678031921387, C-Index: 0.5493334630728812\n"
     ]
    },
    {
     "name": "stderr",
     "output_type": "stream",
     "text": [
      "Epoch 1/20: Training Loss: 4.048366069793701, C-Index: 0.715590639291622\n"
     ]
    },
    {
     "name": "stdout",
     "output_type": "stream",
     "text": [
      "Epoch 1/20: Training Loss: 4.048366069793701, C-Index: 0.715590639291622\n"
     ]
    },
    {
     "name": "stderr",
     "output_type": "stream",
     "text": [
      "Epoch 2/20: Training Loss: 3.883894920349121, C-Index: 0.7580762868541403\n"
     ]
    },
    {
     "name": "stdout",
     "output_type": "stream",
     "text": [
      "Epoch 2/20: Training Loss: 3.883894920349121, C-Index: 0.7580762868541403\n"
     ]
    },
    {
     "name": "stderr",
     "output_type": "stream",
     "text": [
      "Epoch 3/20: Training Loss: 3.7983787059783936, C-Index: 0.7841296098083098\n"
     ]
    },
    {
     "name": "stdout",
     "output_type": "stream",
     "text": [
      "Epoch 3/20: Training Loss: 3.7983787059783936, C-Index: 0.7841296098083098\n"
     ]
    },
    {
     "name": "stderr",
     "output_type": "stream",
     "text": [
      "Epoch 4/20: Training Loss: 3.682027816772461, C-Index: 0.7997834971295125\n"
     ]
    },
    {
     "name": "stdout",
     "output_type": "stream",
     "text": [
      "Epoch 4/20: Training Loss: 3.682027816772461, C-Index: 0.7997834971295125\n"
     ]
    },
    {
     "name": "stderr",
     "output_type": "stream",
     "text": [
      "Epoch 5/20: Training Loss: 3.5657472610473633, C-Index: 0.823319061983069\n"
     ]
    },
    {
     "name": "stdout",
     "output_type": "stream",
     "text": [
      "Epoch 5/20: Training Loss: 3.5657472610473633, C-Index: 0.823319061983069\n"
     ]
    },
    {
     "name": "stderr",
     "output_type": "stream",
     "text": [
      "Epoch 6/20: Training Loss: 3.4863250255584717, C-Index: 0.8483020336674126\n"
     ]
    },
    {
     "name": "stdout",
     "output_type": "stream",
     "text": [
      "Epoch 6/20: Training Loss: 3.4863250255584717, C-Index: 0.8483020336674126\n"
     ]
    },
    {
     "name": "stderr",
     "output_type": "stream",
     "text": [
      "Epoch 7/20: Training Loss: 3.4521429538726807, C-Index: 0.8361997664688139\n"
     ]
    },
    {
     "name": "stdout",
     "output_type": "stream",
     "text": [
      "Epoch 7/20: Training Loss: 3.4521429538726807, C-Index: 0.8361997664688139\n"
     ]
    },
    {
     "name": "stderr",
     "output_type": "stream",
     "text": [
      "Epoch 8/20: Training Loss: 3.4312448501586914, C-Index: 0.8533862021990853\n"
     ]
    },
    {
     "name": "stdout",
     "output_type": "stream",
     "text": [
      "Epoch 8/20: Training Loss: 3.4312448501586914, C-Index: 0.8533862021990853\n"
     ]
    },
    {
     "name": "stderr",
     "output_type": "stream",
     "text": [
      "Epoch 9/20: Training Loss: 3.2803618907928467, C-Index: 0.8685657292984333\n"
     ]
    },
    {
     "name": "stdout",
     "output_type": "stream",
     "text": [
      "Epoch 9/20: Training Loss: 3.2803618907928467, C-Index: 0.8685657292984333\n"
     ]
    },
    {
     "name": "stderr",
     "output_type": "stream",
     "text": [
      "Epoch 10/20: Training Loss: 3.2091023921966553, C-Index: 0.8792814050793033\n"
     ]
    },
    {
     "name": "stdout",
     "output_type": "stream",
     "text": [
      "Epoch 10/20: Training Loss: 3.2091023921966553, C-Index: 0.8792814050793033\n"
     ]
    },
    {
     "name": "stderr",
     "output_type": "stream",
     "text": [
      "Epoch 11/20: Training Loss: 3.122429609298706, C-Index: 0.8888050987642309\n"
     ]
    },
    {
     "name": "stdout",
     "output_type": "stream",
     "text": [
      "Epoch 11/20: Training Loss: 3.122429609298706, C-Index: 0.8888050987642309\n"
     ]
    },
    {
     "name": "stderr",
     "output_type": "stream",
     "text": [
      "Epoch 12/20: Training Loss: 3.091298818588257, C-Index: 0.8947528461613311\n"
     ]
    },
    {
     "name": "stdout",
     "output_type": "stream",
     "text": [
      "Epoch 12/20: Training Loss: 3.091298818588257, C-Index: 0.8947528461613311\n"
     ]
    },
    {
     "name": "stderr",
     "output_type": "stream",
     "text": [
      "Epoch 13/20: Training Loss: 3.059008836746216, C-Index: 0.8949231293178943\n"
     ]
    },
    {
     "name": "stdout",
     "output_type": "stream",
     "text": [
      "Epoch 13/20: Training Loss: 3.059008836746216, C-Index: 0.8949231293178943\n"
     ]
    },
    {
     "name": "stderr",
     "output_type": "stream",
     "text": [
      "Epoch 14/20: Training Loss: 2.925661325454712, C-Index: 0.9116352048263112\n"
     ]
    },
    {
     "name": "stdout",
     "output_type": "stream",
     "text": [
      "Epoch 14/20: Training Loss: 2.925661325454712, C-Index: 0.9116352048263112\n"
     ]
    },
    {
     "name": "stderr",
     "output_type": "stream",
     "text": [
      "Epoch 15/20: Training Loss: 2.9102985858917236, C-Index: 0.9110635399435633\n"
     ]
    },
    {
     "name": "stdout",
     "output_type": "stream",
     "text": [
      "Epoch 15/20: Training Loss: 2.9102985858917236, C-Index: 0.9110635399435633\n"
     ]
    },
    {
     "name": "stderr",
     "output_type": "stream",
     "text": [
      "Epoch 16/20: Training Loss: 2.8988659381866455, C-Index: 0.9192736207064318\n"
     ]
    },
    {
     "name": "stdout",
     "output_type": "stream",
     "text": [
      "Epoch 16/20: Training Loss: 2.8988659381866455, C-Index: 0.9192736207064318\n"
     ]
    },
    {
     "name": "stderr",
     "output_type": "stream",
     "text": [
      "Epoch 17/20: Training Loss: 2.7572946548461914, C-Index: 0.9247713340469008\n"
     ]
    },
    {
     "name": "stdout",
     "output_type": "stream",
     "text": [
      "Epoch 17/20: Training Loss: 2.7572946548461914, C-Index: 0.9247713340469008\n"
     ]
    },
    {
     "name": "stderr",
     "output_type": "stream",
     "text": [
      "Epoch 18/20: Training Loss: 2.7236146926879883, C-Index: 0.9344288216405566\n"
     ]
    },
    {
     "name": "stdout",
     "output_type": "stream",
     "text": [
      "Epoch 18/20: Training Loss: 2.7236146926879883, C-Index: 0.9344288216405566\n"
     ]
    },
    {
     "name": "stderr",
     "output_type": "stream",
     "text": [
      "Epoch 19/20: Training Loss: 2.705108880996704, C-Index: 0.9360708377931303\n",
      "****************************************************************************************************\n"
     ]
    },
    {
     "name": "stdout",
     "output_type": "stream",
     "text": [
      "Epoch 19/20: Training Loss: 2.705108880996704, C-Index: 0.9360708377931303\n",
      "****************************************************************************************************\n"
     ]
    },
    {
     "name": "stderr",
     "output_type": "stream",
     "text": [
      "Final Train Loss: 2.598567247390747, C-Index: 0.9457039992215627\n"
     ]
    },
    {
     "name": "stdout",
     "output_type": "stream",
     "text": [
      "Final Train Loss: 2.598567247390747, C-Index: 0.9457039992215627\n"
     ]
    },
    {
     "name": "stderr",
     "output_type": "stream",
     "text": [
      "Test Loss: 3.5136170387268066, C-Index: 0.7753409509767785\n"
     ]
    },
    {
     "name": "stdout",
     "output_type": "stream",
     "text": [
      "Test Loss: 3.5136170387268066, C-Index: 0.7753409509767785\n"
     ]
    }
   ],
   "source": [
    "import numpy as np\n",
    "\n",
    "\n",
    "all_modalities = [\"clinical\", \"miRNA\", \"mRNA\", \"WSI\"]\n",
    "all_modalities = np.array(all_modalities)\n",
    "i = 2 ** len(all_modalities) - 1\n",
    "selection = F\"{i:0{len(all_modalities)}b}\"\n",
    "modality_select = all_modalities[np.array(list(selection)) == '1']\n",
    "args = Args(modality_select)\n",
    "train_eval_model(args)"
   ]
  },
  {
   "cell_type": "code",
   "execution_count": null,
   "metadata": {},
   "outputs": [],
   "source": []
  }
 ],
 "metadata": {
  "kernelspec": {
   "display_name": "int_env",
   "language": "python",
   "name": "python3"
  },
  "language_info": {
   "codemirror_mode": {
    "name": "ipython",
    "version": 3
   },
   "file_extension": ".py",
   "mimetype": "text/x-python",
   "name": "python",
   "nbconvert_exporter": "python",
   "pygments_lexer": "ipython3",
   "version": "3.10.11"
  }
 },
 "nbformat": 4,
 "nbformat_minor": 2
}
