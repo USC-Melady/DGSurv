{
 "cells": [
  {
   "cell_type": "code",
   "execution_count": 2,
   "metadata": {},
   "outputs": [
    {
     "name": "stdout",
     "output_type": "stream",
     "text": [
      "Result Path: ./logs/attention/results_5_24_clinical_miRNA_mRNA_WSI\n"
     ]
    }
   ],
   "source": [
    "import os\n",
    "\n",
    "\n",
    "def result_file_name(args):\n",
    "    file_name = f\"results_{args.fold_range}_{args.seed}\"\n",
    "    if len(args.modalities) > 0:\n",
    "        file_name += \"_\"\n",
    "        file_name += \"_\".join(args.modalities)\n",
    "    return file_name\n",
    "\n",
    "class Args:\n",
    "    def __init__(self, modalities=[\"clinical\", \"miRNA\", \"mRNA\", \"WSI\"]):\n",
    "        self.epochs = 20\n",
    "        self.modality_data_path = {'clinical': './preprocess/preprocessed_data/clinical_kidney.csv',\n",
    "                                    'mRNA': './preprocess/preprocessed_data/mrna_kidney.csv',\n",
    "                                    'miRNA': './preprocess/preprocessed_data/mirna_kidney.csv',\n",
    "                                    'WSI': './preprocess/preprocessed_data/UNI2_features/TCGA-Kidney.pt'}\n",
    "        self.device = \"cuda\"\n",
    "        self.modalities = modalities\n",
    "        self.input_modality_dim = {'clinical':4, 'mRNA':2746, 'miRNA':743 , 'WSI': 1536}\n",
    "        self.fold_range = 5\n",
    "        self.fold = 1\n",
    "        self.modality_fv_len = 128\n",
    "        self.batch_size = 128\n",
    "        self.learning_rate = 1e-4\n",
    "        self.loss_trade_off = 0.3\n",
    "        self.loss_mode = 'total'\n",
    "        self.seed = 24\n",
    "        self.result_path = f\"./logs/attention/{result_file_name(self)}\"\n",
    "        print(f\"Result Path: {self.result_path}\")\n",
    "        self.log_file_name = \"temp.log\"\n",
    "        self.scheduler_patience = 5\n",
    "        self.num_workers = 4\n",
    "        self.num_modalities = len(self.modalities)\n",
    "        self.split_path = \"./splits/kidney_splits\"\n",
    "        self.remove_missing = True\n",
    "\n",
    "args = Args()"
   ]
  },
  {
   "cell_type": "code",
   "execution_count": 3,
   "metadata": {},
   "outputs": [],
   "source": [
    "import torch\n",
    "import torch.nn as nn\n",
    "import torch.nn.functional as F\n",
    "\n",
    "\n",
    "class Attention(nn.Module):\n",
    "\tdef __init__(self, m_length, modality_count, device=None):\n",
    "\t\t\"\"\"Attention-based multimodal fusion Part\n",
    "\t\tParameters\n",
    "\t\t----------\n",
    "\t\tm_length: int\n",
    "\t\t\tWeight vector length, corresponding to the modality representation\n",
    "\t\t\tlength.\n",
    "\n",
    "\t\tmodalities: list\n",
    "\t\t\tThe list of used modality.\n",
    "\n",
    "\t\t\"\"\"\n",
    "\t\tsuper(Attention, self).__init__()\n",
    "\t\tself.m_length = m_length\n",
    "\t\tself.device = device\n",
    "\t\t# contrast a pipeline for different modality weight matrix\n",
    "\t\tself.pipeline = {}\n",
    "\t\tself.modality_count = modality_count\n",
    "\t\tfor i in range(self.modality_count):\n",
    "\t\t\tself.pipeline[i] = nn.Linear(self.m_length, self.m_length, bias=False).to(self.device)\n",
    "\n",
    "\tdef _scale_for_missing_modalities(self, x, out):\n",
    "\t\tbatch_dim = x.shape[1]\n",
    "\t\tfor i in range(batch_dim):\n",
    "\t\t\tpatient = x[:, i, :]\n",
    "\t\t\tzero_dims = 0\n",
    "\t\t\tfor modality in patient:\n",
    "\t\t\t\tif modality.sum().data == 0:\n",
    "\t\t\t\t\tzero_dims += 1\n",
    "\n",
    "\t\t\tif zero_dims > 0:\n",
    "\t\t\t\tscaler = zero_dims + 1\n",
    "\t\t\t\tout[i, :] = scaler * out[i, :]\n",
    "\n",
    "\t\treturn out\n",
    "\n",
    "\tdef to_device(self, device):\n",
    "\t\tself.to(device)\n",
    "\t\tfor modality in self.pipeline:\n",
    "\t\t\tself.pipeline[modality].to(device)\n",
    "\n",
    "\tdef to_train(self):\n",
    "\t\tself.train()\n",
    "\t\tfor modality in self.pipeline:\n",
    "\t\t\tself.pipeline[modality].train()\n",
    "\n",
    "\tdef to_eval(self):\n",
    "\t\tself.eval()\n",
    "\t\tfor modality in self.pipeline:\n",
    "\t\t\tself.pipeline[modality].eval()\n",
    "\n",
    "\tdef forward(self, multimodal_input):\n",
    "\t\t\"\"\"\n",
    "\t\tmultimodal_input: dictionary\n",
    "\t\t\tA dictionary of used modality data, like:\n",
    "\t\t\t{'clinical':tensor(sample_size, m_length), 'mRNA':tensor(,),}\n",
    "\t\t\"\"\"\n",
    "\t\tattention_weight = tuple()\n",
    "\t\tmultimodal_features = tuple()\n",
    "\t\tfor i in range(self.modality_count):\n",
    "\t\t\tattention_weight += (torch.tanh(self.pipeline[i](multimodal_input[i])),)\n",
    "\t\t\tmultimodal_features += (multimodal_input[i],)\n",
    "\n",
    "\t\t# Across feature\n",
    "\t\tattention_matrix = F.softmax(torch.stack(attention_weight), dim=0)\n",
    "\t\tfused_vec = torch.sum(torch.stack(multimodal_features) * attention_matrix, dim=0)\n",
    "\n",
    "\t\tfused_vec = self._scale_for_missing_modalities(torch.stack(multimodal_features), fused_vec)\n",
    "\t\treturn fused_vec"
   ]
  },
  {
   "cell_type": "code",
   "execution_count": 4,
   "metadata": {},
   "outputs": [],
   "source": [
    "from torch import nn\n",
    "\n",
    "\n",
    "class AggModel(nn.Module):\n",
    "    def __init__(self, n_views, n_in_feats, encoder_model):\n",
    "        super(AggModel, self).__init__()\n",
    "        self.modality_count = n_views\n",
    "        self.modality_fv_len = n_in_feats\n",
    "        \n",
    "        self.encoder_model = encoder_model\n",
    "        self.fusion = Attention(m_length=self.modality_fv_len, modality_count=self.modality_count)\n",
    "        self.hazard_layer = nn.Linear(self.modality_fv_len, 1)\n",
    "        self.label_layer = nn.Linear(self.modality_fv_len, 2)\n",
    "\t\n",
    "    def to_device(self, device):\n",
    "        self.to(device)\n",
    "        self.fusion.to_device(device)\n",
    "\n",
    "    def to_train(self):\n",
    "        self.train()\n",
    "        self.fusion.to_train()\n",
    "\n",
    "    def to_eval(self):\n",
    "        self.eval()\n",
    "        self.fusion.to_eval()\n",
    "\t\t\t\n",
    "    def forward(self, x_modality, mask):\n",
    "        representation = self.encoder_model(x_modality)\n",
    "        missing_rep = []\n",
    "        for i, rep in enumerate(representation):\n",
    "            index = torch.ones((rep.shape[0]), dtype=int) * i \n",
    "            index = index.to(rep.device)\n",
    "            modality_mask = mask[:, i].reshape(-1, 1)\n",
    "            rep =  modality_mask * rep\n",
    "            missing_rep.append(rep)\n",
    "        \n",
    "        representation_dict = {} #used for self supervised loss\n",
    "        for i, data in enumerate(missing_rep):\n",
    "            representation_dict[i] = data\n",
    "\n",
    "        final_representation = self.fusion(representation_dict)\n",
    "        hazard = self.hazard_layer(final_representation)\n",
    "        score = F.log_softmax(self.label_layer(final_representation), dim=1)\n",
    "        return {'hazard':hazard, 'score':score}, representation_dict"
   ]
  },
  {
   "cell_type": "code",
   "execution_count": 5,
   "metadata": {},
   "outputs": [],
   "source": [
    "from lifelines.utils import concordance_index\n",
    "\n",
    "\n",
    "def print_log(msg, logger):\n",
    "    print(msg)\n",
    "    logger.info(msg)\n",
    "\n",
    "def evaluation(model, dataloader, loss_fucnt, device):\n",
    "    running_loss = []\n",
    "    running_sample_time = torch.FloatTensor().to(device)\n",
    "    running_sample_event = torch.LongTensor().to(device)\n",
    "    running_hazard = torch.FloatTensor().to(device)\n",
    "    \n",
    "    model.to_eval()\n",
    "    with torch.no_grad():\n",
    "        for x_modal, data_label, mask in dataloader:\n",
    "            for modality in x_modal:\n",
    "                x_modal[modality] = x_modal[modality].to(device)\n",
    "            event = data_label[:, 0].to(device)\n",
    "            time = data_label[:, 1].to(device)\n",
    "            mask = mask.to(device)\n",
    "            hazard, representation = model(x_modal, mask)\n",
    "            loss = loss_fucnt(representation, list(representation.keys()), hazard, event, time)\n",
    "            hazard = hazard['hazard']\n",
    "            \n",
    "            running_loss.append(loss.item())\n",
    "            running_sample_time = torch.cat((running_sample_time, time.data.float()))\n",
    "            running_sample_event = torch.cat((running_sample_event, event.long().data))\n",
    "            running_hazard = torch.cat((running_hazard, hazard.detach()))\n",
    "            \n",
    "    eval_loss = torch.mean(torch.tensor(running_loss))\n",
    "    eval_c_index = concordance_index(running_sample_time.cpu().numpy(), -running_hazard.cpu().numpy(), running_sample_event.cpu().numpy())\n",
    "    return eval_loss, eval_c_index"
   ]
  },
  {
   "cell_type": "code",
   "execution_count": null,
   "metadata": {},
   "outputs": [],
   "source": [
    "import copy\n",
    "import random\n",
    "import logging \n",
    "import numpy as np\n",
    "from utils.loss import Loss\n",
    "from torch.optim import Adam\n",
    "from torch.utils.data import DataLoader\n",
    "from utils.dataset import MultiModalDataset\n",
    "from utils.encoder import EncoderModel\n",
    "    \n",
    "\n",
    "def save_model(model, path):\n",
    "    torch.save(model.state_dict(), path)\n",
    "\n",
    "def set_seed(seed):\n",
    "    random.seed(seed)\n",
    "    os.environ['PYTHONHASHSEED'] = str(seed)\n",
    "    np.random.seed(seed)\n",
    "    torch.manual_seed(seed)\n",
    "    torch.cuda.manual_seed(seed)\n",
    "    torch.cuda.manual_seed_all(seed)  \n",
    "    torch.backends.cudnn.benchmark = False\n",
    "    torch.backends.cudnn.deterministic = True\n",
    "        \n",
    "def train_eval_model(args):\n",
    "    set_seed(args.seed)\n",
    "\n",
    "    os.makedirs(args.result_path, exist_ok=True)\n",
    "\n",
    "    logging.basicConfig(format='%(message)s')\n",
    "    for k in range(args.fold_range):\n",
    "        args.fold = k\n",
    "        args.log_file_name = f\"result_fold{args.fold}.log\"\n",
    "        args.log_file_name = os.path.join(args.result_path, args.log_file_name)\n",
    "        if os.path.exists(args.log_file_name):\n",
    "            os.remove(args.log_file_name)\n",
    "            \n",
    "        handler = logging.FileHandler(args.log_file_name, mode='w')\n",
    "        logger=logging.getLogger() \n",
    "        logger.setLevel(logging.DEBUG) \n",
    "        logger.addHandler(handler)\n",
    "        \n",
    "        train_dataset = MultiModalDataset(args, 'train', args.modalities, args.modality_data_path, remove_missing=args.remove_missing)\n",
    "        train_dataloader = DataLoader(train_dataset, batch_size=args.batch_size, shuffle=True, num_workers=args.num_workers)\n",
    "        test_dataset = MultiModalDataset(args, 'test', args.modalities, args.modality_data_path)\n",
    "        test_dataloader = DataLoader(test_dataset, batch_size=args.batch_size, shuffle=False, num_workers=args.num_workers)\n",
    "\n",
    "        device = torch.device(args.device)\n",
    "        encoder_model = EncoderModel(args.modalities, args.modality_fv_len, args.input_modality_dim)\n",
    "        model = AggModel(args.num_modalities, args.modality_fv_len, encoder_model)\n",
    "        optimizer = Adam(model.parameters(), lr=args.learning_rate)\n",
    "        scheduler = torch.optim.lr_scheduler.ReduceLROnPlateau(\n",
    "            optimizer=optimizer, mode='max', factor=0.1,\n",
    "            patience = args.scheduler_patience, verbose=True, threshold=1e-3,\n",
    "            threshold_mode='rel', cooldown=0, min_lr=0, eps=1e-8)\n",
    "        model.to_device(device)\n",
    "        \n",
    "        loss_fucnt = Loss(trade_off=args.loss_trade_off, mode=args.loss_mode)\n",
    "\n",
    "        for epoch in range(args.epochs):\n",
    "            running_loss = []\n",
    "            running_sample_time = torch.FloatTensor().to(device)\n",
    "            running_sample_event = torch.LongTensor().to(device)\n",
    "            running_hazard = torch.FloatTensor().to(device)\n",
    "            \n",
    "            model.to_train()\n",
    "            for x_modal, data_label, mask in train_dataloader:\n",
    "                for modality in x_modal:\n",
    "                    x_modal[modality] = x_modal[modality].to(device)\n",
    "                event = data_label[:, 0].to(device)\n",
    "                time = data_label[:, 1].to(device)\n",
    "                mask = mask.to(device)\n",
    "                hazard, representation = model(x_modal, mask)\n",
    "                loss = loss_fucnt(representation, list(representation.keys()), hazard, event, time)\n",
    "                optimizer.zero_grad()\n",
    "                loss.backward()\n",
    "                optimizer.step()\n",
    "                hazard = hazard['hazard']\n",
    "                \n",
    "                running_loss.append(loss.item())\n",
    "                running_sample_time = torch.cat((running_sample_time, time.data.float()))\n",
    "                running_sample_event = torch.cat((running_sample_event, event.long().data))\n",
    "                running_hazard = torch.cat((running_hazard, hazard.detach()))\n",
    "                \n",
    "            train_loss = torch.mean(torch.tensor(running_loss))\n",
    "            train_c_index = concordance_index(running_sample_time.cpu().numpy(), -running_hazard.cpu().numpy(), running_sample_event.cpu().numpy())\n",
    "            print_log(f\"Epoch {epoch}/{args.epochs}: Training Loss: {train_loss}, C-Index: {train_c_index}\", logger)\n",
    "            scheduler.step(train_c_index)\n",
    "            if scheduler.patience == scheduler.num_bad_epochs:\n",
    "                print_log(\"Reducing the learning rate\", logger)\n",
    "            best_model = copy.deepcopy(model.state_dict())\n",
    "        print_log(\"*\" * 100, logger)\n",
    "        \n",
    "        model.load_state_dict(best_model)\n",
    "        model_save_path = os.path.join(args.result_path, f\"model_fold{args.fold}.pt\")\n",
    "        save_model(model, model_save_path)\n",
    "        train_loss, train_c_index = evaluation(model, train_dataloader, loss_fucnt, device)\n",
    "        print_log(f\"Final Train Loss: {train_loss}, C-Index: {train_c_index}\", logger)\n",
    "        test_loss, test_c_index = evaluation(model, test_dataloader, loss_fucnt, device)\n",
    "        print_log(f\"Test Loss: {test_loss}, C-Index: {test_c_index}\", logger)\n",
    "        \n",
    "        logger.removeHandler(handler)"
   ]
  },
  {
   "cell_type": "code",
   "execution_count": 7,
   "metadata": {},
   "outputs": [
    {
     "name": "stdout",
     "output_type": "stream",
     "text": [
      "Result Path: ./logs/attention/results_5_24_clinical_miRNA_mRNA_WSI\n"
     ]
    },
    {
     "name": "stderr",
     "output_type": "stream",
     "text": [
      "Epoch 0/20: Training Loss: 4.3014445304870605, C-Index: 0.6043093008477116\n"
     ]
    },
    {
     "name": "stdout",
     "output_type": "stream",
     "text": [
      "Epoch 0/20: Training Loss: 4.3014445304870605, C-Index: 0.6043093008477116\n"
     ]
    },
    {
     "name": "stderr",
     "output_type": "stream",
     "text": [
      "Epoch 1/20: Training Loss: 4.029287815093994, C-Index: 0.7526048848335152\n"
     ]
    },
    {
     "name": "stdout",
     "output_type": "stream",
     "text": [
      "Epoch 1/20: Training Loss: 4.029287815093994, C-Index: 0.7526048848335152\n"
     ]
    },
    {
     "name": "stderr",
     "output_type": "stream",
     "text": [
      "Epoch 2/20: Training Loss: 3.875070571899414, C-Index: 0.7949784774762892\n"
     ]
    },
    {
     "name": "stdout",
     "output_type": "stream",
     "text": [
      "Epoch 2/20: Training Loss: 3.875070571899414, C-Index: 0.7949784774762892\n"
     ]
    },
    {
     "name": "stderr",
     "output_type": "stream",
     "text": [
      "Epoch 3/20: Training Loss: 3.7783586978912354, C-Index: 0.8152540137408424\n"
     ]
    },
    {
     "name": "stdout",
     "output_type": "stream",
     "text": [
      "Epoch 3/20: Training Loss: 3.7783586978912354, C-Index: 0.8152540137408424\n"
     ]
    },
    {
     "name": "stderr",
     "output_type": "stream",
     "text": [
      "Epoch 4/20: Training Loss: 3.631094217300415, C-Index: 0.8322442176952315\n"
     ]
    },
    {
     "name": "stdout",
     "output_type": "stream",
     "text": [
      "Epoch 4/20: Training Loss: 3.631094217300415, C-Index: 0.8322442176952315\n"
     ]
    },
    {
     "name": "stderr",
     "output_type": "stream",
     "text": [
      "Epoch 5/20: Training Loss: 3.6076104640960693, C-Index: 0.8406254121653217\n"
     ]
    },
    {
     "name": "stdout",
     "output_type": "stream",
     "text": [
      "Epoch 5/20: Training Loss: 3.6076104640960693, C-Index: 0.8406254121653217\n"
     ]
    },
    {
     "name": "stderr",
     "output_type": "stream",
     "text": [
      "Epoch 6/20: Training Loss: 3.512700080871582, C-Index: 0.8547499430462464\n"
     ]
    },
    {
     "name": "stdout",
     "output_type": "stream",
     "text": [
      "Epoch 6/20: Training Loss: 3.512700080871582, C-Index: 0.8547499430462464\n"
     ]
    },
    {
     "name": "stderr",
     "output_type": "stream",
     "text": [
      "Epoch 7/20: Training Loss: 3.4668772220611572, C-Index: 0.8627714295991655\n"
     ]
    },
    {
     "name": "stdout",
     "output_type": "stream",
     "text": [
      "Epoch 7/20: Training Loss: 3.4668772220611572, C-Index: 0.8627714295991655\n"
     ]
    },
    {
     "name": "stderr",
     "output_type": "stream",
     "text": [
      "Epoch 8/20: Training Loss: 3.403042793273926, C-Index: 0.8670039927578806\n"
     ]
    },
    {
     "name": "stdout",
     "output_type": "stream",
     "text": [
      "Epoch 8/20: Training Loss: 3.403042793273926, C-Index: 0.8670039927578806\n"
     ]
    },
    {
     "name": "stderr",
     "output_type": "stream",
     "text": [
      "Epoch 9/20: Training Loss: 3.4338958263397217, C-Index: 0.8713084975000299\n"
     ]
    },
    {
     "name": "stdout",
     "output_type": "stream",
     "text": [
      "Epoch 9/20: Training Loss: 3.4338958263397217, C-Index: 0.8713084975000299\n"
     ]
    },
    {
     "name": "stderr",
     "output_type": "stream",
     "text": [
      "Epoch 10/20: Training Loss: 3.3068933486938477, C-Index: 0.8922554885433028\n"
     ]
    },
    {
     "name": "stdout",
     "output_type": "stream",
     "text": [
      "Epoch 10/20: Training Loss: 3.3068933486938477, C-Index: 0.8922554885433028\n"
     ]
    },
    {
     "name": "stderr",
     "output_type": "stream",
     "text": [
      "Epoch 11/20: Training Loss: 3.267671585083008, C-Index: 0.8944017457824247\n"
     ]
    },
    {
     "name": "stdout",
     "output_type": "stream",
     "text": [
      "Epoch 11/20: Training Loss: 3.267671585083008, C-Index: 0.8944017457824247\n"
     ]
    },
    {
     "name": "stderr",
     "output_type": "stream",
     "text": [
      "Epoch 12/20: Training Loss: 3.177345037460327, C-Index: 0.9025910960300236\n"
     ]
    },
    {
     "name": "stdout",
     "output_type": "stream",
     "text": [
      "Epoch 12/20: Training Loss: 3.177345037460327, C-Index: 0.9025910960300236\n"
     ]
    },
    {
     "name": "stderr",
     "output_type": "stream",
     "text": [
      "Epoch 13/20: Training Loss: 3.1471846103668213, C-Index: 0.9062121557295476\n"
     ]
    },
    {
     "name": "stdout",
     "output_type": "stream",
     "text": [
      "Epoch 13/20: Training Loss: 3.1471846103668213, C-Index: 0.9062121557295476\n"
     ]
    },
    {
     "name": "stderr",
     "output_type": "stream",
     "text": [
      "Epoch 14/20: Training Loss: 3.0933921337127686, C-Index: 0.9091737509142577\n"
     ]
    },
    {
     "name": "stdout",
     "output_type": "stream",
     "text": [
      "Epoch 14/20: Training Loss: 3.0933921337127686, C-Index: 0.9091737509142577\n"
     ]
    },
    {
     "name": "stderr",
     "output_type": "stream",
     "text": [
      "Epoch 15/20: Training Loss: 3.082700729370117, C-Index: 0.9130346158918958\n"
     ]
    },
    {
     "name": "stdout",
     "output_type": "stream",
     "text": [
      "Epoch 15/20: Training Loss: 3.082700729370117, C-Index: 0.9130346158918958\n"
     ]
    },
    {
     "name": "stderr",
     "output_type": "stream",
     "text": [
      "Epoch 16/20: Training Loss: 3.003016710281372, C-Index: 0.9202287742353209\n"
     ]
    },
    {
     "name": "stdout",
     "output_type": "stream",
     "text": [
      "Epoch 16/20: Training Loss: 3.003016710281372, C-Index: 0.9202287742353209\n"
     ]
    },
    {
     "name": "stderr",
     "output_type": "stream",
     "text": [
      "Epoch 17/20: Training Loss: 2.9585087299346924, C-Index: 0.9216316351122888\n"
     ]
    },
    {
     "name": "stdout",
     "output_type": "stream",
     "text": [
      "Epoch 17/20: Training Loss: 2.9585087299346924, C-Index: 0.9216316351122888\n"
     ]
    },
    {
     "name": "stderr",
     "output_type": "stream",
     "text": [
      "Epoch 18/20: Training Loss: 2.9251842498779297, C-Index: 0.9275668157456146\n"
     ]
    },
    {
     "name": "stdout",
     "output_type": "stream",
     "text": [
      "Epoch 18/20: Training Loss: 2.9251842498779297, C-Index: 0.9275668157456146\n"
     ]
    },
    {
     "name": "stderr",
     "output_type": "stream",
     "text": [
      "Epoch 19/20: Training Loss: 2.843846082687378, C-Index: 0.9273749715231232\n",
      "****************************************************************************************************\n"
     ]
    },
    {
     "name": "stdout",
     "output_type": "stream",
     "text": [
      "Epoch 19/20: Training Loss: 2.843846082687378, C-Index: 0.9273749715231232\n",
      "****************************************************************************************************\n"
     ]
    },
    {
     "name": "stderr",
     "output_type": "stream",
     "text": [
      "Final Train Loss: 2.868039846420288, C-Index: 0.9382501408856009\n"
     ]
    },
    {
     "name": "stdout",
     "output_type": "stream",
     "text": [
      "Final Train Loss: 2.868039846420288, C-Index: 0.9382501408856009\n"
     ]
    },
    {
     "name": "stderr",
     "output_type": "stream",
     "text": [
      "Test Loss: 3.8208250999450684, C-Index: 0.7511691348402182\n"
     ]
    },
    {
     "name": "stdout",
     "output_type": "stream",
     "text": [
      "Test Loss: 3.8208250999450684, C-Index: 0.7511691348402182\n"
     ]
    },
    {
     "name": "stderr",
     "output_type": "stream",
     "text": [
      "Epoch 0/20: Training Loss: 4.13225793838501, C-Index: 0.6526376755634924\n"
     ]
    },
    {
     "name": "stdout",
     "output_type": "stream",
     "text": [
      "Epoch 0/20: Training Loss: 4.13225793838501, C-Index: 0.6526376755634924\n"
     ]
    },
    {
     "name": "stderr",
     "output_type": "stream",
     "text": [
      "Epoch 1/20: Training Loss: 3.951441764831543, C-Index: 0.7614749746609393\n"
     ]
    },
    {
     "name": "stdout",
     "output_type": "stream",
     "text": [
      "Epoch 1/20: Training Loss: 3.951441764831543, C-Index: 0.7614749746609393\n"
     ]
    },
    {
     "name": "stderr",
     "output_type": "stream",
     "text": [
      "Epoch 2/20: Training Loss: 3.865009069442749, C-Index: 0.7805154688932864\n"
     ]
    },
    {
     "name": "stdout",
     "output_type": "stream",
     "text": [
      "Epoch 2/20: Training Loss: 3.865009069442749, C-Index: 0.7805154688932864\n"
     ]
    },
    {
     "name": "stderr",
     "output_type": "stream",
     "text": [
      "Epoch 3/20: Training Loss: 3.726421356201172, C-Index: 0.8073869395241083\n"
     ]
    },
    {
     "name": "stdout",
     "output_type": "stream",
     "text": [
      "Epoch 3/20: Training Loss: 3.726421356201172, C-Index: 0.8073869395241083\n"
     ]
    },
    {
     "name": "stderr",
     "output_type": "stream",
     "text": [
      "Epoch 4/20: Training Loss: 3.662212371826172, C-Index: 0.8213958202615956\n"
     ]
    },
    {
     "name": "stdout",
     "output_type": "stream",
     "text": [
      "Epoch 4/20: Training Loss: 3.662212371826172, C-Index: 0.8213958202615956\n"
     ]
    },
    {
     "name": "stderr",
     "output_type": "stream",
     "text": [
      "Epoch 5/20: Training Loss: 3.6083076000213623, C-Index: 0.8327139340701771\n"
     ]
    },
    {
     "name": "stdout",
     "output_type": "stream",
     "text": [
      "Epoch 5/20: Training Loss: 3.6083076000213623, C-Index: 0.8327139340701771\n"
     ]
    },
    {
     "name": "stderr",
     "output_type": "stream",
     "text": [
      "Epoch 6/20: Training Loss: 3.5348050594329834, C-Index: 0.8416912013128047\n"
     ]
    },
    {
     "name": "stdout",
     "output_type": "stream",
     "text": [
      "Epoch 6/20: Training Loss: 3.5348050594329834, C-Index: 0.8416912013128047\n"
     ]
    },
    {
     "name": "stderr",
     "output_type": "stream",
     "text": [
      "Epoch 7/20: Training Loss: 3.4705350399017334, C-Index: 0.8555070225396979\n"
     ]
    },
    {
     "name": "stdout",
     "output_type": "stream",
     "text": [
      "Epoch 7/20: Training Loss: 3.4705350399017334, C-Index: 0.8555070225396979\n"
     ]
    },
    {
     "name": "stderr",
     "output_type": "stream",
     "text": [
      "Epoch 8/20: Training Loss: 3.428760528564453, C-Index: 0.8637844490564216\n"
     ]
    },
    {
     "name": "stdout",
     "output_type": "stream",
     "text": [
      "Epoch 8/20: Training Loss: 3.428760528564453, C-Index: 0.8637844490564216\n"
     ]
    },
    {
     "name": "stderr",
     "output_type": "stream",
     "text": [
      "Epoch 9/20: Training Loss: 3.4069528579711914, C-Index: 0.8693831748636517\n"
     ]
    },
    {
     "name": "stdout",
     "output_type": "stream",
     "text": [
      "Epoch 9/20: Training Loss: 3.4069528579711914, C-Index: 0.8693831748636517\n"
     ]
    },
    {
     "name": "stderr",
     "output_type": "stream",
     "text": [
      "Epoch 10/20: Training Loss: 3.330921173095703, C-Index: 0.8800014479463295\n"
     ]
    },
    {
     "name": "stdout",
     "output_type": "stream",
     "text": [
      "Epoch 10/20: Training Loss: 3.330921173095703, C-Index: 0.8800014479463295\n"
     ]
    },
    {
     "name": "stderr",
     "output_type": "stream",
     "text": [
      "Epoch 11/20: Training Loss: 3.283829689025879, C-Index: 0.8917056807760992\n"
     ]
    },
    {
     "name": "stdout",
     "output_type": "stream",
     "text": [
      "Epoch 11/20: Training Loss: 3.283829689025879, C-Index: 0.8917056807760992\n"
     ]
    },
    {
     "name": "stderr",
     "output_type": "stream",
     "text": [
      "Epoch 12/20: Training Loss: 3.2486572265625, C-Index: 0.8916453496790385\n"
     ]
    },
    {
     "name": "stdout",
     "output_type": "stream",
     "text": [
      "Epoch 12/20: Training Loss: 3.2486572265625, C-Index: 0.8916453496790385\n"
     ]
    },
    {
     "name": "stderr",
     "output_type": "stream",
     "text": [
      "Epoch 13/20: Training Loss: 3.1632649898529053, C-Index: 0.9016603117911096\n"
     ]
    },
    {
     "name": "stdout",
     "output_type": "stream",
     "text": [
      "Epoch 13/20: Training Loss: 3.1632649898529053, C-Index: 0.9016603117911096\n"
     ]
    },
    {
     "name": "stderr",
     "output_type": "stream",
     "text": [
      "Epoch 14/20: Training Loss: 3.092172622680664, C-Index: 0.9104807181813794\n"
     ]
    },
    {
     "name": "stdout",
     "output_type": "stream",
     "text": [
      "Epoch 14/20: Training Loss: 3.092172622680664, C-Index: 0.9104807181813794\n"
     ]
    },
    {
     "name": "stderr",
     "output_type": "stream",
     "text": [
      "Epoch 15/20: Training Loss: 3.026886224746704, C-Index: 0.9157053911868334\n"
     ]
    },
    {
     "name": "stdout",
     "output_type": "stream",
     "text": [
      "Epoch 15/20: Training Loss: 3.026886224746704, C-Index: 0.9157053911868334\n"
     ]
    },
    {
     "name": "stderr",
     "output_type": "stream",
     "text": [
      "Epoch 16/20: Training Loss: 3.0500519275665283, C-Index: 0.9164293643515614\n"
     ]
    },
    {
     "name": "stdout",
     "output_type": "stream",
     "text": [
      "Epoch 16/20: Training Loss: 3.0500519275665283, C-Index: 0.9164293643515614\n"
     ]
    },
    {
     "name": "stderr",
     "output_type": "stream",
     "text": [
      "Epoch 17/20: Training Loss: 2.9822397232055664, C-Index: 0.9233191756358897\n"
     ]
    },
    {
     "name": "stdout",
     "output_type": "stream",
     "text": [
      "Epoch 17/20: Training Loss: 2.9822397232055664, C-Index: 0.9233191756358897\n"
     ]
    },
    {
     "name": "stderr",
     "output_type": "stream",
     "text": [
      "Epoch 18/20: Training Loss: 2.940094232559204, C-Index: 0.9236690959988416\n"
     ]
    },
    {
     "name": "stdout",
     "output_type": "stream",
     "text": [
      "Epoch 18/20: Training Loss: 2.940094232559204, C-Index: 0.9236690959988416\n"
     ]
    },
    {
     "name": "stderr",
     "output_type": "stream",
     "text": [
      "Epoch 19/20: Training Loss: 2.846381902694702, C-Index: 0.930546841063758\n",
      "****************************************************************************************************\n"
     ]
    },
    {
     "name": "stdout",
     "output_type": "stream",
     "text": [
      "Epoch 19/20: Training Loss: 2.846381902694702, C-Index: 0.930546841063758\n",
      "****************************************************************************************************\n"
     ]
    },
    {
     "name": "stderr",
     "output_type": "stream",
     "text": [
      "Final Train Loss: 2.855374336242676, C-Index: 0.9360249046768666\n"
     ]
    },
    {
     "name": "stdout",
     "output_type": "stream",
     "text": [
      "Final Train Loss: 2.855374336242676, C-Index: 0.9360249046768666\n"
     ]
    },
    {
     "name": "stderr",
     "output_type": "stream",
     "text": [
      "Test Loss: 3.278015613555908, C-Index: 0.7666982024597918\n"
     ]
    },
    {
     "name": "stdout",
     "output_type": "stream",
     "text": [
      "Test Loss: 3.278015613555908, C-Index: 0.7666982024597918\n"
     ]
    },
    {
     "name": "stderr",
     "output_type": "stream",
     "text": [
      "Epoch 0/20: Training Loss: 4.260795593261719, C-Index: 0.5996190156706762\n"
     ]
    },
    {
     "name": "stdout",
     "output_type": "stream",
     "text": [
      "Epoch 0/20: Training Loss: 4.260795593261719, C-Index: 0.5996190156706762\n"
     ]
    },
    {
     "name": "stderr",
     "output_type": "stream",
     "text": [
      "Epoch 1/20: Training Loss: 3.989954948425293, C-Index: 0.7665572434945128\n"
     ]
    },
    {
     "name": "stdout",
     "output_type": "stream",
     "text": [
      "Epoch 1/20: Training Loss: 3.989954948425293, C-Index: 0.7665572434945128\n"
     ]
    },
    {
     "name": "stderr",
     "output_type": "stream",
     "text": [
      "Epoch 2/20: Training Loss: 3.869812250137329, C-Index: 0.7903028705611731\n"
     ]
    },
    {
     "name": "stdout",
     "output_type": "stream",
     "text": [
      "Epoch 2/20: Training Loss: 3.869812250137329, C-Index: 0.7903028705611731\n"
     ]
    },
    {
     "name": "stderr",
     "output_type": "stream",
     "text": [
      "Epoch 3/20: Training Loss: 3.7640035152435303, C-Index: 0.8222552355393684\n"
     ]
    },
    {
     "name": "stdout",
     "output_type": "stream",
     "text": [
      "Epoch 3/20: Training Loss: 3.7640035152435303, C-Index: 0.8222552355393684\n"
     ]
    },
    {
     "name": "stderr",
     "output_type": "stream",
     "text": [
      "Epoch 4/20: Training Loss: 3.6837337017059326, C-Index: 0.8376743183016245\n"
     ]
    },
    {
     "name": "stdout",
     "output_type": "stream",
     "text": [
      "Epoch 4/20: Training Loss: 3.6837337017059326, C-Index: 0.8376743183016245\n"
     ]
    },
    {
     "name": "stderr",
     "output_type": "stream",
     "text": [
      "Epoch 5/20: Training Loss: 3.589669942855835, C-Index: 0.8433291800450472\n"
     ]
    },
    {
     "name": "stdout",
     "output_type": "stream",
     "text": [
      "Epoch 5/20: Training Loss: 3.589669942855835, C-Index: 0.8433291800450472\n"
     ]
    },
    {
     "name": "stderr",
     "output_type": "stream",
     "text": [
      "Epoch 6/20: Training Loss: 3.537142515182495, C-Index: 0.8583049791536876\n"
     ]
    },
    {
     "name": "stdout",
     "output_type": "stream",
     "text": [
      "Epoch 6/20: Training Loss: 3.537142515182495, C-Index: 0.8583049791536876\n"
     ]
    },
    {
     "name": "stderr",
     "output_type": "stream",
     "text": [
      "Epoch 7/20: Training Loss: 3.5090131759643555, C-Index: 0.866463794508075\n"
     ]
    },
    {
     "name": "stdout",
     "output_type": "stream",
     "text": [
      "Epoch 7/20: Training Loss: 3.5090131759643555, C-Index: 0.866463794508075\n"
     ]
    },
    {
     "name": "stderr",
     "output_type": "stream",
     "text": [
      "Epoch 8/20: Training Loss: 3.44023060798645, C-Index: 0.8717232951550294\n"
     ]
    },
    {
     "name": "stdout",
     "output_type": "stream",
     "text": [
      "Epoch 8/20: Training Loss: 3.44023060798645, C-Index: 0.8717232951550294\n"
     ]
    },
    {
     "name": "stderr",
     "output_type": "stream",
     "text": [
      "Epoch 9/20: Training Loss: 3.3251190185546875, C-Index: 0.884638424306321\n"
     ]
    },
    {
     "name": "stdout",
     "output_type": "stream",
     "text": [
      "Epoch 9/20: Training Loss: 3.3251190185546875, C-Index: 0.884638424306321\n"
     ]
    },
    {
     "name": "stderr",
     "output_type": "stream",
     "text": [
      "Epoch 10/20: Training Loss: 3.3254482746124268, C-Index: 0.8885560933531413\n"
     ]
    },
    {
     "name": "stdout",
     "output_type": "stream",
     "text": [
      "Epoch 10/20: Training Loss: 3.3254482746124268, C-Index: 0.8885560933531413\n"
     ]
    },
    {
     "name": "stderr",
     "output_type": "stream",
     "text": [
      "Epoch 11/20: Training Loss: 3.2226123809814453, C-Index: 0.8926654526285522\n"
     ]
    },
    {
     "name": "stdout",
     "output_type": "stream",
     "text": [
      "Epoch 11/20: Training Loss: 3.2226123809814453, C-Index: 0.8926654526285522\n"
     ]
    },
    {
     "name": "stderr",
     "output_type": "stream",
     "text": [
      "Epoch 12/20: Training Loss: 3.1889097690582275, C-Index: 0.9113672305554225\n"
     ]
    },
    {
     "name": "stdout",
     "output_type": "stream",
     "text": [
      "Epoch 12/20: Training Loss: 3.1889097690582275, C-Index: 0.9113672305554225\n"
     ]
    },
    {
     "name": "stderr",
     "output_type": "stream",
     "text": [
      "Epoch 13/20: Training Loss: 3.1355011463165283, C-Index: 0.9111875209661188\n"
     ]
    },
    {
     "name": "stdout",
     "output_type": "stream",
     "text": [
      "Epoch 13/20: Training Loss: 3.1355011463165283, C-Index: 0.9111875209661188\n"
     ]
    },
    {
     "name": "stderr",
     "output_type": "stream",
     "text": [
      "Epoch 14/20: Training Loss: 3.0598933696746826, C-Index: 0.9194062395169407\n"
     ]
    },
    {
     "name": "stdout",
     "output_type": "stream",
     "text": [
      "Epoch 14/20: Training Loss: 3.0598933696746826, C-Index: 0.9194062395169407\n"
     ]
    },
    {
     "name": "stderr",
     "output_type": "stream",
     "text": [
      "Epoch 15/20: Training Loss: 3.0465774536132812, C-Index: 0.9185556141275698\n"
     ]
    },
    {
     "name": "stdout",
     "output_type": "stream",
     "text": [
      "Epoch 15/20: Training Loss: 3.0465774536132812, C-Index: 0.9185556141275698\n"
     ]
    },
    {
     "name": "stderr",
     "output_type": "stream",
     "text": [
      "Epoch 16/20: Training Loss: 2.9773664474487305, C-Index: 0.9201610197920161\n"
     ]
    },
    {
     "name": "stdout",
     "output_type": "stream",
     "text": [
      "Epoch 16/20: Training Loss: 2.9773664474487305, C-Index: 0.9201610197920161\n"
     ]
    },
    {
     "name": "stderr",
     "output_type": "stream",
     "text": [
      "Epoch 17/20: Training Loss: 2.9429800510406494, C-Index: 0.9258997460104471\n"
     ]
    },
    {
     "name": "stdout",
     "output_type": "stream",
     "text": [
      "Epoch 17/20: Training Loss: 2.9429800510406494, C-Index: 0.9258997460104471\n"
     ]
    },
    {
     "name": "stderr",
     "output_type": "stream",
     "text": [
      "Epoch 18/20: Training Loss: 2.9185569286346436, C-Index: 0.9284995447357071\n"
     ]
    },
    {
     "name": "stdout",
     "output_type": "stream",
     "text": [
      "Epoch 18/20: Training Loss: 2.9185569286346436, C-Index: 0.9284995447357071\n"
     ]
    },
    {
     "name": "stderr",
     "output_type": "stream",
     "text": [
      "Epoch 19/20: Training Loss: 2.8555781841278076, C-Index: 0.9331719940576029\n",
      "****************************************************************************************************\n"
     ]
    },
    {
     "name": "stdout",
     "output_type": "stream",
     "text": [
      "Epoch 19/20: Training Loss: 2.8555781841278076, C-Index: 0.9331719940576029\n",
      "****************************************************************************************************\n"
     ]
    },
    {
     "name": "stderr",
     "output_type": "stream",
     "text": [
      "Final Train Loss: 2.844204902648926, C-Index: 0.9416902285905976\n"
     ]
    },
    {
     "name": "stdout",
     "output_type": "stream",
     "text": [
      "Final Train Loss: 2.844204902648926, C-Index: 0.9416902285905976\n"
     ]
    },
    {
     "name": "stderr",
     "output_type": "stream",
     "text": [
      "Test Loss: 3.456570863723755, C-Index: 0.7471106758080314\n"
     ]
    },
    {
     "name": "stdout",
     "output_type": "stream",
     "text": [
      "Test Loss: 3.456570863723755, C-Index: 0.7471106758080314\n"
     ]
    },
    {
     "name": "stderr",
     "output_type": "stream",
     "text": [
      "Epoch 0/20: Training Loss: 4.275538921356201, C-Index: 0.5945907422584898\n"
     ]
    },
    {
     "name": "stdout",
     "output_type": "stream",
     "text": [
      "Epoch 0/20: Training Loss: 4.275538921356201, C-Index: 0.5945907422584898\n"
     ]
    },
    {
     "name": "stderr",
     "output_type": "stream",
     "text": [
      "Epoch 1/20: Training Loss: 4.058098793029785, C-Index: 0.7344308638895818\n"
     ]
    },
    {
     "name": "stdout",
     "output_type": "stream",
     "text": [
      "Epoch 1/20: Training Loss: 4.058098793029785, C-Index: 0.7344308638895818\n"
     ]
    },
    {
     "name": "stderr",
     "output_type": "stream",
     "text": [
      "Epoch 2/20: Training Loss: 3.9341344833374023, C-Index: 0.7635082968083716\n"
     ]
    },
    {
     "name": "stdout",
     "output_type": "stream",
     "text": [
      "Epoch 2/20: Training Loss: 3.9341344833374023, C-Index: 0.7635082968083716\n"
     ]
    },
    {
     "name": "stderr",
     "output_type": "stream",
     "text": [
      "Epoch 3/20: Training Loss: 3.8427417278289795, C-Index: 0.7985603819976481\n"
     ]
    },
    {
     "name": "stdout",
     "output_type": "stream",
     "text": [
      "Epoch 3/20: Training Loss: 3.8427417278289795, C-Index: 0.7985603819976481\n"
     ]
    },
    {
     "name": "stderr",
     "output_type": "stream",
     "text": [
      "Epoch 4/20: Training Loss: 3.7272441387176514, C-Index: 0.8214018458468446\n"
     ]
    },
    {
     "name": "stdout",
     "output_type": "stream",
     "text": [
      "Epoch 4/20: Training Loss: 3.7272441387176514, C-Index: 0.8214018458468446\n"
     ]
    },
    {
     "name": "stderr",
     "output_type": "stream",
     "text": [
      "Epoch 5/20: Training Loss: 3.6577365398406982, C-Index: 0.8309399090142418\n"
     ]
    },
    {
     "name": "stdout",
     "output_type": "stream",
     "text": [
      "Epoch 5/20: Training Loss: 3.6577365398406982, C-Index: 0.8309399090142418\n"
     ]
    },
    {
     "name": "stderr",
     "output_type": "stream",
     "text": [
      "Epoch 6/20: Training Loss: 3.5728695392608643, C-Index: 0.8482462079369039\n"
     ]
    },
    {
     "name": "stdout",
     "output_type": "stream",
     "text": [
      "Epoch 6/20: Training Loss: 3.5728695392608643, C-Index: 0.8482462079369039\n"
     ]
    },
    {
     "name": "stderr",
     "output_type": "stream",
     "text": [
      "Epoch 7/20: Training Loss: 3.4850895404815674, C-Index: 0.860504341422276\n"
     ]
    },
    {
     "name": "stdout",
     "output_type": "stream",
     "text": [
      "Epoch 7/20: Training Loss: 3.4850895404815674, C-Index: 0.860504341422276\n"
     ]
    },
    {
     "name": "stderr",
     "output_type": "stream",
     "text": [
      "Epoch 8/20: Training Loss: 3.470163106918335, C-Index: 0.8685220159403247\n"
     ]
    },
    {
     "name": "stdout",
     "output_type": "stream",
     "text": [
      "Epoch 8/20: Training Loss: 3.470163106918335, C-Index: 0.8685220159403247\n"
     ]
    },
    {
     "name": "stderr",
     "output_type": "stream",
     "text": [
      "Epoch 9/20: Training Loss: 3.406080961227417, C-Index: 0.8764327881314661\n"
     ]
    },
    {
     "name": "stdout",
     "output_type": "stream",
     "text": [
      "Epoch 9/20: Training Loss: 3.406080961227417, C-Index: 0.8764327881314661\n"
     ]
    },
    {
     "name": "stderr",
     "output_type": "stream",
     "text": [
      "Epoch 10/20: Training Loss: 3.317143201828003, C-Index: 0.8888334580527147\n"
     ]
    },
    {
     "name": "stdout",
     "output_type": "stream",
     "text": [
      "Epoch 10/20: Training Loss: 3.317143201828003, C-Index: 0.8888334580527147\n"
     ]
    },
    {
     "name": "stderr",
     "output_type": "stream",
     "text": [
      "Epoch 11/20: Training Loss: 3.2726314067840576, C-Index: 0.898383399256435\n"
     ]
    },
    {
     "name": "stdout",
     "output_type": "stream",
     "text": [
      "Epoch 11/20: Training Loss: 3.2726314067840576, C-Index: 0.898383399256435\n"
     ]
    },
    {
     "name": "stderr",
     "output_type": "stream",
     "text": [
      "Epoch 12/20: Training Loss: 3.1999595165252686, C-Index: 0.9092161683830429\n"
     ]
    },
    {
     "name": "stdout",
     "output_type": "stream",
     "text": [
      "Epoch 12/20: Training Loss: 3.1999595165252686, C-Index: 0.9092161683830429\n"
     ]
    },
    {
     "name": "stderr",
     "output_type": "stream",
     "text": [
      "Epoch 13/20: Training Loss: 3.191422700881958, C-Index: 0.909584387509057\n"
     ]
    },
    {
     "name": "stdout",
     "output_type": "stream",
     "text": [
      "Epoch 13/20: Training Loss: 3.191422700881958, C-Index: 0.909584387509057\n"
     ]
    },
    {
     "name": "stderr",
     "output_type": "stream",
     "text": [
      "Epoch 14/20: Training Loss: 3.126690149307251, C-Index: 0.9127795792799535\n"
     ]
    },
    {
     "name": "stdout",
     "output_type": "stream",
     "text": [
      "Epoch 14/20: Training Loss: 3.126690149307251, C-Index: 0.9127795792799535\n"
     ]
    },
    {
     "name": "stderr",
     "output_type": "stream",
     "text": [
      "Epoch 15/20: Training Loss: 3.1163415908813477, C-Index: 0.9160816733777571\n"
     ]
    },
    {
     "name": "stdout",
     "output_type": "stream",
     "text": [
      "Epoch 15/20: Training Loss: 3.1163415908813477, C-Index: 0.9160816733777571\n"
     ]
    },
    {
     "name": "stderr",
     "output_type": "stream",
     "text": [
      "Epoch 16/20: Training Loss: 3.030937910079956, C-Index: 0.9249189324020953\n"
     ]
    },
    {
     "name": "stdout",
     "output_type": "stream",
     "text": [
      "Epoch 16/20: Training Loss: 3.030937910079956, C-Index: 0.9249189324020953\n"
     ]
    },
    {
     "name": "stderr",
     "output_type": "stream",
     "text": [
      "Epoch 17/20: Training Loss: 3.031996726989746, C-Index: 0.9219494233213366\n"
     ]
    },
    {
     "name": "stdout",
     "output_type": "stream",
     "text": [
      "Epoch 17/20: Training Loss: 3.031996726989746, C-Index: 0.9219494233213366\n"
     ]
    },
    {
     "name": "stderr",
     "output_type": "stream",
     "text": [
      "Epoch 18/20: Training Loss: 2.98557448387146, C-Index: 0.9291118792241266\n"
     ]
    },
    {
     "name": "stdout",
     "output_type": "stream",
     "text": [
      "Epoch 18/20: Training Loss: 2.98557448387146, C-Index: 0.9291118792241266\n"
     ]
    },
    {
     "name": "stderr",
     "output_type": "stream",
     "text": [
      "Epoch 19/20: Training Loss: 2.9041826725006104, C-Index: 0.9368088467614534\n",
      "****************************************************************************************************\n"
     ]
    },
    {
     "name": "stdout",
     "output_type": "stream",
     "text": [
      "Epoch 19/20: Training Loss: 2.9041826725006104, C-Index: 0.9368088467614534\n",
      "****************************************************************************************************\n"
     ]
    },
    {
     "name": "stderr",
     "output_type": "stream",
     "text": [
      "Final Train Loss: 2.9003746509552, C-Index: 0.9465250804736961\n"
     ]
    },
    {
     "name": "stdout",
     "output_type": "stream",
     "text": [
      "Final Train Loss: 2.9003746509552, C-Index: 0.9465250804736961\n"
     ]
    },
    {
     "name": "stderr",
     "output_type": "stream",
     "text": [
      "Test Loss: 3.65384578704834, C-Index: 0.7943736085812588\n"
     ]
    },
    {
     "name": "stdout",
     "output_type": "stream",
     "text": [
      "Test Loss: 3.65384578704834, C-Index: 0.7943736085812588\n"
     ]
    },
    {
     "name": "stderr",
     "output_type": "stream",
     "text": [
      "Epoch 0/20: Training Loss: 4.23887300491333, C-Index: 0.5789870584801012\n"
     ]
    },
    {
     "name": "stdout",
     "output_type": "stream",
     "text": [
      "Epoch 0/20: Training Loss: 4.23887300491333, C-Index: 0.5789870584801012\n"
     ]
    },
    {
     "name": "stderr",
     "output_type": "stream",
     "text": [
      "Epoch 1/20: Training Loss: 4.000083923339844, C-Index: 0.7275712756641043\n"
     ]
    },
    {
     "name": "stdout",
     "output_type": "stream",
     "text": [
      "Epoch 1/20: Training Loss: 4.000083923339844, C-Index: 0.7275712756641043\n"
     ]
    },
    {
     "name": "stderr",
     "output_type": "stream",
     "text": [
      "Epoch 2/20: Training Loss: 3.887723922729492, C-Index: 0.767417534299893\n"
     ]
    },
    {
     "name": "stdout",
     "output_type": "stream",
     "text": [
      "Epoch 2/20: Training Loss: 3.887723922729492, C-Index: 0.767417534299893\n"
     ]
    },
    {
     "name": "stderr",
     "output_type": "stream",
     "text": [
      "Epoch 3/20: Training Loss: 3.7435786724090576, C-Index: 0.7924369952320716\n"
     ]
    },
    {
     "name": "stdout",
     "output_type": "stream",
     "text": [
      "Epoch 3/20: Training Loss: 3.7435786724090576, C-Index: 0.7924369952320716\n"
     ]
    },
    {
     "name": "stderr",
     "output_type": "stream",
     "text": [
      "Epoch 4/20: Training Loss: 3.682823896408081, C-Index: 0.8084192857837891\n"
     ]
    },
    {
     "name": "stdout",
     "output_type": "stream",
     "text": [
      "Epoch 4/20: Training Loss: 3.682823896408081, C-Index: 0.8084192857837891\n"
     ]
    },
    {
     "name": "stderr",
     "output_type": "stream",
     "text": [
      "Epoch 5/20: Training Loss: 3.6254701614379883, C-Index: 0.822856864843826\n"
     ]
    },
    {
     "name": "stdout",
     "output_type": "stream",
     "text": [
      "Epoch 5/20: Training Loss: 3.6254701614379883, C-Index: 0.822856864843826\n"
     ]
    },
    {
     "name": "stderr",
     "output_type": "stream",
     "text": [
      "Epoch 6/20: Training Loss: 3.5590362548828125, C-Index: 0.8424394278485939\n"
     ]
    },
    {
     "name": "stdout",
     "output_type": "stream",
     "text": [
      "Epoch 6/20: Training Loss: 3.5590362548828125, C-Index: 0.8424394278485939\n"
     ]
    },
    {
     "name": "stderr",
     "output_type": "stream",
     "text": [
      "Epoch 7/20: Training Loss: 3.4767444133758545, C-Index: 0.8496399727546949\n"
     ]
    },
    {
     "name": "stdout",
     "output_type": "stream",
     "text": [
      "Epoch 7/20: Training Loss: 3.4767444133758545, C-Index: 0.8496399727546949\n"
     ]
    },
    {
     "name": "stderr",
     "output_type": "stream",
     "text": [
      "Epoch 8/20: Training Loss: 3.4670979976654053, C-Index: 0.8593826019266323\n"
     ]
    },
    {
     "name": "stdout",
     "output_type": "stream",
     "text": [
      "Epoch 8/20: Training Loss: 3.4670979976654053, C-Index: 0.8593826019266323\n"
     ]
    },
    {
     "name": "stderr",
     "output_type": "stream",
     "text": [
      "Epoch 9/20: Training Loss: 3.3895041942596436, C-Index: 0.8700252992118322\n"
     ]
    },
    {
     "name": "stdout",
     "output_type": "stream",
     "text": [
      "Epoch 9/20: Training Loss: 3.3895041942596436, C-Index: 0.8700252992118322\n"
     ]
    },
    {
     "name": "stderr",
     "output_type": "stream",
     "text": [
      "Epoch 10/20: Training Loss: 3.3113410472869873, C-Index: 0.8766298530699621\n"
     ]
    },
    {
     "name": "stdout",
     "output_type": "stream",
     "text": [
      "Epoch 10/20: Training Loss: 3.3113410472869873, C-Index: 0.8766298530699621\n"
     ]
    },
    {
     "name": "stderr",
     "output_type": "stream",
     "text": [
      "Epoch 11/20: Training Loss: 3.2960147857666016, C-Index: 0.880388245596964\n"
     ]
    },
    {
     "name": "stdout",
     "output_type": "stream",
     "text": [
      "Epoch 11/20: Training Loss: 3.2960147857666016, C-Index: 0.880388245596964\n"
     ]
    },
    {
     "name": "stderr",
     "output_type": "stream",
     "text": [
      "Epoch 12/20: Training Loss: 3.2484045028686523, C-Index: 0.8921864357302715\n"
     ]
    },
    {
     "name": "stdout",
     "output_type": "stream",
     "text": [
      "Epoch 12/20: Training Loss: 3.2484045028686523, C-Index: 0.8921864357302715\n"
     ]
    },
    {
     "name": "stderr",
     "output_type": "stream",
     "text": [
      "Epoch 13/20: Training Loss: 3.1844842433929443, C-Index: 0.895397489539749\n"
     ]
    },
    {
     "name": "stdout",
     "output_type": "stream",
     "text": [
      "Epoch 13/20: Training Loss: 3.1844842433929443, C-Index: 0.895397489539749\n"
     ]
    },
    {
     "name": "stderr",
     "output_type": "stream",
     "text": [
      "Epoch 14/20: Training Loss: 3.1444082260131836, C-Index: 0.8973800720054491\n"
     ]
    },
    {
     "name": "stdout",
     "output_type": "stream",
     "text": [
      "Epoch 14/20: Training Loss: 3.1444082260131836, C-Index: 0.8973800720054491\n"
     ]
    },
    {
     "name": "stderr",
     "output_type": "stream",
     "text": [
      "Epoch 15/20: Training Loss: 3.090390920639038, C-Index: 0.9073537997470079\n"
     ]
    },
    {
     "name": "stdout",
     "output_type": "stream",
     "text": [
      "Epoch 15/20: Training Loss: 3.090390920639038, C-Index: 0.9073537997470079\n"
     ]
    },
    {
     "name": "stderr",
     "output_type": "stream",
     "text": [
      "Epoch 16/20: Training Loss: 3.0528109073638916, C-Index: 0.916147708475236\n"
     ]
    },
    {
     "name": "stdout",
     "output_type": "stream",
     "text": [
      "Epoch 16/20: Training Loss: 3.0528109073638916, C-Index: 0.916147708475236\n"
     ]
    },
    {
     "name": "stderr",
     "output_type": "stream",
     "text": [
      "Epoch 17/20: Training Loss: 2.9991447925567627, C-Index: 0.9181302909409361\n"
     ]
    },
    {
     "name": "stdout",
     "output_type": "stream",
     "text": [
      "Epoch 17/20: Training Loss: 2.9991447925567627, C-Index: 0.9181302909409361\n"
     ]
    },
    {
     "name": "stderr",
     "output_type": "stream",
     "text": [
      "Epoch 18/20: Training Loss: 2.9648277759552, C-Index: 0.9216819110635399\n"
     ]
    },
    {
     "name": "stdout",
     "output_type": "stream",
     "text": [
      "Epoch 18/20: Training Loss: 2.9648277759552, C-Index: 0.9216819110635399\n"
     ]
    },
    {
     "name": "stderr",
     "output_type": "stream",
     "text": [
      "Epoch 19/20: Training Loss: 2.945108652114868, C-Index: 0.9289919237131459\n",
      "****************************************************************************************************\n"
     ]
    },
    {
     "name": "stdout",
     "output_type": "stream",
     "text": [
      "Epoch 19/20: Training Loss: 2.945108652114868, C-Index: 0.9289919237131459\n",
      "****************************************************************************************************\n"
     ]
    },
    {
     "name": "stderr",
     "output_type": "stream",
     "text": [
      "Final Train Loss: 2.892979383468628, C-Index: 0.9331516979663326\n"
     ]
    },
    {
     "name": "stdout",
     "output_type": "stream",
     "text": [
      "Final Train Loss: 2.892979383468628, C-Index: 0.9331516979663326\n"
     ]
    },
    {
     "name": "stderr",
     "output_type": "stream",
     "text": [
      "Test Loss: 3.5360405445098877, C-Index: 0.7963509030593439\n"
     ]
    },
    {
     "name": "stdout",
     "output_type": "stream",
     "text": [
      "Test Loss: 3.5360405445098877, C-Index: 0.7963509030593439\n"
     ]
    }
   ],
   "source": [
    "import numpy as np\n",
    "\n",
    "\n",
    "all_modalities = [\"clinical\", \"miRNA\", \"mRNA\", \"WSI\"]\n",
    "all_modalities = np.array(all_modalities)\n",
    "i = 2 ** len(all_modalities) - 1\n",
    "selection = F\"{i:0{len(all_modalities)}b}\"\n",
    "modality_select = all_modalities[np.array(list(selection)) == '1']\n",
    "args = Args(modality_select)\n",
    "train_eval_model(args)"
   ]
  }
 ],
 "metadata": {
  "kernelspec": {
   "display_name": "int_env",
   "language": "python",
   "name": "python3"
  },
  "language_info": {
   "codemirror_mode": {
    "name": "ipython",
    "version": 3
   },
   "file_extension": ".py",
   "mimetype": "text/x-python",
   "name": "python",
   "nbconvert_exporter": "python",
   "pygments_lexer": "ipython3",
   "version": "3.10.11"
  }
 },
 "nbformat": 4,
 "nbformat_minor": 2
}
