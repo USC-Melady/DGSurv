{
 "cells": [
  {
   "cell_type": "code",
   "execution_count": 2,
   "metadata": {},
   "outputs": [],
   "source": [
    "import os\n",
    "\n",
    "class Args:\n",
    "    def __init__(self):\n",
    "        self.clinicla_path = \"../preprocess/preprocessed_data/clinical_kidney.csv\"\n",
    "        self.seed = 24\n",
    "        self.fold_range = 5\n",
    "        self.save_path = \"./kidney_splits\"\n",
    "        \n",
    "args = Args()"
   ]
  },
  {
   "cell_type": "code",
   "execution_count": 4,
   "metadata": {},
   "outputs": [],
   "source": [
    "import random\n",
    "import torch\n",
    "import numpy as np\n",
    "import pandas as pd\n",
    "from sklearn.model_selection import StratifiedKFold\n",
    "from sklearn.model_selection import train_test_split\n",
    "    \n",
    "\n",
    "def preprocess_clinical_data(clinical_path):\n",
    "    data_clinical = pd.read_csv(clinical_path, header=None)\n",
    "    target_data = data_clinical[[6, 7]]\n",
    "    clin_data_categorical = data_clinical[[1, 2, 3, 4]]\n",
    "    clin_data_continuous = data_clinical[[5]]\n",
    "    return clin_data_categorical, clin_data_continuous, target_data, data_clinical[[0]] \n",
    "\n",
    "def set_seed(seed):\n",
    "    random.seed(seed)\n",
    "    os.environ['PYTHONHASHSEED'] = str(seed)\n",
    "    np.random.seed(seed)\n",
    "    torch.manual_seed(seed)\n",
    "    torch.cuda.manual_seed(seed)\n",
    "    torch.cuda.manual_seed_all(seed)  \n",
    "    torch.backends.cudnn.benchmark = False\n",
    "    torch.backends.cudnn.deterministic = True\n",
    "        \n",
    "if not os.path.exists(args.save_path):\n",
    "    os.mkdir(args.save_path)\n",
    "\n",
    "set_seed(args.seed)\n",
    "clin_data_x, _, clin_data_y, clinical_label = preprocess_clinical_data(args.clinicla_path)\n",
    "clinical_label = clinical_label.to_numpy()\n",
    "clin_data_x.reset_index(drop=True)\n",
    "clin_data_y.reset_index(drop=True)\n",
    "train_testVal_strtfdKFold = StratifiedKFold(n_splits=args.fold_range, random_state=args.seed, shuffle=True)\n",
    "train_testVal_kfold = train_testVal_strtfdKFold.split(clin_data_x, clin_data_y[[6]]) \n",
    "for k, (train_val, test) in enumerate(train_testVal_kfold):\n",
    "    split = {\"train\": train_val, \"test\": test}\n",
    "    np.save(os.path.join(args.save_path, f\"split_{k}.npy\"), split)"
   ]
  }
 ],
 "metadata": {
  "kernelspec": {
   "display_name": "int_env",
   "language": "python",
   "name": "python3"
  },
  "language_info": {
   "codemirror_mode": {
    "name": "ipython",
    "version": 3
   },
   "file_extension": ".py",
   "mimetype": "text/x-python",
   "name": "python",
   "nbconvert_exporter": "python",
   "pygments_lexer": "ipython3",
   "version": "3.10.11"
  }
 },
 "nbformat": 4,
 "nbformat_minor": 2
}
